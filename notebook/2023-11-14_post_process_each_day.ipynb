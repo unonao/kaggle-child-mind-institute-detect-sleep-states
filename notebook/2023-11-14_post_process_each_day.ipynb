{
 "cells": [
  {
   "cell_type": "markdown",
   "id": "54cced04-2914-4704-bf4c-0ae629c2dc0c",
   "metadata": {},
   "source": [
    "# １日ごとに後処理を行い順番を並び替える"
   ]
  },
  {
   "cell_type": "code",
   "execution_count": 1,
   "id": "d1090652-def2-42fe-9f0e-98169659bc8e",
   "metadata": {
    "tags": []
   },
   "outputs": [],
   "source": [
    "import sys, os\n",
    "sys.path.append(os.pardir)"
   ]
  },
  {
   "cell_type": "code",
   "execution_count": 2,
   "id": "7c5def8d-22bf-4f60-883f-ac11d18362df",
   "metadata": {
    "tags": []
   },
   "outputs": [],
   "source": [
    "from pathlib import Path\n",
    "import numpy as np\n",
    "import polars as pl\n",
    "import os\n",
    "from hydra import initialize, compose\n",
    "\n",
    "with initialize(config_path=\"../run/conf\", version_base=None):\n",
    "    cfg = compose(\"cv_train\", overrides=[\"exp_name=exp013\"])"
   ]
  },
  {
   "cell_type": "code",
   "execution_count": 3,
   "id": "c7a12b52-0c50-4f4c-b894-78fd7f238207",
   "metadata": {
    "tags": []
   },
   "outputs": [],
   "source": [
    "# series の読み込み\n",
    "train_df = pl.read_parquet(Path(cfg.dir.data_dir) / \"train_series.parquet\")\n",
    "train_df = train_df.with_columns(\n",
    "            pl.col(\"timestamp\").str.to_datetime(\"%Y-%m-%dT%H:%M:%S%z\")\n",
    "        )\n",
    "event_df = pl.read_csv(Path(cfg.dir.data_dir) / \"train_events.csv\").drop_nulls()\n",
    "event_df = event_df.with_columns(\n",
    "    pl.col(\"timestamp\").str.to_datetime(\"%Y-%m-%dT%H:%M:%S%z\")\n",
    ")"
   ]
  },
  {
   "cell_type": "code",
   "execution_count": 4,
   "id": "2cf400fc-d1c9-4249-8d13-33e3c2deb491",
   "metadata": {
    "tags": []
   },
   "outputs": [],
   "source": [
    "exp_dir = Path(os.path.join(cfg.dir.cv_model_dir, cfg.exp_name, \"cv\"))\n",
    "oof_event_df_list = []\n",
    "for fold in range(cfg.num_fold):\n",
    "    oof_event_df_list.append(pl.read_csv(exp_dir / f\"val_pred_df_fold{fold}.csv\"))\n",
    "oof_event_df = pl.concat(oof_event_df_list)"
   ]
  },
  {
   "cell_type": "code",
   "execution_count": 5,
   "id": "9540b1d0-3104-4f96-8358-9da91506a96c",
   "metadata": {
    "tags": []
   },
   "outputs": [
    {
     "data": {
      "text/html": [
       "<div><style>\n",
       ".dataframe > thead > tr > th,\n",
       ".dataframe > tbody > tr > td {\n",
       "  text-align: right;\n",
       "  white-space: pre-wrap;\n",
       "}\n",
       "</style>\n",
       "<small>shape: (5, 5)</small><table border=\"1\" class=\"dataframe\"><thead><tr><th>row_id</th><th>series_id</th><th>step</th><th>event</th><th>score</th></tr><tr><td>i64</td><td>str</td><td>u32</td><td>str</td><td>f64</td></tr></thead><tbody><tr><td>0</td><td>&quot;0402a003dae9&quot;</td><td>3054</td><td>&quot;wakeup&quot;</td><td>0.029968</td></tr><tr><td>1</td><td>&quot;0402a003dae9&quot;</td><td>5321</td><td>&quot;onset&quot;</td><td>0.028671</td></tr><tr><td>2</td><td>&quot;0402a003dae9&quot;</td><td>5470</td><td>&quot;onset&quot;</td><td>0.907227</td></tr><tr><td>3</td><td>&quot;0402a003dae9&quot;</td><td>5741</td><td>&quot;onset&quot;</td><td>0.024094</td></tr><tr><td>4</td><td>&quot;0402a003dae9&quot;</td><td>5934</td><td>&quot;onset&quot;</td><td>0.493652</td></tr></tbody></table></div>"
      ],
      "text/plain": [
       "shape: (5, 5)\n",
       "┌────────┬──────────────┬──────┬────────┬──────────┐\n",
       "│ row_id ┆ series_id    ┆ step ┆ event  ┆ score    │\n",
       "│ ---    ┆ ---          ┆ ---  ┆ ---    ┆ ---      │\n",
       "│ i64    ┆ str          ┆ u32  ┆ str    ┆ f64      │\n",
       "╞════════╪══════════════╪══════╪════════╪══════════╡\n",
       "│ 0      ┆ 0402a003dae9 ┆ 3054 ┆ wakeup ┆ 0.029968 │\n",
       "│ 1      ┆ 0402a003dae9 ┆ 5321 ┆ onset  ┆ 0.028671 │\n",
       "│ 2      ┆ 0402a003dae9 ┆ 5470 ┆ onset  ┆ 0.907227 │\n",
       "│ 3      ┆ 0402a003dae9 ┆ 5741 ┆ onset  ┆ 0.024094 │\n",
       "│ 4      ┆ 0402a003dae9 ┆ 5934 ┆ onset  ┆ 0.493652 │\n",
       "└────────┴──────────────┴──────┴────────┴──────────┘"
      ]
     },
     "execution_count": 5,
     "metadata": {},
     "output_type": "execute_result"
    }
   ],
   "source": [
    "oof_event_df = oof_event_df.with_columns(pl.col(\"step\").cast(pl.UInt32))\n",
    "oof_event_df.head()"
   ]
  },
  {
   "cell_type": "code",
   "execution_count": 6,
   "id": "531c3ce7-de30-4b50-9f61-eabf9d61b032",
   "metadata": {
    "tags": []
   },
   "outputs": [
    {
     "data": {
      "text/plain": [
       "0.7392876263644894"
      ]
     },
     "execution_count": 6,
     "metadata": {},
     "output_type": "execute_result"
    }
   ],
   "source": [
    "from src.utils.metrics import event_detection_ap\n",
    "score = event_detection_ap(\n",
    "    event_df.to_pandas(),\n",
    "    oof_event_df.to_pandas(),\n",
    ")\n",
    "score"
   ]
  },
  {
   "cell_type": "code",
   "execution_count": 20,
   "id": "2017766a-3310-4b45-ae16-5f70efc544d5",
   "metadata": {
    "tags": []
   },
   "outputs": [],
   "source": [
    "def post_process_event_score_normalize_by_day(\n",
    "    event_df: pl.DataFrame,\n",
    "    series_df: pl.DataFrame,\n",
    "    day_start_hour_dict: dict[str, int] = {\"onset\": 12, \"wakeup\": 20},\n",
    ") -> pl.DataFrame:\n",
    "    \"\"\"event score を日毎に正規化する。height以上のスコアを持つイベント農地日毎のscoreの合計を1にする\n",
    "\n",
    "    Args:\n",
    "        event_df (pl.DataFrame): event score を持つ dataframe\n",
    "        day_start_hour (dict[str, int], optional): 日付の切り替え時間\n",
    "        height (float, optional): event score の高さの閾値\n",
    "\n",
    "    Returns:\n",
    "        pl.DataFrame: 正規化された event score を持つ dataframe\n",
    "    \"\"\"\n",
    "\n",
    "    # event_df の step カラムの型を u32 に\n",
    "    event_df = event_df.with_columns(pl.col(\"step\").cast(pl.UInt32))\n",
    "\n",
    "    # event_df, series_df の series_id, step  を key に、event_df に series_id の timestamp カラムを結合\n",
    "    event_df = event_df.join(series_df.select([\"series_id\", \"step\", \"timestamp\"]), on=[\"series_id\", \"step\"])\n",
    "\n",
    "    result_event_df_list = []\n",
    "\n",
    "    for event, day_start_hour in day_start_hour_dict.items():\n",
    "        # event が一致する行を抽出\n",
    "        one_event_df = event_df.filter(pl.col(\"event\") == event)\n",
    "        # 日付ごとに day_start_hour だけ時間を引いて、日付カラムを追加\n",
    "        one_event_df = one_event_df.with_columns(\n",
    "            pl.col(\"timestamp\").dt.offset_by(f\"-{day_start_hour}h\").alias(\"shifted_timestamp\")\n",
    "        ).with_columns(pl.col(\"shifted_timestamp\").dt.date().alias(\"date\"))\n",
    "\n",
    "        #  score の合計をスコアの正規化に用いる\n",
    "        score_sum_df = (\n",
    "            one_event_df.group_by([\"series_id\", \"date\"])\n",
    "            .agg(pl.sum(\"score\").alias(\"score_sum\"))\n",
    "            .select([\"series_id\", \"date\", \"score_sum\"])\n",
    "        )\n",
    "        # 日付ごとの score の合計を event_df に結合\n",
    "        one_event_df = one_event_df.join(score_sum_df, on=[\"series_id\", \"date\"])\n",
    "        # score_sum が欠損している場合は 1 にする\n",
    "        one_event_df = one_event_df.with_columns(\n",
    "            pl.when(pl.col(\"score_sum\").is_null()).then(1.0).otherwise(pl.col(\"score_sum\")).alias(\"score_sum\")\n",
    "        )\n",
    "        # score_sum が 1 未満の場合は 1 にする（大きくはしない）\n",
    "        one_event_df = one_event_df.with_columns(\n",
    "            pl.when(pl.col(\"score_sum\") < 1).then(1.0).otherwise(pl.col(\"score_sum\")).alias(\"score_sum\")\n",
    "        )\n",
    "        \n",
    "        \n",
    "        \"\"\"\n",
    "        # 0.5: 0.738580529726147, 0.7: 0.7386160510811913, 0.9→0.95: 0.7392161845499938 \n",
    "        one_event_df = one_event_df.with_columns(\n",
    "            pl.when((pl.col(\"score_sum\") > 4.0).and_(pl.col(\"score\") > 0.7)).then(pl.col(\"score\")).otherwise(pl.col(\"score\")*0.95).alias(\"score\")\n",
    "        ) \n",
    "        \"\"\"\n",
    "        \"\"\"\n",
    "        # 0.8: 0.7181488534323635, 0.9: 0.7325261406573275\n",
    "        one_event_df = one_event_df.with_columns(\n",
    "            pl.when(pl.col(\"score_sum\") > 3.0).then(pl.col(\"score\")).otherwise(pl.col(\"score\")*0.9).alias(\"score\")\n",
    "        ) \n",
    "        \"\"\"\n",
    "        \"\"\"\n",
    "        \"\"\"\n",
    "        # 日付ごとの score の合計でスコアを割ると割りすぎなので、power(score_sum) で減衰させる\n",
    "        # 0.7395099476450617\n",
    "        one_event_df = one_event_df.with_columns(\n",
    "            pl.col(\"score\").pow(pl.col(\"score_sum\").alias(\"score\")*2)\n",
    "        ) \n",
    "        \"\"\"\n",
    "        # 日付ごとの score の合計でスコアを割る\n",
    "        one_event_df = one_event_df.with_columns(\n",
    "            pl.col(\"score\") / pl.col(\"score_sum\").pow(1.0).alias(\"score\")\n",
    "        )  # 0.5: 0.7361688492242824, 1.0: 0.7177877757639883,  2.0: 0.6715313626079408\n",
    "        \"\"\"\n",
    "        \n",
    "        # 日付カラムを削除\n",
    "        one_event_df = one_event_df.drop([\"shifted_timestamp\", \"date\", \"score_sum\"])\n",
    "\n",
    "        # event 結合\n",
    "        result_event_df_list.append(one_event_df)\n",
    "\n",
    "    # event を結合\n",
    "    result_event_df = pl.concat(result_event_df_list)\n",
    "\n",
    "    return result_event_df\n"
   ]
  },
  {
   "cell_type": "code",
   "execution_count": 21,
   "id": "3fee7a73-47c7-4047-8a89-4f79af2cf64b",
   "metadata": {
    "tags": []
   },
   "outputs": [
    {
     "data": {
      "text/plain": [
       "0.7395099476450617"
      ]
     },
     "execution_count": 21,
     "metadata": {},
     "output_type": "execute_result"
    }
   ],
   "source": [
    "\n",
    "sub_df = post_process_event_score_normalize_by_day(oof_event_df, train_df)\n",
    "score = event_detection_ap(\n",
    "    event_df.to_pandas(),\n",
    "    sub_df.to_pandas(),\n",
    ")\n",
    "score"
   ]
  },
  {
   "cell_type": "code",
   "execution_count": null,
   "id": "b8bd718e-d5c3-4345-a995-2a247bbd2246",
   "metadata": {
    "tags": []
   },
   "outputs": [],
   "source": [
    "oof_event_df_time.head()"
   ]
  },
  {
   "cell_type": "code",
   "execution_count": null,
   "id": "de357bd2-9b84-4513-abc0-78635a954fb6",
   "metadata": {},
   "outputs": [],
   "source": []
  }
 ],
 "metadata": {
  "kernelspec": {
   "display_name": "Python 3 (ipykernel)",
   "language": "python",
   "name": "python3"
  },
  "language_info": {
   "codemirror_mode": {
    "name": "ipython",
    "version": 3
   },
   "file_extension": ".py",
   "mimetype": "text/x-python",
   "name": "python",
   "nbconvert_exporter": "python",
   "pygments_lexer": "ipython3",
   "version": "3.10.12"
  }
 },
 "nbformat": 4,
 "nbformat_minor": 5
}
