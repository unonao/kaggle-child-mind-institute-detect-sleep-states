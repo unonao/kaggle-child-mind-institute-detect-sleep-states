{
 "cells": [
  {
   "cell_type": "code",
   "execution_count": 1,
   "id": "248b9be2-a055-4082-a08b-8790cfe434b9",
   "metadata": {
    "tags": []
   },
   "outputs": [],
   "source": [
    "from hydra import initialize, compose\n",
    "\n",
    "with initialize(config_path=\"../run/conf\", version_base=None):\n",
    "    cfg = compose(\"train\")"
   ]
  },
  {
   "cell_type": "code",
   "execution_count": 2,
   "id": "d8b98581-0829-44d1-a824-66629dd5204f",
   "metadata": {
    "tags": []
   },
   "outputs": [],
   "source": [
    "from pathlib import Path\n",
    "import yaml\n",
    "\n",
    "from glob import glob\n",
    "import numpy as np\n",
    "import pandas as pd\n",
    "import polars as pl\n"
   ]
  },
  {
   "cell_type": "code",
   "execution_count": 3,
   "id": "e555cbcb-8943-4127-8149-46dfe6382e02",
   "metadata": {
    "tags": []
   },
   "outputs": [
    {
     "name": "stdout",
     "output_type": "stream",
     "text": [
      "277\n"
     ]
    },
    {
     "data": {
      "text/plain": [
       "277"
      ]
     },
     "execution_count": 3,
     "metadata": {},
     "output_type": "execute_result"
    }
   ],
   "source": [
    "print(len(cfg.split['train_series_ids'])+ len(cfg.split['valid_series_ids']))\n",
    "\n",
    "series_ids = [str(path).split('/')[-1] for path in (Path(cfg.dir.processed_dir) / 'train').glob(\"*\")]\n",
    "len(series_ids)"
   ]
  },
  {
   "cell_type": "code",
   "execution_count": 4,
   "id": "cf8c992b-1aac-4229-a460-294691a28845",
   "metadata": {
    "tags": []
   },
   "outputs": [
    {
     "data": {
      "text/html": [
       "<div><style>\n",
       ".dataframe > thead > tr > th,\n",
       ".dataframe > tbody > tr > td {\n",
       "  text-align: right;\n",
       "  white-space: pre-wrap;\n",
       "}\n",
       "</style>\n",
       "<small>shape: (10, 3)</small><table border=\"1\" class=\"dataframe\"><thead><tr><th>series_id</th><th>count</th><th>class</th></tr><tr><td>str</td><td>u32</td><td>str</td></tr></thead><tbody><tr><td>&quot;d25e479ecbb7&quot;</td><td>42</td><td>&quot;6&quot;</td></tr><tr><td>&quot;0a96f4993bd7&quot;</td><td>30</td><td>&quot;4&quot;</td></tr><tr><td>&quot;40dce6018935&quot;</td><td>42</td><td>&quot;6&quot;</td></tr><tr><td>&quot;f0482490923c&quot;</td><td>20</td><td>&quot;2&quot;</td></tr><tr><td>&quot;d2d6b9af0553&quot;</td><td>30</td><td>&quot;4&quot;</td></tr><tr><td>&quot;03d92c9f6f8a&quot;</td><td>16</td><td>&quot;2&quot;</td></tr><tr><td>&quot;2b8d87addea9&quot;</td><td>60</td><td>&quot;10&quot;</td></tr><tr><td>&quot;f2c2436cf7b7&quot;</td><td>40</td><td>&quot;6&quot;</td></tr><tr><td>&quot;c908a0ad3e31&quot;</td><td>32</td><td>&quot;4&quot;</td></tr><tr><td>&quot;2f7504d0f426&quot;</td><td>36</td><td>&quot;5&quot;</td></tr></tbody></table></div>"
      ],
      "text/plain": [
       "shape: (10, 3)\n",
       "┌──────────────┬───────┬───────┐\n",
       "│ series_id    ┆ count ┆ class │\n",
       "│ ---          ┆ ---   ┆ ---   │\n",
       "│ str          ┆ u32   ┆ str   │\n",
       "╞══════════════╪═══════╪═══════╡\n",
       "│ d25e479ecbb7 ┆ 42    ┆ 6     │\n",
       "│ 0a96f4993bd7 ┆ 30    ┆ 4     │\n",
       "│ 40dce6018935 ┆ 42    ┆ 6     │\n",
       "│ f0482490923c ┆ 20    ┆ 2     │\n",
       "│ …            ┆ …     ┆ …     │\n",
       "│ 2b8d87addea9 ┆ 60    ┆ 10    │\n",
       "│ f2c2436cf7b7 ┆ 40    ┆ 6     │\n",
       "│ c908a0ad3e31 ┆ 32    ┆ 4     │\n",
       "│ 2f7504d0f426 ┆ 36    ┆ 5     │\n",
       "└──────────────┴───────┴───────┘"
      ]
     },
     "execution_count": 4,
     "metadata": {},
     "output_type": "execute_result"
    }
   ],
   "source": [
    "# ラベルがある event データ\n",
    "\n",
    "event_df = pl.read_csv(Path(cfg.dir.data_dir) / \"train_events.csv\").drop_nulls()\n",
    "\n",
    "q_cut_num = 10 # no_event は含まないので全体では11クラス\n",
    "\n",
    "event_count_df = event_df.group_by('series_id').count()\n",
    "event_count_df = event_count_df.select(\n",
    "    pl.col(\"series_id\"),\n",
    "    pl.col(\"count\"),\n",
    "    pl.col(\"count\").qcut(q_cut_num, \n",
    "                         labels=[str(i) for i in range(1, q_cut_num+1)]).alias('class').cast(pl.Utf8)\n",
    ")\n",
    "\n",
    "event_count_df.head(10)"
   ]
  },
  {
   "cell_type": "code",
   "execution_count": 81,
   "id": "e01970a9-5a74-4cca-86d0-c39b26283467",
   "metadata": {
    "tags": []
   },
   "outputs": [
    {
     "data": {
      "text/html": [
       "<div><style>\n",
       ".dataframe > thead > tr > th,\n",
       ".dataframe > tbody > tr > td {\n",
       "  text-align: right;\n",
       "  white-space: pre-wrap;\n",
       "}\n",
       "</style>\n",
       "<small>shape: (8, 3)</small><table border=\"1\" class=\"dataframe\"><thead><tr><th>series_id</th><th>count</th><th>class</th></tr><tr><td>str</td><td>u32</td><td>str</td></tr></thead><tbody><tr><td>&quot;2fc653ca75c7&quot;</td><td>0</td><td>&quot;0&quot;</td></tr><tr><td>&quot;a3e59c2ce3f6&quot;</td><td>0</td><td>&quot;0&quot;</td></tr><tr><td>&quot;c5d08fc3e040&quot;</td><td>0</td><td>&quot;0&quot;</td></tr><tr><td>&quot;c7b1283bb7eb&quot;</td><td>0</td><td>&quot;0&quot;</td></tr><tr><td>&quot;0f9e60a8e56d&quot;</td><td>0</td><td>&quot;0&quot;</td></tr><tr><td>&quot;390b487231ce&quot;</td><td>0</td><td>&quot;0&quot;</td></tr><tr><td>&quot;e11b9d69f856&quot;</td><td>0</td><td>&quot;0&quot;</td></tr><tr><td>&quot;89c7daa72eee&quot;</td><td>0</td><td>&quot;0&quot;</td></tr></tbody></table></div>"
      ],
      "text/plain": [
       "shape: (8, 3)\n",
       "┌──────────────┬───────┬───────┐\n",
       "│ series_id    ┆ count ┆ class │\n",
       "│ ---          ┆ ---   ┆ ---   │\n",
       "│ str          ┆ u32   ┆ str   │\n",
       "╞══════════════╪═══════╪═══════╡\n",
       "│ 2fc653ca75c7 ┆ 0     ┆ 0     │\n",
       "│ a3e59c2ce3f6 ┆ 0     ┆ 0     │\n",
       "│ c5d08fc3e040 ┆ 0     ┆ 0     │\n",
       "│ c7b1283bb7eb ┆ 0     ┆ 0     │\n",
       "│ 0f9e60a8e56d ┆ 0     ┆ 0     │\n",
       "│ 390b487231ce ┆ 0     ┆ 0     │\n",
       "│ e11b9d69f856 ┆ 0     ┆ 0     │\n",
       "│ 89c7daa72eee ┆ 0     ┆ 0     │\n",
       "└──────────────┴───────┴───────┘"
      ]
     },
     "execution_count": 81,
     "metadata": {},
     "output_type": "execute_result"
    }
   ],
   "source": [
    "no_event = [si for si in series_ids if si not in list(event_count_df.get_column('series_id'))]\n",
    "no_event_df = pl.DataFrame({\"series_id\": no_event, \n",
    "                            \"count\":[0 for _ in range(len(no_event))],\n",
    "                           \"class\": [str(0) for _ in range(len(no_event))]\n",
    "                            }\n",
    "                          )\n",
    "no_event_df = no_event_df.select(\n",
    "    pl.col(\"series_id\"),\n",
    "    pl.col(\"count\").cast(pl.UInt32),\n",
    "    pl.col(\"class\").cast(pl.Utf8),\n",
    ")\n",
    "no_event_df"
   ]
  },
  {
   "cell_type": "code",
   "execution_count": 83,
   "id": "2de02f33-f5a8-4f50-8068-35a94857a4d6",
   "metadata": {
    "tags": []
   },
   "outputs": [
    {
     "data": {
      "text/html": [
       "<div><style>\n",
       ".dataframe > thead > tr > th,\n",
       ".dataframe > tbody > tr > td {\n",
       "  text-align: right;\n",
       "  white-space: pre-wrap;\n",
       "}\n",
       "</style>\n",
       "<small>shape: (5, 3)</small><table border=\"1\" class=\"dataframe\"><thead><tr><th>series_id</th><th>count</th><th>class</th></tr><tr><td>str</td><td>u32</td><td>str</td></tr></thead><tbody><tr><td>&quot;bfa54bd26187&quot;</td><td>42</td><td>&quot;6&quot;</td></tr><tr><td>&quot;d515236bdeec&quot;</td><td>28</td><td>&quot;3&quot;</td></tr><tr><td>&quot;04f547b8017d&quot;</td><td>42</td><td>&quot;6&quot;</td></tr><tr><td>&quot;51c49c540b4e&quot;</td><td>32</td><td>&quot;4&quot;</td></tr><tr><td>&quot;8898e6db816d&quot;</td><td>16</td><td>&quot;2&quot;</td></tr></tbody></table></div>"
      ],
      "text/plain": [
       "shape: (5, 3)\n",
       "┌──────────────┬───────┬───────┐\n",
       "│ series_id    ┆ count ┆ class │\n",
       "│ ---          ┆ ---   ┆ ---   │\n",
       "│ str          ┆ u32   ┆ str   │\n",
       "╞══════════════╪═══════╪═══════╡\n",
       "│ bfa54bd26187 ┆ 42    ┆ 6     │\n",
       "│ d515236bdeec ┆ 28    ┆ 3     │\n",
       "│ 04f547b8017d ┆ 42    ┆ 6     │\n",
       "│ 51c49c540b4e ┆ 32    ┆ 4     │\n",
       "│ 8898e6db816d ┆ 16    ┆ 2     │\n",
       "└──────────────┴───────┴───────┘"
      ]
     },
     "execution_count": 83,
     "metadata": {},
     "output_type": "execute_result"
    }
   ],
   "source": [
    "# 二つを結合\n",
    "all_df = pl.concat([event_count_df,no_event_df])\n",
    "all_df.head(5)"
   ]
  },
  {
   "cell_type": "markdown",
   "id": "88f009ed-29a1-4e94-a08d-554f8e05693c",
   "metadata": {},
   "source": [
    "### 5Fold に分割"
   ]
  },
  {
   "cell_type": "code",
   "execution_count": 94,
   "id": "e8214a10-b25e-4246-a668-0b9479036f37",
   "metadata": {
    "tags": []
   },
   "outputs": [],
   "source": [
    "from sklearn.model_selection import StratifiedKFold\n",
    "import yaml\n",
    "\n",
    "X = all_df.drop(\"class\")\n",
    "y = all_df.get_column('class')\n",
    "\n",
    "skf = StratifiedKFold(n_splits=5)\n",
    "\n",
    "for i, (train_index, test_index) in enumerate(skf.split(X, y)):\n",
    "    fold_dict = {\n",
    "        \"train_series_ids\": list(all_df.get_column('series_id').take(train_index)),\n",
    "        \"valid_series_ids\": list(all_df.get_column('series_id').take(test_index)),\n",
    "    }\n",
    "\n",
    "    with open(f\"../run/conf/split/stratify_fold_{i}.yaml\", \"w\") as wf:\n",
    "        yaml.dump(fold_dict, wf)\n"
   ]
  },
  {
   "cell_type": "code",
   "execution_count": null,
   "id": "91371896-e4be-49ba-98c4-bf2863b95b1e",
   "metadata": {},
   "outputs": [],
   "source": []
  }
 ],
 "metadata": {
  "kernelspec": {
   "display_name": "Python 3 (ipykernel)",
   "language": "python",
   "name": "python3"
  },
  "language_info": {
   "codemirror_mode": {
    "name": "ipython",
    "version": 3
   },
   "file_extension": ".py",
   "mimetype": "text/x-python",
   "name": "python",
   "nbconvert_exporter": "python",
   "pygments_lexer": "ipython3",
   "version": "3.10.12"
  }
 },
 "nbformat": 4,
 "nbformat_minor": 5
}
