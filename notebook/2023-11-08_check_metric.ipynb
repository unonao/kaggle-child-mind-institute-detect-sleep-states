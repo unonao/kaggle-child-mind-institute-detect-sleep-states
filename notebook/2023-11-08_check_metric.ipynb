{
 "cells": [
  {
   "cell_type": "code",
   "execution_count": 1,
   "id": "cf731342-8fed-437e-93db-5b7705382060",
   "metadata": {
    "tags": []
   },
   "outputs": [],
   "source": [
    "from hydra import initialize, compose\n",
    "\n",
    "with initialize(config_path=\"../run/conf\", version_base=None):\n",
    "    cfg = compose(\"train\")\n",
    "\n",
    "from pathlib import Path\n",
    "import yaml\n",
    "\n",
    "from glob import glob\n",
    "import numpy as np\n",
    "import pandas as pd\n",
    "import polars as pl"
   ]
  },
  {
   "cell_type": "code",
   "execution_count": 2,
   "id": "03d69afe-06d2-4286-8676-86de97c5c785",
   "metadata": {},
   "outputs": [],
   "source": [
    "import sys, os\n",
    "sys.path.append(os.pardir)\n"
   ]
  },
  {
   "cell_type": "code",
   "execution_count": 3,
   "id": "e461606b-2499-400c-a054-d1c2b9a0426a",
   "metadata": {
    "tags": []
   },
   "outputs": [],
   "source": [
    "import importlib"
   ]
  },
  {
   "cell_type": "code",
   "execution_count": 6,
   "id": "bfb9b7e0-ae5d-41fb-8a96-c7ee0c2bc508",
   "metadata": {
    "tags": []
   },
   "outputs": [
    {
     "data": {
      "text/plain": [
       "0.5"
      ]
     },
     "execution_count": 6,
     "metadata": {},
     "output_type": "execute_result"
    }
   ],
   "source": [
    "from src.utils import metrics\n",
    "importlib.reload(metrics)\n",
    "\n",
    "column_names = {\n",
    "     'series_id_column_name': 'video_id',\n",
    "     'time_column_name': 'time',\n",
    "     'event_column_name': 'event',\n",
    "     'score_column_name': 'score',\n",
    "}\n",
    "tolerances = {'pass': [2]}\n",
    "\n",
    "solution = pd.DataFrame({\n",
    "     'video_id': ['a', 'a'],\n",
    "     'event': ['pass', 'pass'],\n",
    "     'time': [0, 15],\n",
    " })\n",
    "\n",
    "\n",
    "\n",
    "submission = pd.DataFrame({\n",
    "     'video_id': ['a', 'a', 'a'],\n",
    "     'event': ['pass', 'pass',  'pass'],\n",
    "     'score': [1.0, 0.9, 0.98],\n",
    "     'time': [0, 1, 2],\n",
    "})\n",
    "\n",
    "\"\"\"\n",
    "submission = pd.DataFrame({\n",
    "     'video_id': ['a', 'a', 'a'],\n",
    "     'event': ['pass', 'pass',  'pass'],\n",
    "     'score': [1.0, 0.9, 0.98],\n",
    "     'time': [0, 1, 2],\n",
    "})\n",
    "0.5\n",
    "\n",
    "submission = pd.DataFrame({\n",
    "     'video_id': ['a', 'a', 'a', 'a', 'a', 'a', 'a'],\n",
    "     'event': ['pass', 'pass',  'pass', 'pass',  'pass', 'pass',  'pass'],\n",
    "     'score': [1.0, 0.9, 0.98, 0.01, 0.01, 0.01, 0.01],\n",
    "     'time': [0, 1, 2, 14, 15, 16, 17],\n",
    "})\n",
    "0.6428571428571428\n",
    "\n",
    "submission = pd.DataFrame({\n",
    "     'video_id': ['a', 'a', 'a', 'a', 'a', 'a', 'a', 'a', 'a'],\n",
    "     'event': ['pass', 'pass',  'pass', 'pass',  'pass', 'pass',  'pass',  'pass',  'pass'],\n",
    "     'score': [1.0, 0.9, 0.98, 0.01, 0.01, 0.01, 0.01, 0.01, 0.01],\n",
    "     'time': [0, 1, 2, 14, 15, 16, 17, 18, 19],\n",
    "})\n",
    "0.6111111111111112\n",
    "\n",
    "\"\"\"\n",
    "\n",
    "metrics.score(solution, submission, tolerances, **column_names)"
   ]
  },
  {
   "cell_type": "code",
   "execution_count": null,
   "id": "11deef72-872a-48ab-9b71-c27a572a6121",
   "metadata": {
    "tags": []
   },
   "outputs": [],
   "source": []
  },
  {
   "cell_type": "code",
   "execution_count": null,
   "id": "3c6ff93a-83b1-4448-9753-fd6340f0e988",
   "metadata": {},
   "outputs": [],
   "source": []
  }
 ],
 "metadata": {
  "kernelspec": {
   "display_name": "Python 3 (ipykernel)",
   "language": "python",
   "name": "python3"
  },
  "language_info": {
   "codemirror_mode": {
    "name": "ipython",
    "version": 3
   },
   "file_extension": ".py",
   "mimetype": "text/x-python",
   "name": "python",
   "nbconvert_exporter": "python",
   "pygments_lexer": "ipython3",
   "version": "3.10.12"
  }
 },
 "nbformat": 4,
 "nbformat_minor": 5
}
