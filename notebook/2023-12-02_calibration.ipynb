{
 "cells": [
  {
   "cell_type": "code",
   "execution_count": 1,
   "id": "26f80389-47c7-4887-b383-74d043260086",
   "metadata": {
    "tags": []
   },
   "outputs": [],
   "source": [
    "import sys, os\n",
    "sys.path.append(os.pardir)"
   ]
  },
  {
   "cell_type": "code",
   "execution_count": 3,
   "id": "efb91639-390e-4c22-936f-266c4fb49c13",
   "metadata": {
    "tags": []
   },
   "outputs": [],
   "source": [
    "from pathlib import Path\n",
    "import numpy as np\n",
    "import polars as pl\n",
    "import os\n",
    "from hydra import initialize, compose\n",
    "import plotly.express as px\n",
    "\n",
    "with initialize(config_path=\"../run/conf\", version_base=None):\n",
    "    cfg = compose(\"cv_train\")"
   ]
  },
  {
   "cell_type": "code",
   "execution_count": 4,
   "id": "9aa8afbf-3c1b-4e4d-8813-26e0095745ee",
   "metadata": {
    "tags": []
   },
   "outputs": [
    {
     "name": "stderr",
     "output_type": "stream",
     "text": [
      "/opt/conda/lib/python3.10/site-packages/scipy/__init__.py:146: UserWarning: A NumPy version >=1.16.5 and <1.23.0 is required for this version of SciPy (detected version 1.23.5\n",
      "  warnings.warn(f\"A NumPy version >={np_minversion} and <{np_maxversion}\"\n"
     ]
    }
   ],
   "source": [
    "from src.utils.metrics import event_detection_ap\n",
    "from src.utils.periodicity import get_periodicity_dict\n",
    "from src.utils.common import trace\n",
    "from src.utils.post_process import make_submission\n",
    "\n",
    "periodicity_dict = get_periodicity_dict(cfg)"
   ]
  },
  {
   "cell_type": "code",
   "execution_count": 5,
   "id": "a802e225-617f-4b64-8cfc-b9af8c604aae",
   "metadata": {
    "tags": []
   },
   "outputs": [],
   "source": [
    "event_df = pl.read_csv(Path(cfg.dir.data_dir) / \"train_events.csv\").drop_nulls()\n",
    "event_df = event_df.with_columns(\n",
    "    pl.col(\"timestamp\").str.to_datetime(\"%Y-%m-%dT%H:%M:%S%z\")\n",
    ")"
   ]
  },
  {
   "cell_type": "code",
   "execution_count": 87,
   "id": "cc4dc992-e3aa-4a27-9984-e415d61ee3fa",
   "metadata": {
    "tags": []
   },
   "outputs": [],
   "source": [
    "pred_df = (\n",
    "    pl.read_parquet(\"./pred_onset.parquet\")\n",
    "    .rename({\"label_pred\": \"stacking_prediction_onset\"})\n",
    "    .drop(\"label\")\n",
    "    .join(\n",
    "        pl.read_parquet(\"./pred_wakeup.parquet\")\n",
    "        .rename({\"label_pred\": \"stacking_prediction_wakeup\"})\n",
    "        .drop(\"label\"),\n",
    "        on=[\"series_id\", \"step\"],\n",
    "        how=\"left\",\n",
    "    )\n",
    ")\n",
    "pred_df = pred_df.with_columns(\n",
    "    ((pl.col(\"step\") - pl.col(\"step\").shift(1)) != 12)\n",
    "    .cast(int)\n",
    "    .cumsum()\n",
    "    .over(\"series_id\")\n",
    "    .fill_null(0)\n",
    "    .alias(\"chunk_id\")\n",
    ")"
   ]
  },
  {
   "cell_type": "code",
   "execution_count": 88,
   "id": "b9a044db-5511-4a1e-8a97-7333b30f9564",
   "metadata": {
    "tags": []
   },
   "outputs": [
    {
     "data": {
      "text/html": [
       "<div><style>\n",
       ".dataframe > thead > tr > th,\n",
       ".dataframe > tbody > tr > td {\n",
       "  text-align: right;\n",
       "  white-space: pre-wrap;\n",
       "}\n",
       "</style>\n",
       "<small>shape: (5, 9)</small><table border=\"1\" class=\"dataframe\"><thead><tr><th>series_id</th><th>step</th><th>stacking_prediction_onset</th><th>stacking_prediction_wakeup</th><th>chunk_id</th><th>night</th><th>event</th><th>timestamp</th><th>label</th></tr><tr><td>str</td><td>i64</td><td>f64</td><td>f64</td><td>i64</td><td>i64</td><td>str</td><td>datetime[μs, UTC]</td><td>u64</td></tr></thead><tbody><tr><td>&quot;038441c925bb&quot;</td><td>0</td><td>0.000008</td><td>0.00001</td><td>0</td><td>null</td><td>null</td><td>null</td><td>0</td></tr><tr><td>&quot;038441c925bb&quot;</td><td>12</td><td>0.000008</td><td>0.000008</td><td>0</td><td>null</td><td>null</td><td>null</td><td>0</td></tr><tr><td>&quot;038441c925bb&quot;</td><td>24</td><td>0.000007</td><td>0.000031</td><td>0</td><td>null</td><td>null</td><td>null</td><td>0</td></tr><tr><td>&quot;038441c925bb&quot;</td><td>36</td><td>0.000009</td><td>0.000019</td><td>0</td><td>null</td><td>null</td><td>null</td><td>0</td></tr><tr><td>&quot;038441c925bb&quot;</td><td>48</td><td>0.000006</td><td>0.000007</td><td>0</td><td>null</td><td>null</td><td>null</td><td>0</td></tr></tbody></table></div>"
      ],
      "text/plain": [
       "shape: (5, 9)\n",
       "┌──────────────┬──────┬────────────────┬───────────────┬───┬───────┬───────┬───────────────┬───────┐\n",
       "│ series_id    ┆ step ┆ stacking_predi ┆ stacking_pred ┆ … ┆ night ┆ event ┆ timestamp     ┆ label │\n",
       "│ ---          ┆ ---  ┆ ction_onset    ┆ iction_wakeup ┆   ┆ ---   ┆ ---   ┆ ---           ┆ ---   │\n",
       "│ str          ┆ i64  ┆ ---            ┆ ---           ┆   ┆ i64   ┆ str   ┆ datetime[μs,  ┆ u64   │\n",
       "│              ┆      ┆ f64            ┆ f64           ┆   ┆       ┆       ┆ UTC]          ┆       │\n",
       "╞══════════════╪══════╪════════════════╪═══════════════╪═══╪═══════╪═══════╪═══════════════╪═══════╡\n",
       "│ 038441c925bb ┆ 0    ┆ 0.000008       ┆ 0.00001       ┆ … ┆ null  ┆ null  ┆ null          ┆ 0     │\n",
       "│ 038441c925bb ┆ 12   ┆ 0.000008       ┆ 0.000008      ┆ … ┆ null  ┆ null  ┆ null          ┆ 0     │\n",
       "│ 038441c925bb ┆ 24   ┆ 0.000007       ┆ 0.000031      ┆ … ┆ null  ┆ null  ┆ null          ┆ 0     │\n",
       "│ 038441c925bb ┆ 36   ┆ 0.000009       ┆ 0.000019      ┆ … ┆ null  ┆ null  ┆ null          ┆ 0     │\n",
       "│ 038441c925bb ┆ 48   ┆ 0.000006       ┆ 0.000007      ┆ … ┆ null  ┆ null  ┆ null          ┆ 0     │\n",
       "└──────────────┴──────┴────────────────┴───────────────┴───┴───────┴───────┴───────────────┴───────┘"
      ]
     },
     "execution_count": 88,
     "metadata": {},
     "output_type": "execute_result"
    }
   ],
   "source": [
    "pred_df = pred_df.join(event_df, on=['series_id', 'step'], how='left')\n",
    "pred_df = pred_df.with_columns(\n",
    "    pl.col('event').is_not_null().cast(pl.UInt64).alias('label')\n",
    ")\n",
    "pred_df.head()"
   ]
  },
  {
   "cell_type": "code",
   "execution_count": 99,
   "id": "88be8901-e008-45b9-8aee-5527ad20587b",
   "metadata": {
    "tags": []
   },
   "outputs": [],
   "source": [
    "qcut_num = 200\n",
    "event2col: dict[str, str] = {\"onset\": \"stacking_prediction_onset\", \"wakeup\": \"stacking_prediction_wakeup\"},\n",
    "\n",
    "event = \"onset\"\n",
    "pred_col = \"stacking_prediction_onset\"\n",
    "\n",
    "height=0.001\n"
   ]
  },
  {
   "cell_type": "code",
   "execution_count": 100,
   "id": "1d734ba1-4194-4367-a93b-1b7008907b1e",
   "metadata": {
    "tags": []
   },
   "outputs": [],
   "source": [
    "# キャリブレーション前のプロット\n",
    "\n",
    "result = pred_df.filter(pl.col(pred_col)>height).with_columns(\n",
    "    (pl.col(pred_col).qcut(np.linspace(0, 1, qcut_num), allow_duplicates=True, include_breaks=True)).alias(f\"{event}_cut\")\n",
    ").unnest(f\"{event}_cut\").group_by(f\"{pred_col}_bin\").agg(pl.col('label').mean() , pl.col('brk').mean())"
   ]
  },
  {
   "cell_type": "code",
   "execution_count": 101,
   "id": "94323c2e-86a8-4b8d-bce1-a7d93b5aac22",
   "metadata": {
    "tags": []
   },
   "outputs": [
    {
     "data": {
      "application/vnd.plotly.v1+json": {
       "config": {
        "plotlyServerURL": "https://plot.ly"
       },
       "data": [
        {
         "hovertemplate": "brk=%{x}<br>label=%{y}<extra></extra>",
         "legendgroup": "",
         "line": {
          "color": "#636efa",
          "dash": "solid"
         },
         "marker": {
          "symbol": "circle"
         },
         "mode": "lines",
         "name": "",
         "orientation": "v",
         "showlegend": false,
         "type": "scatter",
         "x": [
          0.001000038264257148,
          0.0010126935863352254,
          0.0010255892174173417,
          0.001039980399706748,
          0.0010527213103104665,
          0.0010654981417469868,
          0.001078530204921643,
          0.0010922812193587693,
          0.001106366532038936,
          0.0011209020990106398,
          0.0011353837748644558,
          0.0011510140557930027,
          0.0011669570216733818,
          0.0011843019754456537,
          0.0012016078742555657,
          0.0012192223456690395,
          0.0012362129594293424,
          0.0012526153135279606,
          0.001271527354226027,
          0.0012887383164839462,
          0.0013068733819793512,
          0.0013264472007348726,
          0.0013458386131438588,
          0.0013660307337312666,
          0.0013862259054564187,
          0.001406788830359676,
          0.0014282688562301331,
          0.0014505498337748935,
          0.0014732124585489083,
          0.0014955557499708358,
          0.0015206097632280838,
          0.0015471400039247653,
          0.0015705733059519268,
          0.0015969206292260469,
          0.0016217391134695043,
          0.00164837860437876,
          0.0016755502736951352,
          0.0017033567484309642,
          0.0017329373192236425,
          0.0017638309097603544,
          0.0017961611637861044,
          0.0018265647711371194,
          0.001858966795802956,
          0.0018890589910645526,
          0.00192197820134593,
          0.001955571370586065,
          0.001989506351192647,
          0.0020247514468057924,
          0.002062428316223729,
          0.0021002396829359893,
          0.002135463548142032,
          0.0021761921494976985,
          0.0022172638974454774,
          0.002258705578580596,
          0.002301970766948781,
          0.002346528619300767,
          0.002394860961487305,
          0.002440878644446156,
          0.002487119573479856,
          0.0025329877128024993,
          0.0025801376934528743,
          0.002629497326429846,
          0.0026781481971025352,
          0.002729520685812824,
          0.00278362367293523,
          0.00283990415283916,
          0.0028972745339619073,
          0.0029520132999225376,
          0.00300637430792879,
          0.0030625954103594534,
          0.0031249586417167654,
          0.003186187693226762,
          0.0032517274364716204,
          0.0033195713539747322,
          0.003383050297060736,
          0.003449560872563095,
          0.0035183113265290326,
          0.003583083314550014,
          0.0036590246041027148,
          0.003732506031018851,
          0.0038078709198889706,
          0.0038877889187281323,
          0.003968558772434294,
          0.004052524273138042,
          0.004140989227003955,
          0.0042319052604539815,
          0.004320891708092631,
          0.004415935107834159,
          0.004507269362131279,
          0.004604652338804777,
          0.004695620166225323,
          0.004803168050058479,
          0.004906631570171015,
          0.005013531628245003,
          0.00513300416310266,
          0.005243406829918671,
          0.005358375890029663,
          0.005483606175329366,
          0.005603294304004906,
          0.005732375570168846,
          0.005865951527205039,
          0.005992120980878542,
          0.006127731754034046,
          0.00627116944143679,
          0.006414163149066826,
          0.006560271317202162,
          0.006722254196852651,
          0.006881001086381822,
          0.007042884285909066,
          0.0072125277657174225,
          0.007398851797659978,
          0.007575544496287833,
          0.007764284436381663,
          0.007958512909453878,
          0.008141466987641451,
          0.00836690771174175,
          0.008595271201694328,
          0.008807179758656969,
          0.009030591306831858,
          0.00926586573174759,
          0.009518752525689525,
          0.009760216237241784,
          0.010002051154507823,
          0.010266909301057729,
          0.01055656445643903,
          0.010843083326044329,
          0.01115406705019046,
          0.01146788277920701,
          0.011801361375351656,
          0.012155692340930096,
          0.012511551434160762,
          0.012852090711011089,
          0.013229847282757707,
          0.013609187156315247,
          0.013986413566967826,
          0.014449123150214222,
          0.014887709304959118,
          0.01535218355356009,
          0.015834787856636605,
          0.016307400144739827,
          0.016819297456034717,
          0.01732476878842507,
          0.017912829173649922,
          0.01848849148670736,
          0.019088936738066446,
          0.019711217043841402,
          0.020372400934109722,
          0.021090102841949374,
          0.021757307034763838,
          0.022494258960688334,
          0.02327808664363121,
          0.024037336705540428,
          0.02483431351090014,
          0.02573747660170734,
          0.026722341396954546,
          0.0277100420826563,
          0.028772697215222676,
          0.029875482117457847,
          0.030966471837930793,
          0.03219625082990874,
          0.03336676903930174,
          0.03465685818669877,
          0.03602301899436429,
          0.03753098071093735,
          0.039034193566216,
          0.040799411407747725,
          0.04270517514552758,
          0.044677436235879345,
          0.04666372317520624,
          0.04883942938960732,
          0.05126873495276492,
          0.05384693520914,
          0.056666359777662954,
          0.05938961741417274,
          0.06267601231994431,
          0.06619575587663241,
          0.07013740444865224,
          0.07429674584005054,
          0.07918274260216793,
          0.08459703310199176,
          0.09041866717105171,
          0.09681393539474668,
          0.10498862905518234,
          0.11381537265202718,
          0.1235165335140564,
          0.13474997597365562,
          0.14717274705007635,
          0.1632386262603773,
          0.1800075404746184,
          0.20048434102893053,
          0.2245866819764922,
          0.2544206562439081,
          0.29268588908746557,
          0.3336637014886921,
          0.38750069476539684,
          0.4569219052113336,
          0.543729700383161,
          0.6381906205469188,
          0.7359519663235805,
          0.9118429743633244
         ],
         "xaxis": "x",
         "y": [
          0,
          0,
          0,
          0.001763668430335097,
          0,
          0,
          0,
          0.001763668430335097,
          0,
          0,
          0.001763668430335097,
          0.001763668430335097,
          0.001763668430335097,
          0,
          0.0035335689045936395,
          0.001763668430335097,
          0.001763668430335097,
          0.003527336860670194,
          0,
          0.001763668430335097,
          0,
          0.001763668430335097,
          0.001763668430335097,
          0,
          0,
          0,
          0.003527336860670194,
          0.0017667844522968198,
          0.001763668430335097,
          0.003527336860670194,
          0,
          0.00530035335689046,
          0.001763668430335097,
          0,
          0.003527336860670194,
          0.001763668430335097,
          0.00530035335689046,
          0,
          0,
          0.001763668430335097,
          0.0017667844522968198,
          0.001763668430335097,
          0.001763668430335097,
          0.001763668430335097,
          0,
          0.0017667844522968198,
          0,
          0.001763668430335097,
          0.001763668430335097,
          0.00530035335689046,
          0.003527336860670194,
          0.003527336860670194,
          0.001763668430335097,
          0.001763668430335097,
          0.0017667844522968198,
          0.007054673721340388,
          0.001763668430335097,
          0.005291005291005291,
          0.0017667844522968198,
          0.001763668430335097,
          0,
          0.008818342151675485,
          0.00530035335689046,
          0.005291005291005291,
          0.003527336860670194,
          0.001763668430335097,
          0.005291005291005291,
          0.0088339222614841,
          0.001763668430335097,
          0.003527336860670194,
          0.001763668430335097,
          0.0035335689045936395,
          0.005291005291005291,
          0.001763668430335097,
          0.003527336860670194,
          0.003527336860670194,
          0.00530035335689046,
          0.007054673721340388,
          0.003527336860670194,
          0.007054673721340388,
          0.00530035335689046,
          0.005291005291005291,
          0.007054673721340388,
          0.005291005291005291,
          0.003527336860670194,
          0.0088339222614841,
          0.003527336860670194,
          0.008818342151675485,
          0.014109347442680775,
          0.01060070671378092,
          0.010582010582010581,
          0.003527336860670194,
          0.003527336860670194,
          0.01060070671378092,
          0.005291005291005291,
          0.003527336860670194,
          0.007054673721340388,
          0.005291005291005291,
          0.0035335689045936395,
          0.012345679012345678,
          0.007054673721340388,
          0.003527336860670194,
          0.01060070671378092,
          0.010582010582010581,
          0.005291005291005291,
          0.012345679012345678,
          0.008818342151675485,
          0.0088339222614841,
          0.014109347442680775,
          0.003527336860670194,
          0.008818342151675485,
          0.00530035335689046,
          0.008818342151675485,
          0.008818342151675485,
          0.005291005291005291,
          0.00530035335689046,
          0.001763668430335097,
          0.012345679012345678,
          0.014109347442680775,
          0.008818342151675485,
          0.01060070671378092,
          0.007054673721340388,
          0.021164021164021163,
          0.015873015873015872,
          0.014134275618374558,
          0.010582010582010581,
          0.014109347442680775,
          0.014109347442680775,
          0.003527336860670194,
          0.012367491166077738,
          0.01763668430335097,
          0.019400352733686066,
          0.012345679012345678,
          0.02120141342756184,
          0.014109347442680775,
          0.012345679012345678,
          0.019400352733686066,
          0.010582010582010581,
          0.02120141342756184,
          0.024691358024691357,
          0.010582010582010581,
          0.021164021164021163,
          0.015901060070671377,
          0.02292768959435626,
          0.02821869488536155,
          0.010582010582010581,
          0.022968197879858657,
          0.019400352733686066,
          0.01763668430335097,
          0.024691358024691357,
          0.024691358024691357,
          0.015901060070671377,
          0.026455026455026454,
          0.024691358024691357,
          0.021164021164021163,
          0.03356890459363958,
          0.024691358024691357,
          0.02821869488536155,
          0.03880070546737213,
          0.04056437389770723,
          0.03180212014134275,
          0.05114638447971781,
          0.03527336860670194,
          0.05114638447971781,
          0.045936395759717315,
          0.04409171075837742,
          0.0564373897707231,
          0.04585537918871252,
          0.04409171075837742,
          0.0353356890459364,
          0.04056437389770723,
          0.04938271604938271,
          0.059964726631393295,
          0.05123674911660778,
          0.06349206349206349,
          0.07760141093474426,
          0.06172839506172839,
          0.0636042402826855,
          0.07407407407407407,
          0.07760141093474426,
          0.07583774250440917,
          0.09347442680776014,
          0.09010600706713781,
          0.09876543209876543,
          0.09700176366843033,
          0.13227513227513227,
          0.16784452296819788,
          0.15520282186948853,
          0.18165784832451498,
          0.18342151675485008,
          0.2328042328042328,
          0.27385159010600707,
          0.24867724867724866,
          0.30864197530864196,
          0.41975308641975306,
          0.44346289752650175,
          0.5396825396825397,
          0.5873015873015873,
          0.7125220458553791,
          0.8218694885361552
         ],
         "yaxis": "y"
        }
       ],
       "layout": {
        "autosize": true,
        "legend": {
         "tracegroupgap": 0
        },
        "margin": {
         "t": 60
        },
        "template": {
         "data": {
          "bar": [
           {
            "error_x": {
             "color": "#2a3f5f"
            },
            "error_y": {
             "color": "#2a3f5f"
            },
            "marker": {
             "line": {
              "color": "#E5ECF6",
              "width": 0.5
             },
             "pattern": {
              "fillmode": "overlay",
              "size": 10,
              "solidity": 0.2
             }
            },
            "type": "bar"
           }
          ],
          "barpolar": [
           {
            "marker": {
             "line": {
              "color": "#E5ECF6",
              "width": 0.5
             },
             "pattern": {
              "fillmode": "overlay",
              "size": 10,
              "solidity": 0.2
             }
            },
            "type": "barpolar"
           }
          ],
          "carpet": [
           {
            "aaxis": {
             "endlinecolor": "#2a3f5f",
             "gridcolor": "white",
             "linecolor": "white",
             "minorgridcolor": "white",
             "startlinecolor": "#2a3f5f"
            },
            "baxis": {
             "endlinecolor": "#2a3f5f",
             "gridcolor": "white",
             "linecolor": "white",
             "minorgridcolor": "white",
             "startlinecolor": "#2a3f5f"
            },
            "type": "carpet"
           }
          ],
          "choropleth": [
           {
            "colorbar": {
             "outlinewidth": 0,
             "ticks": ""
            },
            "type": "choropleth"
           }
          ],
          "contour": [
           {
            "colorbar": {
             "outlinewidth": 0,
             "ticks": ""
            },
            "colorscale": [
             [
              0,
              "#0d0887"
             ],
             [
              0.1111111111111111,
              "#46039f"
             ],
             [
              0.2222222222222222,
              "#7201a8"
             ],
             [
              0.3333333333333333,
              "#9c179e"
             ],
             [
              0.4444444444444444,
              "#bd3786"
             ],
             [
              0.5555555555555556,
              "#d8576b"
             ],
             [
              0.6666666666666666,
              "#ed7953"
             ],
             [
              0.7777777777777778,
              "#fb9f3a"
             ],
             [
              0.8888888888888888,
              "#fdca26"
             ],
             [
              1,
              "#f0f921"
             ]
            ],
            "type": "contour"
           }
          ],
          "contourcarpet": [
           {
            "colorbar": {
             "outlinewidth": 0,
             "ticks": ""
            },
            "type": "contourcarpet"
           }
          ],
          "heatmap": [
           {
            "colorbar": {
             "outlinewidth": 0,
             "ticks": ""
            },
            "colorscale": [
             [
              0,
              "#0d0887"
             ],
             [
              0.1111111111111111,
              "#46039f"
             ],
             [
              0.2222222222222222,
              "#7201a8"
             ],
             [
              0.3333333333333333,
              "#9c179e"
             ],
             [
              0.4444444444444444,
              "#bd3786"
             ],
             [
              0.5555555555555556,
              "#d8576b"
             ],
             [
              0.6666666666666666,
              "#ed7953"
             ],
             [
              0.7777777777777778,
              "#fb9f3a"
             ],
             [
              0.8888888888888888,
              "#fdca26"
             ],
             [
              1,
              "#f0f921"
             ]
            ],
            "type": "heatmap"
           }
          ],
          "heatmapgl": [
           {
            "colorbar": {
             "outlinewidth": 0,
             "ticks": ""
            },
            "colorscale": [
             [
              0,
              "#0d0887"
             ],
             [
              0.1111111111111111,
              "#46039f"
             ],
             [
              0.2222222222222222,
              "#7201a8"
             ],
             [
              0.3333333333333333,
              "#9c179e"
             ],
             [
              0.4444444444444444,
              "#bd3786"
             ],
             [
              0.5555555555555556,
              "#d8576b"
             ],
             [
              0.6666666666666666,
              "#ed7953"
             ],
             [
              0.7777777777777778,
              "#fb9f3a"
             ],
             [
              0.8888888888888888,
              "#fdca26"
             ],
             [
              1,
              "#f0f921"
             ]
            ],
            "type": "heatmapgl"
           }
          ],
          "histogram": [
           {
            "marker": {
             "pattern": {
              "fillmode": "overlay",
              "size": 10,
              "solidity": 0.2
             }
            },
            "type": "histogram"
           }
          ],
          "histogram2d": [
           {
            "colorbar": {
             "outlinewidth": 0,
             "ticks": ""
            },
            "colorscale": [
             [
              0,
              "#0d0887"
             ],
             [
              0.1111111111111111,
              "#46039f"
             ],
             [
              0.2222222222222222,
              "#7201a8"
             ],
             [
              0.3333333333333333,
              "#9c179e"
             ],
             [
              0.4444444444444444,
              "#bd3786"
             ],
             [
              0.5555555555555556,
              "#d8576b"
             ],
             [
              0.6666666666666666,
              "#ed7953"
             ],
             [
              0.7777777777777778,
              "#fb9f3a"
             ],
             [
              0.8888888888888888,
              "#fdca26"
             ],
             [
              1,
              "#f0f921"
             ]
            ],
            "type": "histogram2d"
           }
          ],
          "histogram2dcontour": [
           {
            "colorbar": {
             "outlinewidth": 0,
             "ticks": ""
            },
            "colorscale": [
             [
              0,
              "#0d0887"
             ],
             [
              0.1111111111111111,
              "#46039f"
             ],
             [
              0.2222222222222222,
              "#7201a8"
             ],
             [
              0.3333333333333333,
              "#9c179e"
             ],
             [
              0.4444444444444444,
              "#bd3786"
             ],
             [
              0.5555555555555556,
              "#d8576b"
             ],
             [
              0.6666666666666666,
              "#ed7953"
             ],
             [
              0.7777777777777778,
              "#fb9f3a"
             ],
             [
              0.8888888888888888,
              "#fdca26"
             ],
             [
              1,
              "#f0f921"
             ]
            ],
            "type": "histogram2dcontour"
           }
          ],
          "mesh3d": [
           {
            "colorbar": {
             "outlinewidth": 0,
             "ticks": ""
            },
            "type": "mesh3d"
           }
          ],
          "parcoords": [
           {
            "line": {
             "colorbar": {
              "outlinewidth": 0,
              "ticks": ""
             }
            },
            "type": "parcoords"
           }
          ],
          "pie": [
           {
            "automargin": true,
            "type": "pie"
           }
          ],
          "scatter": [
           {
            "fillpattern": {
             "fillmode": "overlay",
             "size": 10,
             "solidity": 0.2
            },
            "type": "scatter"
           }
          ],
          "scatter3d": [
           {
            "line": {
             "colorbar": {
              "outlinewidth": 0,
              "ticks": ""
             }
            },
            "marker": {
             "colorbar": {
              "outlinewidth": 0,
              "ticks": ""
             }
            },
            "type": "scatter3d"
           }
          ],
          "scattercarpet": [
           {
            "marker": {
             "colorbar": {
              "outlinewidth": 0,
              "ticks": ""
             }
            },
            "type": "scattercarpet"
           }
          ],
          "scattergeo": [
           {
            "marker": {
             "colorbar": {
              "outlinewidth": 0,
              "ticks": ""
             }
            },
            "type": "scattergeo"
           }
          ],
          "scattergl": [
           {
            "marker": {
             "colorbar": {
              "outlinewidth": 0,
              "ticks": ""
             }
            },
            "type": "scattergl"
           }
          ],
          "scattermapbox": [
           {
            "marker": {
             "colorbar": {
              "outlinewidth": 0,
              "ticks": ""
             }
            },
            "type": "scattermapbox"
           }
          ],
          "scatterpolar": [
           {
            "marker": {
             "colorbar": {
              "outlinewidth": 0,
              "ticks": ""
             }
            },
            "type": "scatterpolar"
           }
          ],
          "scatterpolargl": [
           {
            "marker": {
             "colorbar": {
              "outlinewidth": 0,
              "ticks": ""
             }
            },
            "type": "scatterpolargl"
           }
          ],
          "scatterternary": [
           {
            "marker": {
             "colorbar": {
              "outlinewidth": 0,
              "ticks": ""
             }
            },
            "type": "scatterternary"
           }
          ],
          "surface": [
           {
            "colorbar": {
             "outlinewidth": 0,
             "ticks": ""
            },
            "colorscale": [
             [
              0,
              "#0d0887"
             ],
             [
              0.1111111111111111,
              "#46039f"
             ],
             [
              0.2222222222222222,
              "#7201a8"
             ],
             [
              0.3333333333333333,
              "#9c179e"
             ],
             [
              0.4444444444444444,
              "#bd3786"
             ],
             [
              0.5555555555555556,
              "#d8576b"
             ],
             [
              0.6666666666666666,
              "#ed7953"
             ],
             [
              0.7777777777777778,
              "#fb9f3a"
             ],
             [
              0.8888888888888888,
              "#fdca26"
             ],
             [
              1,
              "#f0f921"
             ]
            ],
            "type": "surface"
           }
          ],
          "table": [
           {
            "cells": {
             "fill": {
              "color": "#EBF0F8"
             },
             "line": {
              "color": "white"
             }
            },
            "header": {
             "fill": {
              "color": "#C8D4E3"
             },
             "line": {
              "color": "white"
             }
            },
            "type": "table"
           }
          ]
         },
         "layout": {
          "annotationdefaults": {
           "arrowcolor": "#2a3f5f",
           "arrowhead": 0,
           "arrowwidth": 1
          },
          "autotypenumbers": "strict",
          "coloraxis": {
           "colorbar": {
            "outlinewidth": 0,
            "ticks": ""
           }
          },
          "colorscale": {
           "diverging": [
            [
             0,
             "#8e0152"
            ],
            [
             0.1,
             "#c51b7d"
            ],
            [
             0.2,
             "#de77ae"
            ],
            [
             0.3,
             "#f1b6da"
            ],
            [
             0.4,
             "#fde0ef"
            ],
            [
             0.5,
             "#f7f7f7"
            ],
            [
             0.6,
             "#e6f5d0"
            ],
            [
             0.7,
             "#b8e186"
            ],
            [
             0.8,
             "#7fbc41"
            ],
            [
             0.9,
             "#4d9221"
            ],
            [
             1,
             "#276419"
            ]
           ],
           "sequential": [
            [
             0,
             "#0d0887"
            ],
            [
             0.1111111111111111,
             "#46039f"
            ],
            [
             0.2222222222222222,
             "#7201a8"
            ],
            [
             0.3333333333333333,
             "#9c179e"
            ],
            [
             0.4444444444444444,
             "#bd3786"
            ],
            [
             0.5555555555555556,
             "#d8576b"
            ],
            [
             0.6666666666666666,
             "#ed7953"
            ],
            [
             0.7777777777777778,
             "#fb9f3a"
            ],
            [
             0.8888888888888888,
             "#fdca26"
            ],
            [
             1,
             "#f0f921"
            ]
           ],
           "sequentialminus": [
            [
             0,
             "#0d0887"
            ],
            [
             0.1111111111111111,
             "#46039f"
            ],
            [
             0.2222222222222222,
             "#7201a8"
            ],
            [
             0.3333333333333333,
             "#9c179e"
            ],
            [
             0.4444444444444444,
             "#bd3786"
            ],
            [
             0.5555555555555556,
             "#d8576b"
            ],
            [
             0.6666666666666666,
             "#ed7953"
            ],
            [
             0.7777777777777778,
             "#fb9f3a"
            ],
            [
             0.8888888888888888,
             "#fdca26"
            ],
            [
             1,
             "#f0f921"
            ]
           ]
          },
          "colorway": [
           "#636efa",
           "#EF553B",
           "#00cc96",
           "#ab63fa",
           "#FFA15A",
           "#19d3f3",
           "#FF6692",
           "#B6E880",
           "#FF97FF",
           "#FECB52"
          ],
          "font": {
           "color": "#2a3f5f"
          },
          "geo": {
           "bgcolor": "white",
           "lakecolor": "white",
           "landcolor": "#E5ECF6",
           "showlakes": true,
           "showland": true,
           "subunitcolor": "white"
          },
          "hoverlabel": {
           "align": "left"
          },
          "hovermode": "closest",
          "mapbox": {
           "style": "light"
          },
          "paper_bgcolor": "white",
          "plot_bgcolor": "#E5ECF6",
          "polar": {
           "angularaxis": {
            "gridcolor": "white",
            "linecolor": "white",
            "ticks": ""
           },
           "bgcolor": "#E5ECF6",
           "radialaxis": {
            "gridcolor": "white",
            "linecolor": "white",
            "ticks": ""
           }
          },
          "scene": {
           "xaxis": {
            "backgroundcolor": "#E5ECF6",
            "gridcolor": "white",
            "gridwidth": 2,
            "linecolor": "white",
            "showbackground": true,
            "ticks": "",
            "zerolinecolor": "white"
           },
           "yaxis": {
            "backgroundcolor": "#E5ECF6",
            "gridcolor": "white",
            "gridwidth": 2,
            "linecolor": "white",
            "showbackground": true,
            "ticks": "",
            "zerolinecolor": "white"
           },
           "zaxis": {
            "backgroundcolor": "#E5ECF6",
            "gridcolor": "white",
            "gridwidth": 2,
            "linecolor": "white",
            "showbackground": true,
            "ticks": "",
            "zerolinecolor": "white"
           }
          },
          "shapedefaults": {
           "line": {
            "color": "#2a3f5f"
           }
          },
          "ternary": {
           "aaxis": {
            "gridcolor": "white",
            "linecolor": "white",
            "ticks": ""
           },
           "baxis": {
            "gridcolor": "white",
            "linecolor": "white",
            "ticks": ""
           },
           "bgcolor": "#E5ECF6",
           "caxis": {
            "gridcolor": "white",
            "linecolor": "white",
            "ticks": ""
           }
          },
          "title": {
           "x": 0.05
          },
          "xaxis": {
           "automargin": true,
           "gridcolor": "white",
           "linecolor": "white",
           "ticks": "",
           "title": {
            "standoff": 15
           },
           "zerolinecolor": "white",
           "zerolinewidth": 2
          },
          "yaxis": {
           "automargin": true,
           "gridcolor": "white",
           "linecolor": "white",
           "ticks": "",
           "title": {
            "standoff": 15
           },
           "zerolinecolor": "white",
           "zerolinewidth": 2
          }
         }
        },
        "xaxis": {
         "anchor": "y",
         "autorange": true,
         "domain": [
          0,
          1
         ],
         "range": [
          0.001000038264257148,
          0.9118429743633244
         ],
         "title": {
          "text": "brk"
         },
         "type": "linear"
        },
        "yaxis": {
         "anchor": "x",
         "autorange": true,
         "domain": [
          0,
          1
         ],
         "range": [
          -0.0456594160297864,
          0.8675289045659416
         ],
         "title": {
          "text": "label"
         },
         "type": "linear"
        }
       }
      },
      "image/png": "[encoded data removed]",
      "text/html": [
       "<div>                            <div id=\"bd4e2916-10e0-4ada-b746-9f758f63988c\" class=\"plotly-graph-div\" style=\"height:525px; width:100%;\"></div>            <script type=\"text/javascript\">                require([\"plotly\"], function(Plotly) {                    window.PLOTLYENV=window.PLOTLYENV || {};                                    if (document.getElementById(\"bd4e2916-10e0-4ada-b746-9f758f63988c\")) {                    Plotly.newPlot(                        \"bd4e2916-10e0-4ada-b746-9f758f63988c\",                        [{\"hovertemplate\":\"brk=%{x}\\u003cbr\\u003elabel=%{y}\\u003cextra\\u003e\\u003c\\u002fextra\\u003e\",\"legendgroup\":\"\",\"line\":{\"color\":\"#636efa\",\"dash\":\"solid\"},\"marker\":{\"symbol\":\"circle\"},\"mode\":\"lines\",\"name\":\"\",\"orientation\":\"v\",\"showlegend\":false,\"x\":[0.001000038264257148,0.0010126935863352254,0.0010255892174173417,0.001039980399706748,0.0010527213103104665,0.0010654981417469868,0.001078530204921643,0.0010922812193587693,0.001106366532038936,0.0011209020990106398,0.0011353837748644558,0.0011510140557930027,0.0011669570216733818,0.0011843019754456537,0.0012016078742555657,0.0012192223456690395,0.0012362129594293424,0.0012526153135279606,0.001271527354226027,0.0012887383164839462,0.0013068733819793512,0.0013264472007348726,0.0013458386131438588,0.0013660307337312666,0.0013862259054564187,0.001406788830359676,0.0014282688562301331,0.0014505498337748935,0.0014732124585489083,0.0014955557499708358,0.0015206097632280838,0.0015471400039247653,0.0015705733059519268,0.0015969206292260469,0.0016217391134695043,0.00164837860437876,0.0016755502736951352,0.0017033567484309642,0.0017329373192236425,0.0017638309097603544,0.0017961611637861044,0.0018265647711371194,0.001858966795802956,0.0018890589910645526,0.00192197820134593,0.001955571370586065,0.001989506351192647,0.0020247514468057924,0.002062428316223729,0.0021002396829359893,0.002135463548142032,0.0021761921494976985,0.0022172638974454774,0.002258705578580596,0.002301970766948781,0.002346528619300767,0.002394860961487305,0.002440878644446156,0.002487119573479856,0.0025329877128024993,0.0025801376934528743,0.002629497326429846,0.0026781481971025352,0.002729520685812824,0.00278362367293523,0.00283990415283916,0.0028972745339619073,0.0029520132999225376,0.00300637430792879,0.0030625954103594534,0.0031249586417167654,0.003186187693226762,0.0032517274364716204,0.0033195713539747322,0.003383050297060736,0.003449560872563095,0.0035183113265290326,0.003583083314550014,0.0036590246041027148,0.003732506031018851,0.0038078709198889706,0.0038877889187281323,0.003968558772434294,0.004052524273138042,0.004140989227003955,0.0042319052604539815,0.004320891708092631,0.004415935107834159,0.004507269362131279,0.004604652338804777,0.004695620166225323,0.004803168050058479,0.004906631570171015,0.005013531628245003,0.00513300416310266,0.005243406829918671,0.005358375890029663,0.005483606175329366,0.005603294304004906,0.005732375570168846,0.005865951527205039,0.005992120980878542,0.006127731754034046,0.00627116944143679,0.006414163149066826,0.006560271317202162,0.006722254196852651,0.006881001086381822,0.007042884285909066,0.0072125277657174225,0.007398851797659978,0.007575544496287833,0.007764284436381663,0.007958512909453878,0.008141466987641451,0.00836690771174175,0.008595271201694328,0.008807179758656969,0.009030591306831858,0.00926586573174759,0.009518752525689525,0.009760216237241784,0.010002051154507823,0.010266909301057729,0.01055656445643903,0.010843083326044329,0.01115406705019046,0.01146788277920701,0.011801361375351656,0.012155692340930096,0.012511551434160762,0.012852090711011089,0.013229847282757707,0.013609187156315247,0.013986413566967826,0.014449123150214222,0.014887709304959118,0.01535218355356009,0.015834787856636605,0.016307400144739827,0.016819297456034717,0.01732476878842507,0.017912829173649922,0.01848849148670736,0.019088936738066446,0.019711217043841402,0.020372400934109722,0.021090102841949374,0.021757307034763838,0.022494258960688334,0.02327808664363121,0.024037336705540428,0.02483431351090014,0.02573747660170734,0.026722341396954546,0.0277100420826563,0.028772697215222676,0.029875482117457847,0.030966471837930793,0.03219625082990874,0.03336676903930174,0.03465685818669877,0.03602301899436429,0.03753098071093735,0.039034193566216,0.040799411407747725,0.04270517514552758,0.044677436235879345,0.04666372317520624,0.04883942938960732,0.05126873495276492,0.05384693520914,0.056666359777662954,0.05938961741417274,0.06267601231994431,0.06619575587663241,0.07013740444865224,0.07429674584005054,0.07918274260216793,0.08459703310199176,0.09041866717105171,0.09681393539474668,0.10498862905518234,0.11381537265202718,0.1235165335140564,0.13474997597365562,0.14717274705007635,0.1632386262603773,0.1800075404746184,0.20048434102893053,0.2245866819764922,0.2544206562439081,0.29268588908746557,0.3336637014886921,0.38750069476539684,0.4569219052113336,0.543729700383161,0.6381906205469188,0.7359519663235805,0.9118429743633244],\"xaxis\":\"x\",\"y\":[0.0,0.0,0.0,0.001763668430335097,0.0,0.0,0.0,0.001763668430335097,0.0,0.0,0.001763668430335097,0.001763668430335097,0.001763668430335097,0.0,0.0035335689045936395,0.001763668430335097,0.001763668430335097,0.003527336860670194,0.0,0.001763668430335097,0.0,0.001763668430335097,0.001763668430335097,0.0,0.0,0.0,0.003527336860670194,0.0017667844522968198,0.001763668430335097,0.003527336860670194,0.0,0.00530035335689046,0.001763668430335097,0.0,0.003527336860670194,0.001763668430335097,0.00530035335689046,0.0,0.0,0.001763668430335097,0.0017667844522968198,0.001763668430335097,0.001763668430335097,0.001763668430335097,0.0,0.0017667844522968198,0.0,0.001763668430335097,0.001763668430335097,0.00530035335689046,0.003527336860670194,0.003527336860670194,0.001763668430335097,0.001763668430335097,0.0017667844522968198,0.007054673721340388,0.001763668430335097,0.005291005291005291,0.0017667844522968198,0.001763668430335097,0.0,0.008818342151675485,0.00530035335689046,0.005291005291005291,0.003527336860670194,0.001763668430335097,0.005291005291005291,0.0088339222614841,0.001763668430335097,0.003527336860670194,0.001763668430335097,0.0035335689045936395,0.005291005291005291,0.001763668430335097,0.003527336860670194,0.003527336860670194,0.00530035335689046,0.007054673721340388,0.003527336860670194,0.007054673721340388,0.00530035335689046,0.005291005291005291,0.007054673721340388,0.005291005291005291,0.003527336860670194,0.0088339222614841,0.003527336860670194,0.008818342151675485,0.014109347442680775,0.01060070671378092,0.010582010582010581,0.003527336860670194,0.003527336860670194,0.01060070671378092,0.005291005291005291,0.003527336860670194,0.007054673721340388,0.005291005291005291,0.0035335689045936395,0.012345679012345678,0.007054673721340388,0.003527336860670194,0.01060070671378092,0.010582010582010581,0.005291005291005291,0.012345679012345678,0.008818342151675485,0.0088339222614841,0.014109347442680775,0.003527336860670194,0.008818342151675485,0.00530035335689046,0.008818342151675485,0.008818342151675485,0.005291005291005291,0.00530035335689046,0.001763668430335097,0.012345679012345678,0.014109347442680775,0.008818342151675485,0.01060070671378092,0.007054673721340388,0.021164021164021163,0.015873015873015872,0.014134275618374558,0.010582010582010581,0.014109347442680775,0.014109347442680775,0.003527336860670194,0.012367491166077738,0.01763668430335097,0.019400352733686066,0.012345679012345678,0.02120141342756184,0.014109347442680775,0.012345679012345678,0.019400352733686066,0.010582010582010581,0.02120141342756184,0.024691358024691357,0.010582010582010581,0.021164021164021163,0.015901060070671377,0.02292768959435626,0.02821869488536155,0.010582010582010581,0.022968197879858657,0.019400352733686066,0.01763668430335097,0.024691358024691357,0.024691358024691357,0.015901060070671377,0.026455026455026454,0.024691358024691357,0.021164021164021163,0.03356890459363958,0.024691358024691357,0.02821869488536155,0.03880070546737213,0.04056437389770723,0.03180212014134275,0.05114638447971781,0.03527336860670194,0.05114638447971781,0.045936395759717315,0.04409171075837742,0.0564373897707231,0.04585537918871252,0.04409171075837742,0.0353356890459364,0.04056437389770723,0.04938271604938271,0.059964726631393295,0.05123674911660778,0.06349206349206349,0.07760141093474426,0.06172839506172839,0.0636042402826855,0.07407407407407407,0.07760141093474426,0.07583774250440917,0.09347442680776014,0.09010600706713781,0.09876543209876543,0.09700176366843033,0.13227513227513227,0.16784452296819788,0.15520282186948853,0.18165784832451498,0.18342151675485008,0.2328042328042328,0.27385159010600707,0.24867724867724866,0.30864197530864196,0.41975308641975306,0.44346289752650175,0.5396825396825397,0.5873015873015873,0.7125220458553791,0.8218694885361552],\"yaxis\":\"y\",\"type\":\"scatter\"}],                        {\"template\":{\"data\":{\"histogram2dcontour\":[{\"type\":\"histogram2dcontour\",\"colorbar\":{\"outlinewidth\":0,\"ticks\":\"\"},\"colorscale\":[[0.0,\"#0d0887\"],[0.1111111111111111,\"#46039f\"],[0.2222222222222222,\"#7201a8\"],[0.3333333333333333,\"#9c179e\"],[0.4444444444444444,\"#bd3786\"],[0.5555555555555556,\"#d8576b\"],[0.6666666666666666,\"#ed7953\"],[0.7777777777777778,\"#fb9f3a\"],[0.8888888888888888,\"#fdca26\"],[1.0,\"#f0f921\"]]}],\"choropleth\":[{\"type\":\"choropleth\",\"colorbar\":{\"outlinewidth\":0,\"ticks\":\"\"}}],\"histogram2d\":[{\"type\":\"histogram2d\",\"colorbar\":{\"outlinewidth\":0,\"ticks\":\"\"},\"colorscale\":[[0.0,\"#0d0887\"],[0.1111111111111111,\"#46039f\"],[0.2222222222222222,\"#7201a8\"],[0.3333333333333333,\"#9c179e\"],[0.4444444444444444,\"#bd3786\"],[0.5555555555555556,\"#d8576b\"],[0.6666666666666666,\"#ed7953\"],[0.7777777777777778,\"#fb9f3a\"],[0.8888888888888888,\"#fdca26\"],[1.0,\"#f0f921\"]]}],\"heatmap\":[{\"type\":\"heatmap\",\"colorbar\":{\"outlinewidth\":0,\"ticks\":\"\"},\"colorscale\":[[0.0,\"#0d0887\"],[0.1111111111111111,\"#46039f\"],[0.2222222222222222,\"#7201a8\"],[0.3333333333333333,\"#9c179e\"],[0.4444444444444444,\"#bd3786\"],[0.5555555555555556,\"#d8576b\"],[0.6666666666666666,\"#ed7953\"],[0.7777777777777778,\"#fb9f3a\"],[0.8888888888888888,\"#fdca26\"],[1.0,\"#f0f921\"]]}],\"heatmapgl\":[{\"type\":\"heatmapgl\",\"colorbar\":{\"outlinewidth\":0,\"ticks\":\"\"},\"colorscale\":[[0.0,\"#0d0887\"],[0.1111111111111111,\"#46039f\"],[0.2222222222222222,\"#7201a8\"],[0.3333333333333333,\"#9c179e\"],[0.4444444444444444,\"#bd3786\"],[0.5555555555555556,\"#d8576b\"],[0.6666666666666666,\"#ed7953\"],[0.7777777777777778,\"#fb9f3a\"],[0.8888888888888888,\"#fdca26\"],[1.0,\"#f0f921\"]]}],\"contourcarpet\":[{\"type\":\"contourcarpet\",\"colorbar\":{\"outlinewidth\":0,\"ticks\":\"\"}}],\"contour\":[{\"type\":\"contour\",\"colorbar\":{\"outlinewidth\":0,\"ticks\":\"\"},\"colorscale\":[[0.0,\"#0d0887\"],[0.1111111111111111,\"#46039f\"],[0.2222222222222222,\"#7201a8\"],[0.3333333333333333,\"#9c179e\"],[0.4444444444444444,\"#bd3786\"],[0.5555555555555556,\"#d8576b\"],[0.6666666666666666,\"#ed7953\"],[0.7777777777777778,\"#fb9f3a\"],[0.8888888888888888,\"#fdca26\"],[1.0,\"#f0f921\"]]}],\"surface\":[{\"type\":\"surface\",\"colorbar\":{\"outlinewidth\":0,\"ticks\":\"\"},\"colorscale\":[[0.0,\"#0d0887\"],[0.1111111111111111,\"#46039f\"],[0.2222222222222222,\"#7201a8\"],[0.3333333333333333,\"#9c179e\"],[0.4444444444444444,\"#bd3786\"],[0.5555555555555556,\"#d8576b\"],[0.6666666666666666,\"#ed7953\"],[0.7777777777777778,\"#fb9f3a\"],[0.8888888888888888,\"#fdca26\"],[1.0,\"#f0f921\"]]}],\"mesh3d\":[{\"type\":\"mesh3d\",\"colorbar\":{\"outlinewidth\":0,\"ticks\":\"\"}}],\"scatter\":[{\"fillpattern\":{\"fillmode\":\"overlay\",\"size\":10,\"solidity\":0.2},\"type\":\"scatter\"}],\"parcoords\":[{\"type\":\"parcoords\",\"line\":{\"colorbar\":{\"outlinewidth\":0,\"ticks\":\"\"}}}],\"scatterpolargl\":[{\"type\":\"scatterpolargl\",\"marker\":{\"colorbar\":{\"outlinewidth\":0,\"ticks\":\"\"}}}],\"bar\":[{\"error_x\":{\"color\":\"#2a3f5f\"},\"error_y\":{\"color\":\"#2a3f5f\"},\"marker\":{\"line\":{\"color\":\"#E5ECF6\",\"width\":0.5},\"pattern\":{\"fillmode\":\"overlay\",\"size\":10,\"solidity\":0.2}},\"type\":\"bar\"}],\"scattergeo\":[{\"type\":\"scattergeo\",\"marker\":{\"colorbar\":{\"outlinewidth\":0,\"ticks\":\"\"}}}],\"scatterpolar\":[{\"type\":\"scatterpolar\",\"marker\":{\"colorbar\":{\"outlinewidth\":0,\"ticks\":\"\"}}}],\"histogram\":[{\"marker\":{\"pattern\":{\"fillmode\":\"overlay\",\"size\":10,\"solidity\":0.2}},\"type\":\"histogram\"}],\"scattergl\":[{\"type\":\"scattergl\",\"marker\":{\"colorbar\":{\"outlinewidth\":0,\"ticks\":\"\"}}}],\"scatter3d\":[{\"type\":\"scatter3d\",\"line\":{\"colorbar\":{\"outlinewidth\":0,\"ticks\":\"\"}},\"marker\":{\"colorbar\":{\"outlinewidth\":0,\"ticks\":\"\"}}}],\"scattermapbox\":[{\"type\":\"scattermapbox\",\"marker\":{\"colorbar\":{\"outlinewidth\":0,\"ticks\":\"\"}}}],\"scatterternary\":[{\"type\":\"scatterternary\",\"marker\":{\"colorbar\":{\"outlinewidth\":0,\"ticks\":\"\"}}}],\"scattercarpet\":[{\"type\":\"scattercarpet\",\"marker\":{\"colorbar\":{\"outlinewidth\":0,\"ticks\":\"\"}}}],\"carpet\":[{\"aaxis\":{\"endlinecolor\":\"#2a3f5f\",\"gridcolor\":\"white\",\"linecolor\":\"white\",\"minorgridcolor\":\"white\",\"startlinecolor\":\"#2a3f5f\"},\"baxis\":{\"endlinecolor\":\"#2a3f5f\",\"gridcolor\":\"white\",\"linecolor\":\"white\",\"minorgridcolor\":\"white\",\"startlinecolor\":\"#2a3f5f\"},\"type\":\"carpet\"}],\"table\":[{\"cells\":{\"fill\":{\"color\":\"#EBF0F8\"},\"line\":{\"color\":\"white\"}},\"header\":{\"fill\":{\"color\":\"#C8D4E3\"},\"line\":{\"color\":\"white\"}},\"type\":\"table\"}],\"barpolar\":[{\"marker\":{\"line\":{\"color\":\"#E5ECF6\",\"width\":0.5},\"pattern\":{\"fillmode\":\"overlay\",\"size\":10,\"solidity\":0.2}},\"type\":\"barpolar\"}],\"pie\":[{\"automargin\":true,\"type\":\"pie\"}]},\"layout\":{\"autotypenumbers\":\"strict\",\"colorway\":[\"#636efa\",\"#EF553B\",\"#00cc96\",\"#ab63fa\",\"#FFA15A\",\"#19d3f3\",\"#FF6692\",\"#B6E880\",\"#FF97FF\",\"#FECB52\"],\"font\":{\"color\":\"#2a3f5f\"},\"hovermode\":\"closest\",\"hoverlabel\":{\"align\":\"left\"},\"paper_bgcolor\":\"white\",\"plot_bgcolor\":\"#E5ECF6\",\"polar\":{\"bgcolor\":\"#E5ECF6\",\"angularaxis\":{\"gridcolor\":\"white\",\"linecolor\":\"white\",\"ticks\":\"\"},\"radialaxis\":{\"gridcolor\":\"white\",\"linecolor\":\"white\",\"ticks\":\"\"}},\"ternary\":{\"bgcolor\":\"#E5ECF6\",\"aaxis\":{\"gridcolor\":\"white\",\"linecolor\":\"white\",\"ticks\":\"\"},\"baxis\":{\"gridcolor\":\"white\",\"linecolor\":\"white\",\"ticks\":\"\"},\"caxis\":{\"gridcolor\":\"white\",\"linecolor\":\"white\",\"ticks\":\"\"}},\"coloraxis\":{\"colorbar\":{\"outlinewidth\":0,\"ticks\":\"\"}},\"colorscale\":{\"sequential\":[[0.0,\"#0d0887\"],[0.1111111111111111,\"#46039f\"],[0.2222222222222222,\"#7201a8\"],[0.3333333333333333,\"#9c179e\"],[0.4444444444444444,\"#bd3786\"],[0.5555555555555556,\"#d8576b\"],[0.6666666666666666,\"#ed7953\"],[0.7777777777777778,\"#fb9f3a\"],[0.8888888888888888,\"#fdca26\"],[1.0,\"#f0f921\"]],\"sequentialminus\":[[0.0,\"#0d0887\"],[0.1111111111111111,\"#46039f\"],[0.2222222222222222,\"#7201a8\"],[0.3333333333333333,\"#9c179e\"],[0.4444444444444444,\"#bd3786\"],[0.5555555555555556,\"#d8576b\"],[0.6666666666666666,\"#ed7953\"],[0.7777777777777778,\"#fb9f3a\"],[0.8888888888888888,\"#fdca26\"],[1.0,\"#f0f921\"]],\"diverging\":[[0,\"#8e0152\"],[0.1,\"#c51b7d\"],[0.2,\"#de77ae\"],[0.3,\"#f1b6da\"],[0.4,\"#fde0ef\"],[0.5,\"#f7f7f7\"],[0.6,\"#e6f5d0\"],[0.7,\"#b8e186\"],[0.8,\"#7fbc41\"],[0.9,\"#4d9221\"],[1,\"#276419\"]]},\"xaxis\":{\"gridcolor\":\"white\",\"linecolor\":\"white\",\"ticks\":\"\",\"title\":{\"standoff\":15},\"zerolinecolor\":\"white\",\"automargin\":true,\"zerolinewidth\":2},\"yaxis\":{\"gridcolor\":\"white\",\"linecolor\":\"white\",\"ticks\":\"\",\"title\":{\"standoff\":15},\"zerolinecolor\":\"white\",\"automargin\":true,\"zerolinewidth\":2},\"scene\":{\"xaxis\":{\"backgroundcolor\":\"#E5ECF6\",\"gridcolor\":\"white\",\"linecolor\":\"white\",\"showbackground\":true,\"ticks\":\"\",\"zerolinecolor\":\"white\",\"gridwidth\":2},\"yaxis\":{\"backgroundcolor\":\"#E5ECF6\",\"gridcolor\":\"white\",\"linecolor\":\"white\",\"showbackground\":true,\"ticks\":\"\",\"zerolinecolor\":\"white\",\"gridwidth\":2},\"zaxis\":{\"backgroundcolor\":\"#E5ECF6\",\"gridcolor\":\"white\",\"linecolor\":\"white\",\"showbackground\":true,\"ticks\":\"\",\"zerolinecolor\":\"white\",\"gridwidth\":2}},\"shapedefaults\":{\"line\":{\"color\":\"#2a3f5f\"}},\"annotationdefaults\":{\"arrowcolor\":\"#2a3f5f\",\"arrowhead\":0,\"arrowwidth\":1},\"geo\":{\"bgcolor\":\"white\",\"landcolor\":\"#E5ECF6\",\"subunitcolor\":\"white\",\"showland\":true,\"showlakes\":true,\"lakecolor\":\"white\"},\"title\":{\"x\":0.05},\"mapbox\":{\"style\":\"light\"}}},\"xaxis\":{\"anchor\":\"y\",\"domain\":[0.0,1.0],\"title\":{\"text\":\"brk\"}},\"yaxis\":{\"anchor\":\"x\",\"domain\":[0.0,1.0],\"title\":{\"text\":\"label\"}},\"legend\":{\"tracegroupgap\":0},\"margin\":{\"t\":60}},                        {\"responsive\": true}                    ).then(function(){\n",
       "                            \n",
       "var gd = document.getElementById('bd4e2916-10e0-4ada-b746-9f758f63988c');\n",
       "var x = new MutationObserver(function (mutations, observer) {{\n",
       "        var display = window.getComputedStyle(gd).display;\n",
       "        if (!display || display === 'none') {{\n",
       "            console.log([gd, 'removed!']);\n",
       "            Plotly.purge(gd);\n",
       "            observer.disconnect();\n",
       "        }}\n",
       "}});\n",
       "\n",
       "// Listen for the removal of the full notebook cells\n",
       "var notebookContainer = gd.closest('#notebook-container');\n",
       "if (notebookContainer) {{\n",
       "    x.observe(notebookContainer, {childList: true});\n",
       "}}\n",
       "\n",
       "// Listen for the clearing of the current output cell\n",
       "var outputEl = gd.closest('.output');\n",
       "if (outputEl) {{\n",
       "    x.observe(outputEl, {childList: true});\n",
       "}}\n",
       "\n",
       "                        })                };                });            </script>        </div>"
      ]
     },
     "metadata": {},
     "output_type": "display_data"
    }
   ],
   "source": [
    "df = result.sort(['brk']).to_pandas()\n",
    "fig = px.line(df, x=\"brk\", y=\"label\")\n",
    "fig.show()"
   ]
  },
  {
   "cell_type": "code",
   "execution_count": 102,
   "id": "237c4d29-ee30-41bb-baa4-8e444e4c25d3",
   "metadata": {
    "tags": []
   },
   "outputs": [],
   "source": [
    "from sklearn.isotonic import IsotonicRegression\n",
    "from sklearn.model_selection import StratifiedKFold\n",
    "\n",
    "tmp = pred_df.filter(pl.col(pred_col)>height)\n",
    "X_new = IsotonicRegression().fit_transform(tmp.get_column(pred_col).to_numpy(), tmp.get_column('label').to_numpy())\n",
    "\n",
    "tmp = tmp.with_columns(\n",
    "    pl.Series(name=f'{pred_col}_calibration', values=X_new)\n",
    ")\n"
   ]
  },
  {
   "cell_type": "code",
   "execution_count": 103,
   "id": "5a123131-7d0a-4cec-a646-88e26b17ab35",
   "metadata": {
    "tags": []
   },
   "outputs": [
    {
     "data": {
      "application/vnd.plotly.v1+json": {
       "config": {
        "plotlyServerURL": "https://plot.ly"
       },
       "data": [
        {
         "hovertemplate": "brk=%{x}<br>label=%{y}<extra></extra>",
         "legendgroup": "",
         "line": {
          "color": "#636efa",
          "dash": "solid"
         },
         "marker": {
          "symbol": "circle"
         },
         "mode": "lines",
         "name": "",
         "orientation": "v",
         "showlegend": false,
         "type": "scatter",
         "x": [
          0,
          0.00043975373790677326,
          0.0006337135614702156,
          0.001370332305584118,
          0.0017884724819119998,
          0.0020080321285140547,
          0.002976593153835709,
          0.004248790274991217,
          0.005333333333333352,
          0.006203473945409409,
          0.0069124423963133645,
          0.007156488549618279,
          0.007565011820330979,
          0.00800394040142833,
          0.008928571428571428,
          0.010629921259842462,
          0.0125,
          0.01272084805653714,
          0.016069221260815784,
          0.016519823788546235,
          0.018584936419954335,
          0.02019352124526721,
          0.020898641588296782,
          0.022759601706970185,
          0.023809523809523756,
          0.02792452830188675,
          0.03553299492385787,
          0.0378833433553819,
          0.03873744619799138,
          0.046585255540479535,
          0.05636070853462163,
          0.0645028759244042,
          0.0811775200713648,
          0.08942558746736268,
          0.10149253731343293,
          0.13286713286713286,
          0.13809523809523808,
          0.15886524822695053,
          0.16089613034623235,
          0.17761194029850758,
          0.20771513353115717,
          0.24786324786324757,
          0.26036866359446986,
          0.2730923694779116,
          0.3597560975609754,
          0.4422110552763815,
          0.47679324894514785,
          0.550488599348534,
          0.6625000000000003,
          0.771428571428572,
          1
         ],
         "xaxis": "x",
         "y": [
          0,
          0.00043975373790677223,
          0.0006337135614702154,
          0.0013703323055841042,
          0.0017884724819120397,
          0.002008032128514056,
          0.0029765931538357463,
          0.0042487902749911485,
          0.005333333333333333,
          0.00620347394540943,
          0.0069124423963133645,
          0.00715648854961832,
          0.007565011820330969,
          0.008003940401428395,
          0.008928571428571428,
          0.01062992125984252,
          0.0125,
          0.012720848056537103,
          0.016069221260815822,
          0.016519823788546256,
          0.018584936419954352,
          0.020193521245267142,
          0.02089864158829676,
          0.02275960170697013,
          0.023809523809523808,
          0.027924528301886794,
          0.03389830508474576,
          0.03788334335538184,
          0.03873744619799139,
          0.046585255540479424,
          0.054637865311308764,
          0.06450287592440428,
          0.07993850883935434,
          0.08928571428571429,
          0.10149253731343283,
          0.13286713286713286,
          0.1380952380952381,
          0.15886524822695036,
          0.16089613034623218,
          0.1771995043370508,
          0.20610687022900764,
          0.24232081911262798,
          0.26036866359447003,
          0.27307692307692305,
          0.33527696793002915,
          0.43797856049004597,
          0.47477744807121663,
          0.5501618122977346,
          0.6267281105990783,
          0.7261538461538461,
          0.8452914798206278
         ],
         "yaxis": "y"
        }
       ],
       "layout": {
        "autosize": true,
        "legend": {
         "tracegroupgap": 0
        },
        "margin": {
         "t": 60
        },
        "template": {
         "data": {
          "bar": [
           {
            "error_x": {
             "color": "#2a3f5f"
            },
            "error_y": {
             "color": "#2a3f5f"
            },
            "marker": {
             "line": {
              "color": "#E5ECF6",
              "width": 0.5
             },
             "pattern": {
              "fillmode": "overlay",
              "size": 10,
              "solidity": 0.2
             }
            },
            "type": "bar"
           }
          ],
          "barpolar": [
           {
            "marker": {
             "line": {
              "color": "#E5ECF6",
              "width": 0.5
             },
             "pattern": {
              "fillmode": "overlay",
              "size": 10,
              "solidity": 0.2
             }
            },
            "type": "barpolar"
           }
          ],
          "carpet": [
           {
            "aaxis": {
             "endlinecolor": "#2a3f5f",
             "gridcolor": "white",
             "linecolor": "white",
             "minorgridcolor": "white",
             "startlinecolor": "#2a3f5f"
            },
            "baxis": {
             "endlinecolor": "#2a3f5f",
             "gridcolor": "white",
             "linecolor": "white",
             "minorgridcolor": "white",
             "startlinecolor": "#2a3f5f"
            },
            "type": "carpet"
           }
          ],
          "choropleth": [
           {
            "colorbar": {
             "outlinewidth": 0,
             "ticks": ""
            },
            "type": "choropleth"
           }
          ],
          "contour": [
           {
            "colorbar": {
             "outlinewidth": 0,
             "ticks": ""
            },
            "colorscale": [
             [
              0,
              "#0d0887"
             ],
             [
              0.1111111111111111,
              "#46039f"
             ],
             [
              0.2222222222222222,
              "#7201a8"
             ],
             [
              0.3333333333333333,
              "#9c179e"
             ],
             [
              0.4444444444444444,
              "#bd3786"
             ],
             [
              0.5555555555555556,
              "#d8576b"
             ],
             [
              0.6666666666666666,
              "#ed7953"
             ],
             [
              0.7777777777777778,
              "#fb9f3a"
             ],
             [
              0.8888888888888888,
              "#fdca26"
             ],
             [
              1,
              "#f0f921"
             ]
            ],
            "type": "contour"
           }
          ],
          "contourcarpet": [
           {
            "colorbar": {
             "outlinewidth": 0,
             "ticks": ""
            },
            "type": "contourcarpet"
           }
          ],
          "heatmap": [
           {
            "colorbar": {
             "outlinewidth": 0,
             "ticks": ""
            },
            "colorscale": [
             [
              0,
              "#0d0887"
             ],
             [
              0.1111111111111111,
              "#46039f"
             ],
             [
              0.2222222222222222,
              "#7201a8"
             ],
             [
              0.3333333333333333,
              "#9c179e"
             ],
             [
              0.4444444444444444,
              "#bd3786"
             ],
             [
              0.5555555555555556,
              "#d8576b"
             ],
             [
              0.6666666666666666,
              "#ed7953"
             ],
             [
              0.7777777777777778,
              "#fb9f3a"
             ],
             [
              0.8888888888888888,
              "#fdca26"
             ],
             [
              1,
              "#f0f921"
             ]
            ],
            "type": "heatmap"
           }
          ],
          "heatmapgl": [
           {
            "colorbar": {
             "outlinewidth": 0,
             "ticks": ""
            },
            "colorscale": [
             [
              0,
              "#0d0887"
             ],
             [
              0.1111111111111111,
              "#46039f"
             ],
             [
              0.2222222222222222,
              "#7201a8"
             ],
             [
              0.3333333333333333,
              "#9c179e"
             ],
             [
              0.4444444444444444,
              "#bd3786"
             ],
             [
              0.5555555555555556,
              "#d8576b"
             ],
             [
              0.6666666666666666,
              "#ed7953"
             ],
             [
              0.7777777777777778,
              "#fb9f3a"
             ],
             [
              0.8888888888888888,
              "#fdca26"
             ],
             [
              1,
              "#f0f921"
             ]
            ],
            "type": "heatmapgl"
           }
          ],
          "histogram": [
           {
            "marker": {
             "pattern": {
              "fillmode": "overlay",
              "size": 10,
              "solidity": 0.2
             }
            },
            "type": "histogram"
           }
          ],
          "histogram2d": [
           {
            "colorbar": {
             "outlinewidth": 0,
             "ticks": ""
            },
            "colorscale": [
             [
              0,
              "#0d0887"
             ],
             [
              0.1111111111111111,
              "#46039f"
             ],
             [
              0.2222222222222222,
              "#7201a8"
             ],
             [
              0.3333333333333333,
              "#9c179e"
             ],
             [
              0.4444444444444444,
              "#bd3786"
             ],
             [
              0.5555555555555556,
              "#d8576b"
             ],
             [
              0.6666666666666666,
              "#ed7953"
             ],
             [
              0.7777777777777778,
              "#fb9f3a"
             ],
             [
              0.8888888888888888,
              "#fdca26"
             ],
             [
              1,
              "#f0f921"
             ]
            ],
            "type": "histogram2d"
           }
          ],
          "histogram2dcontour": [
           {
            "colorbar": {
             "outlinewidth": 0,
             "ticks": ""
            },
            "colorscale": [
             [
              0,
              "#0d0887"
             ],
             [
              0.1111111111111111,
              "#46039f"
             ],
             [
              0.2222222222222222,
              "#7201a8"
             ],
             [
              0.3333333333333333,
              "#9c179e"
             ],
             [
              0.4444444444444444,
              "#bd3786"
             ],
             [
              0.5555555555555556,
              "#d8576b"
             ],
             [
              0.6666666666666666,
              "#ed7953"
             ],
             [
              0.7777777777777778,
              "#fb9f3a"
             ],
             [
              0.8888888888888888,
              "#fdca26"
             ],
             [
              1,
              "#f0f921"
             ]
            ],
            "type": "histogram2dcontour"
           }
          ],
          "mesh3d": [
           {
            "colorbar": {
             "outlinewidth": 0,
             "ticks": ""
            },
            "type": "mesh3d"
           }
          ],
          "parcoords": [
           {
            "line": {
             "colorbar": {
              "outlinewidth": 0,
              "ticks": ""
             }
            },
            "type": "parcoords"
           }
          ],
          "pie": [
           {
            "automargin": true,
            "type": "pie"
           }
          ],
          "scatter": [
           {
            "fillpattern": {
             "fillmode": "overlay",
             "size": 10,
             "solidity": 0.2
            },
            "type": "scatter"
           }
          ],
          "scatter3d": [
           {
            "line": {
             "colorbar": {
              "outlinewidth": 0,
              "ticks": ""
             }
            },
            "marker": {
             "colorbar": {
              "outlinewidth": 0,
              "ticks": ""
             }
            },
            "type": "scatter3d"
           }
          ],
          "scattercarpet": [
           {
            "marker": {
             "colorbar": {
              "outlinewidth": 0,
              "ticks": ""
             }
            },
            "type": "scattercarpet"
           }
          ],
          "scattergeo": [
           {
            "marker": {
             "colorbar": {
              "outlinewidth": 0,
              "ticks": ""
             }
            },
            "type": "scattergeo"
           }
          ],
          "scattergl": [
           {
            "marker": {
             "colorbar": {
              "outlinewidth": 0,
              "ticks": ""
             }
            },
            "type": "scattergl"
           }
          ],
          "scattermapbox": [
           {
            "marker": {
             "colorbar": {
              "outlinewidth": 0,
              "ticks": ""
             }
            },
            "type": "scattermapbox"
           }
          ],
          "scatterpolar": [
           {
            "marker": {
             "colorbar": {
              "outlinewidth": 0,
              "ticks": ""
             }
            },
            "type": "scatterpolar"
           }
          ],
          "scatterpolargl": [
           {
            "marker": {
             "colorbar": {
              "outlinewidth": 0,
              "ticks": ""
             }
            },
            "type": "scatterpolargl"
           }
          ],
          "scatterternary": [
           {
            "marker": {
             "colorbar": {
              "outlinewidth": 0,
              "ticks": ""
             }
            },
            "type": "scatterternary"
           }
          ],
          "surface": [
           {
            "colorbar": {
             "outlinewidth": 0,
             "ticks": ""
            },
            "colorscale": [
             [
              0,
              "#0d0887"
             ],
             [
              0.1111111111111111,
              "#46039f"
             ],
             [
              0.2222222222222222,
              "#7201a8"
             ],
             [
              0.3333333333333333,
              "#9c179e"
             ],
             [
              0.4444444444444444,
              "#bd3786"
             ],
             [
              0.5555555555555556,
              "#d8576b"
             ],
             [
              0.6666666666666666,
              "#ed7953"
             ],
             [
              0.7777777777777778,
              "#fb9f3a"
             ],
             [
              0.8888888888888888,
              "#fdca26"
             ],
             [
              1,
              "#f0f921"
             ]
            ],
            "type": "surface"
           }
          ],
          "table": [
           {
            "cells": {
             "fill": {
              "color": "#EBF0F8"
             },
             "line": {
              "color": "white"
             }
            },
            "header": {
             "fill": {
              "color": "#C8D4E3"
             },
             "line": {
              "color": "white"
             }
            },
            "type": "table"
           }
          ]
         },
         "layout": {
          "annotationdefaults": {
           "arrowcolor": "#2a3f5f",
           "arrowhead": 0,
           "arrowwidth": 1
          },
          "autotypenumbers": "strict",
          "coloraxis": {
           "colorbar": {
            "outlinewidth": 0,
            "ticks": ""
           }
          },
          "colorscale": {
           "diverging": [
            [
             0,
             "#8e0152"
            ],
            [
             0.1,
             "#c51b7d"
            ],
            [
             0.2,
             "#de77ae"
            ],
            [
             0.3,
             "#f1b6da"
            ],
            [
             0.4,
             "#fde0ef"
            ],
            [
             0.5,
             "#f7f7f7"
            ],
            [
             0.6,
             "#e6f5d0"
            ],
            [
             0.7,
             "#b8e186"
            ],
            [
             0.8,
             "#7fbc41"
            ],
            [
             0.9,
             "#4d9221"
            ],
            [
             1,
             "#276419"
            ]
           ],
           "sequential": [
            [
             0,
             "#0d0887"
            ],
            [
             0.1111111111111111,
             "#46039f"
            ],
            [
             0.2222222222222222,
             "#7201a8"
            ],
            [
             0.3333333333333333,
             "#9c179e"
            ],
            [
             0.4444444444444444,
             "#bd3786"
            ],
            [
             0.5555555555555556,
             "#d8576b"
            ],
            [
             0.6666666666666666,
             "#ed7953"
            ],
            [
             0.7777777777777778,
             "#fb9f3a"
            ],
            [
             0.8888888888888888,
             "#fdca26"
            ],
            [
             1,
             "#f0f921"
            ]
           ],
           "sequentialminus": [
            [
             0,
             "#0d0887"
            ],
            [
             0.1111111111111111,
             "#46039f"
            ],
            [
             0.2222222222222222,
             "#7201a8"
            ],
            [
             0.3333333333333333,
             "#9c179e"
            ],
            [
             0.4444444444444444,
             "#bd3786"
            ],
            [
             0.5555555555555556,
             "#d8576b"
            ],
            [
             0.6666666666666666,
             "#ed7953"
            ],
            [
             0.7777777777777778,
             "#fb9f3a"
            ],
            [
             0.8888888888888888,
             "#fdca26"
            ],
            [
             1,
             "#f0f921"
            ]
           ]
          },
          "colorway": [
           "#636efa",
           "#EF553B",
           "#00cc96",
           "#ab63fa",
           "#FFA15A",
           "#19d3f3",
           "#FF6692",
           "#B6E880",
           "#FF97FF",
           "#FECB52"
          ],
          "font": {
           "color": "#2a3f5f"
          },
          "geo": {
           "bgcolor": "white",
           "lakecolor": "white",
           "landcolor": "#E5ECF6",
           "showlakes": true,
           "showland": true,
           "subunitcolor": "white"
          },
          "hoverlabel": {
           "align": "left"
          },
          "hovermode": "closest",
          "mapbox": {
           "style": "light"
          },
          "paper_bgcolor": "white",
          "plot_bgcolor": "#E5ECF6",
          "polar": {
           "angularaxis": {
            "gridcolor": "white",
            "linecolor": "white",
            "ticks": ""
           },
           "bgcolor": "#E5ECF6",
           "radialaxis": {
            "gridcolor": "white",
            "linecolor": "white",
            "ticks": ""
           }
          },
          "scene": {
           "xaxis": {
            "backgroundcolor": "#E5ECF6",
            "gridcolor": "white",
            "gridwidth": 2,
            "linecolor": "white",
            "showbackground": true,
            "ticks": "",
            "zerolinecolor": "white"
           },
           "yaxis": {
            "backgroundcolor": "#E5ECF6",
            "gridcolor": "white",
            "gridwidth": 2,
            "linecolor": "white",
            "showbackground": true,
            "ticks": "",
            "zerolinecolor": "white"
           },
           "zaxis": {
            "backgroundcolor": "#E5ECF6",
            "gridcolor": "white",
            "gridwidth": 2,
            "linecolor": "white",
            "showbackground": true,
            "ticks": "",
            "zerolinecolor": "white"
           }
          },
          "shapedefaults": {
           "line": {
            "color": "#2a3f5f"
           }
          },
          "ternary": {
           "aaxis": {
            "gridcolor": "white",
            "linecolor": "white",
            "ticks": ""
           },
           "baxis": {
            "gridcolor": "white",
            "linecolor": "white",
            "ticks": ""
           },
           "bgcolor": "#E5ECF6",
           "caxis": {
            "gridcolor": "white",
            "linecolor": "white",
            "ticks": ""
           }
          },
          "title": {
           "x": 0.05
          },
          "xaxis": {
           "automargin": true,
           "gridcolor": "white",
           "linecolor": "white",
           "ticks": "",
           "title": {
            "standoff": 15
           },
           "zerolinecolor": "white",
           "zerolinewidth": 2
          },
          "yaxis": {
           "automargin": true,
           "gridcolor": "white",
           "linecolor": "white",
           "ticks": "",
           "title": {
            "standoff": 15
           },
           "zerolinecolor": "white",
           "zerolinewidth": 2
          }
         }
        },
        "xaxis": {
         "anchor": "y",
         "autorange": true,
         "domain": [
          0,
          1
         ],
         "range": [
          0,
          1
         ],
         "title": {
          "text": "brk"
         },
         "type": "linear"
        },
        "yaxis": {
         "anchor": "x",
         "autorange": true,
         "domain": [
          0,
          1
         ],
         "range": [
          -0.04696063776781266,
          0.8922521175884405
         ],
         "title": {
          "text": "label"
         },
         "type": "linear"
        }
       }
      },
      "image/png": "[encoded data removed]",
      "text/html": [
       "<div>                            <div id=\"286a81cc-4401-4940-b9bd-05145483096d\" class=\"plotly-graph-div\" style=\"height:525px; width:100%;\"></div>            <script type=\"text/javascript\">                require([\"plotly\"], function(Plotly) {                    window.PLOTLYENV=window.PLOTLYENV || {};                                    if (document.getElementById(\"286a81cc-4401-4940-b9bd-05145483096d\")) {                    Plotly.newPlot(                        \"286a81cc-4401-4940-b9bd-05145483096d\",                        [{\"hovertemplate\":\"brk=%{x}\\u003cbr\\u003elabel=%{y}\\u003cextra\\u003e\\u003c\\u002fextra\\u003e\",\"legendgroup\":\"\",\"line\":{\"color\":\"#636efa\",\"dash\":\"solid\"},\"marker\":{\"symbol\":\"circle\"},\"mode\":\"lines\",\"name\":\"\",\"orientation\":\"v\",\"showlegend\":false,\"x\":[0.0,0.00043975373790677326,0.0006337135614702156,0.001370332305584118,0.0017884724819119998,0.0020080321285140547,0.002976593153835709,0.004248790274991217,0.005333333333333352,0.006203473945409409,0.0069124423963133645,0.007156488549618279,0.007565011820330979,0.00800394040142833,0.008928571428571428,0.010629921259842462,0.0125,0.01272084805653714,0.016069221260815784,0.016519823788546235,0.018584936419954335,0.02019352124526721,0.020898641588296782,0.022759601706970185,0.023809523809523756,0.02792452830188675,0.03553299492385787,0.0378833433553819,0.03873744619799138,0.046585255540479535,0.05636070853462163,0.0645028759244042,0.0811775200713648,0.08942558746736268,0.10149253731343293,0.13286713286713286,0.13809523809523808,0.15886524822695053,0.16089613034623235,0.17761194029850758,0.20771513353115717,0.24786324786324757,0.26036866359446986,0.2730923694779116,0.3597560975609754,0.4422110552763815,0.47679324894514785,0.550488599348534,0.6625000000000003,0.771428571428572,1.0],\"xaxis\":\"x\",\"y\":[0.0,0.00043975373790677223,0.0006337135614702154,0.0013703323055841042,0.0017884724819120397,0.002008032128514056,0.0029765931538357463,0.0042487902749911485,0.005333333333333333,0.00620347394540943,0.0069124423963133645,0.00715648854961832,0.007565011820330969,0.008003940401428395,0.008928571428571428,0.01062992125984252,0.0125,0.012720848056537103,0.016069221260815822,0.016519823788546256,0.018584936419954352,0.020193521245267142,0.02089864158829676,0.02275960170697013,0.023809523809523808,0.027924528301886794,0.03389830508474576,0.03788334335538184,0.03873744619799139,0.046585255540479424,0.054637865311308764,0.06450287592440428,0.07993850883935434,0.08928571428571429,0.10149253731343283,0.13286713286713286,0.1380952380952381,0.15886524822695036,0.16089613034623218,0.1771995043370508,0.20610687022900764,0.24232081911262798,0.26036866359447003,0.27307692307692305,0.33527696793002915,0.43797856049004597,0.47477744807121663,0.5501618122977346,0.6267281105990783,0.7261538461538461,0.8452914798206278],\"yaxis\":\"y\",\"type\":\"scatter\"}],                        {\"template\":{\"data\":{\"histogram2dcontour\":[{\"type\":\"histogram2dcontour\",\"colorbar\":{\"outlinewidth\":0,\"ticks\":\"\"},\"colorscale\":[[0.0,\"#0d0887\"],[0.1111111111111111,\"#46039f\"],[0.2222222222222222,\"#7201a8\"],[0.3333333333333333,\"#9c179e\"],[0.4444444444444444,\"#bd3786\"],[0.5555555555555556,\"#d8576b\"],[0.6666666666666666,\"#ed7953\"],[0.7777777777777778,\"#fb9f3a\"],[0.8888888888888888,\"#fdca26\"],[1.0,\"#f0f921\"]]}],\"choropleth\":[{\"type\":\"choropleth\",\"colorbar\":{\"outlinewidth\":0,\"ticks\":\"\"}}],\"histogram2d\":[{\"type\":\"histogram2d\",\"colorbar\":{\"outlinewidth\":0,\"ticks\":\"\"},\"colorscale\":[[0.0,\"#0d0887\"],[0.1111111111111111,\"#46039f\"],[0.2222222222222222,\"#7201a8\"],[0.3333333333333333,\"#9c179e\"],[0.4444444444444444,\"#bd3786\"],[0.5555555555555556,\"#d8576b\"],[0.6666666666666666,\"#ed7953\"],[0.7777777777777778,\"#fb9f3a\"],[0.8888888888888888,\"#fdca26\"],[1.0,\"#f0f921\"]]}],\"heatmap\":[{\"type\":\"heatmap\",\"colorbar\":{\"outlinewidth\":0,\"ticks\":\"\"},\"colorscale\":[[0.0,\"#0d0887\"],[0.1111111111111111,\"#46039f\"],[0.2222222222222222,\"#7201a8\"],[0.3333333333333333,\"#9c179e\"],[0.4444444444444444,\"#bd3786\"],[0.5555555555555556,\"#d8576b\"],[0.6666666666666666,\"#ed7953\"],[0.7777777777777778,\"#fb9f3a\"],[0.8888888888888888,\"#fdca26\"],[1.0,\"#f0f921\"]]}],\"heatmapgl\":[{\"type\":\"heatmapgl\",\"colorbar\":{\"outlinewidth\":0,\"ticks\":\"\"},\"colorscale\":[[0.0,\"#0d0887\"],[0.1111111111111111,\"#46039f\"],[0.2222222222222222,\"#7201a8\"],[0.3333333333333333,\"#9c179e\"],[0.4444444444444444,\"#bd3786\"],[0.5555555555555556,\"#d8576b\"],[0.6666666666666666,\"#ed7953\"],[0.7777777777777778,\"#fb9f3a\"],[0.8888888888888888,\"#fdca26\"],[1.0,\"#f0f921\"]]}],\"contourcarpet\":[{\"type\":\"contourcarpet\",\"colorbar\":{\"outlinewidth\":0,\"ticks\":\"\"}}],\"contour\":[{\"type\":\"contour\",\"colorbar\":{\"outlinewidth\":0,\"ticks\":\"\"},\"colorscale\":[[0.0,\"#0d0887\"],[0.1111111111111111,\"#46039f\"],[0.2222222222222222,\"#7201a8\"],[0.3333333333333333,\"#9c179e\"],[0.4444444444444444,\"#bd3786\"],[0.5555555555555556,\"#d8576b\"],[0.6666666666666666,\"#ed7953\"],[0.7777777777777778,\"#fb9f3a\"],[0.8888888888888888,\"#fdca26\"],[1.0,\"#f0f921\"]]}],\"surface\":[{\"type\":\"surface\",\"colorbar\":{\"outlinewidth\":0,\"ticks\":\"\"},\"colorscale\":[[0.0,\"#0d0887\"],[0.1111111111111111,\"#46039f\"],[0.2222222222222222,\"#7201a8\"],[0.3333333333333333,\"#9c179e\"],[0.4444444444444444,\"#bd3786\"],[0.5555555555555556,\"#d8576b\"],[0.6666666666666666,\"#ed7953\"],[0.7777777777777778,\"#fb9f3a\"],[0.8888888888888888,\"#fdca26\"],[1.0,\"#f0f921\"]]}],\"mesh3d\":[{\"type\":\"mesh3d\",\"colorbar\":{\"outlinewidth\":0,\"ticks\":\"\"}}],\"scatter\":[{\"fillpattern\":{\"fillmode\":\"overlay\",\"size\":10,\"solidity\":0.2},\"type\":\"scatter\"}],\"parcoords\":[{\"type\":\"parcoords\",\"line\":{\"colorbar\":{\"outlinewidth\":0,\"ticks\":\"\"}}}],\"scatterpolargl\":[{\"type\":\"scatterpolargl\",\"marker\":{\"colorbar\":{\"outlinewidth\":0,\"ticks\":\"\"}}}],\"bar\":[{\"error_x\":{\"color\":\"#2a3f5f\"},\"error_y\":{\"color\":\"#2a3f5f\"},\"marker\":{\"line\":{\"color\":\"#E5ECF6\",\"width\":0.5},\"pattern\":{\"fillmode\":\"overlay\",\"size\":10,\"solidity\":0.2}},\"type\":\"bar\"}],\"scattergeo\":[{\"type\":\"scattergeo\",\"marker\":{\"colorbar\":{\"outlinewidth\":0,\"ticks\":\"\"}}}],\"scatterpolar\":[{\"type\":\"scatterpolar\",\"marker\":{\"colorbar\":{\"outlinewidth\":0,\"ticks\":\"\"}}}],\"histogram\":[{\"marker\":{\"pattern\":{\"fillmode\":\"overlay\",\"size\":10,\"solidity\":0.2}},\"type\":\"histogram\"}],\"scattergl\":[{\"type\":\"scattergl\",\"marker\":{\"colorbar\":{\"outlinewidth\":0,\"ticks\":\"\"}}}],\"scatter3d\":[{\"type\":\"scatter3d\",\"line\":{\"colorbar\":{\"outlinewidth\":0,\"ticks\":\"\"}},\"marker\":{\"colorbar\":{\"outlinewidth\":0,\"ticks\":\"\"}}}],\"scattermapbox\":[{\"type\":\"scattermapbox\",\"marker\":{\"colorbar\":{\"outlinewidth\":0,\"ticks\":\"\"}}}],\"scatterternary\":[{\"type\":\"scatterternary\",\"marker\":{\"colorbar\":{\"outlinewidth\":0,\"ticks\":\"\"}}}],\"scattercarpet\":[{\"type\":\"scattercarpet\",\"marker\":{\"colorbar\":{\"outlinewidth\":0,\"ticks\":\"\"}}}],\"carpet\":[{\"aaxis\":{\"endlinecolor\":\"#2a3f5f\",\"gridcolor\":\"white\",\"linecolor\":\"white\",\"minorgridcolor\":\"white\",\"startlinecolor\":\"#2a3f5f\"},\"baxis\":{\"endlinecolor\":\"#2a3f5f\",\"gridcolor\":\"white\",\"linecolor\":\"white\",\"minorgridcolor\":\"white\",\"startlinecolor\":\"#2a3f5f\"},\"type\":\"carpet\"}],\"table\":[{\"cells\":{\"fill\":{\"color\":\"#EBF0F8\"},\"line\":{\"color\":\"white\"}},\"header\":{\"fill\":{\"color\":\"#C8D4E3\"},\"line\":{\"color\":\"white\"}},\"type\":\"table\"}],\"barpolar\":[{\"marker\":{\"line\":{\"color\":\"#E5ECF6\",\"width\":0.5},\"pattern\":{\"fillmode\":\"overlay\",\"size\":10,\"solidity\":0.2}},\"type\":\"barpolar\"}],\"pie\":[{\"automargin\":true,\"type\":\"pie\"}]},\"layout\":{\"autotypenumbers\":\"strict\",\"colorway\":[\"#636efa\",\"#EF553B\",\"#00cc96\",\"#ab63fa\",\"#FFA15A\",\"#19d3f3\",\"#FF6692\",\"#B6E880\",\"#FF97FF\",\"#FECB52\"],\"font\":{\"color\":\"#2a3f5f\"},\"hovermode\":\"closest\",\"hoverlabel\":{\"align\":\"left\"},\"paper_bgcolor\":\"white\",\"plot_bgcolor\":\"#E5ECF6\",\"polar\":{\"bgcolor\":\"#E5ECF6\",\"angularaxis\":{\"gridcolor\":\"white\",\"linecolor\":\"white\",\"ticks\":\"\"},\"radialaxis\":{\"gridcolor\":\"white\",\"linecolor\":\"white\",\"ticks\":\"\"}},\"ternary\":{\"bgcolor\":\"#E5ECF6\",\"aaxis\":{\"gridcolor\":\"white\",\"linecolor\":\"white\",\"ticks\":\"\"},\"baxis\":{\"gridcolor\":\"white\",\"linecolor\":\"white\",\"ticks\":\"\"},\"caxis\":{\"gridcolor\":\"white\",\"linecolor\":\"white\",\"ticks\":\"\"}},\"coloraxis\":{\"colorbar\":{\"outlinewidth\":0,\"ticks\":\"\"}},\"colorscale\":{\"sequential\":[[0.0,\"#0d0887\"],[0.1111111111111111,\"#46039f\"],[0.2222222222222222,\"#7201a8\"],[0.3333333333333333,\"#9c179e\"],[0.4444444444444444,\"#bd3786\"],[0.5555555555555556,\"#d8576b\"],[0.6666666666666666,\"#ed7953\"],[0.7777777777777778,\"#fb9f3a\"],[0.8888888888888888,\"#fdca26\"],[1.0,\"#f0f921\"]],\"sequentialminus\":[[0.0,\"#0d0887\"],[0.1111111111111111,\"#46039f\"],[0.2222222222222222,\"#7201a8\"],[0.3333333333333333,\"#9c179e\"],[0.4444444444444444,\"#bd3786\"],[0.5555555555555556,\"#d8576b\"],[0.6666666666666666,\"#ed7953\"],[0.7777777777777778,\"#fb9f3a\"],[0.8888888888888888,\"#fdca26\"],[1.0,\"#f0f921\"]],\"diverging\":[[0,\"#8e0152\"],[0.1,\"#c51b7d\"],[0.2,\"#de77ae\"],[0.3,\"#f1b6da\"],[0.4,\"#fde0ef\"],[0.5,\"#f7f7f7\"],[0.6,\"#e6f5d0\"],[0.7,\"#b8e186\"],[0.8,\"#7fbc41\"],[0.9,\"#4d9221\"],[1,\"#276419\"]]},\"xaxis\":{\"gridcolor\":\"white\",\"linecolor\":\"white\",\"ticks\":\"\",\"title\":{\"standoff\":15},\"zerolinecolor\":\"white\",\"automargin\":true,\"zerolinewidth\":2},\"yaxis\":{\"gridcolor\":\"white\",\"linecolor\":\"white\",\"ticks\":\"\",\"title\":{\"standoff\":15},\"zerolinecolor\":\"white\",\"automargin\":true,\"zerolinewidth\":2},\"scene\":{\"xaxis\":{\"backgroundcolor\":\"#E5ECF6\",\"gridcolor\":\"white\",\"linecolor\":\"white\",\"showbackground\":true,\"ticks\":\"\",\"zerolinecolor\":\"white\",\"gridwidth\":2},\"yaxis\":{\"backgroundcolor\":\"#E5ECF6\",\"gridcolor\":\"white\",\"linecolor\":\"white\",\"showbackground\":true,\"ticks\":\"\",\"zerolinecolor\":\"white\",\"gridwidth\":2},\"zaxis\":{\"backgroundcolor\":\"#E5ECF6\",\"gridcolor\":\"white\",\"linecolor\":\"white\",\"showbackground\":true,\"ticks\":\"\",\"zerolinecolor\":\"white\",\"gridwidth\":2}},\"shapedefaults\":{\"line\":{\"color\":\"#2a3f5f\"}},\"annotationdefaults\":{\"arrowcolor\":\"#2a3f5f\",\"arrowhead\":0,\"arrowwidth\":1},\"geo\":{\"bgcolor\":\"white\",\"landcolor\":\"#E5ECF6\",\"subunitcolor\":\"white\",\"showland\":true,\"showlakes\":true,\"lakecolor\":\"white\"},\"title\":{\"x\":0.05},\"mapbox\":{\"style\":\"light\"}}},\"xaxis\":{\"anchor\":\"y\",\"domain\":[0.0,1.0],\"title\":{\"text\":\"brk\"}},\"yaxis\":{\"anchor\":\"x\",\"domain\":[0.0,1.0],\"title\":{\"text\":\"label\"}},\"legend\":{\"tracegroupgap\":0},\"margin\":{\"t\":60}},                        {\"responsive\": true}                    ).then(function(){\n",
       "                            \n",
       "var gd = document.getElementById('286a81cc-4401-4940-b9bd-05145483096d');\n",
       "var x = new MutationObserver(function (mutations, observer) {{\n",
       "        var display = window.getComputedStyle(gd).display;\n",
       "        if (!display || display === 'none') {{\n",
       "            console.log([gd, 'removed!']);\n",
       "            Plotly.purge(gd);\n",
       "            observer.disconnect();\n",
       "        }}\n",
       "}});\n",
       "\n",
       "// Listen for the removal of the full notebook cells\n",
       "var notebookContainer = gd.closest('#notebook-container');\n",
       "if (notebookContainer) {{\n",
       "    x.observe(notebookContainer, {childList: true});\n",
       "}}\n",
       "\n",
       "// Listen for the clearing of the current output cell\n",
       "var outputEl = gd.closest('.output');\n",
       "if (outputEl) {{\n",
       "    x.observe(outputEl, {childList: true});\n",
       "}}\n",
       "\n",
       "                        })                };                });            </script>        </div>"
      ]
     },
     "metadata": {},
     "output_type": "display_data"
    }
   ],
   "source": [
    "result = tmp.with_columns(\n",
    "    (pl.col(f'{pred_col}_calibration').qcut(np.linspace(0, 1, qcut_num), allow_duplicates=True, include_breaks=True)\n",
    "    ).alias(f\"{event}_cut\")\n",
    ").unnest(f\"{event}_cut\").group_by(f\"{pred_col}_calibration_bin\").agg(pl.col('label').mean() , pl.col('brk').mean())\n",
    "\n",
    "df = result.sort(['brk']).to_pandas()\n",
    "fig = px.line(df, x=\"brk\", y=\"label\")\n",
    "fig.show()"
   ]
  },
  {
   "cell_type": "code",
   "execution_count": null,
   "id": "2e4dadfa-5687-40e0-a99e-92768715910f",
   "metadata": {},
   "outputs": [],
   "source": []
  },
  {
   "cell_type": "code",
   "execution_count": 54,
   "id": "3cf0041a-eb8d-4e08-a2ee-89078482f12f",
   "metadata": {
    "tags": []
   },
   "outputs": [
    {
     "data": {
      "text/html": [
       "<div><style>\n",
       ".dataframe > thead > tr > th,\n",
       ".dataframe > tbody > tr > td {\n",
       "  text-align: right;\n",
       "  white-space: pre-wrap;\n",
       "}\n",
       "</style>\n",
       "<small>shape: (48, 3)</small><table border=\"1\" class=\"dataframe\"><thead><tr><th>stacking_prediction_onset_bin</th><th>label</th><th>brk</th></tr><tr><td>cat</td><td>f64</td><td>f64</td></tr></thead><tbody><tr><td>&quot;(0.00002187036…</td><td>0.007532</td><td>0.000025</td></tr><tr><td>&quot;(0.00012296548…</td><td>0.000336</td><td>0.00017</td></tr><tr><td>&quot;(0.00004122648…</td><td>0.003923</td><td>0.000047</td></tr><tr><td>&quot;(0.00000413906…</td><td>0.000852</td><td>0.000004</td></tr><tr><td>&quot;(0.00000504108…</td><td>0.001211</td><td>0.000005</td></tr><tr><td>&quot;(0.00000441736…</td><td>0.000919</td><td>0.000005</td></tr><tr><td>&quot;(0.00024677749…</td><td>0.000381</td><td>0.000382</td></tr><tr><td>&quot;(0.00959164694…</td><td>0.097606</td><td>0.911843</td></tr><tr><td>&quot;(0.00000194936…</td><td>0.000852</td><td>0.000004</td></tr><tr><td>&quot;(0.00001427068…</td><td>0.001295</td><td>0.000014</td></tr><tr><td>&quot;(0.00000558900…</td><td>0.001054</td><td>0.000006</td></tr><tr><td>&quot;(0.00000980806…</td><td>0.004708</td><td>0.000012</td></tr><tr><td>&hellip;</td><td>&hellip;</td><td>&hellip;</td></tr><tr><td>&quot;(0.00000670805…</td><td>0.000762</td><td>0.000007</td></tr><tr><td>&quot;(0.00000522197…</td><td>0.001255</td><td>0.000005</td></tr><tr><td>&quot;(0.00007559634…</td><td>0.001031</td><td>0.000094</td></tr><tr><td>&quot;(0.00000597266…</td><td>0.001098</td><td>0.000006</td></tr><tr><td>&quot;(0.00001951467…</td><td>0.006299</td><td>0.000022</td></tr><tr><td>&quot;(0.00006303042…</td><td>0.001816</td><td>0.000076</td></tr><tr><td>&quot;(0.00002779708…</td><td>0.006524</td><td>0.000032</td></tr><tr><td>&quot;(0.00000540271…</td><td>0.001233</td><td>0.000006</td></tr><tr><td>&quot;(0.00001441166…</td><td>0.001638</td><td>0.000015</td></tr><tr><td>&quot;(0.00001456224…</td><td>0.00278</td><td>0.000015</td></tr><tr><td>&quot;(0.00000375273…</td><td>0.000942</td><td>0.000004</td></tr><tr><td>&quot;(0.00000616293…</td><td>0.001054</td><td>0.000006</td></tr></tbody></table></div>"
      ],
      "text/plain": [
       "shape: (48, 3)\n",
       "┌───────────────────────────────────┬──────────┬──────────┐\n",
       "│ stacking_prediction_onset_bin     ┆ label    ┆ brk      │\n",
       "│ ---                               ┆ ---      ┆ ---      │\n",
       "│ cat                               ┆ f64      ┆ f64      │\n",
       "╞═══════════════════════════════════╪══════════╪══════════╡\n",
       "│ (0.00002187036497594317, 0.00002… ┆ 0.007532 ┆ 0.000025 │\n",
       "│ (0.00012296548951026097, 0.00016… ┆ 0.000336 ┆ 0.00017  │\n",
       "│ (0.00004122648405299107, 0.00004… ┆ 0.003923 ┆ 0.000047 │\n",
       "│ (0.000004139060301778429, 0.0000… ┆ 0.000852 ┆ 0.000004 │\n",
       "│ …                                 ┆ …        ┆ …        │\n",
       "│ (0.000014411667916274095, 0.0000… ┆ 0.001638 ┆ 0.000015 │\n",
       "│ (0.000014562249783767143, 0.0000… ┆ 0.00278  ┆ 0.000015 │\n",
       "│ (0.0000037527387435248967, 0.000… ┆ 0.000942 ┆ 0.000004 │\n",
       "│ (0.000006162937533068946, 0.0000… ┆ 0.001054 ┆ 0.000006 │\n",
       "└───────────────────────────────────┴──────────┴──────────┘"
      ]
     },
     "execution_count": 54,
     "metadata": {},
     "output_type": "execute_result"
    }
   ],
   "source": [
    "result"
   ]
  },
  {
   "cell_type": "code",
   "execution_count": null,
   "id": "a41ee23f-6b50-4a9c-8522-99e693ad209c",
   "metadata": {},
   "outputs": [],
   "source": []
  }
 ],
 "metadata": {
  "kernelspec": {
   "display_name": "Python 3 (ipykernel)",
   "language": "python",
   "name": "python3"
  },
  "language_info": {
   "codemirror_mode": {
    "name": "ipython",
    "version": 3
   },
   "file_extension": ".py",
   "mimetype": "text/x-python",
   "name": "python",
   "nbconvert_exporter": "python",
   "pygments_lexer": "ipython3",
   "version": "3.10.12"
  }
 },
 "nbformat": 4,
 "nbformat_minor": 5
}
