{
 "cells": [
  {
   "cell_type": "markdown",
   "id": "54cced04-2914-4704-bf4c-0ae629c2dc0c",
   "metadata": {},
   "source": [
    "# sleepの出力で後処理も行う"
   ]
  },
  {
   "cell_type": "code",
   "execution_count": 1,
   "id": "d1090652-def2-42fe-9f0e-98169659bc8e",
   "metadata": {
    "tags": []
   },
   "outputs": [],
   "source": [
    "import sys, os\n",
    "sys.path.append(os.pardir)"
   ]
  },
  {
   "cell_type": "code",
   "execution_count": 5,
   "id": "7c5def8d-22bf-4f60-883f-ac11d18362df",
   "metadata": {
    "tags": []
   },
   "outputs": [],
   "source": [
    "from pathlib import Path\n",
    "import numpy as np\n",
    "import polars as pl\n",
    "import os\n",
    "from hydra import initialize, compose\n",
    "\n",
    "with initialize(config_path=\"../run/conf\", version_base=None):\n",
    "    cfg = compose(\"cv_score\", overrides=[\"exp_name=exp013\"])"
   ]
  },
  {
   "cell_type": "code",
   "execution_count": 3,
   "id": "c7a12b52-0c50-4f4c-b894-78fd7f238207",
   "metadata": {
    "tags": []
   },
   "outputs": [],
   "source": [
    "# series の読み込み\n",
    "train_df = pl.read_parquet(Path(cfg.dir.data_dir) / \"train_series.parquet\")\n",
    "train_df = train_df.with_columns(\n",
    "            pl.col(\"timestamp\").str.to_datetime(\"%Y-%m-%dT%H:%M:%S%z\")\n",
    "        )\n",
    "event_df = pl.read_csv(Path(cfg.dir.data_dir) / \"train_events.csv\").drop_nulls()\n",
    "event_df = event_df.with_columns(\n",
    "    pl.col(\"timestamp\").str.to_datetime(\"%Y-%m-%dT%H:%M:%S%z\")\n",
    ")"
   ]
  },
  {
   "cell_type": "code",
   "execution_count": 18,
   "id": "2cf400fc-d1c9-4249-8d13-33e3c2deb491",
   "metadata": {
    "tags": []
   },
   "outputs": [],
   "source": [
    "# 予測結果の読み込み\n",
    "exp_dir = Path(os.path.join(cfg.base_dir, cfg.exp_name, \"cv\"))\n",
    "\n",
    "keys_list = []\n",
    "preds_list = []\n",
    "for fold in range(cfg.num_fold):\n",
    "    preds_list.append(np.load(exp_dir / f\"preds_fold{fold}.npy\"))\n",
    "    keys_list.append(np.load(exp_dir / f\"keys_fold{fold}.npy\"))\n",
    "preds = np.concatenate(preds_list, axis=0)\n",
    "keys = np.concatenate(keys_list, axis=0)"
   ]
  },
  {
   "cell_type": "code",
   "execution_count": 19,
   "id": "9540b1d0-3104-4f96-8358-9da91506a96c",
   "metadata": {
    "tags": []
   },
   "outputs": [],
   "source": [
    "import numpy as np\n",
    "import polars as pl\n",
    "from scipy.signal import find_peaks\n",
    "import logging\n",
    "from pathlib import Path\n",
    "\n",
    "\n",
    "def post_process_for_seg_sleep(\n",
    "    keys: list[str],\n",
    "    preds_all: np.ndarray,\n",
    "    score_th: float = 0.01,\n",
    "    distance: int = 5000,\n",
    "    periodicity_dict: dict[np.ndarray] | None = None,\n",
    ") -> pl.DataFrame:\n",
    "    \"\"\"make submission dataframe for segmentation task\n",
    "\n",
    "    Args:\n",
    "        keys (list[str]): list of keys. key is \"{series_id}_{chunk_id}\"\n",
    "        preds (np.ndarray): (num_series * num_chunks, duration, 2)\n",
    "        score_th (float, optional): threshold for score. Defaults to 0.5.\n",
    "        distance (int, optional): distance for peaks. Defaults to 5000.\n",
    "        periodicity_dict (dict[np.ndarray], optional): series_id を key に periodicity の 1d の予測結果を持つ辞書. 値は 0 or 1 の np.ndarray. Defaults to None.\n",
    "\n",
    "    Returns:\n",
    "        pl.DataFrame: submission dataframe\n",
    "    \"\"\"\n",
    "\n",
    "    preds = preds_all[:,:,[1,2]]\n",
    "    \n",
    "    series_ids = np.array(list(map(lambda x: x.split(\"_\")[0], keys)))\n",
    "    unique_series_ids = np.unique(series_ids)\n",
    "\n",
    "    records = []\n",
    "    for series_id in unique_series_ids:\n",
    "        series_idx = np.where(series_ids == series_id)[0]\n",
    "        this_series_preds = preds[series_idx].reshape(-1, 2)\n",
    "        if periodicity_dict is not None:\n",
    "            this_series_preds = this_series_preds[: len(periodicity_dict[series_id]), :]\n",
    "            this_series_preds *= 1 - periodicity_dict[series_id][:, None]  # periodicity があるところは0にする\n",
    "        \n",
    "        this_series_preds *= 1 - preds_all[series_idx][:, :, 0].reshape(-1, 1) # sleep をかけて減衰\n",
    "\n",
    "        for i, event_name in enumerate([\"onset\", \"wakeup\"]):\n",
    "            this_event_preds = this_series_preds[:, i]\n",
    "            steps = find_peaks(this_event_preds, height=score_th, distance=distance)[0]\n",
    "            scores = this_event_preds[steps]\n",
    "\n",
    "            for step, score in zip(steps, scores):\n",
    "                records.append(\n",
    "                    {\n",
    "                        \"series_id\": series_id,\n",
    "                        \"step\": step,\n",
    "                        \"event\": event_name,\n",
    "                        \"score\": score,\n",
    "                    }\n",
    "                )\n",
    "\n",
    "    if len(records) == 0:  # 一つも予測がない場合はdummyを入れる\n",
    "        records.append(\n",
    "            {\n",
    "                \"series_id\": series_id,\n",
    "                \"step\": 0,\n",
    "                \"event\": \"onset\",\n",
    "                \"score\": 0,\n",
    "            }\n",
    "        )\n",
    "\n",
    "    sub_df = pl.DataFrame(records).sort(by=[\"series_id\", \"step\"])\n",
    "    row_ids = pl.Series(name=\"row_id\", values=np.arange(len(sub_df)))\n",
    "    sub_df = sub_df.with_columns(row_ids).select([\"row_id\", \"series_id\", \"step\", \"event\", \"score\"])\n",
    "    return sub_df\n"
   ]
  },
  {
   "cell_type": "code",
   "execution_count": 20,
   "id": "193445aa-798c-4992-9ff9-6975f9a77c3f",
   "metadata": {
    "tags": []
   },
   "outputs": [
    {
     "data": {
      "text/plain": [
       "0.0019577547290630347"
      ]
     },
     "execution_count": 20,
     "metadata": {},
     "output_type": "execute_result"
    }
   ],
   "source": [
    "from src.utils.metrics import event_detection_ap\n",
    "from src.utils.post_process import post_process_for_seg\n",
    "\n",
    "submission_df = post_process_for_seg(\n",
    "    keys,\n",
    "    preds,\n",
    "    score_th=cfg.post_process.score_th,\n",
    "    distance=cfg.post_process.distance,\n",
    "    periodicity_dict=None,\n",
    ")\n",
    "score = event_detection_ap(\n",
    "    event_df.to_pandas(),\n",
    "    submission_df.to_pandas(),\n",
    ")\n",
    "score"
   ]
  },
  {
   "cell_type": "code",
   "execution_count": 15,
   "id": "f864d770-b3a9-429a-b621-4fbac08e2a3a",
   "metadata": {
    "tags": []
   },
   "outputs": [
    {
     "data": {
      "text/plain": [
       "0.6853890686877171"
      ]
     },
     "execution_count": 15,
     "metadata": {},
     "output_type": "execute_result"
    }
   ],
   "source": [
    "from src.utils.metrics import event_detection_ap\n",
    "\n",
    "submission_df = post_process_for_seg_sleep(\n",
    "    keys,\n",
    "    preds,\n",
    "    score_th=cfg.post_process.score_th,\n",
    "    distance=cfg.post_process.distance,\n",
    "    periodicity_dict=None,\n",
    ")\n",
    "score = event_detection_ap(\n",
    "    event_df.to_pandas(),\n",
    "    submission_df.to_pandas(),\n",
    ")\n",
    "score"
   ]
  },
  {
   "cell_type": "code",
   "execution_count": null,
   "id": "de357bd2-9b84-4513-abc0-78635a954fb6",
   "metadata": {},
   "outputs": [],
   "source": []
  },
  {
   "cell_type": "code",
   "execution_count": null,
   "id": "4ad51458-a5f0-4890-9254-b0c511ac2c4b",
   "metadata": {},
   "outputs": [],
   "source": []
  }
 ],
 "metadata": {
  "kernelspec": {
   "display_name": "Python 3 (ipykernel)",
   "language": "python",
   "name": "python3"
  },
  "language_info": {
   "codemirror_mode": {
    "name": "ipython",
    "version": 3
   },
   "file_extension": ".py",
   "mimetype": "text/x-python",
   "name": "python",
   "nbconvert_exporter": "python",
   "pygments_lexer": "ipython3",
   "version": "3.10.12"
  }
 },
 "nbformat": 4,
 "nbformat_minor": 5
}
