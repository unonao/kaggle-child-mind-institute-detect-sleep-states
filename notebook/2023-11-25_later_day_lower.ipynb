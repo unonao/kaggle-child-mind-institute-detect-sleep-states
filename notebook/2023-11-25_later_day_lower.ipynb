{
 "cells": [
  {
   "cell_type": "markdown",
   "id": "ca7b6f25-d237-40f8-b227-120926eaf0d2",
   "metadata": {
    "tags": []
   },
   "source": [
    "## 後半にアノテーションミスがあるケースを考慮した後処理"
   ]
  },
  {
   "cell_type": "code",
   "execution_count": 1,
   "id": "31a025f1-ffcc-4d65-a76f-17be0f63b697",
   "metadata": {
    "tags": []
   },
   "outputs": [],
   "source": [
    "import sys, os\n",
    "sys.path.append(os.pardir)"
   ]
  },
  {
   "cell_type": "code",
   "execution_count": 13,
   "id": "42b47aca-7d35-4e3b-9753-3d4d3b02fbb4",
   "metadata": {
    "tags": []
   },
   "outputs": [],
   "source": [
    "from pathlib import Path\n",
    "import numpy as np\n",
    "import polars as pl\n",
    "import os\n",
    "from hydra import initialize, compose\n",
    "from tqdm.auto import tqdm\n",
    "with initialize(config_path=\"../run/conf\", version_base=None):\n",
    "    cfg = compose(\"cv_train\", overrides=[\"exp_name=exp054_zero_periodicity\"])"
   ]
  },
  {
   "cell_type": "code",
   "execution_count": 4,
   "id": "a0a17ab7-02e0-4b22-9837-43e806fad631",
   "metadata": {
    "tags": []
   },
   "outputs": [
    {
     "name": "stderr",
     "output_type": "stream",
     "text": [
      "/opt/conda/lib/python3.10/site-packages/scipy/__init__.py:146: UserWarning: A NumPy version >=1.16.5 and <1.23.0 is required for this version of SciPy (detected version 1.23.5\n",
      "  warnings.warn(f\"A NumPy version >={np_minversion} and <{np_maxversion}\"\n"
     ]
    }
   ],
   "source": [
    "from src.utils.metrics import event_detection_ap\n",
    "from src.utils.periodicity import get_periodicity_dict\n",
    "from src.utils.common import trace\n",
    "periodicity_dict = get_periodicity_dict(cfg)"
   ]
  },
  {
   "cell_type": "code",
   "execution_count": 5,
   "id": "1cfd2c59-4f91-47c3-b854-b2668a5af21c",
   "metadata": {
    "tags": []
   },
   "outputs": [],
   "source": [
    "train_df = pl.read_parquet(Path(cfg.dir.data_dir) / \"train_series.parquet\")\n",
    "train_df = train_df.with_columns(\n",
    "            pl.col(\"timestamp\").str.to_datetime(\"%Y-%m-%dT%H:%M:%S%z\")\n",
    "        )"
   ]
  },
  {
   "cell_type": "code",
   "execution_count": 6,
   "id": "ca94e6dc-2d67-4f8c-b34a-dd3f3755422a",
   "metadata": {
    "tags": []
   },
   "outputs": [],
   "source": [
    "event_df = pl.read_csv(Path(cfg.dir.data_dir) / \"train_events.csv\").drop_nulls()\n",
    "event_df = event_df.with_columns(\n",
    "    pl.col(\"timestamp\").str.to_datetime(\"%Y-%m-%dT%H:%M:%S%z\")\n",
    ")"
   ]
  },
  {
   "cell_type": "code",
   "execution_count": 7,
   "id": "becbd47f-9589-4a01-899a-c7e3b4c5d16e",
   "metadata": {
    "tags": []
   },
   "outputs": [
    {
     "data": {
      "text/html": [
       "<div><style>\n",
       ".dataframe > thead > tr > th,\n",
       ".dataframe > tbody > tr > td {\n",
       "  text-align: right;\n",
       "  white-space: pre-wrap;\n",
       "}\n",
       "</style>\n",
       "<small>shape: (9, 4)</small><table border=\"1\" class=\"dataframe\"><thead><tr><th>describe</th><th>row_id</th><th>prediction_onset</th><th>prediction_wakeup</th></tr><tr><td>str</td><td>f64</td><td>f64</td><td>f64</td></tr></thead><tbody><tr><td>&quot;count&quot;</td><td>1.2794634e8</td><td>1.2794634e8</td><td>1.2794634e8</td></tr><tr><td>&quot;null_count&quot;</td><td>0.0</td><td>0.0</td><td>0.0</td></tr><tr><td>&quot;mean&quot;</td><td>6.3973e7</td><td>0.001201</td><td>0.001185</td></tr><tr><td>&quot;std&quot;</td><td>3.6935e7</td><td>0.017525</td><td>0.017998</td></tr><tr><td>&quot;min&quot;</td><td>0.0</td><td>7.0448e-22</td><td>1.9820e-18</td></tr><tr><td>&quot;25%&quot;</td><td>3.1986585e7</td><td>4.2278e-11</td><td>1.0695e-8</td></tr><tr><td>&quot;50%&quot;</td><td>6.397317e7</td><td>1.0348e-7</td><td>2.5653e-7</td></tr><tr><td>&quot;75%&quot;</td><td>9.5959755e7</td><td>0.000009</td><td>0.000004</td></tr><tr><td>&quot;max&quot;</td><td>1.27946339e8</td><td>0.740916</td><td>0.765315</td></tr></tbody></table></div>"
      ],
      "text/plain": [
       "shape: (9, 4)\n",
       "┌────────────┬──────────────┬──────────────────┬───────────────────┐\n",
       "│ describe   ┆ row_id       ┆ prediction_onset ┆ prediction_wakeup │\n",
       "│ ---        ┆ ---          ┆ ---              ┆ ---               │\n",
       "│ str        ┆ f64          ┆ f64              ┆ f64               │\n",
       "╞════════════╪══════════════╪══════════════════╪═══════════════════╡\n",
       "│ count      ┆ 1.2794634e8  ┆ 1.2794634e8      ┆ 1.2794634e8       │\n",
       "│ null_count ┆ 0.0          ┆ 0.0              ┆ 0.0               │\n",
       "│ mean       ┆ 6.3973e7     ┆ 0.001201         ┆ 0.001185          │\n",
       "│ std        ┆ 3.6935e7     ┆ 0.017525         ┆ 0.017998          │\n",
       "│ min        ┆ 0.0          ┆ 7.0448e-22       ┆ 1.9820e-18        │\n",
       "│ 25%        ┆ 3.1986585e7  ┆ 4.2278e-11       ┆ 1.0695e-8         │\n",
       "│ 50%        ┆ 6.397317e7   ┆ 1.0348e-7        ┆ 2.5653e-7         │\n",
       "│ 75%        ┆ 9.5959755e7  ┆ 0.000009         ┆ 0.000004          │\n",
       "│ max        ┆ 1.27946339e8 ┆ 0.740916         ┆ 0.765315          │\n",
       "└────────────┴──────────────┴──────────────────┴───────────────────┘"
      ]
     },
     "execution_count": 7,
     "metadata": {},
     "output_type": "execute_result"
    }
   ],
   "source": [
    "## pred1\n",
    "pred1_df = pl.read_parquet(\"valid_preds.parquet\")\n",
    "pred1_df.describe()"
   ]
  },
  {
   "cell_type": "code",
   "execution_count": 8,
   "id": "155e6512-5ecb-4a6f-a8ac-74e1cb09d1b7",
   "metadata": {
    "tags": []
   },
   "outputs": [
    {
     "data": {
      "text/html": [
       "<div><style>\n",
       ".dataframe > thead > tr > th,\n",
       ".dataframe > tbody > tr > td {\n",
       "  text-align: right;\n",
       "  white-space: pre-wrap;\n",
       "}\n",
       "</style>\n",
       "<small>shape: (5, 8)</small><table border=\"1\" class=\"dataframe\"><thead><tr><th>series_id</th><th>step</th><th>timestamp</th><th>anglez</th><th>enmo</th><th>row_id</th><th>prediction_onset</th><th>prediction_wakeup</th></tr><tr><td>str</td><td>u32</td><td>datetime[μs, UTC]</td><td>f32</td><td>f32</td><td>i64</td><td>f32</td><td>f32</td></tr></thead><tbody><tr><td>&quot;038441c925bb&quot;</td><td>0</td><td>2018-08-14 19:30:00 UTC</td><td>2.6367</td><td>0.0217</td><td>0</td><td>0.000003</td><td>0.001149</td></tr><tr><td>&quot;038441c925bb&quot;</td><td>1</td><td>2018-08-14 19:30:05 UTC</td><td>2.6368</td><td>0.0215</td><td>1</td><td>0.000004</td><td>0.001166</td></tr><tr><td>&quot;038441c925bb&quot;</td><td>2</td><td>2018-08-14 19:30:10 UTC</td><td>2.637</td><td>0.0216</td><td>2</td><td>6.6307e-7</td><td>0.000871</td></tr><tr><td>&quot;038441c925bb&quot;</td><td>3</td><td>2018-08-14 19:30:15 UTC</td><td>2.6368</td><td>0.0213</td><td>3</td><td>0.000002</td><td>0.001289</td></tr><tr><td>&quot;038441c925bb&quot;</td><td>4</td><td>2018-08-14 19:30:20 UTC</td><td>2.6368</td><td>0.0215</td><td>4</td><td>1.9404e-7</td><td>0.001127</td></tr></tbody></table></div>"
      ],
      "text/plain": [
       "shape: (5, 8)\n",
       "┌──────────────┬──────┬────────────────┬────────┬────────┬────────┬────────────────┬───────────────┐\n",
       "│ series_id    ┆ step ┆ timestamp      ┆ anglez ┆ enmo   ┆ row_id ┆ prediction_ons ┆ prediction_wa │\n",
       "│ ---          ┆ ---  ┆ ---            ┆ ---    ┆ ---    ┆ ---    ┆ et             ┆ keup          │\n",
       "│ str          ┆ u32  ┆ datetime[μs,   ┆ f32    ┆ f32    ┆ i64    ┆ ---            ┆ ---           │\n",
       "│              ┆      ┆ UTC]           ┆        ┆        ┆        ┆ f32            ┆ f32           │\n",
       "╞══════════════╪══════╪════════════════╪════════╪════════╪════════╪════════════════╪═══════════════╡\n",
       "│ 038441c925bb ┆ 0    ┆ 2018-08-14     ┆ 2.6367 ┆ 0.0217 ┆ 0      ┆ 0.000003       ┆ 0.001149      │\n",
       "│              ┆      ┆ 19:30:00 UTC   ┆        ┆        ┆        ┆                ┆               │\n",
       "│ 038441c925bb ┆ 1    ┆ 2018-08-14     ┆ 2.6368 ┆ 0.0215 ┆ 1      ┆ 0.000004       ┆ 0.001166      │\n",
       "│              ┆      ┆ 19:30:05 UTC   ┆        ┆        ┆        ┆                ┆               │\n",
       "│ 038441c925bb ┆ 2    ┆ 2018-08-14     ┆ 2.637  ┆ 0.0216 ┆ 2      ┆ 6.6307e-7      ┆ 0.000871      │\n",
       "│              ┆      ┆ 19:30:10 UTC   ┆        ┆        ┆        ┆                ┆               │\n",
       "│ 038441c925bb ┆ 3    ┆ 2018-08-14     ┆ 2.6368 ┆ 0.0213 ┆ 3      ┆ 0.000002       ┆ 0.001289      │\n",
       "│              ┆      ┆ 19:30:15 UTC   ┆        ┆        ┆        ┆                ┆               │\n",
       "│ 038441c925bb ┆ 4    ┆ 2018-08-14     ┆ 2.6368 ┆ 0.0215 ┆ 4      ┆ 1.9404e-7      ┆ 0.001127      │\n",
       "│              ┆      ┆ 19:30:20 UTC   ┆        ┆        ┆        ┆                ┆               │\n",
       "└──────────────┴──────┴────────────────┴────────┴────────┴────────┴────────────────┴───────────────┘"
      ]
     },
     "execution_count": 8,
     "metadata": {},
     "output_type": "execute_result"
    }
   ],
   "source": [
    "# 結合\n",
    "pred_all_df = pl.concat([train_df, pred1_df], how=\"horizontal\")\n",
    "pred_all_df.head()"
   ]
  },
  {
   "cell_type": "code",
   "execution_count": 25,
   "id": "0f1892d7-13f6-429c-829c-063b1d53d3c2",
   "metadata": {
    "tags": []
   },
   "outputs": [],
   "source": [
    "from scipy.signal import find_peaks\n",
    "\n",
    "def make_submission(\n",
    "    preds_df: pl.DataFrame,\n",
    "    periodicity_dict: dict[str, np.ndarray],\n",
    "    height: float = 0.001,\n",
    "    distance: int = 100,\n",
    "    daily_score_offset: float = 1.0,\n",
    "    prefix:str =\"prediction\"\n",
    ") -> pl.DataFrame:\n",
    "\n",
    "    event_dfs = []\n",
    "\n",
    "    for series_id, series_df in tqdm(preds_df.group_by(\"series_id\"), desc=\"find peaks\", leave=False, total=len(preds_df[\"series_id\"].unique())):\n",
    "        for event in [\"onset\", \"wakeup\"]:\n",
    "            event_preds = series_df[f\"{prefix}_{event}\"].to_numpy().copy()\n",
    "            event_preds *= 1 - periodicity_dict[series_id][: len(event_preds)]\n",
    "            steps = find_peaks(event_preds, height=height, distance=distance)[0]\n",
    "            event_dfs.append(\n",
    "                series_df.filter(pl.col(\"step\").is_in(steps))\n",
    "                .with_columns(pl.lit(event).alias(\"event\"))\n",
    "                .rename({f\"{prefix}_{event}\": \"score\"})\n",
    "                .select([\"series_id\", \"step\", \"timestamp\", \"event\", \"score\"])\n",
    "            )\n",
    "    submission_df = (\n",
    "        pl.concat(event_dfs)\n",
    "        .with_columns(pl.col(\"timestamp\").dt.offset_by(\"2h\").dt.date().alias(\"date\"))\n",
    "        .with_columns(\n",
    "            pl.col(\"score\") / (pl.col(\"score\").sum().over([\"series_id\", \"event\", \"date\"]) + daily_score_offset)\n",
    "        )\n",
    "        .sort([\"series_id\", \"step\"])\n",
    "        .with_columns(pl.arange(0, pl.count()).alias(\"row_id\"))\n",
    "        .select([\"row_id\", \"series_id\", \"step\", \"event\", \"score\"])\n",
    "    )\n",
    "    return submission_df"
   ]
  },
  {
   "cell_type": "code",
   "execution_count": 16,
   "id": "aea9a125-1b20-40cc-a906-9c31669a49c0",
   "metadata": {
    "tags": []
   },
   "outputs": [
    {
     "data": {
      "application/vnd.jupyter.widget-view+json": {
       "model_id": "",
       "version_major": 2,
       "version_minor": 0
      },
      "text/plain": [
       "Matching detections to ground truth events:   0%|          | 0/538 [00:00<?, ?it/s]"
      ]
     },
     "metadata": {},
     "output_type": "display_data"
    },
    {
     "data": {
      "text/plain": [
       "0.8031793680267056"
      ]
     },
     "execution_count": 16,
     "metadata": {},
     "output_type": "execute_result"
    }
   ],
   "source": [
    "with trace('make submission'):\n",
    "    sub_df1 = make_submission(\n",
    "        pred_all_df,\n",
    "        periodicity_dict= periodicity_dict,\n",
    "        height = 0.001,\n",
    "        distance = 107,\n",
    "        daily_score_offset = 1.0,\n",
    "    ) \n",
    "score = event_detection_ap(\n",
    "    event_df.to_pandas(),\n",
    "    sub_df1.to_pandas(),\n",
    ")\n",
    "score"
   ]
  },
  {
   "cell_type": "code",
   "execution_count": 33,
   "id": "163c7fd7-5281-40be-987a-f67921479701",
   "metadata": {
    "tags": []
   },
   "outputs": [
    {
     "name": "stdout",
     "output_type": "stream",
     "text": [
      "-5\n"
     ]
    },
    {
     "data": {
      "application/vnd.jupyter.widget-view+json": {
       "model_id": "",
       "version_major": 2,
       "version_minor": 0
      },
      "text/plain": [
       "find peaks:   0%|          | 0/277 [00:00<?, ?it/s]"
      ]
     },
     "metadata": {},
     "output_type": "display_data"
    },
    {
     "name": "stderr",
     "output_type": "stream",
     "text": [
      "[9.5GB(+0.5GB):12.1sec] make submission \n"
     ]
    },
    {
     "data": {
      "application/vnd.jupyter.widget-view+json": {
       "model_id": "",
       "version_major": 2,
       "version_minor": 0
      },
      "text/plain": [
       "Matching detections to ground truth events:   0%|          | 0/538 [00:00<?, ?it/s]"
      ]
     },
     "metadata": {},
     "output_type": "display_data"
    },
    {
     "name": "stdout",
     "output_type": "stream",
     "text": [
      "0.801138574549938\n",
      "-4\n"
     ]
    },
    {
     "data": {
      "application/vnd.jupyter.widget-view+json": {
       "model_id": "",
       "version_major": 2,
       "version_minor": 0
      },
      "text/plain": [
       "find peaks:   0%|          | 0/277 [00:00<?, ?it/s]"
      ]
     },
     "metadata": {},
     "output_type": "display_data"
    },
    {
     "name": "stderr",
     "output_type": "stream",
     "text": [
      "[9.5GB(+0.5GB):11.6sec] make submission \n"
     ]
    },
    {
     "data": {
      "application/vnd.jupyter.widget-view+json": {
       "model_id": "",
       "version_major": 2,
       "version_minor": 0
      },
      "text/plain": [
       "Matching detections to ground truth events:   0%|          | 0/538 [00:00<?, ?it/s]"
      ]
     },
     "metadata": {},
     "output_type": "display_data"
    },
    {
     "name": "stdout",
     "output_type": "stream",
     "text": [
      "0.802156173353346\n",
      "-3\n"
     ]
    },
    {
     "data": {
      "application/vnd.jupyter.widget-view+json": {
       "model_id": "",
       "version_major": 2,
       "version_minor": 0
      },
      "text/plain": [
       "find peaks:   0%|          | 0/277 [00:00<?, ?it/s]"
      ]
     },
     "metadata": {},
     "output_type": "display_data"
    },
    {
     "name": "stderr",
     "output_type": "stream",
     "text": [
      "[9.5GB(+0.5GB):11.5sec] make submission \n"
     ]
    },
    {
     "data": {
      "application/vnd.jupyter.widget-view+json": {
       "model_id": "",
       "version_major": 2,
       "version_minor": 0
      },
      "text/plain": [
       "Matching detections to ground truth events:   0%|          | 0/538 [00:00<?, ?it/s]"
      ]
     },
     "metadata": {},
     "output_type": "display_data"
    },
    {
     "name": "stdout",
     "output_type": "stream",
     "text": [
      "0.798230255024615\n",
      "-2\n"
     ]
    },
    {
     "data": {
      "application/vnd.jupyter.widget-view+json": {
       "model_id": "",
       "version_major": 2,
       "version_minor": 0
      },
      "text/plain": [
       "find peaks:   0%|          | 0/277 [00:00<?, ?it/s]"
      ]
     },
     "metadata": {},
     "output_type": "display_data"
    },
    {
     "name": "stderr",
     "output_type": "stream",
     "text": [
      "[9.5GB(+0.5GB):11.8sec] make submission \n"
     ]
    },
    {
     "data": {
      "application/vnd.jupyter.widget-view+json": {
       "model_id": "",
       "version_major": 2,
       "version_minor": 0
      },
      "text/plain": [
       "Matching detections to ground truth events:   0%|          | 0/538 [00:00<?, ?it/s]"
      ]
     },
     "metadata": {},
     "output_type": "display_data"
    },
    {
     "name": "stdout",
     "output_type": "stream",
     "text": [
      "0.7990172158116352\n",
      "-1\n"
     ]
    },
    {
     "data": {
      "application/vnd.jupyter.widget-view+json": {
       "model_id": "",
       "version_major": 2,
       "version_minor": 0
      },
      "text/plain": [
       "find peaks:   0%|          | 0/277 [00:00<?, ?it/s]"
      ]
     },
     "metadata": {},
     "output_type": "display_data"
    },
    {
     "name": "stderr",
     "output_type": "stream",
     "text": [
      "[9.5GB(+0.5GB):11.7sec] make submission \n"
     ]
    },
    {
     "data": {
      "application/vnd.jupyter.widget-view+json": {
       "model_id": "",
       "version_major": 2,
       "version_minor": 0
      },
      "text/plain": [
       "Matching detections to ground truth events:   0%|          | 0/538 [00:00<?, ?it/s]"
      ]
     },
     "metadata": {},
     "output_type": "display_data"
    },
    {
     "name": "stdout",
     "output_type": "stream",
     "text": [
      "0.8005801991963586\n",
      "0\n"
     ]
    },
    {
     "data": {
      "application/vnd.jupyter.widget-view+json": {
       "model_id": "",
       "version_major": 2,
       "version_minor": 0
      },
      "text/plain": [
       "find peaks:   0%|          | 0/277 [00:00<?, ?it/s]"
      ]
     },
     "metadata": {},
     "output_type": "display_data"
    },
    {
     "name": "stderr",
     "output_type": "stream",
     "text": [
      "[9.5GB(+0.5GB):11.7sec] make submission \n"
     ]
    },
    {
     "data": {
      "application/vnd.jupyter.widget-view+json": {
       "model_id": "",
       "version_major": 2,
       "version_minor": 0
      },
      "text/plain": [
       "Matching detections to ground truth events:   0%|          | 0/538 [00:00<?, ?it/s]"
      ]
     },
     "metadata": {},
     "output_type": "display_data"
    },
    {
     "name": "stdout",
     "output_type": "stream",
     "text": [
      "0.8024222952712678\n",
      "1\n"
     ]
    },
    {
     "data": {
      "application/vnd.jupyter.widget-view+json": {
       "model_id": "",
       "version_major": 2,
       "version_minor": 0
      },
      "text/plain": [
       "find peaks:   0%|          | 0/277 [00:00<?, ?it/s]"
      ]
     },
     "metadata": {},
     "output_type": "display_data"
    },
    {
     "name": "stderr",
     "output_type": "stream",
     "text": [
      "[9.5GB(+0.4GB):11.7sec] make submission \n"
     ]
    },
    {
     "data": {
      "application/vnd.jupyter.widget-view+json": {
       "model_id": "",
       "version_major": 2,
       "version_minor": 0
      },
      "text/plain": [
       "Matching detections to ground truth events:   0%|          | 0/538 [00:00<?, ?it/s]"
      ]
     },
     "metadata": {},
     "output_type": "display_data"
    },
    {
     "name": "stdout",
     "output_type": "stream",
     "text": [
      "0.8030249691675242\n",
      "2\n"
     ]
    },
    {
     "data": {
      "application/vnd.jupyter.widget-view+json": {
       "model_id": "",
       "version_major": 2,
       "version_minor": 0
      },
      "text/plain": [
       "find peaks:   0%|          | 0/277 [00:00<?, ?it/s]"
      ]
     },
     "metadata": {},
     "output_type": "display_data"
    },
    {
     "name": "stderr",
     "output_type": "stream",
     "text": [
      "[9.5GB(+0.5GB):11.8sec] make submission \n"
     ]
    },
    {
     "data": {
      "application/vnd.jupyter.widget-view+json": {
       "model_id": "",
       "version_major": 2,
       "version_minor": 0
      },
      "text/plain": [
       "Matching detections to ground truth events:   0%|          | 0/538 [00:00<?, ?it/s]"
      ]
     },
     "metadata": {},
     "output_type": "display_data"
    },
    {
     "name": "stdout",
     "output_type": "stream",
     "text": [
      "0.8031793680267056\n",
      "3\n"
     ]
    },
    {
     "data": {
      "application/vnd.jupyter.widget-view+json": {
       "model_id": "",
       "version_major": 2,
       "version_minor": 0
      },
      "text/plain": [
       "find peaks:   0%|          | 0/277 [00:00<?, ?it/s]"
      ]
     },
     "metadata": {},
     "output_type": "display_data"
    },
    {
     "name": "stderr",
     "output_type": "stream",
     "text": [
      "[9.5GB(+0.5GB):12.9sec] make submission \n"
     ]
    },
    {
     "data": {
      "application/vnd.jupyter.widget-view+json": {
       "model_id": "",
       "version_major": 2,
       "version_minor": 0
      },
      "text/plain": [
       "Matching detections to ground truth events:   0%|          | 0/538 [00:00<?, ?it/s]"
      ]
     },
     "metadata": {},
     "output_type": "display_data"
    },
    {
     "name": "stdout",
     "output_type": "stream",
     "text": [
      "0.8031269658553184\n",
      "4\n"
     ]
    },
    {
     "data": {
      "application/vnd.jupyter.widget-view+json": {
       "model_id": "",
       "version_major": 2,
       "version_minor": 0
      },
      "text/plain": [
       "find peaks:   0%|          | 0/277 [00:00<?, ?it/s]"
      ]
     },
     "metadata": {},
     "output_type": "display_data"
    },
    {
     "name": "stderr",
     "output_type": "stream",
     "text": [
      "[9.5GB(+0.5GB):11.9sec] make submission \n"
     ]
    },
    {
     "data": {
      "application/vnd.jupyter.widget-view+json": {
       "model_id": "",
       "version_major": 2,
       "version_minor": 0
      },
      "text/plain": [
       "Matching detections to ground truth events:   0%|          | 0/538 [00:00<?, ?it/s]"
      ]
     },
     "metadata": {},
     "output_type": "display_data"
    },
    {
     "name": "stdout",
     "output_type": "stream",
     "text": [
      "0.8031373386457663\n",
      "5\n"
     ]
    },
    {
     "data": {
      "application/vnd.jupyter.widget-view+json": {
       "model_id": "",
       "version_major": 2,
       "version_minor": 0
      },
      "text/plain": [
       "find peaks:   0%|          | 0/277 [00:00<?, ?it/s]"
      ]
     },
     "metadata": {},
     "output_type": "display_data"
    },
    {
     "name": "stderr",
     "output_type": "stream",
     "text": [
      "[9.5GB(+0.5GB):11.5sec] make submission \n"
     ]
    },
    {
     "data": {
      "application/vnd.jupyter.widget-view+json": {
       "model_id": "",
       "version_major": 2,
       "version_minor": 0
      },
      "text/plain": [
       "Matching detections to ground truth events:   0%|          | 0/538 [00:00<?, ?it/s]"
      ]
     },
     "metadata": {},
     "output_type": "display_data"
    },
    {
     "name": "stdout",
     "output_type": "stream",
     "text": [
      "0.8031147920261006\n"
     ]
    }
   ],
   "source": [
    "for offset in range(-5, 6, 1):\n",
    "    print(offset)\n",
    "    with trace('make submission'):\n",
    "        sub_df1 = make_submission(\n",
    "            pred_all_df,\n",
    "            periodicity_dict= periodicity_dict,\n",
    "            height = 0.001,\n",
    "            distance = 107,\n",
    "            daily_score_offset = 1.0,\n",
    "            offset_by=f\"{offset}h\"\n",
    "        ) \n",
    "    score = event_detection_ap(\n",
    "        event_df.to_pandas(),\n",
    "        sub_df1.to_pandas(),\n",
    "    )\n",
    "    print(score)"
   ]
  },
  {
   "cell_type": "code",
   "execution_count": 30,
   "id": "f3b80064-bafa-42a7-8089-0bb3d181de6c",
   "metadata": {
    "tags": []
   },
   "outputs": [
    {
     "name": "stdout",
     "output_type": "stream",
     "text": [
      "0\n"
     ]
    },
    {
     "data": {
      "application/vnd.jupyter.widget-view+json": {
       "model_id": "",
       "version_major": 2,
       "version_minor": 0
      },
      "text/plain": [
       "find peaks:   0%|          | 0/277 [00:00<?, ?it/s]"
      ]
     },
     "metadata": {},
     "output_type": "display_data"
    },
    {
     "name": "stderr",
     "output_type": "stream",
     "text": [
      "[9.5GB(+0.4GB):11.8sec] make submission \n"
     ]
    },
    {
     "data": {
      "application/vnd.jupyter.widget-view+json": {
       "model_id": "",
       "version_major": 2,
       "version_minor": 0
      },
      "text/plain": [
       "Matching detections to ground truth events:   0%|          | 0/538 [00:00<?, ?it/s]"
      ]
     },
     "metadata": {},
     "output_type": "display_data"
    },
    {
     "name": "stdout",
     "output_type": "stream",
     "text": [
      "0.8024222952712678\n",
      "4\n"
     ]
    },
    {
     "data": {
      "application/vnd.jupyter.widget-view+json": {
       "model_id": "",
       "version_major": 2,
       "version_minor": 0
      },
      "text/plain": [
       "find peaks:   0%|          | 0/277 [00:00<?, ?it/s]"
      ]
     },
     "metadata": {},
     "output_type": "display_data"
    },
    {
     "name": "stderr",
     "output_type": "stream",
     "text": [
      "[9.5GB(+0.5GB):11.9sec] make submission \n"
     ]
    },
    {
     "data": {
      "application/vnd.jupyter.widget-view+json": {
       "model_id": "",
       "version_major": 2,
       "version_minor": 0
      },
      "text/plain": [
       "Matching detections to ground truth events:   0%|          | 0/538 [00:00<?, ?it/s]"
      ]
     },
     "metadata": {},
     "output_type": "display_data"
    },
    {
     "name": "stdout",
     "output_type": "stream",
     "text": [
      "0.8031373386457663\n",
      "8\n"
     ]
    },
    {
     "data": {
      "application/vnd.jupyter.widget-view+json": {
       "model_id": "",
       "version_major": 2,
       "version_minor": 0
      },
      "text/plain": [
       "find peaks:   0%|          | 0/277 [00:00<?, ?it/s]"
      ]
     },
     "metadata": {},
     "output_type": "display_data"
    },
    {
     "name": "stderr",
     "output_type": "stream",
     "text": [
      "[9.4GB(+0.5GB):11.4sec] make submission \n"
     ]
    },
    {
     "data": {
      "application/vnd.jupyter.widget-view+json": {
       "model_id": "",
       "version_major": 2,
       "version_minor": 0
      },
      "text/plain": [
       "Matching detections to ground truth events:   0%|          | 0/538 [00:00<?, ?it/s]"
      ]
     },
     "metadata": {},
     "output_type": "display_data"
    },
    {
     "name": "stdout",
     "output_type": "stream",
     "text": [
      "0.8029099078629006\n",
      "12\n"
     ]
    },
    {
     "data": {
      "application/vnd.jupyter.widget-view+json": {
       "model_id": "",
       "version_major": 2,
       "version_minor": 0
      },
      "text/plain": [
       "find peaks:   0%|          | 0/277 [00:00<?, ?it/s]"
      ]
     },
     "metadata": {},
     "output_type": "display_data"
    },
    {
     "name": "stderr",
     "output_type": "stream",
     "text": [
      "[9.9GB(+0.5GB):11.5sec] make submission \n"
     ]
    },
    {
     "data": {
      "application/vnd.jupyter.widget-view+json": {
       "model_id": "",
       "version_major": 2,
       "version_minor": 0
      },
      "text/plain": [
       "Matching detections to ground truth events:   0%|          | 0/538 [00:00<?, ?it/s]"
      ]
     },
     "metadata": {},
     "output_type": "display_data"
    },
    {
     "name": "stdout",
     "output_type": "stream",
     "text": [
      "0.7989729262264974\n",
      "16\n"
     ]
    },
    {
     "data": {
      "application/vnd.jupyter.widget-view+json": {
       "model_id": "",
       "version_major": 2,
       "version_minor": 0
      },
      "text/plain": [
       "find peaks:   0%|          | 0/277 [00:00<?, ?it/s]"
      ]
     },
     "metadata": {},
     "output_type": "display_data"
    },
    {
     "name": "stderr",
     "output_type": "stream",
     "text": [
      "[9.5GB(+0.5GB):12.8sec] make submission \n"
     ]
    },
    {
     "data": {
      "application/vnd.jupyter.widget-view+json": {
       "model_id": "",
       "version_major": 2,
       "version_minor": 0
      },
      "text/plain": [
       "Matching detections to ground truth events:   0%|          | 0/538 [00:00<?, ?it/s]"
      ]
     },
     "metadata": {},
     "output_type": "display_data"
    },
    {
     "name": "stdout",
     "output_type": "stream",
     "text": [
      "0.8020826682398392\n",
      "20\n"
     ]
    },
    {
     "data": {
      "application/vnd.jupyter.widget-view+json": {
       "model_id": "",
       "version_major": 2,
       "version_minor": 0
      },
      "text/plain": [
       "find peaks:   0%|          | 0/277 [00:00<?, ?it/s]"
      ]
     },
     "metadata": {},
     "output_type": "display_data"
    },
    {
     "name": "stderr",
     "output_type": "stream",
     "text": [
      "[9.4GB(+0.5GB):12.4sec] make submission \n"
     ]
    },
    {
     "data": {
      "application/vnd.jupyter.widget-view+json": {
       "model_id": "",
       "version_major": 2,
       "version_minor": 0
      },
      "text/plain": [
       "Matching detections to ground truth events:   0%|          | 0/538 [00:00<?, ?it/s]"
      ]
     },
     "metadata": {},
     "output_type": "display_data"
    },
    {
     "name": "stdout",
     "output_type": "stream",
     "text": [
      "0.802156173353346\n"
     ]
    }
   ],
   "source": [
    "for offset in range(0, 24):\n",
    "    print(offset)\n",
    "    with trace('make submission'):\n",
    "        sub_df1 = make_submission(\n",
    "            pred_all_df,\n",
    "            periodicity_dict= periodicity_dict,\n",
    "            height = 0.001,\n",
    "            distance = 107,\n",
    "            daily_score_offset = 1.0,\n",
    "            offset_by=f\"{offset}h\"\n",
    "        ) \n",
    "    score = event_detection_ap(\n",
    "        event_df.to_pandas(),\n",
    "        sub_df1.to_pandas(),\n",
    "    )\n",
    "    print(score)\n",
    "    print()"
   ]
  },
  {
   "cell_type": "markdown",
   "id": "3a2797ef-b5c4-45f4-aaa4-c7fa7c2cf190",
   "metadata": {},
   "source": [
    "## 12の倍数のときに一個だけずらす"
   ]
  },
  {
   "cell_type": "code",
   "execution_count": 73,
   "id": "32a7b77d-e7a4-4579-8e16-538dd23cb07e",
   "metadata": {
    "tags": []
   },
   "outputs": [],
   "source": [
    "from scipy.signal import find_peaks\n",
    "\n",
    "def make_submissionV3(\n",
    "    preds_df: pl.DataFrame,\n",
    "    periodicity_dict: dict[str, np.ndarray],\n",
    "    height: float = 0.001,\n",
    "    distance: int = 100,\n",
    "    daily_score_offset: float = 1.0,\n",
    "    prefix:str =\"prediction\"\n",
    ") -> pl.DataFrame:\n",
    "\n",
    "    event_dfs = []\n",
    "\n",
    "    for series_id, series_df in tqdm(preds_df.group_by(\"series_id\"), desc=\"find peaks\", leave=False, total=len(preds_df[\"series_id\"].unique())):\n",
    "        for event in [\"onset\", \"wakeup\"]:\n",
    "            event_preds = series_df[f\"{prefix}_{event}\"].to_numpy().copy()\n",
    "            event_preds *= 1 - periodicity_dict[series_id][: len(event_preds)]\n",
    "            steps = find_peaks(event_preds, height=height, distance=distance)[0]\n",
    "            event_dfs.append(\n",
    "                series_df.filter(pl.col(\"step\").is_in(steps))\n",
    "                .with_columns(pl.lit(event).alias(\"event\"))\n",
    "                .rename({f\"{prefix}_{event}\": \"score\"})\n",
    "                .select([\"series_id\", \"step\", \"timestamp\", \"event\", \"score\"])\n",
    "            )\n",
    "    submission_df = (\n",
    "        pl.concat(event_dfs)\n",
    "        .with_columns(pl.col(\"timestamp\").dt.offset_by(\"2h\").dt.date().alias(\"date\"))\n",
    "        .with_columns(\n",
    "            pl.col(\"score\") / (pl.col(\"score\").sum().over([\"series_id\", \"event\", \"date\"]) + daily_score_offset)\n",
    "        )\n",
    "        .with_columns(pl.when(pl.col(\"step\")%12==0).then(pl.col(\"step\")+1).otherwise(pl.col(\"step\")).alias('step'))\n",
    "        .sort([\"series_id\", \"step\"])\n",
    "        .with_columns(pl.arange(0, pl.count()).alias(\"row_id\"))\n",
    "        .select([\"row_id\", \"series_id\", \"step\", \"event\", \"score\"])\n",
    "    )\n",
    "    return submission_df"
   ]
  },
  {
   "cell_type": "code",
   "execution_count": 74,
   "id": "6b002f3e-3041-4b81-bff0-044f86712924",
   "metadata": {
    "tags": []
   },
   "outputs": [
    {
     "data": {
      "application/vnd.jupyter.widget-view+json": {
       "model_id": "",
       "version_major": 2,
       "version_minor": 0
      },
      "text/plain": [
       "find peaks:   0%|          | 0/277 [00:00<?, ?it/s]"
      ]
     },
     "metadata": {},
     "output_type": "display_data"
    },
    {
     "name": "stderr",
     "output_type": "stream",
     "text": [
      "[10.0GB(+0.5GB):11.6sec] make submission \n"
     ]
    },
    {
     "data": {
      "application/vnd.jupyter.widget-view+json": {
       "model_id": "",
       "version_major": 2,
       "version_minor": 0
      },
      "text/plain": [
       "Matching detections to ground truth events:   0%|          | 0/538 [00:00<?, ?it/s]"
      ]
     },
     "metadata": {},
     "output_type": "display_data"
    },
    {
     "data": {
      "text/plain": [
       "0.8031793680267056"
      ]
     },
     "execution_count": 74,
     "metadata": {},
     "output_type": "execute_result"
    }
   ],
   "source": [
    "with trace('make submission'):\n",
    "    sub_df1 = make_submissionV3(\n",
    "        pred_all_df,\n",
    "        periodicity_dict= periodicity_dict,\n",
    "        height = 0.001,\n",
    "        distance = 107,\n",
    "        daily_score_offset = 1.0,\n",
    "    ) \n",
    "score = event_detection_ap(\n",
    "    event_df.to_pandas(),\n",
    "    sub_df1.to_pandas(),\n",
    ")\n",
    "score"
   ]
  },
  {
   "cell_type": "markdown",
   "id": "eba97b2d-009e-408b-bda0-131fd511bd10",
   "metadata": {},
   "source": [
    "後の日付のスコアを下げる"
   ]
  },
  {
   "cell_type": "code",
   "execution_count": 59,
   "id": "28e7d37a-0b46-4dc5-814c-a8e0651f5b64",
   "metadata": {
    "tags": []
   },
   "outputs": [],
   "source": [
    "from scipy.signal import find_peaks\n",
    "\n",
    "def make_submissionv2(\n",
    "    preds_df: pl.DataFrame,\n",
    "    periodicity_dict: dict[str, np.ndarray],\n",
    "    height: float = 0.001,\n",
    "    distance: int = 100,\n",
    "    daily_score_offset: float = 1.0,\n",
    "    prefix:str =\"prediction\",\n",
    "    date_rate = 1\n",
    ") -> pl.DataFrame:\n",
    "\n",
    "    event_dfs = []\n",
    "\n",
    "    for series_id, series_df in tqdm(preds_df.group_by(\"series_id\"), desc=\"find peaks\", leave=False, total=len(preds_df[\"series_id\"].unique())):\n",
    "        for event in [\"onset\", \"wakeup\"]:\n",
    "            event_preds = series_df[f\"{prefix}_{event}\"].to_numpy().copy()\n",
    "            event_preds *= 1 - periodicity_dict[series_id][: len(event_preds)]\n",
    "            steps = find_peaks(event_preds, height=height, distance=distance)[0]\n",
    "            event_dfs.append(\n",
    "                series_df.filter(pl.col(\"step\").is_in(steps))\n",
    "                .with_columns(pl.lit(event).alias(\"event\"))\n",
    "                .rename({f\"{prefix}_{event}\": \"score\"})\n",
    "                .select([\"series_id\", \"step\", \"timestamp\", \"event\", \"score\"])\n",
    "            )\n",
    "    \n",
    "    # date 1日ごとにスコアを減衰させる\n",
    "\n",
    "    submission_df = (\n",
    "        pl.concat(event_dfs)\n",
    "        .with_columns(pl.col(\"timestamp\").dt.offset_by(\"2h\").dt.date().alias(\"date\"))\n",
    "        .with_columns(pl.col(\"date\").min().over(\"series_id\").alias(\"min_date\"),\n",
    "                     pl.col(\"date\").max().over(\"series_id\").alias(\"max_date\")\n",
    "                     )\n",
    "        .with_columns(\n",
    "            pl.col(\"score\") / (pl.col(\"score\").sum().over([\"series_id\", \"event\", \"date\"]) + daily_score_offset)\n",
    "        )\n",
    "        .with_columns(pl.col(\"score\") *\n",
    "                      (1 - (\n",
    "                          (1 - pl.lit(date_rate)) * (((pl.col('date')-pl.col(\"min_date\")).dt.days() / ((pl.col('max_date')-pl.col(\"min_date\")).dt.days() + 1.0)))\n",
    "                      )\n",
    "                     )\n",
    "                     )\n",
    "        .sort([\"series_id\", \"step\"])\n",
    "        .with_columns(pl.arange(0, pl.count()).alias(\"row_id\"))\n",
    "        .select([\"row_id\", \"series_id\", \"step\", \"event\", \"score\"])\n",
    "    )\n",
    "    return submission_df"
   ]
  },
  {
   "cell_type": "code",
   "execution_count": 60,
   "id": "9028b370-73ec-46c3-8d13-8f5d9f1eb0e3",
   "metadata": {
    "tags": []
   },
   "outputs": [
    {
     "data": {
      "application/vnd.jupyter.widget-view+json": {
       "model_id": "",
       "version_major": 2,
       "version_minor": 0
      },
      "text/plain": [
       "find peaks:   0%|          | 0/277 [00:00<?, ?it/s]"
      ]
     },
     "metadata": {},
     "output_type": "display_data"
    },
    {
     "name": "stderr",
     "output_type": "stream",
     "text": [
      "[9.5GB(+0.5GB):11.7sec] make submission \n"
     ]
    },
    {
     "data": {
      "application/vnd.jupyter.widget-view+json": {
       "model_id": "",
       "version_major": 2,
       "version_minor": 0
      },
      "text/plain": [
       "Matching detections to ground truth events:   0%|          | 0/538 [00:00<?, ?it/s]"
      ]
     },
     "metadata": {},
     "output_type": "display_data"
    },
    {
     "data": {
      "text/plain": [
       "0.8031793680267056"
      ]
     },
     "execution_count": 60,
     "metadata": {},
     "output_type": "execute_result"
    }
   ],
   "source": [
    "with trace('make submission'):\n",
    "    sub_df1 = make_submissionv2(\n",
    "        pred_all_df,\n",
    "        periodicity_dict= periodicity_dict,\n",
    "        height = 0.001,\n",
    "        distance = 107,\n",
    "        daily_score_offset = 1.0,\n",
    "        date_rate = 1\n",
    "    ) \n",
    "score = event_detection_ap(\n",
    "    event_df.to_pandas(),\n",
    "    sub_df1.to_pandas(),\n",
    ")\n",
    "score"
   ]
  },
  {
   "cell_type": "code",
   "execution_count": 62,
   "id": "425077c0-ce0d-4ca0-8722-14d1c29001ec",
   "metadata": {
    "tags": []
   },
   "outputs": [
    {
     "data": {
      "application/vnd.jupyter.widget-view+json": {
       "model_id": "",
       "version_major": 2,
       "version_minor": 0
      },
      "text/plain": [
       "find peaks:   0%|          | 0/277 [00:00<?, ?it/s]"
      ]
     },
     "metadata": {},
     "output_type": "display_data"
    },
    {
     "name": "stderr",
     "output_type": "stream",
     "text": [
      "[9.5GB(+0.5GB):11.8sec] make submission \n"
     ]
    },
    {
     "data": {
      "application/vnd.jupyter.widget-view+json": {
       "model_id": "",
       "version_major": 2,
       "version_minor": 0
      },
      "text/plain": [
       "Matching detections to ground truth events:   0%|          | 0/538 [00:00<?, ?it/s]"
      ]
     },
     "metadata": {},
     "output_type": "display_data"
    },
    {
     "name": "stdout",
     "output_type": "stream",
     "text": [
      "1.0 0.8031793680267056\n",
      "\n"
     ]
    },
    {
     "data": {
      "application/vnd.jupyter.widget-view+json": {
       "model_id": "",
       "version_major": 2,
       "version_minor": 0
      },
      "text/plain": [
       "find peaks:   0%|          | 0/277 [00:00<?, ?it/s]"
      ]
     },
     "metadata": {},
     "output_type": "display_data"
    },
    {
     "name": "stderr",
     "output_type": "stream",
     "text": [
      "[9.5GB(+0.5GB):12.2sec] make submission \n"
     ]
    },
    {
     "data": {
      "application/vnd.jupyter.widget-view+json": {
       "model_id": "",
       "version_major": 2,
       "version_minor": 0
      },
      "text/plain": [
       "Matching detections to ground truth events:   0%|          | 0/538 [00:00<?, ?it/s]"
      ]
     },
     "metadata": {},
     "output_type": "display_data"
    },
    {
     "name": "stdout",
     "output_type": "stream",
     "text": [
      "0.95 0.8043326089030383\n",
      "\n"
     ]
    },
    {
     "data": {
      "application/vnd.jupyter.widget-view+json": {
       "model_id": "",
       "version_major": 2,
       "version_minor": 0
      },
      "text/plain": [
       "find peaks:   0%|          | 0/277 [00:00<?, ?it/s]"
      ]
     },
     "metadata": {},
     "output_type": "display_data"
    },
    {
     "name": "stderr",
     "output_type": "stream",
     "text": [
      "[9.5GB(+0.5GB):11.9sec] make submission \n"
     ]
    },
    {
     "data": {
      "application/vnd.jupyter.widget-view+json": {
       "model_id": "",
       "version_major": 2,
       "version_minor": 0
      },
      "text/plain": [
       "Matching detections to ground truth events:   0%|          | 0/538 [00:00<?, ?it/s]"
      ]
     },
     "metadata": {},
     "output_type": "display_data"
    },
    {
     "name": "stdout",
     "output_type": "stream",
     "text": [
      "0.9 0.8046021252760622\n",
      "\n"
     ]
    },
    {
     "data": {
      "application/vnd.jupyter.widget-view+json": {
       "model_id": "",
       "version_major": 2,
       "version_minor": 0
      },
      "text/plain": [
       "find peaks:   0%|          | 0/277 [00:00<?, ?it/s]"
      ]
     },
     "metadata": {},
     "output_type": "display_data"
    },
    {
     "name": "stderr",
     "output_type": "stream",
     "text": [
      "[9.5GB(+0.5GB):11.5sec] make submission \n"
     ]
    },
    {
     "data": {
      "application/vnd.jupyter.widget-view+json": {
       "model_id": "",
       "version_major": 2,
       "version_minor": 0
      },
      "text/plain": [
       "Matching detections to ground truth events:   0%|          | 0/538 [00:00<?, ?it/s]"
      ]
     },
     "metadata": {},
     "output_type": "display_data"
    },
    {
     "name": "stdout",
     "output_type": "stream",
     "text": [
      "0.85 0.8040990530324634\n",
      "\n"
     ]
    },
    {
     "data": {
      "application/vnd.jupyter.widget-view+json": {
       "model_id": "",
       "version_major": 2,
       "version_minor": 0
      },
      "text/plain": [
       "find peaks:   0%|          | 0/277 [00:00<?, ?it/s]"
      ]
     },
     "metadata": {},
     "output_type": "display_data"
    },
    {
     "name": "stderr",
     "output_type": "stream",
     "text": [
      "[9.5GB(+0.4GB):11.7sec] make submission \n"
     ]
    },
    {
     "data": {
      "application/vnd.jupyter.widget-view+json": {
       "model_id": "",
       "version_major": 2,
       "version_minor": 0
      },
      "text/plain": [
       "Matching detections to ground truth events:   0%|          | 0/538 [00:00<?, ?it/s]"
      ]
     },
     "metadata": {},
     "output_type": "display_data"
    },
    {
     "name": "stdout",
     "output_type": "stream",
     "text": [
      "0.8 0.8031464015898544\n",
      "\n"
     ]
    },
    {
     "data": {
      "application/vnd.jupyter.widget-view+json": {
       "model_id": "",
       "version_major": 2,
       "version_minor": 0
      },
      "text/plain": [
       "find peaks:   0%|          | 0/277 [00:00<?, ?it/s]"
      ]
     },
     "metadata": {},
     "output_type": "display_data"
    },
    {
     "name": "stderr",
     "output_type": "stream",
     "text": [
      "[10.0GB(+0.5GB):11.8sec] make submission \n"
     ]
    },
    {
     "data": {
      "application/vnd.jupyter.widget-view+json": {
       "model_id": "",
       "version_major": 2,
       "version_minor": 0
      },
      "text/plain": [
       "Matching detections to ground truth events:   0%|          | 0/538 [00:00<?, ?it/s]"
      ]
     },
     "metadata": {},
     "output_type": "display_data"
    },
    {
     "name": "stdout",
     "output_type": "stream",
     "text": [
      "0.75 0.8018956228955505\n",
      "\n"
     ]
    },
    {
     "data": {
      "application/vnd.jupyter.widget-view+json": {
       "model_id": "",
       "version_major": 2,
       "version_minor": 0
      },
      "text/plain": [
       "find peaks:   0%|          | 0/277 [00:00<?, ?it/s]"
      ]
     },
     "metadata": {},
     "output_type": "display_data"
    },
    {
     "name": "stderr",
     "output_type": "stream",
     "text": [
      "[9.5GB(+0.5GB):11.7sec] make submission \n"
     ]
    },
    {
     "data": {
      "application/vnd.jupyter.widget-view+json": {
       "model_id": "",
       "version_major": 2,
       "version_minor": 0
      },
      "text/plain": [
       "Matching detections to ground truth events:   0%|          | 0/538 [00:00<?, ?it/s]"
      ]
     },
     "metadata": {},
     "output_type": "display_data"
    },
    {
     "name": "stdout",
     "output_type": "stream",
     "text": [
      "0.7 0.8003138751932118\n",
      "\n"
     ]
    }
   ],
   "source": [
    "for date_rate in [1.0, 0.95, 0.9, 0.85, 0.8, 0.75, 0.7]:\n",
    "    \n",
    "    with trace('make submission'):\n",
    "        sub_df1 = make_submissionv2(\n",
    "            pred_all_df,\n",
    "            periodicity_dict= periodicity_dict,\n",
    "            height = 0.001,\n",
    "            distance = 107,\n",
    "            daily_score_offset = 1.0,\n",
    "            date_rate = date_rate\n",
    "        ) \n",
    "    score = event_detection_ap(\n",
    "        event_df.to_pandas(),\n",
    "        sub_df1.to_pandas(),\n",
    "    )\n",
    "    print(date_rate,score)\n",
    "    print()"
   ]
  },
  {
   "cell_type": "code",
   "execution_count": 66,
   "id": "3bea9edc-a25f-42d0-b642-31dc5b4f42b6",
   "metadata": {
    "tags": []
   },
   "outputs": [],
   "source": [
    "from scipy.signal import find_peaks\n",
    "\n",
    "def make_submissionv2(\n",
    "    preds_df: pl.DataFrame,\n",
    "    periodicity_dict: dict[str, np.ndarray],\n",
    "    height: float = 0.001,\n",
    "    distance: int = 100,\n",
    "    daily_score_offset: float = 1.0,\n",
    "    prefix:str =\"prediction\",\n",
    "    one_date_diff_rate = 0\n",
    ") -> pl.DataFrame:\n",
    "\n",
    "    event_dfs = []\n",
    "\n",
    "    for series_id, series_df in tqdm(preds_df.group_by(\"series_id\"), desc=\"find peaks\", leave=False, total=len(preds_df[\"series_id\"].unique())):\n",
    "        for event in [\"onset\", \"wakeup\"]:\n",
    "            event_preds = series_df[f\"{prefix}_{event}\"].to_numpy().copy()\n",
    "            event_preds *= 1 - periodicity_dict[series_id][: len(event_preds)]\n",
    "            steps = find_peaks(event_preds, height=height, distance=distance)[0]\n",
    "            event_dfs.append(\n",
    "                series_df.filter(pl.col(\"step\").is_in(steps))\n",
    "                .with_columns(pl.lit(event).alias(\"event\"))\n",
    "                .rename({f\"{prefix}_{event}\": \"score\"})\n",
    "                .select([\"series_id\", \"step\", \"timestamp\", \"event\", \"score\"])\n",
    "            )\n",
    "    \n",
    "    # date 1日ごとにスコアを減衰させる\n",
    "\n",
    "    submission_df = (\n",
    "        pl.concat(event_dfs)\n",
    "        .with_columns(pl.col(\"timestamp\").dt.offset_by(\"2h\").dt.date().alias(\"date\"))\n",
    "        .with_columns(pl.col(\"date\").min().over(\"series_id\").alias(\"min_date\"),\n",
    "                     pl.col(\"date\").max().over(\"series_id\").alias(\"max_date\")\n",
    "                     )\n",
    "        .with_columns(\n",
    "            pl.col(\"score\") / (pl.col(\"score\").sum().over([\"series_id\", \"event\", \"date\"]) + daily_score_offset)\n",
    "        )\n",
    "        .with_columns(pl.col(\"score\") * \n",
    "                      (1 - (\n",
    "                          (one_date_diff_rate) * ((pl.col('date')-pl.col(\"min_date\")).dt.days())\n",
    "                      )\n",
    "                     )\n",
    "                     )\n",
    "        .sort([\"series_id\", \"step\"])\n",
    "        .with_columns(pl.arange(0, pl.count()).alias(\"row_id\"))\n",
    "        .select([\"row_id\", \"series_id\", \"step\", \"event\", \"score\"])\n",
    "    )\n",
    "    return submission_df"
   ]
  },
  {
   "cell_type": "code",
   "execution_count": 67,
   "id": "6132ba9c-1c2d-4aba-82a9-62633f928cb1",
   "metadata": {
    "tags": []
   },
   "outputs": [
    {
     "data": {
      "application/vnd.jupyter.widget-view+json": {
       "model_id": "",
       "version_major": 2,
       "version_minor": 0
      },
      "text/plain": [
       "find peaks:   0%|          | 0/277 [00:00<?, ?it/s]"
      ]
     },
     "metadata": {},
     "output_type": "display_data"
    },
    {
     "name": "stderr",
     "output_type": "stream",
     "text": [
      "[9.5GB(+0.4GB):12.1sec] make submission \n"
     ]
    },
    {
     "data": {
      "application/vnd.jupyter.widget-view+json": {
       "model_id": "",
       "version_major": 2,
       "version_minor": 0
      },
      "text/plain": [
       "Matching detections to ground truth events:   0%|          | 0/538 [00:00<?, ?it/s]"
      ]
     },
     "metadata": {},
     "output_type": "display_data"
    },
    {
     "name": "stdout",
     "output_type": "stream",
     "text": [
      "0 0.8031793680267056\n",
      "\n"
     ]
    },
    {
     "data": {
      "application/vnd.jupyter.widget-view+json": {
       "model_id": "",
       "version_major": 2,
       "version_minor": 0
      },
      "text/plain": [
       "find peaks:   0%|          | 0/277 [00:00<?, ?it/s]"
      ]
     },
     "metadata": {},
     "output_type": "display_data"
    },
    {
     "name": "stderr",
     "output_type": "stream",
     "text": [
      "[9.5GB(+0.5GB):12.2sec] make submission \n"
     ]
    },
    {
     "data": {
      "application/vnd.jupyter.widget-view+json": {
       "model_id": "",
       "version_major": 2,
       "version_minor": 0
      },
      "text/plain": [
       "Matching detections to ground truth events:   0%|          | 0/538 [00:00<?, ?it/s]"
      ]
     },
     "metadata": {},
     "output_type": "display_data"
    },
    {
     "name": "stdout",
     "output_type": "stream",
     "text": [
      "0 0.8039205304200319\n",
      "\n"
     ]
    },
    {
     "data": {
      "application/vnd.jupyter.widget-view+json": {
       "model_id": "",
       "version_major": 2,
       "version_minor": 0
      },
      "text/plain": [
       "find peaks:   0%|          | 0/277 [00:00<?, ?it/s]"
      ]
     },
     "metadata": {},
     "output_type": "display_data"
    },
    {
     "name": "stderr",
     "output_type": "stream",
     "text": [
      "[9.5GB(+0.5GB):11.7sec] make submission \n"
     ]
    },
    {
     "data": {
      "application/vnd.jupyter.widget-view+json": {
       "model_id": "",
       "version_major": 2,
       "version_minor": 0
      },
      "text/plain": [
       "Matching detections to ground truth events:   0%|          | 0/538 [00:00<?, ?it/s]"
      ]
     },
     "metadata": {},
     "output_type": "display_data"
    },
    {
     "name": "stdout",
     "output_type": "stream",
     "text": [
      "0 0.8043584890072324\n",
      "\n"
     ]
    },
    {
     "data": {
      "application/vnd.jupyter.widget-view+json": {
       "model_id": "",
       "version_major": 2,
       "version_minor": 0
      },
      "text/plain": [
       "find peaks:   0%|          | 0/277 [00:00<?, ?it/s]"
      ]
     },
     "metadata": {},
     "output_type": "display_data"
    },
    {
     "name": "stderr",
     "output_type": "stream",
     "text": [
      "[9.5GB(+0.5GB):11.7sec] make submission \n"
     ]
    },
    {
     "data": {
      "application/vnd.jupyter.widget-view+json": {
       "model_id": "",
       "version_major": 2,
       "version_minor": 0
      },
      "text/plain": [
       "Matching detections to ground truth events:   0%|          | 0/538 [00:00<?, ?it/s]"
      ]
     },
     "metadata": {},
     "output_type": "display_data"
    },
    {
     "name": "stdout",
     "output_type": "stream",
     "text": [
      "0 0.803949635086096\n",
      "\n"
     ]
    },
    {
     "data": {
      "application/vnd.jupyter.widget-view+json": {
       "model_id": "",
       "version_major": 2,
       "version_minor": 0
      },
      "text/plain": [
       "find peaks:   0%|          | 0/277 [00:00<?, ?it/s]"
      ]
     },
     "metadata": {},
     "output_type": "display_data"
    },
    {
     "name": "stderr",
     "output_type": "stream",
     "text": [
      "[9.5GB(+0.5GB):11.6sec] make submission \n"
     ]
    },
    {
     "data": {
      "application/vnd.jupyter.widget-view+json": {
       "model_id": "",
       "version_major": 2,
       "version_minor": 0
      },
      "text/plain": [
       "Matching detections to ground truth events:   0%|          | 0/538 [00:00<?, ?it/s]"
      ]
     },
     "metadata": {},
     "output_type": "display_data"
    },
    {
     "name": "stdout",
     "output_type": "stream",
     "text": [
      "0 0.8005937334779489\n",
      "\n"
     ]
    }
   ],
   "source": [
    "for one_date_diff_rate in [0, 0.001, 0.002, 0.005, 0.01]:\n",
    "    \n",
    "    with trace('make submission'):\n",
    "        sub_df1 = make_submissionv2(\n",
    "            pred_all_df,\n",
    "            periodicity_dict= periodicity_dict,\n",
    "            height = 0.001,\n",
    "            distance = 107,\n",
    "            daily_score_offset = 1.0,\n",
    "            one_date_diff_rate = one_date_diff_rate\n",
    "        ) \n",
    "    score = event_detection_ap(\n",
    "        event_df.to_pandas(),\n",
    "        sub_df1.to_pandas(),\n",
    "    )\n",
    "    print(date_rate,score)\n",
    "    print()"
   ]
  },
  {
   "cell_type": "code",
   "execution_count": null,
   "id": "c3678fb6-b731-4980-a8d7-75854c31655a",
   "metadata": {},
   "outputs": [],
   "source": []
  }
 ],
 "metadata": {
  "kernelspec": {
   "display_name": "Python 3 (ipykernel)",
   "language": "python",
   "name": "python3"
  },
  "language_info": {
   "codemirror_mode": {
    "name": "ipython",
    "version": 3
   },
   "file_extension": ".py",
   "mimetype": "text/x-python",
   "name": "python",
   "nbconvert_exporter": "python",
   "pygments_lexer": "ipython3",
   "version": "3.10.12"
  }
 },
 "nbformat": 4,
 "nbformat_minor": 5
}
