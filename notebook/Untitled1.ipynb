{
 "cells": [
  {
   "cell_type": "code",
   "execution_count": 3,
   "id": "026188f8-ea99-4afd-a708-46386b3f0779",
   "metadata": {
    "tags": []
   },
   "outputs": [],
   "source": [
    "import sys, os\n",
    "sys.path.append(os.pardir)"
   ]
  },
  {
   "cell_type": "code",
   "execution_count": 1,
   "id": "4c1666ce-a8b3-4284-a44d-ae0559c1fc2f",
   "metadata": {
    "tags": []
   },
   "outputs": [],
   "source": [
    "from pathlib import Path\n",
    "import numpy as np\n",
    "import polars as pl\n",
    "import os\n",
    "from hydra import initialize, compose\n",
    "import plotly.express as px\n",
    "\n",
    "with initialize(config_path=\"../run/conf\", version_base=None):\n",
    "    cfg = compose(\"cv_train\")"
   ]
  },
  {
   "cell_type": "code",
   "execution_count": 6,
   "id": "c79d054f-62ec-4571-9816-8a1a43194b7d",
   "metadata": {
    "tags": []
   },
   "outputs": [],
   "source": [
    "from src.utils.metrics import event_detection_ap\n",
    "from src.utils.post_process import make_submission\n",
    "from src.utils.common import trace\n",
    "from src.utils.detect_peak import post_process_from_2nd\n",
    "\n"
   ]
  },
  {
   "cell_type": "code",
   "execution_count": 12,
   "id": "3bcbc297-fdce-4a69-bee9-465219ad901a",
   "metadata": {
    "tags": []
   },
   "outputs": [],
   "source": [
    "event_df = pl.read_csv(Path(cfg.dir.data_dir) / \"train_events.csv\").drop_nulls()\n",
    "event_df = event_df.with_columns(\n",
    "    pl.col(\"timestamp\").str.to_datetime(\"%Y-%m-%dT%H:%M:%S%z\")\n",
    ")"
   ]
  },
  {
   "cell_type": "code",
   "execution_count": 14,
   "id": "3a7f7052-4383-4225-b220-538aa1d28b82",
   "metadata": {
    "tags": []
   },
   "outputs": [],
   "source": [
    "sub = pl.read_csv('./submission.csv')\n",
    "pred_df = pl.read_parquet('../data/sakami/009_cnn/valid_preds.parquet')\n",
    "valid_sub =  pl.read_parquet('../data/sakami/009_cnn/valid_submission.parquet')"
   ]
  },
  {
   "cell_type": "code",
   "execution_count": 15,
   "id": "0c2d8a56-55d1-41d7-9f10-dae3c8f28219",
   "metadata": {
    "tags": []
   },
   "outputs": [
    {
     "data": {
      "text/plain": [
       "200"
      ]
     },
     "execution_count": 15,
     "metadata": {},
     "output_type": "execute_result"
    }
   ],
   "source": [
    "series_ids = sub['series_id'].unique().to_list()\n",
    "len(series_ids)"
   ]
  },
  {
   "cell_type": "code",
   "execution_count": 18,
   "id": "c52e56af-a81f-4ae9-bdb5-364fddbf0fd6",
   "metadata": {
    "tags": []
   },
   "outputs": [
    {
     "data": {
      "application/vnd.jupyter.widget-view+json": {
       "model_id": "",
       "version_major": 2,
       "version_minor": 0
      },
      "text/plain": [
       "Matching detections to ground truth events:   0% 0/390 [00:00<?, ?it/s]"
      ]
     },
     "metadata": {},
     "output_type": "display_data"
    },
    {
     "data": {
      "text/plain": [
       "0.829488223589187"
      ]
     },
     "execution_count": 18,
     "metadata": {},
     "output_type": "execute_result"
    }
   ],
   "source": [
    "score = event_detection_ap(\n",
    "    event_df.filter(pl.col('series_id').is_in(series_ids)).to_pandas(),\n",
    "    valid_sub.filter(pl.col('series_id').is_in(series_ids)).to_pandas(),\n",
    ")\n",
    "score"
   ]
  },
  {
   "cell_type": "code",
   "execution_count": null,
   "id": "85768657-d76f-4f04-a46a-6aee73c9e0fd",
   "metadata": {},
   "outputs": [],
   "source": [
    "\n",
    "sub_df = post_process_from_2nd(\n",
    "    pred_df,\n",
    "    daily_score_offset = params['daily_score_offset'],\n",
    ")\n"
   ]
  },
  {
   "cell_type": "code",
   "execution_count": null,
   "id": "c697e9a5-7c62-4cd6-9b54-24257e9cff2f",
   "metadata": {},
   "outputs": [],
   "source": []
  },
  {
   "cell_type": "code",
   "execution_count": null,
   "id": "0992804e-a45e-455b-845b-d68834aa5bdd",
   "metadata": {},
   "outputs": [],
   "source": []
  },
  {
   "cell_type": "code",
   "execution_count": 27,
   "id": "155b28a9-0727-4ca5-be08-1fc7b176c8f5",
   "metadata": {
    "tags": []
   },
   "outputs": [],
   "source": [
    "import numpy as np\n",
    "import matplotlib.pyplot as plt\n",
    "\n",
    "def plot_histogram(data, filename=\"score.png\"):\n",
    "    # 統計値の計算\n",
    "    mean = np.mean(data)\n",
    "    median = np.median(data)\n",
    "    min_val = np.min(data)\n",
    "    max_val = np.max(data)\n",
    "    std_dev = np.std(data)\n",
    "\n",
    "    plt.hist(data, bins=10, alpha=0.7)\n",
    "    plt.title(f\"mean:{mean:.4}, median:{median:.4}, min:{min_val:.4}, max:{max_val:.4}, std:{std_dev:.4}\")\n",
    "    plt.xlabel('Score')\n",
    "    plt.ylabel('Frequency')\n",
    "    plt.savefig(filename)"
   ]
  },
  {
   "cell_type": "code",
   "execution_count": 28,
   "id": "b69f888e-9e76-408d-acf1-a3e002082c7d",
   "metadata": {
    "tags": []
   },
   "outputs": [
    {
     "data": {
      "image/png": "[encoded data removed]",
      "text/plain": [
       "<Figure size 640x480 with 1 Axes>"
      ]
     },
     "metadata": {},
     "output_type": "display_data"
    }
   ],
   "source": [
    "data = np.random.normal(0, 1, 1000)\n",
    "plot_histogram(data)"
   ]
  },
  {
   "cell_type": "code",
   "execution_count": null,
   "id": "14e512c5-959b-4300-8c5f-fb1f2296a846",
   "metadata": {
    "tags": []
   },
   "outputs": [],
   "source": [
    "\n"
   ]
  },
  {
   "cell_type": "code",
   "execution_count": null,
   "id": "23450c82-b6e0-45aa-bdb6-4a1d5bcdb0ee",
   "metadata": {},
   "outputs": [],
   "source": []
  },
  {
   "cell_type": "code",
   "execution_count": 3,
   "id": "6b915029-5e2a-481c-874c-693df3d1edcf",
   "metadata": {
    "tags": []
   },
   "outputs": [],
   "source": [
    "import logging\n",
    "from pathlib import Path\n",
    "import polars as pl\n",
    "import os\n",
    "import matplotlib.pyplot as plt\n",
    "import pandas as pd\n",
    "import numpy as np\n",
    "import hydra\n",
    "from omegaconf import DictConfig\n",
    "from omegaconf import OmegaConf\n",
    "\n",
    "from src.utils.metrics import event_detection_ap\n",
    "from src.utils.chokudai_search import chokudai_search_from_2nd"
   ]
  },
  {
   "cell_type": "code",
   "execution_count": 8,
   "id": "117689ec-0d51-47ec-bffb-26c7c7a37b30",
   "metadata": {
    "tags": []
   },
   "outputs": [],
   "source": [
    "\n",
    "def load_shimacos_pred(dir: Path):\n",
    "    pred_df = (\n",
    "        pl.read_parquet(dir / \"pred_onset.parquet\")\n",
    "        .rename({\"label_pred\": \"stacking_prediction_onset\"})\n",
    "        .drop(\"label\")\n",
    "        .join(\n",
    "            pl.read_parquet(dir / \"pred_wakeup.parquet\").rename({\"label_pred\": \"stacking_prediction_wakeup\"}).drop(\"label\"),\n",
    "            on=[\"series_id\", \"step\"],\n",
    "            how=\"left\",\n",
    "        )\n",
    "    )\n",
    "    pred_df = pred_df.with_columns(\n",
    "        ((pl.col(\"step\") - pl.col(\"step\").shift(1)) != 12)\n",
    "        .cast(int)\n",
    "        .cumsum()\n",
    "        .over(\"series_id\")\n",
    "        .fill_null(0)\n",
    "        .alias(\"chunk_id\")\n",
    "    ).with_columns(pl.col(\"step\").cast(pl.UInt32))\n",
    "    return pred_df"
   ]
  },
  {
   "cell_type": "code",
   "execution_count": 12,
   "id": "c55cb709-3a0a-4ef2-a6f3-ceb9ef38ba62",
   "metadata": {
    "tags": []
   },
   "outputs": [],
   "source": [
    "pred_df = load_shimacos_pred(Path('../data/shimacos/stacking_exp013_009_1minute_sampling/result'))\n"
   ]
  },
  {
   "cell_type": "code",
   "execution_count": 13,
   "id": "473e171b-4182-4ba3-bf09-a90f7146e547",
   "metadata": {
    "tags": []
   },
   "outputs": [
    {
     "data": {
      "text/html": [
       "<div><style>\n",
       ".dataframe > thead > tr > th,\n",
       ".dataframe > tbody > tr > td {\n",
       "  text-align: right;\n",
       "  white-space: pre-wrap;\n",
       "}\n",
       "</style>\n",
       "<small>shape: (2_185_759, 5)</small><table border=\"1\" class=\"dataframe\"><thead><tr><th>series_id</th><th>step</th><th>stacking_prediction_onset</th><th>stacking_prediction_wakeup</th><th>chunk_id</th></tr><tr><td>str</td><td>u32</td><td>f64</td><td>f64</td><td>i64</td></tr></thead><tbody><tr><td>&quot;038441c925bb&quot;</td><td>0</td><td>0.000008</td><td>0.00001</td><td>0</td></tr><tr><td>&quot;038441c925bb&quot;</td><td>12</td><td>0.000008</td><td>0.000008</td><td>0</td></tr><tr><td>&quot;038441c925bb&quot;</td><td>24</td><td>0.000007</td><td>0.000031</td><td>0</td></tr><tr><td>&quot;038441c925bb&quot;</td><td>36</td><td>0.000009</td><td>0.000019</td><td>0</td></tr><tr><td>&quot;038441c925bb&quot;</td><td>48</td><td>0.000006</td><td>0.000007</td><td>0</td></tr><tr><td>&quot;038441c925bb&quot;</td><td>60</td><td>0.000007</td><td>0.000005</td><td>0</td></tr><tr><td>&quot;038441c925bb&quot;</td><td>72</td><td>0.000007</td><td>0.000006</td><td>0</td></tr><tr><td>&quot;038441c925bb&quot;</td><td>84</td><td>0.000006</td><td>0.000006</td><td>0</td></tr><tr><td>&quot;038441c925bb&quot;</td><td>96</td><td>0.000006</td><td>0.000005</td><td>0</td></tr><tr><td>&quot;038441c925bb&quot;</td><td>108</td><td>0.000007</td><td>0.000005</td><td>0</td></tr><tr><td>&quot;038441c925bb&quot;</td><td>120</td><td>0.000006</td><td>0.000006</td><td>0</td></tr><tr><td>&quot;038441c925bb&quot;</td><td>132</td><td>0.000007</td><td>0.000006</td><td>0</td></tr><tr><td>&hellip;</td><td>&hellip;</td><td>&hellip;</td><td>&hellip;</td><td>&hellip;</td></tr><tr><td>&quot;fe90110788d2&quot;</td><td>592404</td><td>0.000005</td><td>0.000003</td><td>216</td></tr><tr><td>&quot;fe90110788d2&quot;</td><td>592416</td><td>0.000005</td><td>0.000003</td><td>216</td></tr><tr><td>&quot;fe90110788d2&quot;</td><td>592428</td><td>0.000005</td><td>0.000003</td><td>216</td></tr><tr><td>&quot;fe90110788d2&quot;</td><td>592440</td><td>0.000005</td><td>0.000003</td><td>216</td></tr><tr><td>&quot;fe90110788d2&quot;</td><td>592452</td><td>0.000005</td><td>0.000003</td><td>216</td></tr><tr><td>&quot;fe90110788d2&quot;</td><td>592464</td><td>0.000005</td><td>0.000003</td><td>216</td></tr><tr><td>&quot;fe90110788d2&quot;</td><td>592476</td><td>0.000005</td><td>0.000003</td><td>216</td></tr><tr><td>&quot;fe90110788d2&quot;</td><td>592488</td><td>0.000005</td><td>0.000003</td><td>216</td></tr><tr><td>&quot;fe90110788d2&quot;</td><td>592500</td><td>0.000005</td><td>0.000003</td><td>216</td></tr><tr><td>&quot;fe90110788d2&quot;</td><td>592512</td><td>0.000005</td><td>0.000003</td><td>216</td></tr><tr><td>&quot;fe90110788d2&quot;</td><td>592524</td><td>0.000005</td><td>0.000003</td><td>216</td></tr><tr><td>&quot;fe90110788d2&quot;</td><td>592536</td><td>0.000005</td><td>0.000003</td><td>216</td></tr></tbody></table></div>"
      ],
      "text/plain": [
       "shape: (2_185_759, 5)\n",
       "┌──────────────┬────────┬───────────────────────────┬────────────────────────────┬──────────┐\n",
       "│ series_id    ┆ step   ┆ stacking_prediction_onset ┆ stacking_prediction_wakeup ┆ chunk_id │\n",
       "│ ---          ┆ ---    ┆ ---                       ┆ ---                        ┆ ---      │\n",
       "│ str          ┆ u32    ┆ f64                       ┆ f64                        ┆ i64      │\n",
       "╞══════════════╪════════╪═══════════════════════════╪════════════════════════════╪══════════╡\n",
       "│ 038441c925bb ┆ 0      ┆ 0.000008                  ┆ 0.00001                    ┆ 0        │\n",
       "│ 038441c925bb ┆ 12     ┆ 0.000008                  ┆ 0.000008                   ┆ 0        │\n",
       "│ 038441c925bb ┆ 24     ┆ 0.000007                  ┆ 0.000031                   ┆ 0        │\n",
       "│ 038441c925bb ┆ 36     ┆ 0.000009                  ┆ 0.000019                   ┆ 0        │\n",
       "│ …            ┆ …      ┆ …                         ┆ …                          ┆ …        │\n",
       "│ fe90110788d2 ┆ 592500 ┆ 0.000005                  ┆ 0.000003                   ┆ 216      │\n",
       "│ fe90110788d2 ┆ 592512 ┆ 0.000005                  ┆ 0.000003                   ┆ 216      │\n",
       "│ fe90110788d2 ┆ 592524 ┆ 0.000005                  ┆ 0.000003                   ┆ 216      │\n",
       "│ fe90110788d2 ┆ 592536 ┆ 0.000005                  ┆ 0.000003                   ┆ 216      │\n",
       "└──────────────┴────────┴───────────────────────────┴────────────────────────────┴──────────┘"
      ]
     },
     "execution_count": 13,
     "metadata": {},
     "output_type": "execute_result"
    }
   ],
   "source": [
    "pred_df"
   ]
  },
  {
   "cell_type": "code",
   "execution_count": 15,
   "id": "f81c9f0d-2b6f-4a56-addb-9593e70a16ea",
   "metadata": {},
   "outputs": [
    {
     "data": {
      "text/html": [
       "<div><style>\n",
       ".dataframe > thead > tr > th,\n",
       ".dataframe > tbody > tr > td {\n",
       "  text-align: right;\n",
       "  white-space: pre-wrap;\n",
       "}\n",
       "</style>\n",
       "<small>shape: (1_983_978, 3)</small><table border=\"1\" class=\"dataframe\"><thead><tr><th>series_id</th><th>step</th><th>timestamp</th></tr><tr><td>str</td><td>i64</td><td>datetime[μs, UTC]</td></tr></thead><tbody><tr><td>&quot;038441c925bb&quot;</td><td>0</td><td>2018-08-14 19:30:00 UTC</td></tr><tr><td>&quot;038441c925bb&quot;</td><td>12</td><td>2018-08-14 19:31:00 UTC</td></tr><tr><td>&quot;038441c925bb&quot;</td><td>24</td><td>2018-08-14 19:32:00 UTC</td></tr><tr><td>&quot;038441c925bb&quot;</td><td>36</td><td>2018-08-14 19:33:00 UTC</td></tr><tr><td>&quot;038441c925bb&quot;</td><td>48</td><td>2018-08-14 19:34:00 UTC</td></tr><tr><td>&quot;038441c925bb&quot;</td><td>60</td><td>2018-08-14 19:35:00 UTC</td></tr><tr><td>&quot;038441c925bb&quot;</td><td>72</td><td>2018-08-14 19:36:00 UTC</td></tr><tr><td>&quot;038441c925bb&quot;</td><td>84</td><td>2018-08-14 19:37:00 UTC</td></tr><tr><td>&quot;038441c925bb&quot;</td><td>96</td><td>2018-08-14 19:38:00 UTC</td></tr><tr><td>&quot;038441c925bb&quot;</td><td>108</td><td>2018-08-14 19:39:00 UTC</td></tr><tr><td>&quot;038441c925bb&quot;</td><td>120</td><td>2018-08-14 19:40:00 UTC</td></tr><tr><td>&quot;038441c925bb&quot;</td><td>132</td><td>2018-08-14 19:41:00 UTC</td></tr><tr><td>&hellip;</td><td>&hellip;</td><td>&hellip;</td></tr><tr><td>&quot;fe90110788d2&quot;</td><td>592260</td><td>2017-09-08 04:05:00 UTC</td></tr><tr><td>&quot;fe90110788d2&quot;</td><td>592272</td><td>2017-09-08 04:06:00 UTC</td></tr><tr><td>&quot;fe90110788d2&quot;</td><td>592284</td><td>2017-09-08 04:07:00 UTC</td></tr><tr><td>&quot;fe90110788d2&quot;</td><td>592296</td><td>2017-09-08 04:08:00 UTC</td></tr><tr><td>&quot;fe90110788d2&quot;</td><td>592308</td><td>2017-09-08 04:09:00 UTC</td></tr><tr><td>&quot;fe90110788d2&quot;</td><td>592320</td><td>2017-09-08 04:10:00 UTC</td></tr><tr><td>&quot;fe90110788d2&quot;</td><td>592332</td><td>2017-09-08 04:11:00 UTC</td></tr><tr><td>&quot;fe90110788d2&quot;</td><td>592344</td><td>2017-09-08 04:12:00 UTC</td></tr><tr><td>&quot;fe90110788d2&quot;</td><td>592356</td><td>2017-09-08 04:13:00 UTC</td></tr><tr><td>&quot;fe90110788d2&quot;</td><td>592368</td><td>2017-09-08 04:14:00 UTC</td></tr><tr><td>&quot;fe90110788d2&quot;</td><td>592380</td><td>null</td></tr><tr><td>&quot;fe90110788d2&quot;</td><td>592392</td><td>null</td></tr></tbody></table></div>"
      ],
      "text/plain": [
       "shape: (1_983_978, 3)\n",
       "┌──────────────┬────────┬─────────────────────────┐\n",
       "│ series_id    ┆ step   ┆ timestamp               │\n",
       "│ ---          ┆ ---    ┆ ---                     │\n",
       "│ str          ┆ i64    ┆ datetime[μs, UTC]       │\n",
       "╞══════════════╪════════╪═════════════════════════╡\n",
       "│ 038441c925bb ┆ 0      ┆ 2018-08-14 19:30:00 UTC │\n",
       "│ 038441c925bb ┆ 12     ┆ 2018-08-14 19:31:00 UTC │\n",
       "│ 038441c925bb ┆ 24     ┆ 2018-08-14 19:32:00 UTC │\n",
       "│ 038441c925bb ┆ 36     ┆ 2018-08-14 19:33:00 UTC │\n",
       "│ …            ┆ …      ┆ …                       │\n",
       "│ fe90110788d2 ┆ 592356 ┆ 2017-09-08 04:13:00 UTC │\n",
       "│ fe90110788d2 ┆ 592368 ┆ 2017-09-08 04:14:00 UTC │\n",
       "│ fe90110788d2 ┆ 592380 ┆ null                    │\n",
       "│ fe90110788d2 ┆ 592392 ┆ null                    │\n",
       "└──────────────┴────────┴─────────────────────────┘"
      ]
     },
     "execution_count": 15,
     "metadata": {},
     "output_type": "execute_result"
    }
   ],
   "source": [
    "base_df = pl.read_parquet(\"../data/009.parquet\",columns=['series_id', 'step', 'timestamp'])\n",
    "base_df"
   ]
  },
  {
   "cell_type": "code",
   "execution_count": 18,
   "id": "e230c294-24eb-4255-a682-1e735b0cc79a",
   "metadata": {
    "tags": []
   },
   "outputs": [],
   "source": [
    "pred_df = pl.concat([ pl.read_parquet(\"../data/009.parquet\",columns=['series_id', 'step', 'timestamp']),\n",
    "           pl.read_parquet(\"../data/sakami/004_transformer_category_padding_idx/valid_preds.parquet\")\n",
    "          ], how=\"horizontal\")\n"
   ]
  },
  {
   "cell_type": "code",
   "execution_count": 19,
   "id": "bd49f878-1043-495b-8b58-f9ae9830b658",
   "metadata": {
    "tags": []
   },
   "outputs": [
    {
     "data": {
      "text/html": [
       "<div><style>\n",
       ".dataframe > thead > tr > th,\n",
       ".dataframe > tbody > tr > td {\n",
       "  text-align: right;\n",
       "  white-space: pre-wrap;\n",
       "}\n",
       "</style>\n",
       "<small>shape: (1_983_978, 6)</small><table border=\"1\" class=\"dataframe\"><thead><tr><th>series_id</th><th>step</th><th>timestamp</th><th>row_id</th><th>stacking_prediction_onset</th><th>stacking_prediction_wakeup</th></tr><tr><td>str</td><td>i64</td><td>datetime[μs, UTC]</td><td>i64</td><td>f32</td><td>f32</td></tr></thead><tbody><tr><td>&quot;038441c925bb&quot;</td><td>0</td><td>2018-08-14 19:30:00 UTC</td><td>0</td><td>0.000024</td><td>1.2125e-7</td></tr><tr><td>&quot;038441c925bb&quot;</td><td>12</td><td>2018-08-14 19:31:00 UTC</td><td>1</td><td>0.00001</td><td>2.4939e-9</td></tr><tr><td>&quot;038441c925bb&quot;</td><td>24</td><td>2018-08-14 19:32:00 UTC</td><td>2</td><td>4.3041e-7</td><td>2.0538e-8</td></tr><tr><td>&quot;038441c925bb&quot;</td><td>36</td><td>2018-08-14 19:33:00 UTC</td><td>3</td><td>0.000027</td><td>6.2915e-8</td></tr><tr><td>&quot;038441c925bb&quot;</td><td>48</td><td>2018-08-14 19:34:00 UTC</td><td>4</td><td>6.3560e-7</td><td>4.2752e-8</td></tr><tr><td>&quot;038441c925bb&quot;</td><td>60</td><td>2018-08-14 19:35:00 UTC</td><td>5</td><td>0.000017</td><td>2.5683e-9</td></tr><tr><td>&quot;038441c925bb&quot;</td><td>72</td><td>2018-08-14 19:36:00 UTC</td><td>6</td><td>0.000025</td><td>4.0242e-8</td></tr><tr><td>&quot;038441c925bb&quot;</td><td>84</td><td>2018-08-14 19:37:00 UTC</td><td>7</td><td>0.000047</td><td>5.7438e-7</td></tr><tr><td>&quot;038441c925bb&quot;</td><td>96</td><td>2018-08-14 19:38:00 UTC</td><td>8</td><td>0.000007</td><td>2.2604e-8</td></tr><tr><td>&quot;038441c925bb&quot;</td><td>108</td><td>2018-08-14 19:39:00 UTC</td><td>9</td><td>0.000025</td><td>1.3357e-8</td></tr><tr><td>&quot;038441c925bb&quot;</td><td>120</td><td>2018-08-14 19:40:00 UTC</td><td>10</td><td>0.000001</td><td>8.9648e-8</td></tr><tr><td>&quot;038441c925bb&quot;</td><td>132</td><td>2018-08-14 19:41:00 UTC</td><td>11</td><td>0.000026</td><td>6.6331e-8</td></tr><tr><td>&hellip;</td><td>&hellip;</td><td>&hellip;</td><td>&hellip;</td><td>&hellip;</td><td>&hellip;</td></tr><tr><td>&quot;fe90110788d2&quot;</td><td>592260</td><td>2017-09-08 04:05:00 UTC</td><td>1983966</td><td>0.000168</td><td>5.1545e-9</td></tr><tr><td>&quot;fe90110788d2&quot;</td><td>592272</td><td>2017-09-08 04:06:00 UTC</td><td>1983967</td><td>0.000089</td><td>5.8840e-8</td></tr><tr><td>&quot;fe90110788d2&quot;</td><td>592284</td><td>2017-09-08 04:07:00 UTC</td><td>1983968</td><td>0.000236</td><td>1.6403e-7</td></tr><tr><td>&quot;fe90110788d2&quot;</td><td>592296</td><td>2017-09-08 04:08:00 UTC</td><td>1983969</td><td>0.000095</td><td>2.7274e-8</td></tr><tr><td>&quot;fe90110788d2&quot;</td><td>592308</td><td>2017-09-08 04:09:00 UTC</td><td>1983970</td><td>0.000117</td><td>1.4544e-9</td></tr><tr><td>&quot;fe90110788d2&quot;</td><td>592320</td><td>2017-09-08 04:10:00 UTC</td><td>1983971</td><td>0.00001</td><td>1.6552e-7</td></tr><tr><td>&quot;fe90110788d2&quot;</td><td>592332</td><td>2017-09-08 04:11:00 UTC</td><td>1983972</td><td>0.000235</td><td>1.0988e-7</td></tr><tr><td>&quot;fe90110788d2&quot;</td><td>592344</td><td>2017-09-08 04:12:00 UTC</td><td>1983973</td><td>0.000006</td><td>9.5498e-8</td></tr><tr><td>&quot;fe90110788d2&quot;</td><td>592356</td><td>2017-09-08 04:13:00 UTC</td><td>1983974</td><td>0.000178</td><td>7.4051e-9</td></tr><tr><td>&quot;fe90110788d2&quot;</td><td>592368</td><td>2017-09-08 04:14:00 UTC</td><td>1983975</td><td>0.000077</td><td>2.9310e-8</td></tr><tr><td>&quot;fe90110788d2&quot;</td><td>592380</td><td>null</td><td>1983976</td><td>0.000126</td><td>2.7458e-7</td></tr><tr><td>&quot;fe90110788d2&quot;</td><td>592392</td><td>null</td><td>1983977</td><td>0.000126</td><td>2.7458e-7</td></tr></tbody></table></div>"
      ],
      "text/plain": [
       "shape: (1_983_978, 6)\n",
       "┌──────────────┬────────┬─────────────────────┬─────────┬─────────────────────┬────────────────────┐\n",
       "│ series_id    ┆ step   ┆ timestamp           ┆ row_id  ┆ stacking_prediction ┆ stacking_predictio │\n",
       "│ ---          ┆ ---    ┆ ---                 ┆ ---     ┆ _onset              ┆ n_wakeup           │\n",
       "│ str          ┆ i64    ┆ datetime[μs, UTC]   ┆ i64     ┆ ---                 ┆ ---                │\n",
       "│              ┆        ┆                     ┆         ┆ f32                 ┆ f32                │\n",
       "╞══════════════╪════════╪═════════════════════╪═════════╪═════════════════════╪════════════════════╡\n",
       "│ 038441c925bb ┆ 0      ┆ 2018-08-14 19:30:00 ┆ 0       ┆ 0.000024            ┆ 1.2125e-7          │\n",
       "│              ┆        ┆ UTC                 ┆         ┆                     ┆                    │\n",
       "│ 038441c925bb ┆ 12     ┆ 2018-08-14 19:31:00 ┆ 1       ┆ 0.00001             ┆ 2.4939e-9          │\n",
       "│              ┆        ┆ UTC                 ┆         ┆                     ┆                    │\n",
       "│ 038441c925bb ┆ 24     ┆ 2018-08-14 19:32:00 ┆ 2       ┆ 4.3041e-7           ┆ 2.0538e-8          │\n",
       "│              ┆        ┆ UTC                 ┆         ┆                     ┆                    │\n",
       "│ 038441c925bb ┆ 36     ┆ 2018-08-14 19:33:00 ┆ 3       ┆ 0.000027            ┆ 6.2915e-8          │\n",
       "│              ┆        ┆ UTC                 ┆         ┆                     ┆                    │\n",
       "│ …            ┆ …      ┆ …                   ┆ …       ┆ …                   ┆ …                  │\n",
       "│ fe90110788d2 ┆ 592356 ┆ 2017-09-08 04:13:00 ┆ 1983974 ┆ 0.000178            ┆ 7.4051e-9          │\n",
       "│              ┆        ┆ UTC                 ┆         ┆                     ┆                    │\n",
       "│ fe90110788d2 ┆ 592368 ┆ 2017-09-08 04:14:00 ┆ 1983975 ┆ 0.000077            ┆ 2.9310e-8          │\n",
       "│              ┆        ┆ UTC                 ┆         ┆                     ┆                    │\n",
       "│ fe90110788d2 ┆ 592380 ┆ null                ┆ 1983976 ┆ 0.000126            ┆ 2.7458e-7          │\n",
       "│ fe90110788d2 ┆ 592392 ┆ null                ┆ 1983977 ┆ 0.000126            ┆ 2.7458e-7          │\n",
       "└──────────────┴────────┴─────────────────────┴─────────┴─────────────────────┴────────────────────┘"
      ]
     },
     "execution_count": 19,
     "metadata": {},
     "output_type": "execute_result"
    }
   ],
   "source": [
    "pred_df"
   ]
  },
  {
   "cell_type": "code",
   "execution_count": 37,
   "id": "db677964-450e-4731-86b0-8a6994fb7fb9",
   "metadata": {},
   "outputs": [],
   "source": [
    "def load_shimacos_nn_pred(name: str):\n",
    "    pred_df = (\n",
    "        pl.concat(\n",
    "            [\n",
    "                pl.read_parquet(f\"../data/shimacos/{name}/fold{i}/result/valid.parquet\") for i in range(5)\n",
    "            ],\n",
    "            how=\"vertical\"\n",
    "        )\n",
    "    ).with_columns(\n",
    "            pl.col(\"step\").cast(pl.UInt32)\n",
    "    ).rename({\n",
    "        \"label_onset_pred\": f\"{name}_stacking_prediction_onset\",\n",
    "        \"label_wakeup_pred\": f\"{name}_stacking_prediction_wakeup\",\n",
    "        })\n",
    "    return pred_df"
   ]
  },
  {
   "cell_type": "code",
   "execution_count": 38,
   "id": "1199e404-e0ee-4d19-9ec0-2abcfeee1e0b",
   "metadata": {
    "tags": []
   },
   "outputs": [
    {
     "data": {
      "text/html": [
       "<div><style>\n",
       ".dataframe > thead > tr > th,\n",
       ".dataframe > tbody > tr > td {\n",
       "  text-align: right;\n",
       "  white-space: pre-wrap;\n",
       "}\n",
       "</style>\n",
       "<small>shape: (3_199_763, 8)</small><table border=\"1\" class=\"dataframe\"><thead><tr><th>series_id</th><th>step</th><th>label_onset</th><th>label_wakeup</th><th>stacking_exp030_021_chink_gru_stacking_prediction_onset</th><th>stacking_exp030_021_chink_gru_stacking_prediction_wakeup</th><th>timestamp</th><th>chunk_id</th></tr><tr><td>str</td><td>u32</td><td>f64</td><td>f64</td><td>f64</td><td>f64</td><td>datetime[μs, UTC]</td><td>i64</td></tr></thead><tbody><tr><td>&quot;0402a003dae9&quot;</td><td>2244</td><td>0.0</td><td>0.0</td><td>5.2036e-7</td><td>0.000335</td><td>2018-12-18 20:52:00 UTC</td><td>0</td></tr><tr><td>&quot;0402a003dae9&quot;</td><td>2256</td><td>0.0</td><td>0.0</td><td>1.1979e-7</td><td>0.000005</td><td>2018-12-18 20:53:00 UTC</td><td>0</td></tr><tr><td>&quot;0402a003dae9&quot;</td><td>2268</td><td>0.0</td><td>0.0</td><td>3.1250e-8</td><td>0.000001</td><td>2018-12-18 20:54:00 UTC</td><td>0</td></tr><tr><td>&quot;0402a003dae9&quot;</td><td>2280</td><td>0.0</td><td>0.0</td><td>1.1677e-8</td><td>5.7477e-8</td><td>2018-12-18 20:55:00 UTC</td><td>0</td></tr><tr><td>&quot;0402a003dae9&quot;</td><td>2292</td><td>0.0</td><td>0.0</td><td>3.0116e-7</td><td>3.5209e-7</td><td>2018-12-18 20:56:00 UTC</td><td>0</td></tr><tr><td>&quot;0402a003dae9&quot;</td><td>2304</td><td>0.0</td><td>0.0</td><td>5.3688e-7</td><td>5.6264e-7</td><td>2018-12-18 20:57:00 UTC</td><td>0</td></tr><tr><td>&quot;0402a003dae9&quot;</td><td>2316</td><td>0.0</td><td>0.0</td><td>8.6465e-7</td><td>8.7143e-7</td><td>2018-12-18 20:58:00 UTC</td><td>0</td></tr><tr><td>&quot;0402a003dae9&quot;</td><td>2328</td><td>0.0</td><td>0.0</td><td>5.2951e-8</td><td>2.3091e-7</td><td>2018-12-18 20:59:00 UTC</td><td>0</td></tr><tr><td>&quot;0402a003dae9&quot;</td><td>2340</td><td>0.0</td><td>0.0</td><td>1.1230e-8</td><td>7.8256e-8</td><td>2018-12-18 21:00:00 UTC</td><td>0</td></tr><tr><td>&quot;0402a003dae9&quot;</td><td>2352</td><td>0.0</td><td>0.0</td><td>8.2655e-8</td><td>1.1122e-7</td><td>2018-12-18 21:01:00 UTC</td><td>0</td></tr><tr><td>&quot;0402a003dae9&quot;</td><td>2364</td><td>0.0</td><td>0.0</td><td>3.1561e-7</td><td>4.9847e-7</td><td>2018-12-18 21:02:00 UTC</td><td>0</td></tr><tr><td>&quot;0402a003dae9&quot;</td><td>2376</td><td>0.0</td><td>0.0</td><td>2.5659e-7</td><td>1.0907e-7</td><td>2018-12-18 21:03:00 UTC</td><td>0</td></tr><tr><td>&hellip;</td><td>&hellip;</td><td>&hellip;</td><td>&hellip;</td><td>&hellip;</td><td>&hellip;</td><td>&hellip;</td><td>&hellip;</td></tr><tr><td>&quot;f88e18cb4100&quot;</td><td>400380</td><td>0.0</td><td>0.0</td><td>0.000005</td><td>0.000005</td><td>2018-07-07 20:50:00 UTC</td><td>73</td></tr><tr><td>&quot;f88e18cb4100&quot;</td><td>400392</td><td>0.0</td><td>0.0</td><td>0.000004</td><td>0.000005</td><td>2018-07-07 20:51:00 UTC</td><td>73</td></tr><tr><td>&quot;f88e18cb4100&quot;</td><td>400404</td><td>0.0</td><td>0.0</td><td>0.000003</td><td>0.000006</td><td>2018-07-07 20:52:00 UTC</td><td>73</td></tr><tr><td>&quot;f88e18cb4100&quot;</td><td>400416</td><td>0.0</td><td>0.0</td><td>0.000004</td><td>0.000006</td><td>2018-07-07 20:53:00 UTC</td><td>73</td></tr><tr><td>&quot;f88e18cb4100&quot;</td><td>400428</td><td>0.0</td><td>0.0</td><td>0.000004</td><td>0.000006</td><td>2018-07-07 20:54:00 UTC</td><td>73</td></tr><tr><td>&quot;f88e18cb4100&quot;</td><td>400440</td><td>0.0</td><td>0.0</td><td>0.000003</td><td>0.000006</td><td>2018-07-07 20:55:00 UTC</td><td>73</td></tr><tr><td>&quot;f88e18cb4100&quot;</td><td>400452</td><td>0.0</td><td>0.0</td><td>0.000003</td><td>0.000006</td><td>2018-07-07 20:56:00 UTC</td><td>73</td></tr><tr><td>&quot;f88e18cb4100&quot;</td><td>400464</td><td>0.0</td><td>0.0</td><td>0.000004</td><td>0.000008</td><td>2018-07-07 20:57:00 UTC</td><td>73</td></tr><tr><td>&quot;f88e18cb4100&quot;</td><td>400476</td><td>0.0</td><td>0.0</td><td>0.000004</td><td>0.000008</td><td>2018-07-07 20:58:00 UTC</td><td>73</td></tr><tr><td>&quot;f88e18cb4100&quot;</td><td>400488</td><td>0.0</td><td>0.0</td><td>0.000003</td><td>0.000009</td><td>2018-07-07 20:59:00 UTC</td><td>73</td></tr><tr><td>&quot;f88e18cb4100&quot;</td><td>400500</td><td>0.0</td><td>0.0</td><td>0.000002</td><td>0.000013</td><td>2018-07-07 21:00:00 UTC</td><td>73</td></tr><tr><td>&quot;f88e18cb4100&quot;</td><td>400512</td><td>0.0</td><td>0.0</td><td>0.000004</td><td>0.000012</td><td>2018-07-07 21:01:00 UTC</td><td>73</td></tr></tbody></table></div>"
      ],
      "text/plain": [
       "shape: (3_199_763, 8)\n",
       "┌─────────────┬────────┬────────────┬────────────┬────────────┬────────────┬────────────┬──────────┐\n",
       "│ series_id   ┆ step   ┆ label_onse ┆ label_wake ┆ stacking_e ┆ stacking_e ┆ timestamp  ┆ chunk_id │\n",
       "│ ---         ┆ ---    ┆ t          ┆ up         ┆ xp030_021_ ┆ xp030_021_ ┆ ---        ┆ ---      │\n",
       "│ str         ┆ u32    ┆ ---        ┆ ---        ┆ chink_gru_ ┆ chink_gru_ ┆ datetime[μ ┆ i64      │\n",
       "│             ┆        ┆ f64        ┆ f64        ┆ st…        ┆ st…        ┆ s, UTC]    ┆          │\n",
       "│             ┆        ┆            ┆            ┆ ---        ┆ ---        ┆            ┆          │\n",
       "│             ┆        ┆            ┆            ┆ f64        ┆ f64        ┆            ┆          │\n",
       "╞═════════════╪════════╪════════════╪════════════╪════════════╪════════════╪════════════╪══════════╡\n",
       "│ 0402a003dae ┆ 2244   ┆ 0.0        ┆ 0.0        ┆ 5.2036e-7  ┆ 0.000335   ┆ 2018-12-18 ┆ 0        │\n",
       "│ 9           ┆        ┆            ┆            ┆            ┆            ┆ 20:52:00   ┆          │\n",
       "│             ┆        ┆            ┆            ┆            ┆            ┆ UTC        ┆          │\n",
       "│ 0402a003dae ┆ 2256   ┆ 0.0        ┆ 0.0        ┆ 1.1979e-7  ┆ 0.000005   ┆ 2018-12-18 ┆ 0        │\n",
       "│ 9           ┆        ┆            ┆            ┆            ┆            ┆ 20:53:00   ┆          │\n",
       "│             ┆        ┆            ┆            ┆            ┆            ┆ UTC        ┆          │\n",
       "│ 0402a003dae ┆ 2268   ┆ 0.0        ┆ 0.0        ┆ 3.1250e-8  ┆ 0.000001   ┆ 2018-12-18 ┆ 0        │\n",
       "│ 9           ┆        ┆            ┆            ┆            ┆            ┆ 20:54:00   ┆          │\n",
       "│             ┆        ┆            ┆            ┆            ┆            ┆ UTC        ┆          │\n",
       "│ 0402a003dae ┆ 2280   ┆ 0.0        ┆ 0.0        ┆ 1.1677e-8  ┆ 5.7477e-8  ┆ 2018-12-18 ┆ 0        │\n",
       "│ 9           ┆        ┆            ┆            ┆            ┆            ┆ 20:55:00   ┆          │\n",
       "│             ┆        ┆            ┆            ┆            ┆            ┆ UTC        ┆          │\n",
       "│ …           ┆ …      ┆ …          ┆ …          ┆ …          ┆ …          ┆ …          ┆ …        │\n",
       "│ f88e18cb410 ┆ 400476 ┆ 0.0        ┆ 0.0        ┆ 0.000004   ┆ 0.000008   ┆ 2018-07-07 ┆ 73       │\n",
       "│ 0           ┆        ┆            ┆            ┆            ┆            ┆ 20:58:00   ┆          │\n",
       "│             ┆        ┆            ┆            ┆            ┆            ┆ UTC        ┆          │\n",
       "│ f88e18cb410 ┆ 400488 ┆ 0.0        ┆ 0.0        ┆ 0.000003   ┆ 0.000009   ┆ 2018-07-07 ┆ 73       │\n",
       "│ 0           ┆        ┆            ┆            ┆            ┆            ┆ 20:59:00   ┆          │\n",
       "│             ┆        ┆            ┆            ┆            ┆            ┆ UTC        ┆          │\n",
       "│ f88e18cb410 ┆ 400500 ┆ 0.0        ┆ 0.0        ┆ 0.000002   ┆ 0.000013   ┆ 2018-07-07 ┆ 73       │\n",
       "│ 0           ┆        ┆            ┆            ┆            ┆            ┆ 21:00:00   ┆          │\n",
       "│             ┆        ┆            ┆            ┆            ┆            ┆ UTC        ┆          │\n",
       "│ f88e18cb410 ┆ 400512 ┆ 0.0        ┆ 0.0        ┆ 0.000004   ┆ 0.000012   ┆ 2018-07-07 ┆ 73       │\n",
       "│ 0           ┆        ┆            ┆            ┆            ┆            ┆ 21:01:00   ┆          │\n",
       "│             ┆        ┆            ┆            ┆            ┆            ┆ UTC        ┆          │\n",
       "└─────────────┴────────┴────────────┴────────────┴────────────┴────────────┴────────────┴──────────┘"
      ]
     },
     "execution_count": 38,
     "metadata": {},
     "output_type": "execute_result"
    }
   ],
   "source": [
    "base_df = load_shimacos_nn_pred(\"stacking_exp030_021_chink_gru\")\n",
    "base_df"
   ]
  },
  {
   "cell_type": "code",
   "execution_count": null,
   "id": "f2ae3072-1fd8-481d-81df-93d5686e48a4",
   "metadata": {},
   "outputs": [],
   "source": []
  },
  {
   "cell_type": "code",
   "execution_count": null,
   "id": "bacab0b6-a67e-4e7f-9ff5-ba9f44eadcca",
   "metadata": {},
   "outputs": [],
   "source": []
  },
  {
   "cell_type": "code",
   "execution_count": 1,
   "id": "4c2cd3a3-f3b0-4580-989d-7facf316edd8",
   "metadata": {
    "collapsed": true,
    "jupyter": {
     "outputs_hidden": true
    },
    "tags": []
   },
   "outputs": [
    {
     "name": "stderr",
     "output_type": "stream",
     "text": [
      "[I 2023-12-04 02:57:43,012] A new study created in RDB with name: example-study\n",
      "[W 2023-12-04 02:57:43,071] Trial 0 failed with parameters: {'alpha': 0.0007804690903810456} because of the following error: TypeError(\"BaseSGDClassifier.fit() got an unexpected keyword argument 'classes'\").\n",
      "Traceback (most recent call last):\n",
      "  File \"/opt/conda/lib/python3.10/site-packages/optuna/study/_optimize.py\", line 200, in _run_trial\n",
      "    value_or_values = func(trial)\n",
      "  File \"/tmp/ipykernel_139/3065636688.py\", line 22, in objective\n",
      "    clf.fit(train_x, train_y, classes=classes)\n",
      "TypeError: BaseSGDClassifier.fit() got an unexpected keyword argument 'classes'\n",
      "[W 2023-12-04 02:57:43,072] Trial 0 failed with value None.\n"
     ]
    },
    {
     "ename": "TypeError",
     "evalue": "BaseSGDClassifier.fit() got an unexpected keyword argument 'classes'",
     "output_type": "error",
     "traceback": [
      "\u001b[0;31m---------------------------------------------------------------------------\u001b[0m",
      "\u001b[0;31mTypeError\u001b[0m                                 Traceback (most recent call last)",
      "Cell \u001b[0;32mIn[1], line 31\u001b[0m\n\u001b[1;32m     24\u001b[0m     \u001b[38;5;28;01mreturn\u001b[39;00m \u001b[38;5;241m1.0\u001b[39m \u001b[38;5;241m-\u001b[39m clf\u001b[38;5;241m.\u001b[39mscore(valid_x, valid_y)\n\u001b[1;32m     26\u001b[0m study \u001b[38;5;241m=\u001b[39m optuna\u001b[38;5;241m.\u001b[39mcreate_study(\n\u001b[1;32m     27\u001b[0m     study_name\u001b[38;5;241m=\u001b[39m\u001b[38;5;124m\"\u001b[39m\u001b[38;5;124mexample-study\u001b[39m\u001b[38;5;124m\"\u001b[39m, \n\u001b[1;32m     28\u001b[0m     storage\u001b[38;5;241m=\u001b[39m\u001b[38;5;124m'\u001b[39m\u001b[38;5;124mmysql://root@db/optuna\u001b[39m\u001b[38;5;124m'\u001b[39m,\n\u001b[1;32m     29\u001b[0m     load_if_exists\u001b[38;5;241m=\u001b[39m\u001b[38;5;28;01mTrue\u001b[39;00m,\n\u001b[1;32m     30\u001b[0m )\n\u001b[0;32m---> 31\u001b[0m \u001b[43mstudy\u001b[49m\u001b[38;5;241;43m.\u001b[39;49m\u001b[43moptimize\u001b[49m\u001b[43m(\u001b[49m\u001b[43mobjective\u001b[49m\u001b[43m,\u001b[49m\u001b[43m \u001b[49m\u001b[43mn_trials\u001b[49m\u001b[38;5;241;43m=\u001b[39;49m\u001b[43mN_TRIALS_PER_WORKER\u001b[49m\u001b[43m)\u001b[49m\n\u001b[1;32m     33\u001b[0m \u001b[38;5;28mprint\u001b[39m(\u001b[38;5;124mf\u001b[39m\u001b[38;5;124m\"\u001b[39m\u001b[38;5;124mこのワーカーが終了した時点で最良の誤差: \u001b[39m\u001b[38;5;132;01m{\u001b[39;00mstudy\u001b[38;5;241m.\u001b[39mbest_value\u001b[38;5;132;01m}\u001b[39;00m\u001b[38;5;124m\"\u001b[39m)\n\u001b[1;32m     34\u001b[0m \u001b[38;5;28mprint\u001b[39m(\u001b[38;5;124mf\u001b[39m\u001b[38;5;124m\"\u001b[39m\u001b[38;5;124mこのワーカーが終了した時点で最良のハイパーパラメータ: \u001b[39m\u001b[38;5;132;01m{\u001b[39;00mstudy\u001b[38;5;241m.\u001b[39mbest_params\u001b[38;5;132;01m}\u001b[39;00m\u001b[38;5;124m\"\u001b[39m)\n",
      "File \u001b[0;32m/opt/conda/lib/python3.10/site-packages/optuna/study/study.py:442\u001b[0m, in \u001b[0;36mStudy.optimize\u001b[0;34m(self, func, n_trials, timeout, n_jobs, catch, callbacks, gc_after_trial, show_progress_bar)\u001b[0m\n\u001b[1;32m    339\u001b[0m \u001b[38;5;28;01mdef\u001b[39;00m \u001b[38;5;21moptimize\u001b[39m(\n\u001b[1;32m    340\u001b[0m     \u001b[38;5;28mself\u001b[39m,\n\u001b[1;32m    341\u001b[0m     func: ObjectiveFuncType,\n\u001b[0;32m   (...)\u001b[0m\n\u001b[1;32m    348\u001b[0m     show_progress_bar: \u001b[38;5;28mbool\u001b[39m \u001b[38;5;241m=\u001b[39m \u001b[38;5;28;01mFalse\u001b[39;00m,\n\u001b[1;32m    349\u001b[0m ) \u001b[38;5;241m-\u001b[39m\u001b[38;5;241m>\u001b[39m \u001b[38;5;28;01mNone\u001b[39;00m:\n\u001b[1;32m    350\u001b[0m \u001b[38;5;250m    \u001b[39m\u001b[38;5;124;03m\"\"\"Optimize an objective function.\u001b[39;00m\n\u001b[1;32m    351\u001b[0m \n\u001b[1;32m    352\u001b[0m \u001b[38;5;124;03m    Optimization is done by choosing a suitable set of hyperparameter values from a given\u001b[39;00m\n\u001b[0;32m   (...)\u001b[0m\n\u001b[1;32m    440\u001b[0m \u001b[38;5;124;03m            If nested invocation of this method occurs.\u001b[39;00m\n\u001b[1;32m    441\u001b[0m \u001b[38;5;124;03m    \"\"\"\u001b[39;00m\n\u001b[0;32m--> 442\u001b[0m     \u001b[43m_optimize\u001b[49m\u001b[43m(\u001b[49m\n\u001b[1;32m    443\u001b[0m \u001b[43m        \u001b[49m\u001b[43mstudy\u001b[49m\u001b[38;5;241;43m=\u001b[39;49m\u001b[38;5;28;43mself\u001b[39;49m\u001b[43m,\u001b[49m\n\u001b[1;32m    444\u001b[0m \u001b[43m        \u001b[49m\u001b[43mfunc\u001b[49m\u001b[38;5;241;43m=\u001b[39;49m\u001b[43mfunc\u001b[49m\u001b[43m,\u001b[49m\n\u001b[1;32m    445\u001b[0m \u001b[43m        \u001b[49m\u001b[43mn_trials\u001b[49m\u001b[38;5;241;43m=\u001b[39;49m\u001b[43mn_trials\u001b[49m\u001b[43m,\u001b[49m\n\u001b[1;32m    446\u001b[0m \u001b[43m        \u001b[49m\u001b[43mtimeout\u001b[49m\u001b[38;5;241;43m=\u001b[39;49m\u001b[43mtimeout\u001b[49m\u001b[43m,\u001b[49m\n\u001b[1;32m    447\u001b[0m \u001b[43m        \u001b[49m\u001b[43mn_jobs\u001b[49m\u001b[38;5;241;43m=\u001b[39;49m\u001b[43mn_jobs\u001b[49m\u001b[43m,\u001b[49m\n\u001b[1;32m    448\u001b[0m \u001b[43m        \u001b[49m\u001b[43mcatch\u001b[49m\u001b[38;5;241;43m=\u001b[39;49m\u001b[38;5;28;43mtuple\u001b[39;49m\u001b[43m(\u001b[49m\u001b[43mcatch\u001b[49m\u001b[43m)\u001b[49m\u001b[43m \u001b[49m\u001b[38;5;28;43;01mif\u001b[39;49;00m\u001b[43m \u001b[49m\u001b[38;5;28;43misinstance\u001b[39;49m\u001b[43m(\u001b[49m\u001b[43mcatch\u001b[49m\u001b[43m,\u001b[49m\u001b[43m \u001b[49m\u001b[43mIterable\u001b[49m\u001b[43m)\u001b[49m\u001b[43m \u001b[49m\u001b[38;5;28;43;01melse\u001b[39;49;00m\u001b[43m \u001b[49m\u001b[43m(\u001b[49m\u001b[43mcatch\u001b[49m\u001b[43m,\u001b[49m\u001b[43m)\u001b[49m\u001b[43m,\u001b[49m\n\u001b[1;32m    449\u001b[0m \u001b[43m        \u001b[49m\u001b[43mcallbacks\u001b[49m\u001b[38;5;241;43m=\u001b[39;49m\u001b[43mcallbacks\u001b[49m\u001b[43m,\u001b[49m\n\u001b[1;32m    450\u001b[0m \u001b[43m        \u001b[49m\u001b[43mgc_after_trial\u001b[49m\u001b[38;5;241;43m=\u001b[39;49m\u001b[43mgc_after_trial\u001b[49m\u001b[43m,\u001b[49m\n\u001b[1;32m    451\u001b[0m \u001b[43m        \u001b[49m\u001b[43mshow_progress_bar\u001b[49m\u001b[38;5;241;43m=\u001b[39;49m\u001b[43mshow_progress_bar\u001b[49m\u001b[43m,\u001b[49m\n\u001b[1;32m    452\u001b[0m \u001b[43m    \u001b[49m\u001b[43m)\u001b[49m\n",
      "File \u001b[0;32m/opt/conda/lib/python3.10/site-packages/optuna/study/_optimize.py:66\u001b[0m, in \u001b[0;36m_optimize\u001b[0;34m(study, func, n_trials, timeout, n_jobs, catch, callbacks, gc_after_trial, show_progress_bar)\u001b[0m\n\u001b[1;32m     64\u001b[0m \u001b[38;5;28;01mtry\u001b[39;00m:\n\u001b[1;32m     65\u001b[0m     \u001b[38;5;28;01mif\u001b[39;00m n_jobs \u001b[38;5;241m==\u001b[39m \u001b[38;5;241m1\u001b[39m:\n\u001b[0;32m---> 66\u001b[0m         \u001b[43m_optimize_sequential\u001b[49m\u001b[43m(\u001b[49m\n\u001b[1;32m     67\u001b[0m \u001b[43m            \u001b[49m\u001b[43mstudy\u001b[49m\u001b[43m,\u001b[49m\n\u001b[1;32m     68\u001b[0m \u001b[43m            \u001b[49m\u001b[43mfunc\u001b[49m\u001b[43m,\u001b[49m\n\u001b[1;32m     69\u001b[0m \u001b[43m            \u001b[49m\u001b[43mn_trials\u001b[49m\u001b[43m,\u001b[49m\n\u001b[1;32m     70\u001b[0m \u001b[43m            \u001b[49m\u001b[43mtimeout\u001b[49m\u001b[43m,\u001b[49m\n\u001b[1;32m     71\u001b[0m \u001b[43m            \u001b[49m\u001b[43mcatch\u001b[49m\u001b[43m,\u001b[49m\n\u001b[1;32m     72\u001b[0m \u001b[43m            \u001b[49m\u001b[43mcallbacks\u001b[49m\u001b[43m,\u001b[49m\n\u001b[1;32m     73\u001b[0m \u001b[43m            \u001b[49m\u001b[43mgc_after_trial\u001b[49m\u001b[43m,\u001b[49m\n\u001b[1;32m     74\u001b[0m \u001b[43m            \u001b[49m\u001b[43mreseed_sampler_rng\u001b[49m\u001b[38;5;241;43m=\u001b[39;49m\u001b[38;5;28;43;01mFalse\u001b[39;49;00m\u001b[43m,\u001b[49m\n\u001b[1;32m     75\u001b[0m \u001b[43m            \u001b[49m\u001b[43mtime_start\u001b[49m\u001b[38;5;241;43m=\u001b[39;49m\u001b[38;5;28;43;01mNone\u001b[39;49;00m\u001b[43m,\u001b[49m\n\u001b[1;32m     76\u001b[0m \u001b[43m            \u001b[49m\u001b[43mprogress_bar\u001b[49m\u001b[38;5;241;43m=\u001b[39;49m\u001b[43mprogress_bar\u001b[49m\u001b[43m,\u001b[49m\n\u001b[1;32m     77\u001b[0m \u001b[43m        \u001b[49m\u001b[43m)\u001b[49m\n\u001b[1;32m     78\u001b[0m     \u001b[38;5;28;01melse\u001b[39;00m:\n\u001b[1;32m     79\u001b[0m         \u001b[38;5;28;01mif\u001b[39;00m n_jobs \u001b[38;5;241m==\u001b[39m \u001b[38;5;241m-\u001b[39m\u001b[38;5;241m1\u001b[39m:\n",
      "File \u001b[0;32m/opt/conda/lib/python3.10/site-packages/optuna/study/_optimize.py:163\u001b[0m, in \u001b[0;36m_optimize_sequential\u001b[0;34m(study, func, n_trials, timeout, catch, callbacks, gc_after_trial, reseed_sampler_rng, time_start, progress_bar)\u001b[0m\n\u001b[1;32m    160\u001b[0m         \u001b[38;5;28;01mbreak\u001b[39;00m\n\u001b[1;32m    162\u001b[0m \u001b[38;5;28;01mtry\u001b[39;00m:\n\u001b[0;32m--> 163\u001b[0m     frozen_trial \u001b[38;5;241m=\u001b[39m \u001b[43m_run_trial\u001b[49m\u001b[43m(\u001b[49m\u001b[43mstudy\u001b[49m\u001b[43m,\u001b[49m\u001b[43m \u001b[49m\u001b[43mfunc\u001b[49m\u001b[43m,\u001b[49m\u001b[43m \u001b[49m\u001b[43mcatch\u001b[49m\u001b[43m)\u001b[49m\n\u001b[1;32m    164\u001b[0m \u001b[38;5;28;01mfinally\u001b[39;00m:\n\u001b[1;32m    165\u001b[0m     \u001b[38;5;66;03m# The following line mitigates memory problems that can be occurred in some\u001b[39;00m\n\u001b[1;32m    166\u001b[0m     \u001b[38;5;66;03m# environments (e.g., services that use computing containers such as GitHub Actions).\u001b[39;00m\n\u001b[1;32m    167\u001b[0m     \u001b[38;5;66;03m# Please refer to the following PR for further details:\u001b[39;00m\n\u001b[1;32m    168\u001b[0m     \u001b[38;5;66;03m# https://github.com/optuna/optuna/pull/325.\u001b[39;00m\n\u001b[1;32m    169\u001b[0m     \u001b[38;5;28;01mif\u001b[39;00m gc_after_trial:\n",
      "File \u001b[0;32m/opt/conda/lib/python3.10/site-packages/optuna/study/_optimize.py:251\u001b[0m, in \u001b[0;36m_run_trial\u001b[0;34m(study, func, catch)\u001b[0m\n\u001b[1;32m    244\u001b[0m         \u001b[38;5;28;01massert\u001b[39;00m \u001b[38;5;28;01mFalse\u001b[39;00m, \u001b[38;5;124m\"\u001b[39m\u001b[38;5;124mShould not reach.\u001b[39m\u001b[38;5;124m\"\u001b[39m\n\u001b[1;32m    246\u001b[0m \u001b[38;5;28;01mif\u001b[39;00m (\n\u001b[1;32m    247\u001b[0m     frozen_trial\u001b[38;5;241m.\u001b[39mstate \u001b[38;5;241m==\u001b[39m TrialState\u001b[38;5;241m.\u001b[39mFAIL\n\u001b[1;32m    248\u001b[0m     \u001b[38;5;129;01mand\u001b[39;00m func_err \u001b[38;5;129;01mis\u001b[39;00m \u001b[38;5;129;01mnot\u001b[39;00m \u001b[38;5;28;01mNone\u001b[39;00m\n\u001b[1;32m    249\u001b[0m     \u001b[38;5;129;01mand\u001b[39;00m \u001b[38;5;129;01mnot\u001b[39;00m \u001b[38;5;28misinstance\u001b[39m(func_err, catch)\n\u001b[1;32m    250\u001b[0m ):\n\u001b[0;32m--> 251\u001b[0m     \u001b[38;5;28;01mraise\u001b[39;00m func_err\n\u001b[1;32m    252\u001b[0m \u001b[38;5;28;01mreturn\u001b[39;00m frozen_trial\n",
      "File \u001b[0;32m/opt/conda/lib/python3.10/site-packages/optuna/study/_optimize.py:200\u001b[0m, in \u001b[0;36m_run_trial\u001b[0;34m(study, func, catch)\u001b[0m\n\u001b[1;32m    198\u001b[0m \u001b[38;5;28;01mwith\u001b[39;00m get_heartbeat_thread(trial\u001b[38;5;241m.\u001b[39m_trial_id, study\u001b[38;5;241m.\u001b[39m_storage):\n\u001b[1;32m    199\u001b[0m     \u001b[38;5;28;01mtry\u001b[39;00m:\n\u001b[0;32m--> 200\u001b[0m         value_or_values \u001b[38;5;241m=\u001b[39m \u001b[43mfunc\u001b[49m\u001b[43m(\u001b[49m\u001b[43mtrial\u001b[49m\u001b[43m)\u001b[49m\n\u001b[1;32m    201\u001b[0m     \u001b[38;5;28;01mexcept\u001b[39;00m exceptions\u001b[38;5;241m.\u001b[39mTrialPruned \u001b[38;5;28;01mas\u001b[39;00m e:\n\u001b[1;32m    202\u001b[0m         \u001b[38;5;66;03m# TODO(mamu): Handle multi-objective cases.\u001b[39;00m\n\u001b[1;32m    203\u001b[0m         state \u001b[38;5;241m=\u001b[39m TrialState\u001b[38;5;241m.\u001b[39mPRUNED\n",
      "Cell \u001b[0;32mIn[1], line 22\u001b[0m, in \u001b[0;36mobjective\u001b[0;34m(trial)\u001b[0m\n\u001b[1;32m     19\u001b[0m clf \u001b[38;5;241m=\u001b[39m sklearn\u001b[38;5;241m.\u001b[39mlinear_model\u001b[38;5;241m.\u001b[39mSGDClassifier(alpha\u001b[38;5;241m=\u001b[39malpha)\n\u001b[1;32m     21\u001b[0m \u001b[38;5;66;03m# モデルの学習と評価\u001b[39;00m\n\u001b[0;32m---> 22\u001b[0m \u001b[43mclf\u001b[49m\u001b[38;5;241;43m.\u001b[39;49m\u001b[43mfit\u001b[49m\u001b[43m(\u001b[49m\u001b[43mtrain_x\u001b[49m\u001b[43m,\u001b[49m\u001b[43m \u001b[49m\u001b[43mtrain_y\u001b[49m\u001b[43m,\u001b[49m\u001b[43m \u001b[49m\u001b[43mclasses\u001b[49m\u001b[38;5;241;43m=\u001b[39;49m\u001b[43mclasses\u001b[49m\u001b[43m)\u001b[49m\n\u001b[1;32m     24\u001b[0m \u001b[38;5;28;01mreturn\u001b[39;00m \u001b[38;5;241m1.0\u001b[39m \u001b[38;5;241m-\u001b[39m clf\u001b[38;5;241m.\u001b[39mscore(valid_x, valid_y)\n",
      "\u001b[0;31mTypeError\u001b[0m: BaseSGDClassifier.fit() got an unexpected keyword argument 'classes'"
     ]
    }
   ],
   "source": [
    "import optuna\n",
    "import sklearn\n",
    "import sklearn.datasets\n",
    "import sklearn.linear_model\n",
    "\n",
    "\n",
    "N_TRIALS_PER_WORKER = 100\n",
    "\n",
    "\n",
    "def objective(trial):\n",
    "    #  データのロードと分割\n",
    "    wine = sklearn.datasets.load_wine()\n",
    "    classes = list(set(wine.target))\n",
    "    train_x, valid_x, train_y, valid_y = \\\n",
    "        sklearn.model_selection.train_test_split(wine.data, wine.target, test_size=0.25, random_state=0)\n",
    "\n",
    "    #  ハイパーパラメータの決定とモデルオブジェクトの初期化\n",
    "    alpha = trial.suggest_float('alpha', 1e-5, 1e-1, log=True)\n",
    "    clf = sklearn.linear_model.SGDClassifier(alpha=alpha)\n",
    "\n",
    "    # モデルの学習と評価\n",
    "    clf.fit(train_x, train_y, classes=classes)\n",
    "\n",
    "    return 1.0 - clf.score(valid_x, valid_y)\n",
    "\n",
    "study = optuna.create_study(\n",
    "    study_name=\"example-study\", \n",
    "    storage='mysql://root@db/optuna',\n",
    "    load_if_exists=True,\n",
    ")\n",
    "study.optimize(objective, n_trials=N_TRIALS_PER_WORKER)\n",
    "\n",
    "print(f\"このワーカーが終了した時点で最良の誤差: {study.best_value}\")\n",
    "print(f\"このワーカーが終了した時点で最良のハイパーパラメータ: {study.best_params}\")"
   ]
  },
  {
   "cell_type": "code",
   "execution_count": null,
   "id": "dcc51727-87e7-468c-b73c-e0ade21b1012",
   "metadata": {},
   "outputs": [],
   "source": []
  },
  {
   "cell_type": "code",
   "execution_count": null,
   "id": "942fb6bd-56fe-40ba-8d1f-d1f29095fc68",
   "metadata": {},
   "outputs": [],
   "source": []
  }
 ],
 "metadata": {
  "kernelspec": {
   "display_name": "Python [conda env:root] *",
   "language": "python",
   "name": "conda-root-py"
  },
  "language_info": {
   "codemirror_mode": {
    "name": "ipython",
    "version": 3
   },
   "file_extension": ".py",
   "mimetype": "text/x-python",
   "name": "python",
   "nbconvert_exporter": "python",
   "pygments_lexer": "ipython3",
   "version": "3.10.12"
  }
 },
 "nbformat": 4,
 "nbformat_minor": 5
}
