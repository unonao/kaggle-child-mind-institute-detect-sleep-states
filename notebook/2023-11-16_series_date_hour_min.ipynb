{
 "cells": [
  {
   "cell_type": "markdown",
   "id": "3c091287-6b9a-4857-813d-237f6aaf8d0f",
   "metadata": {},
   "source": [
    "# シリーズごとの時間の偏りなどがないか調べる\n"
   ]
  },
  {
   "cell_type": "code",
   "execution_count": 1,
   "id": "834807e6-991e-42b4-8821-087ea91f71be",
   "metadata": {
    "tags": []
   },
   "outputs": [],
   "source": [
    "import sys, os\n",
    "sys.path.append(os.pardir)"
   ]
  },
  {
   "cell_type": "code",
   "execution_count": 2,
   "id": "87a13792-9ddc-4450-a9bf-ea660c1114e6",
   "metadata": {
    "tags": []
   },
   "outputs": [],
   "source": [
    "from pathlib import Path\n",
    "import numpy as np\n",
    "import polars as pl\n",
    "import os\n",
    "from hydra import initialize, compose\n",
    "\n",
    "with initialize(config_path=\"../run/conf\", version_base=None):\n",
    "    cfg = compose(\"cv_score\", overrides=[\"exp_name=exp013\"])"
   ]
  },
  {
   "cell_type": "code",
   "execution_count": 29,
   "id": "26d24d97-8bcf-4e97-9bd6-8139470077ea",
   "metadata": {
    "tags": []
   },
   "outputs": [],
   "source": [
    "# series の読み込み\n",
    "train_df = pl.read_parquet(Path(cfg.dir.data_dir) / \"train_series.parquet\")\n",
    "train_df = train_df.with_columns(\n",
    "            pl.col(\"timestamp\").str.to_datetime(\"%Y-%m-%dT%H:%M:%S%z\")\n",
    "        )\n",
    "event_df = pl.read_csv(Path(cfg.dir.data_dir) / \"train_events.csv\")\n",
    "event_df = event_df.with_columns(\n",
    "    pl.col(\"timestamp\").str.to_datetime(\"%Y-%m-%dT%H:%M:%S%z\")\n",
    ")"
   ]
  },
  {
   "cell_type": "code",
   "execution_count": 22,
   "id": "fbaa8a4d-dc48-4dcc-8595-e5bdec9ba964",
   "metadata": {
    "tags": []
   },
   "outputs": [
    {
     "data": {
      "text/html": [
       "<div><style>\n",
       ".dataframe > thead > tr > th,\n",
       ".dataframe > tbody > tr > td {\n",
       "  text-align: right;\n",
       "  white-space: pre-wrap;\n",
       "}\n",
       "</style>\n",
       "<small>shape: (277, 7)</small><table border=\"1\" class=\"dataframe\"><thead><tr><th>series_id</th><th>step</th><th>timestamp</th><th>anglez</th><th>enmo</th><th>hour</th><th>minute</th></tr><tr><td>str</td><td>u32</td><td>datetime[μs, UTC]</td><td>f32</td><td>f32</td><td>u8</td><td>u8</td></tr></thead><tbody><tr><td>&quot;038441c925bb&quot;</td><td>0</td><td>2018-08-14 19:30:00 UTC</td><td>2.6367</td><td>0.0217</td><td>19</td><td>30</td></tr><tr><td>&quot;03d92c9f6f8a&quot;</td><td>0</td><td>2018-05-31 16:00:00 UTC</td><td>38.892899</td><td>0.0803</td><td>16</td><td>0</td></tr><tr><td>&quot;0402a003dae9&quot;</td><td>0</td><td>2018-12-18 17:45:00 UTC</td><td>-77.314903</td><td>0.0868</td><td>17</td><td>45</td></tr><tr><td>&quot;04f547b8017d&quot;</td><td>0</td><td>2018-11-28 17:00:00 UTC</td><td>0.6793</td><td>0.0</td><td>17</td><td>0</td></tr><tr><td>&quot;05e1944c3818&quot;</td><td>0</td><td>2018-11-16 23:00:00 UTC</td><td>-86.747398</td><td>0.0153</td><td>23</td><td>0</td></tr><tr><td>&quot;062cae666e2a&quot;</td><td>0</td><td>2019-02-01 21:45:00 UTC</td><td>2.6827</td><td>0.003</td><td>21</td><td>45</td></tr><tr><td>&quot;062dbd4c95e6&quot;</td><td>0</td><td>2018-08-22 16:15:00 UTC</td><td>10.9539</td><td>0.0839</td><td>16</td><td>15</td></tr><tr><td>&quot;08db4255286f&quot;</td><td>0</td><td>2018-11-05 14:00:00 UTC</td><td>-30.845301</td><td>0.0447</td><td>14</td><td>0</td></tr><tr><td>&quot;0a96f4993bd7&quot;</td><td>0</td><td>2018-05-03 14:30:00 UTC</td><td>3.2724</td><td>0.0386</td><td>14</td><td>30</td></tr><tr><td>&quot;0cd1e3d0ed95&quot;</td><td>0</td><td>2017-12-08 20:00:00 UTC</td><td>-19.9536</td><td>0.0217</td><td>20</td><td>0</td></tr><tr><td>&quot;0ce74d6d2106&quot;</td><td>0</td><td>2017-08-21 20:30:00 UTC</td><td>16.8396</td><td>0.1859</td><td>20</td><td>30</td></tr><tr><td>&quot;0cfc06c129cc&quot;</td><td>0</td><td>2018-12-17 16:45:00 UTC</td><td>-76.697998</td><td>0.0419</td><td>16</td><td>45</td></tr><tr><td>&hellip;</td><td>&hellip;</td><td>&hellip;</td><td>&hellip;</td><td>&hellip;</td><td>&hellip;</td><td>&hellip;</td></tr><tr><td>&quot;f564985ab692&quot;</td><td>0</td><td>2018-12-22 19:45:00 UTC</td><td>-81.004402</td><td>0.0</td><td>19</td><td>45</td></tr><tr><td>&quot;f56824b503a0&quot;</td><td>0</td><td>2018-10-01 15:45:00 UTC</td><td>-89.671997</td><td>0.0</td><td>15</td><td>45</td></tr><tr><td>&quot;f6d2cc003183&quot;</td><td>0</td><td>2017-08-14 16:30:00 UTC</td><td>-22.963499</td><td>0.1006</td><td>16</td><td>30</td></tr><tr><td>&quot;f7eb179216c2&quot;</td><td>0</td><td>2018-01-30 16:30:00 UTC</td><td>74.545502</td><td>0.0</td><td>16</td><td>30</td></tr><tr><td>&quot;f88e18cb4100&quot;</td><td>0</td><td>2018-06-14 16:45:00 UTC</td><td>-77.638496</td><td>0.0112</td><td>16</td><td>45</td></tr><tr><td>&quot;f8a8da8bdd00&quot;</td><td>0</td><td>2017-11-23 21:15:00 UTC</td><td>-5.0767</td><td>0.0488</td><td>21</td><td>15</td></tr><tr><td>&quot;f981a0805fd0&quot;</td><td>0</td><td>2019-01-03 16:30:00 UTC</td><td>-72.064697</td><td>0.0175</td><td>16</td><td>30</td></tr><tr><td>&quot;fa149c3c4bde&quot;</td><td>0</td><td>2018-08-30 23:00:00 UTC</td><td>26.329901</td><td>0.075</td><td>23</td><td>0</td></tr><tr><td>&quot;fb223ed2278c&quot;</td><td>0</td><td>2018-12-14 17:00:00 UTC</td><td>-86.339401</td><td>0.0</td><td>17</td><td>0</td></tr><tr><td>&quot;fbf33b1a2c10&quot;</td><td>0</td><td>2018-03-29 20:15:00 UTC</td><td>-89.690399</td><td>0.046</td><td>20</td><td>15</td></tr><tr><td>&quot;fcca183903b7&quot;</td><td>0</td><td>2019-03-26 17:00:00 UTC</td><td>-29.564501</td><td>0.0437</td><td>17</td><td>0</td></tr><tr><td>&quot;fe90110788d2&quot;</td><td>0</td><td>2017-08-04 21:30:00 UTC</td><td>-27.707001</td><td>0.0298</td><td>21</td><td>30</td></tr></tbody></table></div>"
      ],
      "text/plain": [
       "shape: (277, 7)\n",
       "┌──────────────┬──────┬─────────────────────────┬────────────┬────────┬──────┬────────┐\n",
       "│ series_id    ┆ step ┆ timestamp               ┆ anglez     ┆ enmo   ┆ hour ┆ minute │\n",
       "│ ---          ┆ ---  ┆ ---                     ┆ ---        ┆ ---    ┆ ---  ┆ ---    │\n",
       "│ str          ┆ u32  ┆ datetime[μs, UTC]       ┆ f32        ┆ f32    ┆ u8   ┆ u8     │\n",
       "╞══════════════╪══════╪═════════════════════════╪════════════╪════════╪══════╪════════╡\n",
       "│ 038441c925bb ┆ 0    ┆ 2018-08-14 19:30:00 UTC ┆ 2.6367     ┆ 0.0217 ┆ 19   ┆ 30     │\n",
       "│ 03d92c9f6f8a ┆ 0    ┆ 2018-05-31 16:00:00 UTC ┆ 38.892899  ┆ 0.0803 ┆ 16   ┆ 0      │\n",
       "│ 0402a003dae9 ┆ 0    ┆ 2018-12-18 17:45:00 UTC ┆ -77.314903 ┆ 0.0868 ┆ 17   ┆ 45     │\n",
       "│ 04f547b8017d ┆ 0    ┆ 2018-11-28 17:00:00 UTC ┆ 0.6793     ┆ 0.0    ┆ 17   ┆ 0      │\n",
       "│ …            ┆ …    ┆ …                       ┆ …          ┆ …      ┆ …    ┆ …      │\n",
       "│ fb223ed2278c ┆ 0    ┆ 2018-12-14 17:00:00 UTC ┆ -86.339401 ┆ 0.0    ┆ 17   ┆ 0      │\n",
       "│ fbf33b1a2c10 ┆ 0    ┆ 2018-03-29 20:15:00 UTC ┆ -89.690399 ┆ 0.046  ┆ 20   ┆ 15     │\n",
       "│ fcca183903b7 ┆ 0    ┆ 2019-03-26 17:00:00 UTC ┆ -29.564501 ┆ 0.0437 ┆ 17   ┆ 0      │\n",
       "│ fe90110788d2 ┆ 0    ┆ 2017-08-04 21:30:00 UTC ┆ -27.707001 ┆ 0.0298 ┆ 21   ┆ 30     │\n",
       "└──────────────┴──────┴─────────────────────────┴────────────┴────────┴──────┴────────┘"
      ]
     },
     "execution_count": 22,
     "metadata": {},
     "output_type": "execute_result"
    }
   ],
   "source": [
    "# 開始の時間\n",
    "start_df = train_df.filter(pl.col(\"step\")==0).with_columns(\n",
    "            pl.col('timestamp').dt.hour().cast(pl.UInt8).alias('hour'),\n",
    "            pl.col('timestamp').dt.minute().cast(pl.UInt8).alias('minute')\n",
    ")\n",
    "\n",
    "start_df"
   ]
  },
  {
   "cell_type": "code",
   "execution_count": 26,
   "id": "29a30629-4245-4c36-b3de-c1af802dee7b",
   "metadata": {
    "tags": []
   },
   "outputs": [
    {
     "data": {
      "text/html": [
       "<div><style>\n",
       ".dataframe > thead > tr > th,\n",
       ".dataframe > tbody > tr > td {\n",
       "  text-align: right;\n",
       "  white-space: pre-wrap;\n",
       "}\n",
       "</style>\n",
       "<small>shape: (277, 8)</small><table border=\"1\" class=\"dataframe\"><thead><tr><th>series_id</th><th>step</th><th>timestamp</th><th>anglez</th><th>enmo</th><th>diff</th><th>hour</th><th>minute</th></tr><tr><td>str</td><td>u32</td><td>datetime[μs, UTC]</td><td>f32</td><td>f32</td><td>i64</td><td>u8</td><td>u8</td></tr></thead><tbody><tr><td>&quot;038441c925bb&quot;</td><td>389880</td><td>2018-09-06 09:00:00 UTC</td><td>-28.6567</td><td>0.0125</td><td>389879</td><td>9</td><td>0</td></tr><tr><td>&quot;03d92c9f6f8a&quot;</td><td>724140</td><td>2018-07-12 13:45:00 UTC</td><td>-9.2718</td><td>0.032</td><td>724139</td><td>13</td><td>45</td></tr><tr><td>&quot;0402a003dae9&quot;</td><td>397260</td><td>2019-01-10 17:30:00 UTC</td><td>14.2046</td><td>0.0896</td><td>397259</td><td>17</td><td>30</td></tr><tr><td>&quot;04f547b8017d&quot;</td><td>637560</td><td>2019-01-04 14:30:00 UTC</td><td>21.4674</td><td>0.0795</td><td>637559</td><td>14</td><td>30</td></tr><tr><td>&quot;05e1944c3818&quot;</td><td>400860</td><td>2018-12-10 03:45:00 UTC</td><td>-26.2253</td><td>0.0172</td><td>400859</td><td>3</td><td>45</td></tr><tr><td>&quot;062cae666e2a&quot;</td><td>442440</td><td>2019-02-27 12:15:00 UTC</td><td>-14.9396</td><td>0.0366</td><td>442439</td><td>12</td><td>15</td></tr><tr><td>&quot;062dbd4c95e6&quot;</td><td>778680</td><td>2018-10-06 17:45:00 UTC</td><td>-80.813599</td><td>0.0</td><td>778679</td><td>17</td><td>45</td></tr><tr><td>&quot;08db4255286f&quot;</td><td>440280</td><td>2018-12-01 01:30:00 UTC</td><td>-29.593</td><td>0.0011</td><td>440279</td><td>1</td><td>30</td></tr><tr><td>&quot;0a96f4993bd7&quot;</td><td>256860</td><td>2018-05-18 11:15:00 UTC</td><td>-10.2738</td><td>0.0265</td><td>256859</td><td>11</td><td>15</td></tr><tr><td>&quot;0cd1e3d0ed95&quot;</td><td>370260</td><td>2017-12-30 06:15:00 UTC</td><td>17.777901</td><td>0.0216</td><td>370259</td><td>6</td><td>15</td></tr><tr><td>&quot;0ce74d6d2106&quot;</td><td>605160</td><td>2017-09-25 21:00:00 UTC</td><td>-17.2059</td><td>0.0782</td><td>605159</td><td>21</td><td>0</td></tr><tr><td>&quot;0cfc06c129cc&quot;</td><td>384660</td><td>2019-01-08 23:00:00 UTC</td><td>-2.7695</td><td>0.0828</td><td>384659</td><td>23</td><td>0</td></tr><tr><td>&hellip;</td><td>&hellip;</td><td>&hellip;</td><td>&hellip;</td><td>&hellip;</td><td>&hellip;</td><td>&hellip;</td><td>&hellip;</td></tr><tr><td>&quot;f564985ab692&quot;</td><td>1052820</td><td>2019-02-21 18:00:00 UTC</td><td>-0.6461</td><td>0.0577</td><td>1052819</td><td>18</td><td>0</td></tr><tr><td>&quot;f56824b503a0&quot;</td><td>846360</td><td>2018-11-19 15:15:00 UTC</td><td>-12.1026</td><td>0.0453</td><td>846359</td><td>15</td><td>15</td></tr><tr><td>&quot;f6d2cc003183&quot;</td><td>376740</td><td>2017-09-05 11:45:00 UTC</td><td>23.8853</td><td>0.0</td><td>376739</td><td>11</td><td>45</td></tr><tr><td>&quot;f7eb179216c2&quot;</td><td>393300</td><td>2018-02-22 10:45:00 UTC</td><td>-8.1021</td><td>0.0147</td><td>393299</td><td>10</td><td>45</td></tr><tr><td>&quot;f88e18cb4100&quot;</td><td>402660</td><td>2018-07-08 00:00:00 UTC</td><td>82.058601</td><td>0.0035</td><td>402659</td><td>0</td><td>0</td></tr><tr><td>&quot;f8a8da8bdd00&quot;</td><td>391500</td><td>2017-12-16 13:00:00 UTC</td><td>14.2254</td><td>0.0227</td><td>391499</td><td>13</td><td>0</td></tr><tr><td>&quot;f981a0805fd0&quot;</td><td>405720</td><td>2019-01-27 04:00:00 UTC</td><td>59.229801</td><td>0.0</td><td>405719</td><td>4</td><td>0</td></tr><tr><td>&quot;fa149c3c4bde&quot;</td><td>406800</td><td>2018-09-23 12:00:00 UTC</td><td>15.0484</td><td>0.0122</td><td>406799</td><td>12</td><td>0</td></tr><tr><td>&quot;fb223ed2278c&quot;</td><td>918360</td><td>2019-02-05 20:30:00 UTC</td><td>-17.1509</td><td>0.0285</td><td>918359</td><td>20</td><td>30</td></tr><tr><td>&quot;fbf33b1a2c10&quot;</td><td>421020</td><td>2018-04-23 05:00:00 UTC</td><td>-18.647499</td><td>0.0021</td><td>421019</td><td>5</td><td>0</td></tr><tr><td>&quot;fcca183903b7&quot;</td><td>620640</td><td>2019-05-01 15:00:00 UTC</td><td>-88.987297</td><td>0.0</td><td>620639</td><td>15</td><td>0</td></tr><tr><td>&quot;fe90110788d2&quot;</td><td>592380</td><td>2017-09-08 04:15:00 UTC</td><td>-31.521601</td><td>0.0205</td><td>null</td><td>4</td><td>15</td></tr></tbody></table></div>"
      ],
      "text/plain": [
       "shape: (277, 8)\n",
       "┌──────────────┬────────┬─────────────────────────┬────────────┬────────┬────────┬──────┬────────┐\n",
       "│ series_id    ┆ step   ┆ timestamp               ┆ anglez     ┆ enmo   ┆ diff   ┆ hour ┆ minute │\n",
       "│ ---          ┆ ---    ┆ ---                     ┆ ---        ┆ ---    ┆ ---    ┆ ---  ┆ ---    │\n",
       "│ str          ┆ u32    ┆ datetime[μs, UTC]       ┆ f32        ┆ f32    ┆ i64    ┆ u8   ┆ u8     │\n",
       "╞══════════════╪════════╪═════════════════════════╪════════════╪════════╪════════╪══════╪════════╡\n",
       "│ 038441c925bb ┆ 389880 ┆ 2018-09-06 09:00:00 UTC ┆ -28.6567   ┆ 0.0125 ┆ 389879 ┆ 9    ┆ 0      │\n",
       "│ 03d92c9f6f8a ┆ 724140 ┆ 2018-07-12 13:45:00 UTC ┆ -9.2718    ┆ 0.032  ┆ 724139 ┆ 13   ┆ 45     │\n",
       "│ 0402a003dae9 ┆ 397260 ┆ 2019-01-10 17:30:00 UTC ┆ 14.2046    ┆ 0.0896 ┆ 397259 ┆ 17   ┆ 30     │\n",
       "│ 04f547b8017d ┆ 637560 ┆ 2019-01-04 14:30:00 UTC ┆ 21.4674    ┆ 0.0795 ┆ 637559 ┆ 14   ┆ 30     │\n",
       "│ …            ┆ …      ┆ …                       ┆ …          ┆ …      ┆ …      ┆ …    ┆ …      │\n",
       "│ fb223ed2278c ┆ 918360 ┆ 2019-02-05 20:30:00 UTC ┆ -17.1509   ┆ 0.0285 ┆ 918359 ┆ 20   ┆ 30     │\n",
       "│ fbf33b1a2c10 ┆ 421020 ┆ 2018-04-23 05:00:00 UTC ┆ -18.647499 ┆ 0.0021 ┆ 421019 ┆ 5    ┆ 0      │\n",
       "│ fcca183903b7 ┆ 620640 ┆ 2019-05-01 15:00:00 UTC ┆ -88.987297 ┆ 0.0    ┆ 620639 ┆ 15   ┆ 0      │\n",
       "│ fe90110788d2 ┆ 592380 ┆ 2017-09-08 04:15:00 UTC ┆ -31.521601 ┆ 0.0205 ┆ null   ┆ 4    ┆ 15     │\n",
       "└──────────────┴────────┴─────────────────────────┴────────────┴────────┴────────┴──────┴────────┘"
      ]
     },
     "execution_count": 26,
     "metadata": {},
     "output_type": "execute_result"
    }
   ],
   "source": [
    "# 終了の時間\n",
    "end_df = train_df.with_columns(pl.col('step').diff(-1).alias('diff')).filter(pl.col('diff').is_null().or_(pl.col('diff')>0)).with_columns(\n",
    "            (pl.col('timestamp')+ pl.duration(seconds=5)),\n",
    "            (pl.col('step')+1).alias('step'),\n",
    "            ).with_columns(\n",
    "            pl.col('timestamp').dt.hour().cast(pl.UInt8).alias('hour'),\n",
    "            pl.col('timestamp').dt.minute().cast(pl.UInt8).alias('minute')\n",
    ")\n",
    "end_df"
   ]
  },
  {
   "cell_type": "code",
   "execution_count": 27,
   "id": "9f1bb527-ef2d-4291-8032-bf514fca2f76",
   "metadata": {
    "tags": []
   },
   "outputs": [
    {
     "data": {
      "text/html": [
       "<div><style>\n",
       ".dataframe > thead > tr > th,\n",
       ".dataframe > tbody > tr > td {\n",
       "  text-align: right;\n",
       "  white-space: pre-wrap;\n",
       "}\n",
       "</style>\n",
       "<small>shape: (277, 14)</small><table border=\"1\" class=\"dataframe\"><thead><tr><th>series_id</th><th>step</th><th>timestamp</th><th>anglez</th><th>enmo</th><th>hour</th><th>minute</th><th>step_end</th><th>timestamp_end</th><th>anglez_end</th><th>enmo_end</th><th>diff</th><th>hour_end</th><th>minute_end</th></tr><tr><td>str</td><td>u32</td><td>datetime[μs, UTC]</td><td>f32</td><td>f32</td><td>u8</td><td>u8</td><td>u32</td><td>datetime[μs, UTC]</td><td>f32</td><td>f32</td><td>i64</td><td>u8</td><td>u8</td></tr></thead><tbody><tr><td>&quot;038441c925bb&quot;</td><td>0</td><td>2018-08-14 19:30:00 UTC</td><td>2.6367</td><td>0.0217</td><td>19</td><td>30</td><td>389880</td><td>2018-09-06 09:00:00 UTC</td><td>-28.6567</td><td>0.0125</td><td>389879</td><td>9</td><td>0</td></tr><tr><td>&quot;03d92c9f6f8a&quot;</td><td>0</td><td>2018-05-31 16:00:00 UTC</td><td>38.892899</td><td>0.0803</td><td>16</td><td>0</td><td>724140</td><td>2018-07-12 13:45:00 UTC</td><td>-9.2718</td><td>0.032</td><td>724139</td><td>13</td><td>45</td></tr><tr><td>&quot;0402a003dae9&quot;</td><td>0</td><td>2018-12-18 17:45:00 UTC</td><td>-77.314903</td><td>0.0868</td><td>17</td><td>45</td><td>397260</td><td>2019-01-10 17:30:00 UTC</td><td>14.2046</td><td>0.0896</td><td>397259</td><td>17</td><td>30</td></tr><tr><td>&quot;04f547b8017d&quot;</td><td>0</td><td>2018-11-28 17:00:00 UTC</td><td>0.6793</td><td>0.0</td><td>17</td><td>0</td><td>637560</td><td>2019-01-04 14:30:00 UTC</td><td>21.4674</td><td>0.0795</td><td>637559</td><td>14</td><td>30</td></tr><tr><td>&quot;05e1944c3818&quot;</td><td>0</td><td>2018-11-16 23:00:00 UTC</td><td>-86.747398</td><td>0.0153</td><td>23</td><td>0</td><td>400860</td><td>2018-12-10 03:45:00 UTC</td><td>-26.2253</td><td>0.0172</td><td>400859</td><td>3</td><td>45</td></tr><tr><td>&quot;062cae666e2a&quot;</td><td>0</td><td>2019-02-01 21:45:00 UTC</td><td>2.6827</td><td>0.003</td><td>21</td><td>45</td><td>442440</td><td>2019-02-27 12:15:00 UTC</td><td>-14.9396</td><td>0.0366</td><td>442439</td><td>12</td><td>15</td></tr><tr><td>&quot;062dbd4c95e6&quot;</td><td>0</td><td>2018-08-22 16:15:00 UTC</td><td>10.9539</td><td>0.0839</td><td>16</td><td>15</td><td>778680</td><td>2018-10-06 17:45:00 UTC</td><td>-80.813599</td><td>0.0</td><td>778679</td><td>17</td><td>45</td></tr><tr><td>&quot;08db4255286f&quot;</td><td>0</td><td>2018-11-05 14:00:00 UTC</td><td>-30.845301</td><td>0.0447</td><td>14</td><td>0</td><td>440280</td><td>2018-12-01 01:30:00 UTC</td><td>-29.593</td><td>0.0011</td><td>440279</td><td>1</td><td>30</td></tr><tr><td>&quot;0a96f4993bd7&quot;</td><td>0</td><td>2018-05-03 14:30:00 UTC</td><td>3.2724</td><td>0.0386</td><td>14</td><td>30</td><td>256860</td><td>2018-05-18 11:15:00 UTC</td><td>-10.2738</td><td>0.0265</td><td>256859</td><td>11</td><td>15</td></tr><tr><td>&quot;0cd1e3d0ed95&quot;</td><td>0</td><td>2017-12-08 20:00:00 UTC</td><td>-19.9536</td><td>0.0217</td><td>20</td><td>0</td><td>370260</td><td>2017-12-30 06:15:00 UTC</td><td>17.777901</td><td>0.0216</td><td>370259</td><td>6</td><td>15</td></tr><tr><td>&quot;0ce74d6d2106&quot;</td><td>0</td><td>2017-08-21 20:30:00 UTC</td><td>16.8396</td><td>0.1859</td><td>20</td><td>30</td><td>605160</td><td>2017-09-25 21:00:00 UTC</td><td>-17.2059</td><td>0.0782</td><td>605159</td><td>21</td><td>0</td></tr><tr><td>&quot;0cfc06c129cc&quot;</td><td>0</td><td>2018-12-17 16:45:00 UTC</td><td>-76.697998</td><td>0.0419</td><td>16</td><td>45</td><td>384660</td><td>2019-01-08 23:00:00 UTC</td><td>-2.7695</td><td>0.0828</td><td>384659</td><td>23</td><td>0</td></tr><tr><td>&hellip;</td><td>&hellip;</td><td>&hellip;</td><td>&hellip;</td><td>&hellip;</td><td>&hellip;</td><td>&hellip;</td><td>&hellip;</td><td>&hellip;</td><td>&hellip;</td><td>&hellip;</td><td>&hellip;</td><td>&hellip;</td><td>&hellip;</td></tr><tr><td>&quot;f564985ab692&quot;</td><td>0</td><td>2018-12-22 19:45:00 UTC</td><td>-81.004402</td><td>0.0</td><td>19</td><td>45</td><td>1052820</td><td>2019-02-21 18:00:00 UTC</td><td>-0.6461</td><td>0.0577</td><td>1052819</td><td>18</td><td>0</td></tr><tr><td>&quot;f56824b503a0&quot;</td><td>0</td><td>2018-10-01 15:45:00 UTC</td><td>-89.671997</td><td>0.0</td><td>15</td><td>45</td><td>846360</td><td>2018-11-19 15:15:00 UTC</td><td>-12.1026</td><td>0.0453</td><td>846359</td><td>15</td><td>15</td></tr><tr><td>&quot;f6d2cc003183&quot;</td><td>0</td><td>2017-08-14 16:30:00 UTC</td><td>-22.963499</td><td>0.1006</td><td>16</td><td>30</td><td>376740</td><td>2017-09-05 11:45:00 UTC</td><td>23.8853</td><td>0.0</td><td>376739</td><td>11</td><td>45</td></tr><tr><td>&quot;f7eb179216c2&quot;</td><td>0</td><td>2018-01-30 16:30:00 UTC</td><td>74.545502</td><td>0.0</td><td>16</td><td>30</td><td>393300</td><td>2018-02-22 10:45:00 UTC</td><td>-8.1021</td><td>0.0147</td><td>393299</td><td>10</td><td>45</td></tr><tr><td>&quot;f88e18cb4100&quot;</td><td>0</td><td>2018-06-14 16:45:00 UTC</td><td>-77.638496</td><td>0.0112</td><td>16</td><td>45</td><td>402660</td><td>2018-07-08 00:00:00 UTC</td><td>82.058601</td><td>0.0035</td><td>402659</td><td>0</td><td>0</td></tr><tr><td>&quot;f8a8da8bdd00&quot;</td><td>0</td><td>2017-11-23 21:15:00 UTC</td><td>-5.0767</td><td>0.0488</td><td>21</td><td>15</td><td>391500</td><td>2017-12-16 13:00:00 UTC</td><td>14.2254</td><td>0.0227</td><td>391499</td><td>13</td><td>0</td></tr><tr><td>&quot;f981a0805fd0&quot;</td><td>0</td><td>2019-01-03 16:30:00 UTC</td><td>-72.064697</td><td>0.0175</td><td>16</td><td>30</td><td>405720</td><td>2019-01-27 04:00:00 UTC</td><td>59.229801</td><td>0.0</td><td>405719</td><td>4</td><td>0</td></tr><tr><td>&quot;fa149c3c4bde&quot;</td><td>0</td><td>2018-08-30 23:00:00 UTC</td><td>26.329901</td><td>0.075</td><td>23</td><td>0</td><td>406800</td><td>2018-09-23 12:00:00 UTC</td><td>15.0484</td><td>0.0122</td><td>406799</td><td>12</td><td>0</td></tr><tr><td>&quot;fb223ed2278c&quot;</td><td>0</td><td>2018-12-14 17:00:00 UTC</td><td>-86.339401</td><td>0.0</td><td>17</td><td>0</td><td>918360</td><td>2019-02-05 20:30:00 UTC</td><td>-17.1509</td><td>0.0285</td><td>918359</td><td>20</td><td>30</td></tr><tr><td>&quot;fbf33b1a2c10&quot;</td><td>0</td><td>2018-03-29 20:15:00 UTC</td><td>-89.690399</td><td>0.046</td><td>20</td><td>15</td><td>421020</td><td>2018-04-23 05:00:00 UTC</td><td>-18.647499</td><td>0.0021</td><td>421019</td><td>5</td><td>0</td></tr><tr><td>&quot;fcca183903b7&quot;</td><td>0</td><td>2019-03-26 17:00:00 UTC</td><td>-29.564501</td><td>0.0437</td><td>17</td><td>0</td><td>620640</td><td>2019-05-01 15:00:00 UTC</td><td>-88.987297</td><td>0.0</td><td>620639</td><td>15</td><td>0</td></tr><tr><td>&quot;fe90110788d2&quot;</td><td>0</td><td>2017-08-04 21:30:00 UTC</td><td>-27.707001</td><td>0.0298</td><td>21</td><td>30</td><td>592380</td><td>2017-09-08 04:15:00 UTC</td><td>-31.521601</td><td>0.0205</td><td>null</td><td>4</td><td>15</td></tr></tbody></table></div>"
      ],
      "text/plain": [
       "shape: (277, 14)\n",
       "┌──────────────┬──────┬───────────────┬────────────┬───┬──────────┬────────┬──────────┬────────────┐\n",
       "│ series_id    ┆ step ┆ timestamp     ┆ anglez     ┆ … ┆ enmo_end ┆ diff   ┆ hour_end ┆ minute_end │\n",
       "│ ---          ┆ ---  ┆ ---           ┆ ---        ┆   ┆ ---      ┆ ---    ┆ ---      ┆ ---        │\n",
       "│ str          ┆ u32  ┆ datetime[μs,  ┆ f32        ┆   ┆ f32      ┆ i64    ┆ u8       ┆ u8         │\n",
       "│              ┆      ┆ UTC]          ┆            ┆   ┆          ┆        ┆          ┆            │\n",
       "╞══════════════╪══════╪═══════════════╪════════════╪═══╪══════════╪════════╪══════════╪════════════╡\n",
       "│ 038441c925bb ┆ 0    ┆ 2018-08-14    ┆ 2.6367     ┆ … ┆ 0.0125   ┆ 389879 ┆ 9        ┆ 0          │\n",
       "│              ┆      ┆ 19:30:00 UTC  ┆            ┆   ┆          ┆        ┆          ┆            │\n",
       "│ 03d92c9f6f8a ┆ 0    ┆ 2018-05-31    ┆ 38.892899  ┆ … ┆ 0.032    ┆ 724139 ┆ 13       ┆ 45         │\n",
       "│              ┆      ┆ 16:00:00 UTC  ┆            ┆   ┆          ┆        ┆          ┆            │\n",
       "│ 0402a003dae9 ┆ 0    ┆ 2018-12-18    ┆ -77.314903 ┆ … ┆ 0.0896   ┆ 397259 ┆ 17       ┆ 30         │\n",
       "│              ┆      ┆ 17:45:00 UTC  ┆            ┆   ┆          ┆        ┆          ┆            │\n",
       "│ 04f547b8017d ┆ 0    ┆ 2018-11-28    ┆ 0.6793     ┆ … ┆ 0.0795   ┆ 637559 ┆ 14       ┆ 30         │\n",
       "│              ┆      ┆ 17:00:00 UTC  ┆            ┆   ┆          ┆        ┆          ┆            │\n",
       "│ …            ┆ …    ┆ …             ┆ …          ┆ … ┆ …        ┆ …      ┆ …        ┆ …          │\n",
       "│ fb223ed2278c ┆ 0    ┆ 2018-12-14    ┆ -86.339401 ┆ … ┆ 0.0285   ┆ 918359 ┆ 20       ┆ 30         │\n",
       "│              ┆      ┆ 17:00:00 UTC  ┆            ┆   ┆          ┆        ┆          ┆            │\n",
       "│ fbf33b1a2c10 ┆ 0    ┆ 2018-03-29    ┆ -89.690399 ┆ … ┆ 0.0021   ┆ 421019 ┆ 5        ┆ 0          │\n",
       "│              ┆      ┆ 20:15:00 UTC  ┆            ┆   ┆          ┆        ┆          ┆            │\n",
       "│ fcca183903b7 ┆ 0    ┆ 2019-03-26    ┆ -29.564501 ┆ … ┆ 0.0      ┆ 620639 ┆ 15       ┆ 0          │\n",
       "│              ┆      ┆ 17:00:00 UTC  ┆            ┆   ┆          ┆        ┆          ┆            │\n",
       "│ fe90110788d2 ┆ 0    ┆ 2017-08-04    ┆ -27.707001 ┆ … ┆ 0.0205   ┆ null   ┆ 4        ┆ 15         │\n",
       "│              ┆      ┆ 21:30:00 UTC  ┆            ┆   ┆          ┆        ┆          ┆            │\n",
       "└──────────────┴──────┴───────────────┴────────────┴───┴──────────┴────────┴──────────┴────────────┘"
      ]
     },
     "execution_count": 27,
     "metadata": {},
     "output_type": "execute_result"
    }
   ],
   "source": [
    "start_end_df = start_df.join(end_df, on=\"series_id\", suffix=\"_end\")\n",
    "start_end_df"
   ]
  },
  {
   "cell_type": "markdown",
   "id": "19245e25-178f-4ef0-9c0e-3b684b6a9697",
   "metadata": {},
   "source": [
    "# event"
   ]
  },
  {
   "cell_type": "code",
   "execution_count": 34,
   "id": "0335d882-2d83-4d3b-9050-d7de66f972c0",
   "metadata": {
    "tags": []
   },
   "outputs": [
    {
     "data": {
      "text/html": [
       "<div><style>\n",
       ".dataframe > thead > tr > th,\n",
       ".dataframe > tbody > tr > td {\n",
       "  text-align: right;\n",
       "  white-space: pre-wrap;\n",
       "}\n",
       "</style>\n",
       "<small>shape: (14_508, 8)</small><table border=\"1\" class=\"dataframe\"><thead><tr><th>series_id</th><th>night</th><th>event</th><th>step</th><th>timestamp</th><th>hour</th><th>minute</th><th>minute_15</th></tr><tr><td>str</td><td>i64</td><td>str</td><td>i64</td><td>datetime[μs, UTC]</td><td>u8</td><td>u8</td><td>u8</td></tr></thead><tbody><tr><td>&quot;038441c925bb&quot;</td><td>1</td><td>&quot;onset&quot;</td><td>4992</td><td>2018-08-15 02:26:00 UTC</td><td>2</td><td>26</td><td>11</td></tr><tr><td>&quot;038441c925bb&quot;</td><td>1</td><td>&quot;wakeup&quot;</td><td>10932</td><td>2018-08-15 10:41:00 UTC</td><td>10</td><td>41</td><td>11</td></tr><tr><td>&quot;038441c925bb&quot;</td><td>2</td><td>&quot;onset&quot;</td><td>20244</td><td>2018-08-15 23:37:00 UTC</td><td>23</td><td>37</td><td>7</td></tr><tr><td>&quot;038441c925bb&quot;</td><td>2</td><td>&quot;wakeup&quot;</td><td>27492</td><td>2018-08-16 09:41:00 UTC</td><td>9</td><td>41</td><td>11</td></tr><tr><td>&quot;038441c925bb&quot;</td><td>3</td><td>&quot;onset&quot;</td><td>39996</td><td>2018-08-17 03:03:00 UTC</td><td>3</td><td>3</td><td>3</td></tr><tr><td>&quot;038441c925bb&quot;</td><td>3</td><td>&quot;wakeup&quot;</td><td>44400</td><td>2018-08-17 09:10:00 UTC</td><td>9</td><td>10</td><td>10</td></tr><tr><td>&quot;038441c925bb&quot;</td><td>4</td><td>&quot;onset&quot;</td><td>57240</td><td>2018-08-18 03:00:00 UTC</td><td>3</td><td>0</td><td>0</td></tr><tr><td>&quot;038441c925bb&quot;</td><td>4</td><td>&quot;wakeup&quot;</td><td>62856</td><td>2018-08-18 10:48:00 UTC</td><td>10</td><td>48</td><td>3</td></tr><tr><td>&quot;038441c925bb&quot;</td><td>5</td><td>&quot;onset&quot;</td><td>null</td><td>null</td><td>null</td><td>null</td><td>null</td></tr><tr><td>&quot;038441c925bb&quot;</td><td>5</td><td>&quot;wakeup&quot;</td><td>null</td><td>null</td><td>null</td><td>null</td><td>null</td></tr><tr><td>&quot;038441c925bb&quot;</td><td>6</td><td>&quot;onset&quot;</td><td>91296</td><td>2018-08-20 02:18:00 UTC</td><td>2</td><td>18</td><td>3</td></tr><tr><td>&quot;038441c925bb&quot;</td><td>6</td><td>&quot;wakeup&quot;</td><td>97860</td><td>2018-08-20 11:25:00 UTC</td><td>11</td><td>25</td><td>10</td></tr><tr><td>&hellip;</td><td>&hellip;</td><td>&hellip;</td><td>&hellip;</td><td>&hellip;</td><td>&hellip;</td><td>&hellip;</td><td>&hellip;</td></tr><tr><td>&quot;fe90110788d2&quot;</td><td>30</td><td>&quot;onset&quot;</td><td>505116</td><td>2017-09-03 03:03:00 UTC</td><td>3</td><td>3</td><td>3</td></tr><tr><td>&quot;fe90110788d2&quot;</td><td>30</td><td>&quot;wakeup&quot;</td><td>511284</td><td>2017-09-03 11:37:00 UTC</td><td>11</td><td>37</td><td>7</td></tr><tr><td>&quot;fe90110788d2&quot;</td><td>31</td><td>&quot;onset&quot;</td><td>522852</td><td>2017-09-04 03:41:00 UTC</td><td>3</td><td>41</td><td>11</td></tr><tr><td>&quot;fe90110788d2&quot;</td><td>31</td><td>&quot;wakeup&quot;</td><td>529104</td><td>2017-09-04 12:22:00 UTC</td><td>12</td><td>22</td><td>7</td></tr><tr><td>&quot;fe90110788d2&quot;</td><td>32</td><td>&quot;onset&quot;</td><td>538956</td><td>2017-09-05 02:03:00 UTC</td><td>2</td><td>3</td><td>3</td></tr><tr><td>&quot;fe90110788d2&quot;</td><td>32</td><td>&quot;wakeup&quot;</td><td>547152</td><td>2017-09-05 13:26:00 UTC</td><td>13</td><td>26</td><td>11</td></tr><tr><td>&quot;fe90110788d2&quot;</td><td>33</td><td>&quot;onset&quot;</td><td>556560</td><td>2017-09-06 02:30:00 UTC</td><td>2</td><td>30</td><td>0</td></tr><tr><td>&quot;fe90110788d2&quot;</td><td>33</td><td>&quot;wakeup&quot;</td><td>560604</td><td>2017-09-06 08:07:00 UTC</td><td>8</td><td>7</td><td>7</td></tr><tr><td>&quot;fe90110788d2&quot;</td><td>34</td><td>&quot;onset&quot;</td><td>574620</td><td>2017-09-07 03:35:00 UTC</td><td>3</td><td>35</td><td>5</td></tr><tr><td>&quot;fe90110788d2&quot;</td><td>34</td><td>&quot;wakeup&quot;</td><td>581604</td><td>2017-09-07 13:17:00 UTC</td><td>13</td><td>17</td><td>2</td></tr><tr><td>&quot;fe90110788d2&quot;</td><td>35</td><td>&quot;onset&quot;</td><td>null</td><td>null</td><td>null</td><td>null</td><td>null</td></tr><tr><td>&quot;fe90110788d2&quot;</td><td>35</td><td>&quot;wakeup&quot;</td><td>null</td><td>null</td><td>null</td><td>null</td><td>null</td></tr></tbody></table></div>"
      ],
      "text/plain": [
       "shape: (14_508, 8)\n",
       "┌──────────────┬───────┬────────┬────────┬─────────────────────────┬──────┬────────┬───────────┐\n",
       "│ series_id    ┆ night ┆ event  ┆ step   ┆ timestamp               ┆ hour ┆ minute ┆ minute_15 │\n",
       "│ ---          ┆ ---   ┆ ---    ┆ ---    ┆ ---                     ┆ ---  ┆ ---    ┆ ---       │\n",
       "│ str          ┆ i64   ┆ str    ┆ i64    ┆ datetime[μs, UTC]       ┆ u8   ┆ u8     ┆ u8        │\n",
       "╞══════════════╪═══════╪════════╪════════╪═════════════════════════╪══════╪════════╪═══════════╡\n",
       "│ 038441c925bb ┆ 1     ┆ onset  ┆ 4992   ┆ 2018-08-15 02:26:00 UTC ┆ 2    ┆ 26     ┆ 11        │\n",
       "│ 038441c925bb ┆ 1     ┆ wakeup ┆ 10932  ┆ 2018-08-15 10:41:00 UTC ┆ 10   ┆ 41     ┆ 11        │\n",
       "│ 038441c925bb ┆ 2     ┆ onset  ┆ 20244  ┆ 2018-08-15 23:37:00 UTC ┆ 23   ┆ 37     ┆ 7         │\n",
       "│ 038441c925bb ┆ 2     ┆ wakeup ┆ 27492  ┆ 2018-08-16 09:41:00 UTC ┆ 9    ┆ 41     ┆ 11        │\n",
       "│ …            ┆ …     ┆ …      ┆ …      ┆ …                       ┆ …    ┆ …      ┆ …         │\n",
       "│ fe90110788d2 ┆ 34    ┆ onset  ┆ 574620 ┆ 2017-09-07 03:35:00 UTC ┆ 3    ┆ 35     ┆ 5         │\n",
       "│ fe90110788d2 ┆ 34    ┆ wakeup ┆ 581604 ┆ 2017-09-07 13:17:00 UTC ┆ 13   ┆ 17     ┆ 2         │\n",
       "│ fe90110788d2 ┆ 35    ┆ onset  ┆ null   ┆ null                    ┆ null ┆ null   ┆ null      │\n",
       "│ fe90110788d2 ┆ 35    ┆ wakeup ┆ null   ┆ null                    ┆ null ┆ null   ┆ null      │\n",
       "└──────────────┴───────┴────────┴────────┴─────────────────────────┴──────┴────────┴───────────┘"
      ]
     },
     "execution_count": 34,
     "metadata": {},
     "output_type": "execute_result"
    }
   ],
   "source": [
    "event_df_info = event_df.with_columns(\n",
    "    pl.col('timestamp').dt.hour().cast(pl.UInt8).alias('hour'),\n",
    "    pl.col('timestamp').dt.minute().cast(pl.UInt8).alias('minute')\n",
    ").with_columns(\n",
    "    (pl.col('minute')%15).alias('minute_15')\n",
    ")\n",
    "event_df_info"
   ]
  },
  {
   "cell_type": "code",
   "execution_count": 47,
   "id": "02d11320-2855-440b-81dd-a34c1e53b09e",
   "metadata": {
    "tags": []
   },
   "outputs": [
    {
     "data": {
      "text/html": [
       "<div><style>\n",
       ".dataframe > thead > tr > th,\n",
       ".dataframe > tbody > tr > td {\n",
       "  text-align: right;\n",
       "  white-space: pre-wrap;\n",
       "}\n",
       "</style>\n",
       "<small>shape: (4, 17)</small><table border=\"1\" class=\"dataframe\"><thead><tr><th>minute</th><th>m0</th><th>m1</th><th>m2</th><th>m3</th><th>m4</th><th>m5</th><th>m6</th><th>m7</th><th>m8</th><th>m9</th><th>m10</th><th>m11</th><th>m12</th><th>m13</th><th>m14</th><th>null_num</th></tr><tr><td>u8</td><td>u32</td><td>u32</td><td>u32</td><td>u32</td><td>u32</td><td>u32</td><td>u32</td><td>u32</td><td>u32</td><td>u32</td><td>u32</td><td>u32</td><td>u32</td><td>u32</td><td>u32</td><td>u32</td></tr></thead><tbody><tr><td>30</td><td>366</td><td>61</td><td>68</td><td>348</td><td>44</td><td>94</td><td>154</td><td>412</td><td>80</td><td>63</td><td>96</td><td>411</td><td>48</td><td>90</td><td>135</td><td>0</td></tr><tr><td>0</td><td>396</td><td>61</td><td>84</td><td>374</td><td>43</td><td>90</td><td>141</td><td>385</td><td>74</td><td>42</td><td>68</td><td>333</td><td>37</td><td>89</td><td>142</td><td>0</td></tr><tr><td>15</td><td>392</td><td>75</td><td>100</td><td>418</td><td>49</td><td>103</td><td>165</td><td>449</td><td>98</td><td>76</td><td>106</td><td>391</td><td>50</td><td>108</td><td>192</td><td>0</td></tr><tr><td>45</td><td>304</td><td>43</td><td>56</td><td>258</td><td>26</td><td>85</td><td>132</td><td>345</td><td>58</td><td>63</td><td>79</td><td>287</td><td>48</td><td>79</td><td>121</td><td>0</td></tr></tbody></table></div>"
      ],
      "text/plain": [
       "shape: (4, 17)\n",
       "┌────────┬─────┬─────┬─────┬───┬─────┬─────┬─────┬──────────┐\n",
       "│ minute ┆ m0  ┆ m1  ┆ m2  ┆ … ┆ m12 ┆ m13 ┆ m14 ┆ null_num │\n",
       "│ ---    ┆ --- ┆ --- ┆ --- ┆   ┆ --- ┆ --- ┆ --- ┆ ---      │\n",
       "│ u8     ┆ u32 ┆ u32 ┆ u32 ┆   ┆ u32 ┆ u32 ┆ u32 ┆ u32      │\n",
       "╞════════╪═════╪═════╪═════╪═══╪═════╪═════╪═════╪══════════╡\n",
       "│ 30     ┆ 366 ┆ 61  ┆ 68  ┆ … ┆ 48  ┆ 90  ┆ 135 ┆ 0        │\n",
       "│ 0      ┆ 396 ┆ 61  ┆ 84  ┆ … ┆ 37  ┆ 89  ┆ 142 ┆ 0        │\n",
       "│ 15     ┆ 392 ┆ 75  ┆ 100 ┆ … ┆ 50  ┆ 108 ┆ 192 ┆ 0        │\n",
       "│ 45     ┆ 304 ┆ 43  ┆ 56  ┆ … ┆ 48  ┆ 79  ┆ 121 ┆ 0        │\n",
       "└────────┴─────┴─────┴─────┴───┴─────┴─────┴─────┴──────────┘"
      ]
     },
     "execution_count": 47,
     "metadata": {},
     "output_type": "execute_result"
    }
   ],
   "source": [
    "start_end_df.join(event_df_info, on='series_id').group_by('minute').agg([\n",
    "    (pl.col('minute_15')==i).sum().alias(f'm{i}') for i in range(0, 15)\n",
    "]+[(pl.col('timestamp').is_null()).sum().alias('null_num')]\n",
    ")"
   ]
  },
  {
   "cell_type": "code",
   "execution_count": 50,
   "id": "191ee19c-e851-471b-8429-ab36d056422f",
   "metadata": {
    "tags": []
   },
   "outputs": [
    {
     "data": {
      "text/html": [
       "<div><style>\n",
       ".dataframe > thead > tr > th,\n",
       ".dataframe > tbody > tr > td {\n",
       "  text-align: right;\n",
       "  white-space: pre-wrap;\n",
       "}\n",
       "</style>\n",
       "<small>shape: (277, 16)</small><table border=\"1\" class=\"dataframe\"><thead><tr><th>series_id</th><th>m0</th><th>m1</th><th>m2</th><th>m3</th><th>m4</th><th>m5</th><th>m6</th><th>m7</th><th>m8</th><th>m9</th><th>m10</th><th>m11</th><th>m12</th><th>m13</th><th>m14</th></tr><tr><td>str</td><td>u32</td><td>u32</td><td>u32</td><td>u32</td><td>u32</td><td>u32</td><td>u32</td><td>u32</td><td>u32</td><td>u32</td><td>u32</td><td>u32</td><td>u32</td><td>u32</td><td>u32</td></tr></thead><tbody><tr><td>&quot;f0482490923c&quot;</td><td>6</td><td>0</td><td>0</td><td>1</td><td>0</td><td>0</td><td>1</td><td>4</td><td>0</td><td>0</td><td>0</td><td>6</td><td>0</td><td>2</td><td>0</td></tr><tr><td>&quot;3c336d6ba566&quot;</td><td>5</td><td>1</td><td>0</td><td>3</td><td>1</td><td>1</td><td>1</td><td>4</td><td>2</td><td>0</td><td>0</td><td>6</td><td>0</td><td>1</td><td>1</td></tr><tr><td>&quot;8b8b9e29171c&quot;</td><td>2</td><td>1</td><td>1</td><td>6</td><td>0</td><td>2</td><td>0</td><td>1</td><td>0</td><td>0</td><td>0</td><td>3</td><td>0</td><td>1</td><td>1</td></tr><tr><td>&quot;612aa8ba44e2&quot;</td><td>4</td><td>0</td><td>2</td><td>3</td><td>3</td><td>0</td><td>1</td><td>1</td><td>1</td><td>1</td><td>0</td><td>5</td><td>0</td><td>3</td><td>0</td></tr><tr><td>&quot;1762ab70ec76&quot;</td><td>5</td><td>0</td><td>2</td><td>4</td><td>0</td><td>1</td><td>0</td><td>4</td><td>4</td><td>0</td><td>3</td><td>9</td><td>1</td><td>1</td><td>4</td></tr><tr><td>&quot;655f19eabf1e&quot;</td><td>13</td><td>1</td><td>1</td><td>5</td><td>2</td><td>0</td><td>3</td><td>8</td><td>2</td><td>0</td><td>0</td><td>4</td><td>1</td><td>2</td><td>2</td></tr><tr><td>&quot;fa149c3c4bde&quot;</td><td>6</td><td>1</td><td>0</td><td>5</td><td>0</td><td>1</td><td>1</td><td>4</td><td>1</td><td>1</td><td>1</td><td>9</td><td>0</td><td>1</td><td>1</td></tr><tr><td>&quot;efbfc4526d58&quot;</td><td>0</td><td>0</td><td>1</td><td>2</td><td>0</td><td>0</td><td>1</td><td>1</td><td>0</td><td>0</td><td>0</td><td>3</td><td>0</td><td>0</td><td>1</td></tr><tr><td>&quot;7476c0bd18d2&quot;</td><td>1</td><td>0</td><td>0</td><td>1</td><td>0</td><td>0</td><td>0</td><td>0</td><td>0</td><td>1</td><td>0</td><td>1</td><td>0</td><td>0</td><td>0</td></tr><tr><td>&quot;e4500e7e19e1&quot;</td><td>2</td><td>0</td><td>0</td><td>2</td><td>0</td><td>1</td><td>0</td><td>1</td><td>0</td><td>0</td><td>0</td><td>0</td><td>0</td><td>0</td><td>0</td></tr><tr><td>&quot;d93b0c7de16b&quot;</td><td>3</td><td>1</td><td>0</td><td>6</td><td>0</td><td>2</td><td>1</td><td>10</td><td>0</td><td>3</td><td>4</td><td>8</td><td>0</td><td>6</td><td>0</td></tr><tr><td>&quot;405df1b41f9f&quot;</td><td>1</td><td>0</td><td>1</td><td>1</td><td>0</td><td>0</td><td>0</td><td>0</td><td>0</td><td>0</td><td>0</td><td>1</td><td>0</td><td>1</td><td>1</td></tr><tr><td>&hellip;</td><td>&hellip;</td><td>&hellip;</td><td>&hellip;</td><td>&hellip;</td><td>&hellip;</td><td>&hellip;</td><td>&hellip;</td><td>&hellip;</td><td>&hellip;</td><td>&hellip;</td><td>&hellip;</td><td>&hellip;</td><td>&hellip;</td><td>&hellip;</td><td>&hellip;</td></tr><tr><td>&quot;e0d7b0dcf9f3&quot;</td><td>4</td><td>1</td><td>3</td><td>3</td><td>1</td><td>4</td><td>1</td><td>5</td><td>3</td><td>1</td><td>2</td><td>7</td><td>1</td><td>2</td><td>2</td></tr><tr><td>&quot;a681f9b04b21&quot;</td><td>7</td><td>2</td><td>2</td><td>1</td><td>1</td><td>2</td><td>2</td><td>4</td><td>1</td><td>0</td><td>1</td><td>7</td><td>0</td><td>4</td><td>4</td></tr><tr><td>&quot;aed3850f65f0&quot;</td><td>0</td><td>1</td><td>0</td><td>0</td><td>0</td><td>0</td><td>0</td><td>0</td><td>0</td><td>0</td><td>0</td><td>0</td><td>0</td><td>0</td><td>1</td></tr><tr><td>&quot;99237ce045e4&quot;</td><td>3</td><td>3</td><td>0</td><td>2</td><td>1</td><td>4</td><td>2</td><td>8</td><td>2</td><td>2</td><td>2</td><td>11</td><td>2</td><td>1</td><td>3</td></tr><tr><td>&quot;cf13ed7e457a&quot;</td><td>0</td><td>0</td><td>0</td><td>0</td><td>0</td><td>0</td><td>0</td><td>0</td><td>0</td><td>1</td><td>1</td><td>0</td><td>0</td><td>0</td><td>0</td></tr><tr><td>&quot;e34b496b84ce&quot;</td><td>4</td><td>1</td><td>1</td><td>5</td><td>0</td><td>0</td><td>1</td><td>3</td><td>0</td><td>0</td><td>1</td><td>2</td><td>1</td><td>2</td><td>1</td></tr><tr><td>&quot;c908a0ad3e31&quot;</td><td>4</td><td>2</td><td>2</td><td>3</td><td>0</td><td>1</td><td>2</td><td>8</td><td>1</td><td>0</td><td>0</td><td>3</td><td>1</td><td>1</td><td>4</td></tr><tr><td>&quot;6d6b9d22d48a&quot;</td><td>12</td><td>2</td><td>5</td><td>14</td><td>1</td><td>1</td><td>4</td><td>10</td><td>1</td><td>0</td><td>1</td><td>9</td><td>2</td><td>1</td><td>3</td></tr><tr><td>&quot;e2a849d283c0&quot;</td><td>5</td><td>1</td><td>1</td><td>6</td><td>0</td><td>0</td><td>2</td><td>3</td><td>3</td><td>0</td><td>3</td><td>1</td><td>3</td><td>1</td><td>1</td></tr><tr><td>&quot;ece2561f07e9&quot;</td><td>6</td><td>2</td><td>2</td><td>5</td><td>0</td><td>2</td><td>2</td><td>9</td><td>0</td><td>2</td><td>3</td><td>4</td><td>0</td><td>1</td><td>2</td></tr><tr><td>&quot;5f76965e10cf&quot;</td><td>7</td><td>0</td><td>1</td><td>4</td><td>1</td><td>2</td><td>2</td><td>6</td><td>2</td><td>2</td><td>2</td><td>7</td><td>2</td><td>2</td><td>2</td></tr><tr><td>&quot;8f6f15b9f598&quot;</td><td>5</td><td>0</td><td>0</td><td>3</td><td>0</td><td>1</td><td>0</td><td>6</td><td>1</td><td>0</td><td>2</td><td>2</td><td>0</td><td>0</td><td>2</td></tr></tbody></table></div>"
      ],
      "text/plain": [
       "shape: (277, 16)\n",
       "┌──────────────┬─────┬─────┬─────┬───┬─────┬─────┬─────┬─────┐\n",
       "│ series_id    ┆ m0  ┆ m1  ┆ m2  ┆ … ┆ m11 ┆ m12 ┆ m13 ┆ m14 │\n",
       "│ ---          ┆ --- ┆ --- ┆ --- ┆   ┆ --- ┆ --- ┆ --- ┆ --- │\n",
       "│ str          ┆ u32 ┆ u32 ┆ u32 ┆   ┆ u32 ┆ u32 ┆ u32 ┆ u32 │\n",
       "╞══════════════╪═════╪═════╪═════╪═══╪═════╪═════╪═════╪═════╡\n",
       "│ f0482490923c ┆ 6   ┆ 0   ┆ 0   ┆ … ┆ 6   ┆ 0   ┆ 2   ┆ 0   │\n",
       "│ 3c336d6ba566 ┆ 5   ┆ 1   ┆ 0   ┆ … ┆ 6   ┆ 0   ┆ 1   ┆ 1   │\n",
       "│ 8b8b9e29171c ┆ 2   ┆ 1   ┆ 1   ┆ … ┆ 3   ┆ 0   ┆ 1   ┆ 1   │\n",
       "│ 612aa8ba44e2 ┆ 4   ┆ 0   ┆ 2   ┆ … ┆ 5   ┆ 0   ┆ 3   ┆ 0   │\n",
       "│ …            ┆ …   ┆ …   ┆ …   ┆ … ┆ …   ┆ …   ┆ …   ┆ …   │\n",
       "│ e2a849d283c0 ┆ 5   ┆ 1   ┆ 1   ┆ … ┆ 1   ┆ 3   ┆ 1   ┆ 1   │\n",
       "│ ece2561f07e9 ┆ 6   ┆ 2   ┆ 2   ┆ … ┆ 4   ┆ 0   ┆ 1   ┆ 2   │\n",
       "│ 5f76965e10cf ┆ 7   ┆ 0   ┆ 1   ┆ … ┆ 7   ┆ 2   ┆ 2   ┆ 2   │\n",
       "│ 8f6f15b9f598 ┆ 5   ┆ 0   ┆ 0   ┆ … ┆ 2   ┆ 0   ┆ 0   ┆ 2   │\n",
       "└──────────────┴─────┴─────┴─────┴───┴─────┴─────┴─────┴─────┘"
      ]
     },
     "execution_count": 50,
     "metadata": {},
     "output_type": "execute_result"
    }
   ],
   "source": [
    "start_end_df.join(event_df_info, on='series_id').group_by('series_id').agg([\n",
    "    (pl.col('minute_15')==i).sum().alias(f'm{i}') for i in range(0, 15)\n",
    "]\n",
    ")"
   ]
  },
  {
   "cell_type": "code",
   "execution_count": 51,
   "id": "f1bdfaa5-062d-4367-a2e2-bf86a2a80af3",
   "metadata": {
    "tags": []
   },
   "outputs": [
    {
     "data": {
      "text/html": [
       "<div><style>\n",
       ".dataframe > thead > tr > th,\n",
       ".dataframe > tbody > tr > td {\n",
       "  text-align: right;\n",
       "  white-space: pre-wrap;\n",
       "}\n",
       "</style>\n",
       "<small>shape: (11, 16)</small><table border=\"1\" class=\"dataframe\"><thead><tr><th>hour</th><th>m0</th><th>m1</th><th>m2</th><th>m3</th><th>m4</th><th>m5</th><th>m6</th><th>m7</th><th>m8</th><th>m9</th><th>m10</th><th>m11</th><th>m12</th><th>m13</th><th>m14</th></tr><tr><td>u8</td><td>u32</td><td>u32</td><td>u32</td><td>u32</td><td>u32</td><td>u32</td><td>u32</td><td>u32</td><td>u32</td><td>u32</td><td>u32</td><td>u32</td><td>u32</td><td>u32</td><td>u32</td></tr></thead><tbody><tr><td>17</td><td>188</td><td>29</td><td>38</td><td>174</td><td>26</td><td>48</td><td>76</td><td>185</td><td>46</td><td>25</td><td>45</td><td>180</td><td>31</td><td>53</td><td>72</td></tr><tr><td>19</td><td>98</td><td>12</td><td>20</td><td>90</td><td>10</td><td>18</td><td>34</td><td>96</td><td>13</td><td>15</td><td>17</td><td>82</td><td>12</td><td>15</td><td>31</td></tr><tr><td>22</td><td>73</td><td>17</td><td>18</td><td>70</td><td>8</td><td>15</td><td>21</td><td>88</td><td>18</td><td>17</td><td>13</td><td>62</td><td>13</td><td>21</td><td>30</td></tr><tr><td>20</td><td>205</td><td>29</td><td>42</td><td>217</td><td>22</td><td>45</td><td>92</td><td>232</td><td>40</td><td>35</td><td>48</td><td>205</td><td>22</td><td>39</td><td>82</td></tr><tr><td>14</td><td>92</td><td>5</td><td>17</td><td>75</td><td>6</td><td>26</td><td>39</td><td>91</td><td>6</td><td>17</td><td>16</td><td>86</td><td>3</td><td>18</td><td>35</td></tr><tr><td>23</td><td>48</td><td>11</td><td>3</td><td>48</td><td>2</td><td>13</td><td>13</td><td>45</td><td>5</td><td>11</td><td>7</td><td>44</td><td>5</td><td>8</td><td>20</td></tr><tr><td>18</td><td>63</td><td>12</td><td>19</td><td>62</td><td>13</td><td>15</td><td>26</td><td>69</td><td>13</td><td>11</td><td>15</td><td>55</td><td>6</td><td>15</td><td>32</td></tr><tr><td>13</td><td>13</td><td>1</td><td>1</td><td>7</td><td>0</td><td>1</td><td>6</td><td>14</td><td>0</td><td>2</td><td>3</td><td>5</td><td>0</td><td>3</td><td>2</td></tr><tr><td>16</td><td>369</td><td>70</td><td>82</td><td>332</td><td>37</td><td>94</td><td>152</td><td>420</td><td>96</td><td>61</td><td>105</td><td>370</td><td>45</td><td>93</td><td>150</td></tr><tr><td>15</td><td>102</td><td>14</td><td>27</td><td>89</td><td>12</td><td>32</td><td>41</td><td>105</td><td>18</td><td>25</td><td>23</td><td>95</td><td>10</td><td>33</td><td>50</td></tr><tr><td>21</td><td>207</td><td>40</td><td>41</td><td>234</td><td>26</td><td>65</td><td>92</td><td>246</td><td>55</td><td>25</td><td>57</td><td>238</td><td>36</td><td>68</td><td>86</td></tr></tbody></table></div>"
      ],
      "text/plain": [
       "shape: (11, 16)\n",
       "┌──────┬─────┬─────┬─────┬───┬─────┬─────┬─────┬─────┐\n",
       "│ hour ┆ m0  ┆ m1  ┆ m2  ┆ … ┆ m11 ┆ m12 ┆ m13 ┆ m14 │\n",
       "│ ---  ┆ --- ┆ --- ┆ --- ┆   ┆ --- ┆ --- ┆ --- ┆ --- │\n",
       "│ u8   ┆ u32 ┆ u32 ┆ u32 ┆   ┆ u32 ┆ u32 ┆ u32 ┆ u32 │\n",
       "╞══════╪═════╪═════╪═════╪═══╪═════╪═════╪═════╪═════╡\n",
       "│ 17   ┆ 188 ┆ 29  ┆ 38  ┆ … ┆ 180 ┆ 31  ┆ 53  ┆ 72  │\n",
       "│ 19   ┆ 98  ┆ 12  ┆ 20  ┆ … ┆ 82  ┆ 12  ┆ 15  ┆ 31  │\n",
       "│ 22   ┆ 73  ┆ 17  ┆ 18  ┆ … ┆ 62  ┆ 13  ┆ 21  ┆ 30  │\n",
       "│ 20   ┆ 205 ┆ 29  ┆ 42  ┆ … ┆ 205 ┆ 22  ┆ 39  ┆ 82  │\n",
       "│ …    ┆ …   ┆ …   ┆ …   ┆ … ┆ …   ┆ …   ┆ …   ┆ …   │\n",
       "│ 13   ┆ 13  ┆ 1   ┆ 1   ┆ … ┆ 5   ┆ 0   ┆ 3   ┆ 2   │\n",
       "│ 16   ┆ 369 ┆ 70  ┆ 82  ┆ … ┆ 370 ┆ 45  ┆ 93  ┆ 150 │\n",
       "│ 15   ┆ 102 ┆ 14  ┆ 27  ┆ … ┆ 95  ┆ 10  ┆ 33  ┆ 50  │\n",
       "│ 21   ┆ 207 ┆ 40  ┆ 41  ┆ … ┆ 238 ┆ 36  ┆ 68  ┆ 86  │\n",
       "└──────┴─────┴─────┴─────┴───┴─────┴─────┴─────┴─────┘"
      ]
     },
     "execution_count": 51,
     "metadata": {},
     "output_type": "execute_result"
    }
   ],
   "source": [
    "start_end_df.join(event_df_info, on='series_id').group_by('hour').agg([\n",
    "    (pl.col('minute_15')==i).sum().alias(f'm{i}') for i in range(0, 15)\n",
    "]\n",
    ")"
   ]
  },
  {
   "cell_type": "code",
   "execution_count": 52,
   "id": "e1a02163-37fa-4a22-9a3b-0fd5a1453941",
   "metadata": {
    "tags": []
   },
   "outputs": [
    {
     "data": {
      "text/html": [
       "<div><style>\n",
       ".dataframe > thead > tr > th,\n",
       ".dataframe > tbody > tr > td {\n",
       "  text-align: right;\n",
       "  white-space: pre-wrap;\n",
       "}\n",
       "</style>\n",
       "<small>shape: (4, 16)</small><table border=\"1\" class=\"dataframe\"><thead><tr><th>minute_end</th><th>m0</th><th>m1</th><th>m2</th><th>m3</th><th>m4</th><th>m5</th><th>m6</th><th>m7</th><th>m8</th><th>m9</th><th>m10</th><th>m11</th><th>m12</th><th>m13</th><th>m14</th></tr><tr><td>u8</td><td>u32</td><td>u32</td><td>u32</td><td>u32</td><td>u32</td><td>u32</td><td>u32</td><td>u32</td><td>u32</td><td>u32</td><td>u32</td><td>u32</td><td>u32</td><td>u32</td><td>u32</td></tr></thead><tbody><tr><td>0</td><td>397</td><td>65</td><td>73</td><td>341</td><td>41</td><td>99</td><td>139</td><td>422</td><td>98</td><td>54</td><td>78</td><td>391</td><td>39</td><td>87</td><td>142</td></tr><tr><td>30</td><td>325</td><td>55</td><td>71</td><td>301</td><td>39</td><td>83</td><td>148</td><td>335</td><td>53</td><td>54</td><td>84</td><td>282</td><td>35</td><td>74</td><td>146</td></tr><tr><td>15</td><td>446</td><td>77</td><td>90</td><td>437</td><td>42</td><td>108</td><td>164</td><td>482</td><td>78</td><td>78</td><td>106</td><td>435</td><td>66</td><td>121</td><td>169</td></tr><tr><td>45</td><td>290</td><td>43</td><td>74</td><td>319</td><td>40</td><td>82</td><td>141</td><td>352</td><td>81</td><td>58</td><td>81</td><td>314</td><td>43</td><td>84</td><td>133</td></tr></tbody></table></div>"
      ],
      "text/plain": [
       "shape: (4, 16)\n",
       "┌────────────┬─────┬─────┬─────┬───┬─────┬─────┬─────┬─────┐\n",
       "│ minute_end ┆ m0  ┆ m1  ┆ m2  ┆ … ┆ m11 ┆ m12 ┆ m13 ┆ m14 │\n",
       "│ ---        ┆ --- ┆ --- ┆ --- ┆   ┆ --- ┆ --- ┆ --- ┆ --- │\n",
       "│ u8         ┆ u32 ┆ u32 ┆ u32 ┆   ┆ u32 ┆ u32 ┆ u32 ┆ u32 │\n",
       "╞════════════╪═════╪═════╪═════╪═══╪═════╪═════╪═════╪═════╡\n",
       "│ 0          ┆ 397 ┆ 65  ┆ 73  ┆ … ┆ 391 ┆ 39  ┆ 87  ┆ 142 │\n",
       "│ 30         ┆ 325 ┆ 55  ┆ 71  ┆ … ┆ 282 ┆ 35  ┆ 74  ┆ 146 │\n",
       "│ 15         ┆ 446 ┆ 77  ┆ 90  ┆ … ┆ 435 ┆ 66  ┆ 121 ┆ 169 │\n",
       "│ 45         ┆ 290 ┆ 43  ┆ 74  ┆ … ┆ 314 ┆ 43  ┆ 84  ┆ 133 │\n",
       "└────────────┴─────┴─────┴─────┴───┴─────┴─────┴─────┴─────┘"
      ]
     },
     "execution_count": 52,
     "metadata": {},
     "output_type": "execute_result"
    }
   ],
   "source": [
    "start_end_df.join(event_df_info, on='series_id').group_by('minute_end').agg([\n",
    "    (pl.col('minute_15')==i).sum().alias(f'm{i}') for i in range(0, 15)\n",
    "]\n",
    ")"
   ]
  },
  {
   "cell_type": "code",
   "execution_count": null,
   "id": "d482ab48-b287-4dc8-8ccd-94d8d937f557",
   "metadata": {},
   "outputs": [],
   "source": []
  }
 ],
 "metadata": {
  "kernelspec": {
   "display_name": "Python 3 (ipykernel)",
   "language": "python",
   "name": "python3"
  },
  "language_info": {
   "codemirror_mode": {
    "name": "ipython",
    "version": 3
   },
   "file_extension": ".py",
   "mimetype": "text/x-python",
   "name": "python",
   "nbconvert_exporter": "python",
   "pygments_lexer": "ipython3",
   "version": "3.10.12"
  }
 },
 "nbformat": 4,
 "nbformat_minor": 5
}
