{
 "cells": [
  {
   "cell_type": "code",
   "execution_count": 1,
   "id": "74621467-1e1c-4359-93ee-eea51e3a6c0b",
   "metadata": {
    "tags": []
   },
   "outputs": [],
   "source": [
    "import sys, os\n",
    "sys.path.append(os.pardir)"
   ]
  },
  {
   "cell_type": "code",
   "execution_count": 2,
   "id": "272cd9f3-bd99-46e4-968d-9f6e4c286a9a",
   "metadata": {
    "tags": []
   },
   "outputs": [],
   "source": [
    "from pathlib import Path\n",
    "import numpy as np\n",
    "import polars as pl\n",
    "import os\n",
    "from hydra import initialize, compose\n",
    "\n",
    "with initialize(config_path=\"../run/conf\", version_base=None):\n",
    "    cfg = compose(\"cv_score\", overrides=[\"exp_name=exp029\"])"
   ]
  },
  {
   "cell_type": "code",
   "execution_count": 37,
   "id": "df39b281-d38f-4400-bb89-c16d4473f5f7",
   "metadata": {
    "tags": []
   },
   "outputs": [
    {
     "data": {
      "text/plain": [
       "array([[0.01136262, 0.01136262],\n",
       "       [0.02323067, 0.02323067],\n",
       "       [0.04463113, 0.04463113],\n",
       "       [0.08057618, 0.08057618],\n",
       "       [0.13669991, 0.13669991],\n",
       "       [0.21793277, 0.21793277],\n",
       "       [0.3264898 , 0.3264898 ],\n",
       "       [0.45963116, 0.45963116],\n",
       "       [0.60805387, 0.60805387],\n",
       "       [0.75590533, 0.75590533],\n",
       "       [0.88305044, 0.88305044],\n",
       "       [0.96938519, 0.96938519],\n",
       "       [1.        , 1.        ],\n",
       "       [0.96938519, 0.96938519],\n",
       "       [0.88305044, 0.88305044],\n",
       "       [0.75590533, 0.75590533],\n",
       "       [0.60805387, 0.60805387],\n",
       "       [0.45963116, 0.45963116],\n",
       "       [0.3264898 , 0.3264898 ],\n",
       "       [0.21793277, 0.21793277],\n",
       "       [0.13669991, 0.13669991],\n",
       "       [0.08057618, 0.08057618],\n",
       "       [0.04463113, 0.04463113],\n",
       "       [0.02323067, 0.02323067],\n",
       "       [0.01136262, 0.01136262]])"
      ]
     },
     "execution_count": 37,
     "metadata": {},
     "output_type": "execute_result"
    }
   ],
   "source": [
    "from src.datamodule.seg import gaussian_label \n",
    "\n",
    "\n",
    "label = np.zeros((25, 2))\n",
    "label[12] = 1.0\n",
    "\n",
    "gaussian_label(label, 12, 10*(0.97**30))"
   ]
  },
  {
   "cell_type": "code",
   "execution_count": 29,
   "id": "1de9a3cf-c9b1-49f7-9991-ed775e63b915",
   "metadata": {
    "tags": []
   },
   "outputs": [
    {
     "data": {
      "text/plain": [
       "0.21463876394293727"
      ]
     },
     "execution_count": 29,
     "metadata": {},
     "output_type": "execute_result"
    }
   ],
   "source": [
    "0.95**30"
   ]
  },
  {
   "cell_type": "code",
   "execution_count": null,
   "id": "16a00026-6756-499c-92b5-55bbd94af292",
   "metadata": {},
   "outputs": [],
   "source": []
  }
 ],
 "metadata": {
  "kernelspec": {
   "display_name": "Python 3 (ipykernel)",
   "language": "python",
   "name": "python3"
  },
  "language_info": {
   "codemirror_mode": {
    "name": "ipython",
    "version": 3
   },
   "file_extension": ".py",
   "mimetype": "text/x-python",
   "name": "python",
   "nbconvert_exporter": "python",
   "pygments_lexer": "ipython3",
   "version": "3.10.12"
  }
 },
 "nbformat": 4,
 "nbformat_minor": 5
}
