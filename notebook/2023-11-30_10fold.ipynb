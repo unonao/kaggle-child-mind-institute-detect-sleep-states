{
 "cells": [
  {
   "cell_type": "code",
   "execution_count": 1,
   "id": "248b9be2-a055-4082-a08b-8790cfe434b9",
   "metadata": {
    "tags": []
   },
   "outputs": [],
   "source": [
    "from hydra import initialize, compose\n",
    "\n",
    "with initialize(config_path=\"../run/conf\", version_base=None):\n",
    "    cfg = compose(\"train\")"
   ]
  },
  {
   "cell_type": "code",
   "execution_count": 2,
   "id": "d8b98581-0829-44d1-a824-66629dd5204f",
   "metadata": {
    "tags": []
   },
   "outputs": [],
   "source": [
    "from pathlib import Path\n",
    "import yaml\n",
    "\n",
    "from glob import glob\n",
    "import numpy as np\n",
    "import pandas as pd\n",
    "import polars as pl\n"
   ]
  },
  {
   "cell_type": "code",
   "execution_count": 3,
   "id": "e555cbcb-8943-4127-8149-46dfe6382e02",
   "metadata": {
    "tags": []
   },
   "outputs": [
    {
     "name": "stdout",
     "output_type": "stream",
     "text": [
      "277\n"
     ]
    },
    {
     "data": {
      "text/plain": [
       "277"
      ]
     },
     "execution_count": 3,
     "metadata": {},
     "output_type": "execute_result"
    }
   ],
   "source": [
    "print(len(cfg.split['train_series_ids'])+ len(cfg.split['valid_series_ids']))\n",
    "\n",
    "series_ids = [str(path).split('/')[-1] for path in (Path(cfg.dir.processed_dir) / 'train').glob(\"*\")]\n",
    "len(series_ids)"
   ]
  },
  {
   "cell_type": "code",
   "execution_count": 4,
   "id": "cf8c992b-1aac-4229-a460-294691a28845",
   "metadata": {
    "tags": []
   },
   "outputs": [
    {
     "data": {
      "text/html": [
       "<div><style>\n",
       ".dataframe > thead > tr > th,\n",
       ".dataframe > tbody > tr > td {\n",
       "  text-align: right;\n",
       "  white-space: pre-wrap;\n",
       "}\n",
       "</style>\n",
       "<small>shape: (10, 3)</small><table border=\"1\" class=\"dataframe\"><thead><tr><th>series_id</th><th>count</th><th>class</th></tr><tr><td>str</td><td>u32</td><td>str</td></tr></thead><tbody><tr><td>&quot;a4e48102f402&quot;</td><td>42</td><td>&quot;6&quot;</td></tr><tr><td>&quot;10f8bc1f7b07&quot;</td><td>46</td><td>&quot;8&quot;</td></tr><tr><td>&quot;653622ac8363&quot;</td><td>64</td><td>&quot;10&quot;</td></tr><tr><td>&quot;25e2b3dd9c3b&quot;</td><td>68</td><td>&quot;10&quot;</td></tr><tr><td>&quot;78569a801a38&quot;</td><td>24</td><td>&quot;3&quot;</td></tr><tr><td>&quot;89bd631d1769&quot;</td><td>50</td><td>&quot;9&quot;</td></tr><tr><td>&quot;4ab54be1a403&quot;</td><td>46</td><td>&quot;8&quot;</td></tr><tr><td>&quot;3be1545083b7&quot;</td><td>40</td><td>&quot;6&quot;</td></tr><tr><td>&quot;35826366dfc7&quot;</td><td>26</td><td>&quot;3&quot;</td></tr><tr><td>&quot;c535634d7dcd&quot;</td><td>16</td><td>&quot;2&quot;</td></tr></tbody></table></div>"
      ],
      "text/plain": [
       "shape: (10, 3)\n",
       "┌──────────────┬───────┬───────┐\n",
       "│ series_id    ┆ count ┆ class │\n",
       "│ ---          ┆ ---   ┆ ---   │\n",
       "│ str          ┆ u32   ┆ str   │\n",
       "╞══════════════╪═══════╪═══════╡\n",
       "│ a4e48102f402 ┆ 42    ┆ 6     │\n",
       "│ 10f8bc1f7b07 ┆ 46    ┆ 8     │\n",
       "│ 653622ac8363 ┆ 64    ┆ 10    │\n",
       "│ 25e2b3dd9c3b ┆ 68    ┆ 10    │\n",
       "│ …            ┆ …     ┆ …     │\n",
       "│ 4ab54be1a403 ┆ 46    ┆ 8     │\n",
       "│ 3be1545083b7 ┆ 40    ┆ 6     │\n",
       "│ 35826366dfc7 ┆ 26    ┆ 3     │\n",
       "│ c535634d7dcd ┆ 16    ┆ 2     │\n",
       "└──────────────┴───────┴───────┘"
      ]
     },
     "execution_count": 4,
     "metadata": {},
     "output_type": "execute_result"
    }
   ],
   "source": [
    "# ラベルがある event データ\n",
    "\n",
    "event_df = pl.read_csv(Path(cfg.dir.data_dir) / \"train_events.csv\").drop_nulls()\n",
    "\n",
    "q_cut_num = 10 # no_event は含まないので全体では11クラス\n",
    "\n",
    "event_count_df = event_df.group_by('series_id').count()\n",
    "event_count_df = event_count_df.select(\n",
    "    pl.col(\"series_id\"),\n",
    "    pl.col(\"count\"),\n",
    "    pl.col(\"count\").qcut(q_cut_num, \n",
    "                         labels=[str(i) for i in range(1, q_cut_num+1)]).alias('class').cast(pl.Utf8)\n",
    ")\n",
    "\n",
    "event_count_df.head(10)"
   ]
  },
  {
   "cell_type": "code",
   "execution_count": 5,
   "id": "e01970a9-5a74-4cca-86d0-c39b26283467",
   "metadata": {
    "tags": []
   },
   "outputs": [
    {
     "data": {
      "text/html": [
       "<div><style>\n",
       ".dataframe > thead > tr > th,\n",
       ".dataframe > tbody > tr > td {\n",
       "  text-align: right;\n",
       "  white-space: pre-wrap;\n",
       "}\n",
       "</style>\n",
       "<small>shape: (8, 3)</small><table border=\"1\" class=\"dataframe\"><thead><tr><th>series_id</th><th>count</th><th>class</th></tr><tr><td>str</td><td>u32</td><td>str</td></tr></thead><tbody><tr><td>&quot;2fc653ca75c7&quot;</td><td>0</td><td>&quot;0&quot;</td></tr><tr><td>&quot;e11b9d69f856&quot;</td><td>0</td><td>&quot;0&quot;</td></tr><tr><td>&quot;390b487231ce&quot;</td><td>0</td><td>&quot;0&quot;</td></tr><tr><td>&quot;a3e59c2ce3f6&quot;</td><td>0</td><td>&quot;0&quot;</td></tr><tr><td>&quot;89c7daa72eee&quot;</td><td>0</td><td>&quot;0&quot;</td></tr><tr><td>&quot;c7b1283bb7eb&quot;</td><td>0</td><td>&quot;0&quot;</td></tr><tr><td>&quot;0f9e60a8e56d&quot;</td><td>0</td><td>&quot;0&quot;</td></tr><tr><td>&quot;c5d08fc3e040&quot;</td><td>0</td><td>&quot;0&quot;</td></tr></tbody></table></div>"
      ],
      "text/plain": [
       "shape: (8, 3)\n",
       "┌──────────────┬───────┬───────┐\n",
       "│ series_id    ┆ count ┆ class │\n",
       "│ ---          ┆ ---   ┆ ---   │\n",
       "│ str          ┆ u32   ┆ str   │\n",
       "╞══════════════╪═══════╪═══════╡\n",
       "│ 2fc653ca75c7 ┆ 0     ┆ 0     │\n",
       "│ e11b9d69f856 ┆ 0     ┆ 0     │\n",
       "│ 390b487231ce ┆ 0     ┆ 0     │\n",
       "│ a3e59c2ce3f6 ┆ 0     ┆ 0     │\n",
       "│ 89c7daa72eee ┆ 0     ┆ 0     │\n",
       "│ c7b1283bb7eb ┆ 0     ┆ 0     │\n",
       "│ 0f9e60a8e56d ┆ 0     ┆ 0     │\n",
       "│ c5d08fc3e040 ┆ 0     ┆ 0     │\n",
       "└──────────────┴───────┴───────┘"
      ]
     },
     "execution_count": 5,
     "metadata": {},
     "output_type": "execute_result"
    }
   ],
   "source": [
    "no_event = [si for si in series_ids if si not in list(event_count_df.get_column('series_id'))]\n",
    "no_event_df = pl.DataFrame({\"series_id\": no_event, \n",
    "                            \"count\":[0 for _ in range(len(no_event))],\n",
    "                           \"class\": [str(0) for _ in range(len(no_event))]\n",
    "                            }\n",
    "                          )\n",
    "no_event_df = no_event_df.select(\n",
    "    pl.col(\"series_id\"),\n",
    "    pl.col(\"count\").cast(pl.UInt32),\n",
    "    pl.col(\"class\").cast(pl.Utf8),\n",
    ")\n",
    "no_event_df"
   ]
  },
  {
   "cell_type": "code",
   "execution_count": 6,
   "id": "2de02f33-f5a8-4f50-8068-35a94857a4d6",
   "metadata": {
    "tags": []
   },
   "outputs": [
    {
     "data": {
      "text/html": [
       "<div><style>\n",
       ".dataframe > thead > tr > th,\n",
       ".dataframe > tbody > tr > td {\n",
       "  text-align: right;\n",
       "  white-space: pre-wrap;\n",
       "}\n",
       "</style>\n",
       "<small>shape: (5, 3)</small><table border=\"1\" class=\"dataframe\"><thead><tr><th>series_id</th><th>count</th><th>class</th></tr><tr><td>str</td><td>u32</td><td>str</td></tr></thead><tbody><tr><td>&quot;a4e48102f402&quot;</td><td>42</td><td>&quot;6&quot;</td></tr><tr><td>&quot;10f8bc1f7b07&quot;</td><td>46</td><td>&quot;8&quot;</td></tr><tr><td>&quot;653622ac8363&quot;</td><td>64</td><td>&quot;10&quot;</td></tr><tr><td>&quot;25e2b3dd9c3b&quot;</td><td>68</td><td>&quot;10&quot;</td></tr><tr><td>&quot;78569a801a38&quot;</td><td>24</td><td>&quot;3&quot;</td></tr></tbody></table></div>"
      ],
      "text/plain": [
       "shape: (5, 3)\n",
       "┌──────────────┬───────┬───────┐\n",
       "│ series_id    ┆ count ┆ class │\n",
       "│ ---          ┆ ---   ┆ ---   │\n",
       "│ str          ┆ u32   ┆ str   │\n",
       "╞══════════════╪═══════╪═══════╡\n",
       "│ a4e48102f402 ┆ 42    ┆ 6     │\n",
       "│ 10f8bc1f7b07 ┆ 46    ┆ 8     │\n",
       "│ 653622ac8363 ┆ 64    ┆ 10    │\n",
       "│ 25e2b3dd9c3b ┆ 68    ┆ 10    │\n",
       "│ 78569a801a38 ┆ 24    ┆ 3     │\n",
       "└──────────────┴───────┴───────┘"
      ]
     },
     "execution_count": 6,
     "metadata": {},
     "output_type": "execute_result"
    }
   ],
   "source": [
    "# 二つを結合\n",
    "all_df = pl.concat([event_count_df,no_event_df])\n",
    "all_df.head(5)"
   ]
  },
  {
   "cell_type": "markdown",
   "id": "88f009ed-29a1-4e94-a08d-554f8e05693c",
   "metadata": {},
   "source": [
    "### 10Fold に分割"
   ]
  },
  {
   "cell_type": "code",
   "execution_count": 7,
   "id": "e8214a10-b25e-4246-a668-0b9479036f37",
   "metadata": {
    "tags": []
   },
   "outputs": [
    {
     "name": "stderr",
     "output_type": "stream",
     "text": [
      "/opt/conda/lib/python3.10/site-packages/scipy/__init__.py:146: UserWarning: A NumPy version >=1.16.5 and <1.23.0 is required for this version of SciPy (detected version 1.23.5\n",
      "  warnings.warn(f\"A NumPy version >={np_minversion} and <{np_maxversion}\"\n",
      "/opt/conda/lib/python3.10/site-packages/sklearn/model_selection/_split.py:700: UserWarning: The least populated class in y has only 8 members, which is less than n_splits=10.\n",
      "  warnings.warn(\n"
     ]
    }
   ],
   "source": [
    "from sklearn.model_selection import StratifiedKFold\n",
    "import yaml\n",
    "\n",
    "X = all_df.drop(\"class\")\n",
    "y = all_df.get_column('class')\n",
    "\n",
    "skf = StratifiedKFold(n_splits=10)\n",
    "\n",
    "for i, (train_index, test_index) in enumerate(skf.split(X, y)):\n",
    "    fold_dict = {\n",
    "        \"train_series_ids\": list(all_df.get_column('series_id').take(train_index)),\n",
    "        \"valid_series_ids\": list(all_df.get_column('series_id').take(test_index)),\n",
    "    }\n",
    "\n",
    "    with open(f\"../run/conf/split/stratify_fold10_{i}.yaml\", \"w\") as wf:\n",
    "        yaml.dump(fold_dict, wf)\n"
   ]
  },
  {
   "cell_type": "code",
   "execution_count": null,
   "id": "91371896-e4be-49ba-98c4-bf2863b95b1e",
   "metadata": {},
   "outputs": [],
   "source": []
  }
 ],
 "metadata": {
  "kernelspec": {
   "display_name": "Python 3 (ipykernel)",
   "language": "python",
   "name": "python3"
  },
  "language_info": {
   "codemirror_mode": {
    "name": "ipython",
    "version": 3
   },
   "file_extension": ".py",
   "mimetype": "text/x-python",
   "name": "python",
   "nbconvert_exporter": "python",
   "pygments_lexer": "ipython3",
   "version": "3.10.12"
  }
 },
 "nbformat": 4,
 "nbformat_minor": 5
}
