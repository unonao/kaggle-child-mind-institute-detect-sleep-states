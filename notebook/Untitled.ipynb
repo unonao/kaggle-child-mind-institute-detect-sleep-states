{
 "cells": [
  {
   "cell_type": "code",
   "execution_count": 1,
   "id": "f2b2772d-0664-4457-88be-e11e12b32a8e",
   "metadata": {
    "tags": []
   },
   "outputs": [],
   "source": [
    "import sys, os\n",
    "sys.path.append(os.pardir)"
   ]
  },
  {
   "cell_type": "code",
   "execution_count": 2,
   "id": "eeb71597-7547-448e-b83f-b4891c960c4b",
   "metadata": {
    "tags": []
   },
   "outputs": [],
   "source": [
    "from pathlib import Path\n",
    "import numpy as np\n",
    "import polars as pl\n",
    "import os\n",
    "from hydra import initialize, compose\n",
    "\n",
    "with initialize(config_path=\"../run/conf\", version_base=None):\n",
    "    cfg = compose(\"cv_train\", overrides=[\"exp_name=exp078_lstm\"])"
   ]
  },
  {
   "cell_type": "code",
   "execution_count": 3,
   "id": "d62f9335-f968-4a49-8b99-fced59625aa8",
   "metadata": {
    "tags": []
   },
   "outputs": [
    {
     "name": "stderr",
     "output_type": "stream",
     "text": [
      "/opt/conda/lib/python3.10/site-packages/scipy/__init__.py:146: UserWarning: A NumPy version >=1.16.5 and <1.23.0 is required for this version of SciPy (detected version 1.23.5\n",
      "  warnings.warn(f\"A NumPy version >={np_minversion} and <{np_maxversion}\"\n"
     ]
    }
   ],
   "source": [
    "from src.utils.metrics import event_detection_ap\n",
    "from src.utils.periodicity import get_periodicity_dict\n",
    "from src.utils.common import trace\n",
    "periodicity_dict = get_periodicity_dict(cfg)"
   ]
  },
  {
   "cell_type": "code",
   "execution_count": 4,
   "id": "a875814f-b3a7-40c1-8759-8144fc492038",
   "metadata": {
    "tags": []
   },
   "outputs": [],
   "source": [
    "train_df = pl.read_parquet(Path(cfg.dir.data_dir) / \"train_series.parquet\")\n",
    "train_df = train_df.with_columns(\n",
    "            pl.col(\"timestamp\").str.to_datetime(\"%Y-%m-%dT%H:%M:%S%z\")\n",
    "        )"
   ]
  },
  {
   "cell_type": "code",
   "execution_count": 5,
   "id": "31bde527-d259-4037-949e-82d7f6c68134",
   "metadata": {
    "tags": []
   },
   "outputs": [],
   "source": [
    "event_df = pl.read_csv(Path(cfg.dir.data_dir) / \"train_events.csv\").drop_nulls()\n",
    "event_df = event_df.with_columns(\n",
    "    pl.col(\"timestamp\").str.to_datetime(\"%Y-%m-%dT%H:%M:%S%z\")\n",
    ")"
   ]
  },
  {
   "cell_type": "code",
   "execution_count": 6,
   "id": "2f460e4f-99fe-4a6e-80e1-d0f7eb321bb6",
   "metadata": {
    "tags": []
   },
   "outputs": [
    {
     "data": {
      "text/html": [
       "<div><style>\n",
       ".dataframe > thead > tr > th,\n",
       ".dataframe > tbody > tr > td {\n",
       "  text-align: right;\n",
       "  white-space: pre-wrap;\n",
       "}\n",
       "</style>\n",
       "<small>shape: (9, 4)</small><table border=\"1\" class=\"dataframe\"><thead><tr><th>describe</th><th>row_id</th><th>prediction_onset</th><th>prediction_wakeup</th></tr><tr><td>str</td><td>f64</td><td>f64</td><td>f64</td></tr></thead><tbody><tr><td>&quot;count&quot;</td><td>1.2794634e8</td><td>1.2794634e8</td><td>1.2794634e8</td></tr><tr><td>&quot;null_count&quot;</td><td>0.0</td><td>0.0</td><td>0.0</td></tr><tr><td>&quot;mean&quot;</td><td>6.3973e7</td><td>0.001201</td><td>0.001185</td></tr><tr><td>&quot;std&quot;</td><td>3.6935e7</td><td>0.017525</td><td>0.017998</td></tr><tr><td>&quot;min&quot;</td><td>0.0</td><td>7.0448e-22</td><td>1.9820e-18</td></tr><tr><td>&quot;25%&quot;</td><td>3.1986585e7</td><td>4.2278e-11</td><td>1.0695e-8</td></tr><tr><td>&quot;50%&quot;</td><td>6.397317e7</td><td>1.0348e-7</td><td>2.5653e-7</td></tr><tr><td>&quot;75%&quot;</td><td>9.5959755e7</td><td>0.000009</td><td>0.000004</td></tr><tr><td>&quot;max&quot;</td><td>1.27946339e8</td><td>0.740916</td><td>0.765315</td></tr></tbody></table></div>"
      ],
      "text/plain": [
       "shape: (9, 4)\n",
       "┌────────────┬──────────────┬──────────────────┬───────────────────┐\n",
       "│ describe   ┆ row_id       ┆ prediction_onset ┆ prediction_wakeup │\n",
       "│ ---        ┆ ---          ┆ ---              ┆ ---               │\n",
       "│ str        ┆ f64          ┆ f64              ┆ f64               │\n",
       "╞════════════╪══════════════╪══════════════════╪═══════════════════╡\n",
       "│ count      ┆ 1.2794634e8  ┆ 1.2794634e8      ┆ 1.2794634e8       │\n",
       "│ null_count ┆ 0.0          ┆ 0.0              ┆ 0.0               │\n",
       "│ mean       ┆ 6.3973e7     ┆ 0.001201         ┆ 0.001185          │\n",
       "│ std        ┆ 3.6935e7     ┆ 0.017525         ┆ 0.017998          │\n",
       "│ min        ┆ 0.0          ┆ 7.0448e-22       ┆ 1.9820e-18        │\n",
       "│ 25%        ┆ 3.1986585e7  ┆ 4.2278e-11       ┆ 1.0695e-8         │\n",
       "│ 50%        ┆ 6.397317e7   ┆ 1.0348e-7        ┆ 2.5653e-7         │\n",
       "│ 75%        ┆ 9.5959755e7  ┆ 0.000009         ┆ 0.000004          │\n",
       "│ max        ┆ 1.27946339e8 ┆ 0.740916         ┆ 0.765315          │\n",
       "└────────────┴──────────────┴──────────────────┴───────────────────┘"
      ]
     },
     "execution_count": 6,
     "metadata": {},
     "output_type": "execute_result"
    }
   ],
   "source": [
    "## pred1\n",
    "pred1_df = pl.read_parquet(\"valid_preds.parquet\")\n",
    "pred1_df.describe()"
   ]
  },
  {
   "cell_type": "code",
   "execution_count": 9,
   "id": "44a3709c-8c6c-4a13-92f7-8c543e46c8b2",
   "metadata": {
    "tags": []
   },
   "outputs": [
    {
     "data": {
      "text/html": [
       "<div><style>\n",
       ".dataframe > thead > tr > th,\n",
       ".dataframe > tbody > tr > td {\n",
       "  text-align: right;\n",
       "  white-space: pre-wrap;\n",
       "}\n",
       "</style>\n",
       "<small>shape: (9, 4)</small><table border=\"1\" class=\"dataframe\"><thead><tr><th>describe</th><th>pred_sleep</th><th>pred_onset</th><th>pred_wakeup</th></tr><tr><td>str</td><td>f64</td><td>f64</td><td>f64</td></tr></thead><tbody><tr><td>&quot;count&quot;</td><td>1.2794634e8</td><td>1.2794634e8</td><td>1.2794634e8</td></tr><tr><td>&quot;null_count&quot;</td><td>0.0</td><td>0.0</td><td>0.0</td></tr><tr><td>&quot;mean&quot;</td><td>0.239709</td><td>0.005477</td><td>0.005221</td></tr><tr><td>&quot;std&quot;</td><td>0.396118</td><td>0.040984</td><td>0.040704</td></tr><tr><td>&quot;min&quot;</td><td>0.000013</td><td>5.9605e-8</td><td>1.7881e-7</td></tr><tr><td>&quot;25%&quot;</td><td>0.001423</td><td>0.000173</td><td>0.000195</td></tr><tr><td>&quot;50%&quot;</td><td>0.007534</td><td>0.000601</td><td>0.000581</td></tr><tr><td>&quot;75%&quot;</td><td>0.329834</td><td>0.00176</td><td>0.001569</td></tr><tr><td>&quot;max&quot;</td><td>0.99707</td><td>0.945801</td><td>0.940918</td></tr></tbody></table></div>"
      ],
      "text/plain": [
       "shape: (9, 4)\n",
       "┌────────────┬─────────────┬─────────────┬─────────────┐\n",
       "│ describe   ┆ pred_sleep  ┆ pred_onset  ┆ pred_wakeup │\n",
       "│ ---        ┆ ---         ┆ ---         ┆ ---         │\n",
       "│ str        ┆ f64         ┆ f64         ┆ f64         │\n",
       "╞════════════╪═════════════╪═════════════╪═════════════╡\n",
       "│ count      ┆ 1.2794634e8 ┆ 1.2794634e8 ┆ 1.2794634e8 │\n",
       "│ null_count ┆ 0.0         ┆ 0.0         ┆ 0.0         │\n",
       "│ mean       ┆ 0.239709    ┆ 0.005477    ┆ 0.005221    │\n",
       "│ std        ┆ 0.396118    ┆ 0.040984    ┆ 0.040704    │\n",
       "│ min        ┆ 0.000013    ┆ 5.9605e-8   ┆ 1.7881e-7   │\n",
       "│ 25%        ┆ 0.001423    ┆ 0.000173    ┆ 0.000195    │\n",
       "│ 50%        ┆ 0.007534    ┆ 0.000601    ┆ 0.000581    │\n",
       "│ 75%        ┆ 0.329834    ┆ 0.00176     ┆ 0.001569    │\n",
       "│ max        ┆ 0.99707     ┆ 0.945801    ┆ 0.940918    │\n",
       "└────────────┴─────────────┴─────────────┴─────────────┘"
      ]
     },
     "execution_count": 9,
     "metadata": {},
     "output_type": "execute_result"
    }
   ],
   "source": [
    "## pred2\n",
    "pred2_df = pl.read_parquet(\"../output/cv_inference/exp078_lstm/single/train_pred.parquet\")\n",
    "pred2_df = pred2_df.with_columns(\n",
    "    [pl.col(col).cast(pl.Float32) for col in [\"pred_sleep\", \"pred_onset\", \"pred_wakeup\"]]\n",
    ")\n",
    "pred2_df.describe()"
   ]
  },
  {
   "cell_type": "code",
   "execution_count": 10,
   "id": "a6b18b8d-9ceb-4a1c-a256-872774d92726",
   "metadata": {
    "tags": []
   },
   "outputs": [
    {
     "data": {
      "text/html": [
       "<div><style>\n",
       ".dataframe > thead > tr > th,\n",
       ".dataframe > tbody > tr > td {\n",
       "  text-align: right;\n",
       "  white-space: pre-wrap;\n",
       "}\n",
       "</style>\n",
       "<small>shape: (5, 11)</small><table border=\"1\" class=\"dataframe\"><thead><tr><th>series_id</th><th>step</th><th>timestamp</th><th>anglez</th><th>enmo</th><th>row_id</th><th>prediction_onset</th><th>prediction_wakeup</th><th>pred_sleep</th><th>pred_onset</th><th>pred_wakeup</th></tr><tr><td>str</td><td>u32</td><td>datetime[μs, UTC]</td><td>f32</td><td>f32</td><td>i64</td><td>f32</td><td>f32</td><td>f32</td><td>f32</td><td>f32</td></tr></thead><tbody><tr><td>&quot;038441c925bb&quot;</td><td>0</td><td>2018-08-14 19:30:00 UTC</td><td>2.6367</td><td>0.0217</td><td>0</td><td>0.000003</td><td>0.001149</td><td>0.0336</td><td>0.004398</td><td>0.011375</td></tr><tr><td>&quot;038441c925bb&quot;</td><td>1</td><td>2018-08-14 19:30:05 UTC</td><td>2.6368</td><td>0.0215</td><td>1</td><td>0.000004</td><td>0.001166</td><td>0.028183</td><td>0.003567</td><td>0.009117</td></tr><tr><td>&quot;038441c925bb&quot;</td><td>2</td><td>2018-08-14 19:30:10 UTC</td><td>2.637</td><td>0.0216</td><td>2</td><td>6.6307e-7</td><td>0.000871</td><td>0.017334</td><td>0.001902</td><td>0.004608</td></tr><tr><td>&quot;038441c925bb&quot;</td><td>3</td><td>2018-08-14 19:30:15 UTC</td><td>2.6368</td><td>0.0213</td><td>3</td><td>0.000002</td><td>0.001289</td><td>0.012047</td><td>0.001182</td><td>0.002462</td></tr><tr><td>&quot;038441c925bb&quot;</td><td>4</td><td>2018-08-14 19:30:20 UTC</td><td>2.6368</td><td>0.0215</td><td>4</td><td>1.9404e-7</td><td>0.001127</td><td>0.012299</td><td>0.001407</td><td>0.002687</td></tr></tbody></table></div>"
      ],
      "text/plain": [
       "shape: (5, 11)\n",
       "┌─────────────┬──────┬────────────┬────────┬───┬────────────┬────────────┬────────────┬────────────┐\n",
       "│ series_id   ┆ step ┆ timestamp  ┆ anglez ┆ … ┆ prediction ┆ pred_sleep ┆ pred_onset ┆ pred_wakeu │\n",
       "│ ---         ┆ ---  ┆ ---        ┆ ---    ┆   ┆ _wakeup    ┆ ---        ┆ ---        ┆ p          │\n",
       "│ str         ┆ u32  ┆ datetime[μ ┆ f32    ┆   ┆ ---        ┆ f32        ┆ f32        ┆ ---        │\n",
       "│             ┆      ┆ s, UTC]    ┆        ┆   ┆ f32        ┆            ┆            ┆ f32        │\n",
       "╞═════════════╪══════╪════════════╪════════╪═══╪════════════╪════════════╪════════════╪════════════╡\n",
       "│ 038441c925b ┆ 0    ┆ 2018-08-14 ┆ 2.6367 ┆ … ┆ 0.001149   ┆ 0.0336     ┆ 0.004398   ┆ 0.011375   │\n",
       "│ b           ┆      ┆ 19:30:00   ┆        ┆   ┆            ┆            ┆            ┆            │\n",
       "│             ┆      ┆ UTC        ┆        ┆   ┆            ┆            ┆            ┆            │\n",
       "│ 038441c925b ┆ 1    ┆ 2018-08-14 ┆ 2.6368 ┆ … ┆ 0.001166   ┆ 0.028183   ┆ 0.003567   ┆ 0.009117   │\n",
       "│ b           ┆      ┆ 19:30:05   ┆        ┆   ┆            ┆            ┆            ┆            │\n",
       "│             ┆      ┆ UTC        ┆        ┆   ┆            ┆            ┆            ┆            │\n",
       "│ 038441c925b ┆ 2    ┆ 2018-08-14 ┆ 2.637  ┆ … ┆ 0.000871   ┆ 0.017334   ┆ 0.001902   ┆ 0.004608   │\n",
       "│ b           ┆      ┆ 19:30:10   ┆        ┆   ┆            ┆            ┆            ┆            │\n",
       "│             ┆      ┆ UTC        ┆        ┆   ┆            ┆            ┆            ┆            │\n",
       "│ 038441c925b ┆ 3    ┆ 2018-08-14 ┆ 2.6368 ┆ … ┆ 0.001289   ┆ 0.012047   ┆ 0.001182   ┆ 0.002462   │\n",
       "│ b           ┆      ┆ 19:30:15   ┆        ┆   ┆            ┆            ┆            ┆            │\n",
       "│             ┆      ┆ UTC        ┆        ┆   ┆            ┆            ┆            ┆            │\n",
       "│ 038441c925b ┆ 4    ┆ 2018-08-14 ┆ 2.6368 ┆ … ┆ 0.001127   ┆ 0.012299   ┆ 0.001407   ┆ 0.002687   │\n",
       "│ b           ┆      ┆ 19:30:20   ┆        ┆   ┆            ┆            ┆            ┆            │\n",
       "│             ┆      ┆ UTC        ┆        ┆   ┆            ┆            ┆            ┆            │\n",
       "└─────────────┴──────┴────────────┴────────┴───┴────────────┴────────────┴────────────┴────────────┘"
      ]
     },
     "execution_count": 10,
     "metadata": {},
     "output_type": "execute_result"
    }
   ],
   "source": [
    "# 結合\n",
    "pred_all_df = pl.concat([train_df, pred1_df, pred2_df], how=\"horizontal\")\n",
    "pred_all_df.head()"
   ]
  },
  {
   "cell_type": "code",
   "execution_count": 23,
   "id": "67aaa23e-4d6c-4774-ae9c-914c281fef72",
   "metadata": {
    "tags": []
   },
   "outputs": [],
   "source": [
    "from scipy.signal import find_peaks\n",
    "from tqdm.auto import tqdm\n",
    "\n",
    "def make_submission(\n",
    "    preds_df: pl.DataFrame,\n",
    "    periodicity_dict: dict[str, np.ndarray],\n",
    "    height: float = 0.001,\n",
    "    distance: int = 100,\n",
    "    day_norm: bool = False,\n",
    "    daily_score_offset: float = 1.0,\n",
    "    pred_prefix:str =\"prediction\",\n",
    "    late_date_rate: float|None= None,\n",
    ") -> pl.DataFrame:\n",
    "\n",
    "    event_dfs = []\n",
    "\n",
    "    for series_id, series_df in tqdm(preds_df.group_by(\"series_id\"), desc=\"find peaks\", leave=False, total=len(preds_df[\"series_id\"].unique())):\n",
    "        for event in [\"onset\", \"wakeup\"]:\n",
    "            event_preds = series_df[f\"{pred_prefix}_{event}\"].to_numpy().copy()\n",
    "            event_preds *= 1 - periodicity_dict[series_id][: len(event_preds)]\n",
    "            steps = find_peaks(event_preds, height=height, distance=distance)[0]\n",
    "            event_dfs.append(\n",
    "                series_df.filter(pl.col(\"step\").is_in(steps))\n",
    "                .with_columns(pl.lit(event).alias(\"event\"))\n",
    "                .rename({f\"{pred_prefix}_{event}\": \"score\"})\n",
    "                .select([\"series_id\", \"step\", \"timestamp\", \"event\", \"score\"])\n",
    "            )\n",
    "        \n",
    "    submission_df = (\n",
    "        pl.concat(event_dfs)\n",
    "        .sort([\"series_id\", \"step\"])\n",
    "        .with_columns(pl.arange(0, pl.count()).alias(\"row_id\"))\n",
    "    )\n",
    "\n",
    "    if day_norm:\n",
    "        submission_df = submission_df.with_columns(\n",
    "            pl.col(\"timestamp\").dt.offset_by(\"2h\").dt.date().alias(\"date\")\n",
    "        ).with_columns(\n",
    "            pl.col(\"score\") / (pl.col(\"score\").sum().over([\"series_id\", \"event\", \"date\"]) + daily_score_offset)\n",
    "        )\n",
    "\n",
    "    if late_date_rate is not None:\n",
    "        submission_df = submission_df.with_columns(\n",
    "            pl.col(\"timestamp\").dt.offset_by(\"2h\").dt.date().alias(\"date\")\n",
    "        ).with_columns(\n",
    "            pl.col(\"date\").min().over(\"series_id\").alias(\"min_date\"),\n",
    "            pl.col(\"date\").max().over(\"series_id\").alias(\"max_date\"),\n",
    "        ).with_columns(\n",
    "            pl.col(\"score\")\n",
    "            * (\n",
    "                1\n",
    "                - (\n",
    "                    (1 - pl.lit(late_date_rate))\n",
    "                    * (\n",
    "                        (pl.col(\"date\") - pl.col(\"min_date\")).dt.days()\n",
    "                        / ((pl.col(\"max_date\") - pl.col(\"min_date\")).dt.days() + 1.0)\n",
    "                    )\n",
    "                )\n",
    "            )\n",
    "        )\n",
    "\n",
    "    return submission_df.select([\"row_id\", \"series_id\", \"step\", \"event\", \"score\"])"
   ]
  },
  {
   "cell_type": "code",
   "execution_count": 25,
   "id": "1d6e2460-0cca-435d-9aad-10fedd54d7dc",
   "metadata": {
    "tags": []
   },
   "outputs": [
    {
     "data": {
      "application/vnd.jupyter.widget-view+json": {
       "model_id": "",
       "version_major": 2,
       "version_minor": 0
      },
      "text/plain": [
       "find peaks:   0%|          | 0/277 [00:00<?, ?it/s]"
      ]
     },
     "metadata": {},
     "output_type": "display_data"
    },
    {
     "name": "stderr",
     "output_type": "stream",
     "text": [
      "[11.4GB(+0.4GB):12.4sec] make submission \n"
     ]
    },
    {
     "data": {
      "application/vnd.jupyter.widget-view+json": {
       "model_id": "",
       "version_major": 2,
       "version_minor": 0
      },
      "text/plain": [
       "Matching detections to ground truth events:   0%|          | 0/538 [00:00<?, ?it/s]"
      ]
     },
     "metadata": {},
     "output_type": "display_data"
    },
    {
     "data": {
      "text/plain": [
       "0.788422374022332"
      ]
     },
     "execution_count": 25,
     "metadata": {},
     "output_type": "execute_result"
    }
   ],
   "source": [
    "with trace('make submission'):\n",
    "    sub_df2 = make_submission(\n",
    "        pred_all_df,\n",
    "        periodicity_dict= periodicity_dict,\n",
    "        height = 0.001,\n",
    "        distance = 101,\n",
    "        day_norm=False,\n",
    "        daily_score_offset = 1.0,\n",
    "        prefix=\"pred\",\n",
    "    ) \n",
    "score = event_detection_ap(\n",
    "    event_df.to_pandas(),\n",
    "    sub_df2.to_pandas(),\n",
    ")\n",
    "score"
   ]
  },
  {
   "cell_type": "code",
   "execution_count": 21,
   "id": "2b796a7f-90f9-4fd9-b294-9ed99d338eb8",
   "metadata": {
    "tags": []
   },
   "outputs": [
    {
     "data": {
      "application/vnd.jupyter.widget-view+json": {
       "model_id": "",
       "version_major": 2,
       "version_minor": 0
      },
      "text/plain": [
       "Matching detections to ground truth events:   0%|          | 0/538 [00:00<?, ?it/s]"
      ]
     },
     "metadata": {},
     "output_type": "display_data"
    },
    {
     "data": {
      "text/plain": [
       "0.788422374022332"
      ]
     },
     "execution_count": 21,
     "metadata": {},
     "output_type": "execute_result"
    }
   ],
   "source": []
  },
  {
   "cell_type": "code",
   "execution_count": 16,
   "id": "4ba662d8-aab9-40fd-bb3d-673ee852d838",
   "metadata": {
    "tags": []
   },
   "outputs": [],
   "source": [
    "from scipy.signal import find_peaks\n",
    "from tqdm.auto import tqdm\n",
    "\n",
    "def make_submission(\n",
    "    preds_df: pl.DataFrame,\n",
    "    periodicity_dict: dict[str, np.ndarray],\n",
    "    height: float = 0.001,\n",
    "    distance: int = 100,\n",
    "    daily_score_offset: float = 1.0,\n",
    "    prefix:str =\"prediction\"\n",
    ") -> pl.DataFrame:\n",
    "\n",
    "    event_dfs = []\n",
    "\n",
    "    for series_id, series_df in tqdm(preds_df.group_by(\"series_id\"), desc=\"find peaks\", leave=False, total=len(preds_df[\"series_id\"].unique())):\n",
    "        for event in [\"onset\", \"wakeup\"]:\n",
    "            event_preds = series_df[f\"{prefix}_{event}\"].to_numpy().copy()\n",
    "            event_preds *= 1 - periodicity_dict[series_id][: len(event_preds)]\n",
    "            steps = find_peaks(event_preds, height=height, distance=distance)[0]\n",
    "            event_dfs.append(\n",
    "                series_df.filter(pl.col(\"step\").is_in(steps))\n",
    "                .with_columns(pl.lit(event).alias(\"event\"))\n",
    "                .rename({f\"{prefix}_{event}\": \"score\"})\n",
    "                .select([\"series_id\", \"step\", \"timestamp\", \"event\", \"score\"])\n",
    "            )\n",
    "    submission_df = (\n",
    "        pl.concat(event_dfs)\n",
    "        .sort([\"series_id\", \"step\"])\n",
    "        .with_columns(pl.arange(0, pl.count()).alias(\"row_id\"))\n",
    "        .select([\"row_id\", \"series_id\", \"step\", \"event\", \"score\"])\n",
    "    )\n",
    "    return submission_df"
   ]
  },
  {
   "cell_type": "code",
   "execution_count": 17,
   "id": "0714cca2-3897-4fb8-abc0-e463bb8eacd3",
   "metadata": {
    "tags": []
   },
   "outputs": [
    {
     "data": {
      "application/vnd.jupyter.widget-view+json": {
       "model_id": "",
       "version_major": 2,
       "version_minor": 0
      },
      "text/plain": [
       "find peaks:   0%|          | 0/277 [00:00<?, ?it/s]"
      ]
     },
     "metadata": {},
     "output_type": "display_data"
    },
    {
     "name": "stderr",
     "output_type": "stream",
     "text": [
      "[11.4GB(+0.5GB):11.5sec] make submission \n"
     ]
    }
   ],
   "source": [
    "with trace('make submission'):\n",
    "    sub_df2 = make_submission(\n",
    "        pred_all_df,\n",
    "        periodicity_dict= periodicity_dict,\n",
    "        height = 0.001,\n",
    "        distance = 101,\n",
    "        daily_score_offset = 1.0,\n",
    "        prefix=\"pred\"\n",
    "    ) "
   ]
  },
  {
   "cell_type": "code",
   "execution_count": 18,
   "id": "a4017094-41f5-4565-9f98-c5e2142e8c57",
   "metadata": {
    "tags": []
   },
   "outputs": [
    {
     "data": {
      "application/vnd.jupyter.widget-view+json": {
       "model_id": "",
       "version_major": 2,
       "version_minor": 0
      },
      "text/plain": [
       "Matching detections to ground truth events:   0%|          | 0/538 [00:00<?, ?it/s]"
      ]
     },
     "metadata": {},
     "output_type": "display_data"
    },
    {
     "data": {
      "text/plain": [
       "0.788422374022332"
      ]
     },
     "execution_count": 18,
     "metadata": {},
     "output_type": "execute_result"
    }
   ],
   "source": [
    "score = event_detection_ap(\n",
    "    event_df.to_pandas(),\n",
    "    sub_df2.to_pandas(),\n",
    ")\n",
    "score"
   ]
  },
  {
   "cell_type": "code",
   "execution_count": null,
   "id": "d303ea71-4c69-4b3d-9107-c3caa75f3acb",
   "metadata": {},
   "outputs": [],
   "source": []
  },
  {
   "cell_type": "code",
   "execution_count": null,
   "id": "effc7ba4-2410-43c9-a290-31c9f1f86996",
   "metadata": {},
   "outputs": [],
   "source": []
  },
  {
   "cell_type": "code",
   "execution_count": 15,
   "id": "2ed6d379-e9ed-4a10-81d2-bb58c133de47",
   "metadata": {
    "tags": []
   },
   "outputs": [],
   "source": [
    "import numpy as np\n",
    "import torch"
   ]
  },
  {
   "cell_type": "code",
   "execution_count": 30,
   "id": "ae82ddd0-78ba-4f7a-9ee0-68096a093116",
   "metadata": {
    "tags": []
   },
   "outputs": [],
   "source": [
    "batch_size, height, n_timesteps = 2, 3, 16\n",
    "x = torch.randn(batch_size, height, n_timesteps)"
   ]
  },
  {
   "cell_type": "code",
   "execution_count": 31,
   "id": "aad79ae9-5c2b-4fce-963b-ceffdddc4d2e",
   "metadata": {
    "tags": []
   },
   "outputs": [
    {
     "name": "stdout",
     "output_type": "stream",
     "text": [
      "torch.Size([2, 3, 16])\n"
     ]
    },
    {
     "data": {
      "text/plain": [
       "tensor([[[-0.3043, -0.4002,  2.3879,  0.3315, -0.5977,  0.1647,  0.2765,\n",
       "          -0.2068, -1.2563, -0.2078, -0.7170,  0.0813, -2.0867,  1.5346,\n",
       "          -0.0893,  0.5615],\n",
       "         [ 0.4196, -0.4105, -0.4590,  0.6873, -0.5096, -0.1428,  0.3947,\n",
       "           0.5123, -0.7020,  2.0761, -1.4539,  0.0517, -0.3946, -0.9039,\n",
       "           0.4739,  0.2793],\n",
       "         [-0.7913, -1.5467,  0.9308,  0.5389, -0.8949, -0.0334,  1.7299,\n",
       "           1.9157,  0.9344,  0.3280,  0.2866, -2.9284, -1.0829,  1.1879,\n",
       "           0.7656,  0.4795]],\n",
       "\n",
       "        [[-0.2544, -1.5696, -0.7613, -1.5473, -0.3800,  0.2525, -1.7151,\n",
       "          -1.1560,  0.4908, -0.3029,  1.8000,  0.0819,  0.7768,  0.9647,\n",
       "           0.7437,  0.9847],\n",
       "         [ 0.5525, -0.1429,  0.4380, -0.1435, -1.2380, -1.3140,  0.9394,\n",
       "           2.2703, -0.1071,  0.2021,  0.4899, -0.3443, -0.8482,  0.6317,\n",
       "          -1.5534, -0.2310],\n",
       "         [-0.4718, -1.8672,  0.2409,  0.6980,  0.0163, -1.4306, -0.4520,\n",
       "          -0.3687, -0.7925,  0.6190, -0.3567,  1.0088,  1.8940,  0.5297,\n",
       "          -0.7179, -0.4165]]])"
      ]
     },
     "execution_count": 31,
     "metadata": {},
     "output_type": "execute_result"
    }
   ],
   "source": [
    "print(x.shape)\n",
    "x"
   ]
  },
  {
   "cell_type": "code",
   "execution_count": 39,
   "id": "07045374-87d7-4f28-98f6-7f3f65621025",
   "metadata": {
    "tags": []
   },
   "outputs": [],
   "source": [
    "split_times = 3 # 2,4,8分割\n",
    "n_timesteps = 16\n",
    "\n",
    "x_repeat = x.unsqueeze(dim=1).repeat((1,split_times+1,1,1))\n",
    "\n",
    "for si in range(split_times):\n",
    "    n_group = 2**(si+1) # n_group分割\n",
    "    len_group = n_timesteps//n_group\n",
    "    for gi in range(0, n_group, 2): # ２ペアずつ入れ替え処理\n",
    "        start = len_group*gi\n",
    "        mid = start+len_group\n",
    "        end = start+len_group*2\n",
    "        temp = x_repeat[:, si+1, :, start:mid].clone()\n",
    "        x_repeat[:, si+1, :, start:mid] = x_repeat[:, si+1, :, mid:end]\n",
    "        x_repeat[:, si+1, :, mid:end] = temp\n",
    "    \n",
    "    # 現在地との差分\n",
    "    x_repeat[:, si+1, :, :] -= x_repeat[:, 0, :, :]"
   ]
  },
  {
   "cell_type": "code",
   "execution_count": 41,
   "id": "5a2e1731-cef8-4a9c-b4c0-035f76696762",
   "metadata": {
    "tags": []
   },
   "outputs": [
    {
     "data": {
      "text/plain": [
       "torch.Size([2, 4, 3, 16])"
      ]
     },
     "execution_count": 41,
     "metadata": {},
     "output_type": "execute_result"
    }
   ],
   "source": [
    "x_repeat.shape"
   ]
  },
  {
   "cell_type": "code",
   "execution_count": 46,
   "id": "ba13e264-8677-4afc-87dc-0ca4ee296079",
   "metadata": {
    "tags": []
   },
   "outputs": [
    {
     "data": {
      "text/plain": [
       "torch.Size([2, 3, 3, 16])"
      ]
     },
     "execution_count": 46,
     "metadata": {},
     "output_type": "execute_result"
    }
   ],
   "source": []
  },
  {
   "cell_type": "code",
   "execution_count": 35,
   "id": "0d43c8b0-0dca-4deb-a7b4-8175151ab7b1",
   "metadata": {
    "tags": []
   },
   "outputs": [
    {
     "data": {
      "text/plain": [
       "torch.Size([2, 3, 32])"
      ]
     },
     "execution_count": 35,
     "metadata": {},
     "output_type": "execute_result"
    }
   ],
   "source": [
    "x.repeat((1,1,2)).shape"
   ]
  },
  {
   "cell_type": "code",
   "execution_count": null,
   "id": "73169850-a2a3-4003-b344-d09fe766ff5f",
   "metadata": {},
   "outputs": [],
   "source": []
  }
 ],
 "metadata": {
  "kernelspec": {
   "display_name": "Python [conda env:root] *",
   "language": "python",
   "name": "conda-root-py"
  },
  "language_info": {
   "codemirror_mode": {
    "name": "ipython",
    "version": 3
   },
   "file_extension": ".py",
   "mimetype": "text/x-python",
   "name": "python",
   "nbconvert_exporter": "python",
   "pygments_lexer": "ipython3",
   "version": "3.10.12"
  }
 },
 "nbformat": 4,
 "nbformat_minor": 5
}
