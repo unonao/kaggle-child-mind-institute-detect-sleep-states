{
 "cells": [
  {
   "cell_type": "code",
   "execution_count": 2,
   "id": "080cb4a9-1051-4d15-8e63-f93a9bd96253",
   "metadata": {
    "tags": []
   },
   "outputs": [],
   "source": [
    "from hydra import initialize, compose\n",
    "\n",
    "with initialize(config_path=\"../run/conf\", version_base=None):\n",
    "    cfg = compose(\"score\", overrides=[\"exp=exp007_0\", \"split=stratify_fold_0\"])"
   ]
  },
  {
   "cell_type": "code",
   "execution_count": 3,
   "id": "408f640d-07e4-45a5-aef2-608f38b816a9",
   "metadata": {
    "tags": []
   },
   "outputs": [],
   "source": [
    "import sys, os\n",
    "sys.path.append(os.pardir)"
   ]
  },
  {
   "cell_type": "code",
   "execution_count": 23,
   "id": "b53badfb-003c-4c76-a547-5d88976d2a83",
   "metadata": {
    "tags": []
   },
   "outputs": [],
   "source": [
    "from pathlib import Path\n",
    "import numpy as np\n",
    "import polars as pl\n",
    "import os\n",
    "import matplotlib.pyplot as plt\n"
   ]
  },
  {
   "cell_type": "code",
   "execution_count": 5,
   "id": "6579e0f5-8549-431b-8449-fdfb2769c7f7",
   "metadata": {
    "tags": []
   },
   "outputs": [
    {
     "data": {
      "text/plain": [
       "PosixPath('/tmp/working/processed/train/0a96f4993bd7')"
      ]
     },
     "execution_count": 5,
     "metadata": {},
     "output_type": "execute_result"
    }
   ],
   "source": [
    "series_id = \"0a96f4993bd7\"\n",
    "series_dir = Path(cfg.dir.processed_dir) / \"train\" / series_id\n",
    "\n",
    "series_dir"
   ]
  },
  {
   "cell_type": "code",
   "execution_count": 17,
   "id": "68f17681-94e5-4a37-9eaf-1b605da33647",
   "metadata": {
    "tags": []
   },
   "outputs": [],
   "source": [
    "train_df = pl.read_parquet(Path(cfg.dir.data_dir) / \"train_series.parquet\", n_rows=3000000).to_pandas()\n",
    "train_events_df = pl.read_csv(Path(cfg.dir.data_dir) / \"train_events.csv\").drop_nulls().to_pandas()"
   ]
  },
  {
   "cell_type": "code",
   "execution_count": 18,
   "id": "e1470590-a273-4ec9-a29d-3ffd22667137",
   "metadata": {
    "tags": []
   },
   "outputs": [
    {
     "data": {
      "text/plain": [
       "array(['038441c925bb', '03d92c9f6f8a', '0402a003dae9', '04f547b8017d',\n",
       "       '05e1944c3818', '062cae666e2a', '062dbd4c95e6'], dtype=object)"
      ]
     },
     "execution_count": 18,
     "metadata": {},
     "output_type": "execute_result"
    }
   ],
   "source": [
    "train_df['series_id'].unique()"
   ]
  },
  {
   "cell_type": "code",
   "execution_count": 26,
   "id": "f0f0bef2-e782-4dda-a4a9-0cbc4fbc2dad",
   "metadata": {
    "tags": []
   },
   "outputs": [
    {
     "data": {
      "text/plain": [
       "5760.0"
      ]
     },
     "execution_count": 26,
     "metadata": {},
     "output_type": "execute_result"
    }
   ],
   "source": [
    "3600 * 8 /5"
   ]
  },
  {
   "cell_type": "code",
   "execution_count": 24,
   "id": "00ce07d3-37c4-4f5b-a8f4-0c8240a6c8a1",
   "metadata": {
    "tags": []
   },
   "outputs": [],
   "source": [
    "def plot_series_with_events(series_id, train_series, train_events):\n",
    "    # Filter the DataFrame based on the series_id\n",
    "    sample_serie = train_series[train_series['series_id'] == series_id]\n",
    "    \n",
    "    # Filter event data based on the series_id\n",
    "    sample_events = train_events[train_events['series_id'] == series_id]\n",
    "    sample_onset = sample_events.loc[sample_events['event'] == 'onset', 'timestamp'].dropna()\n",
    "    sample_wakeup = sample_events.loc[sample_events['event'] == 'wakeup', 'timestamp'].dropna()\n",
    "    \n",
    "    # Helper function to plot data and events\n",
    "    def plot_data_and_events(data, ylabel):\n",
    "        plt.figure(figsize=(20, 3))\n",
    "        plt.plot(sample_serie['timestamp'], sample_serie[data], label=data, linewidth=1)\n",
    "        \n",
    "        for onset in sample_onset:\n",
    "            plt.axvline(x=onset, color='r', linestyle='--', label='onset')\n",
    "            \n",
    "        for wakeup in sample_wakeup:\n",
    "            plt.axvline(x=wakeup, color='g', linestyle='--', label='wakeup')\n",
    "            \n",
    "        handles, labels = plt.gca().get_legend_handles_labels()\n",
    "        new_labels, new_handles = [], []\n",
    "        for handle, label in zip(handles, labels):\n",
    "            if label not in new_labels:\n",
    "                new_handles.append(handle)\n",
    "                new_labels.append(label)\n",
    "        \n",
    "        plt.legend(new_handles, new_labels)\n",
    "        plt.xlabel('Timestamp')\n",
    "        plt.ylabel(ylabel)\n",
    "        plt.title(f'{ylabel} over Time with Event Flags - '+series_id)\n",
    "        plt.show()\n",
    "    \n",
    "    # Plot enmo and anglez\n",
    "    plot_data_and_events('enmo', 'ENMO Value')\n",
    "    plot_data_and_events('anglez', 'anglez Value')"
   ]
  },
  {
   "cell_type": "code",
   "execution_count": null,
   "id": "755cd277-08db-4e88-b649-08a529e00540",
   "metadata": {
    "tags": []
   },
   "outputs": [],
   "source": [
    "# '038441c925bb', '03d92c9f6f8a', '0402a003dae9', '04f547b8017d', '05e1944c3818', '062cae666e2a'\n",
    "plot_series_with_events('038441c925bb', train_df, train_events_df)"
   ]
  },
  {
   "cell_type": "code",
   "execution_count": null,
   "id": "453475e5-848f-442b-99ea-105696acce8e",
   "metadata": {},
   "outputs": [],
   "source": [
    "def downsample(sequence, factor=10):\n",
    "    \"\"\"\n",
    "    Downsamples the sequence by the given factor.\n",
    "    \"\"\"\n",
    "    return sequence[::factor]\n",
    "\n",
    "def resize_1d_array(array, new_size):\n",
    "    \"\"\"\n",
    "    Resizes a 1D numpy array to a new size using interpolation.\n",
    "\n",
    "    :param array: 1D numpy array\n",
    "    :param new_size: New size of the array\n",
    "    :return: Resized array\n",
    "    \"\"\"\n",
    "    return np.interp(\n",
    "        np.linspace(0, len(array) - 1, new_size),\n",
    "        np.arange(len(array)),\n",
    "        array\n",
    "    )\n",
    "\n",
    "def detect_periodicity(seq: np.ndarray)->np.ndarray:\n",
    "    one_day_step = 3600 * 24 // 5\n",
    "    downsample_rate = 120\n",
    "    split_hour = 8 # 24 の約数\n",
    "\n",
    "    # seq をダウンサンプリングして seq_downsampled に\n",
    "    seq_downsampled = downsample(seq, downsample_rate)\n",
    "\n",
    "    # seq_downsampled を split_hour ごとに分割した chunks (chunk_num, d) を作る（足りない部分は0埋め）\n",
    "    split_step = 8 * 3600 // 5 // downsample_rate # 8 時間おき。24の約数にすること\n",
    "    valid_length = ((len(seq_downsampled)+(split_step-1))//split_step)*split_step # split_step に合うように\n",
    "    seq_downsampled_padded = np.zeros(valid_length)\n",
    "    seq_downsampled_padded[:len(seq_downsampled)] = seq_downsampled\n",
    "    chunks = seq_downsampled_padded.reshape(-1, split_step)\n",
    "\n",
    "    # 各ベクトルを正規化し chunks・chunks.T で (chunk_num,chunk_num) のcos類似度を求め、対角線上を0にした後にmaxを取って chunk_num サイズの予測 pred_chunk を得る\n",
    "    norm_vecs = chunks/np.linalg.norm(chunks, axis=1, keepdims=True)\n",
    "    cosine_sim_matrix = np.dot(norm_vecs, norm_vecs.T)\n",
    "    cosine_sim_matrix[range(len(cosine_sim_matrix)), range(len(cosine_sim_matrix))] = 0\n",
    "    pred_chunk = cosine_sim_matrix.max(axis=0) > 0.99\n",
    "\n",
    "    # 最後の一個前が true なら、最後もtrueにする（最後は0埋めしたのでうまくできていない）\n",
    "    pred_chunk[-1] = pred_chunk[-2:-1].max()\n",
    "\n",
    "    # pred_vecを元のsequenceのサイズに戻す\n",
    "    pred = resize_1d_array(pred_chunk.repeat(split_step)[:len(seq_downsampled)], len(seq))\n",
    "    return pred\n",
    "\n"
   ]
  },
  {
   "cell_type": "code",
   "execution_count": null,
   "id": "f62254c4-0b26-40bd-a589-ba71ef49092c",
   "metadata": {},
   "outputs": [],
   "source": []
  }
 ],
 "metadata": {
  "kernelspec": {
   "display_name": "Python 3 (ipykernel)",
   "language": "python",
   "name": "python3"
  },
  "language_info": {
   "codemirror_mode": {
    "name": "ipython",
    "version": 3
   },
   "file_extension": ".py",
   "mimetype": "text/x-python",
   "name": "python",
   "nbconvert_exporter": "python",
   "pygments_lexer": "ipython3",
   "version": "3.10.12"
  }
 },
 "nbformat": 4,
 "nbformat_minor": 5
}
