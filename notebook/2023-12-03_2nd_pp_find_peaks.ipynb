{
 "cells": [
  {
   "cell_type": "code",
   "execution_count": 1,
   "id": "5322e3d5-2719-4a25-85bf-bd2d407dd2e1",
   "metadata": {
    "tags": []
   },
   "outputs": [],
   "source": [
    "import sys, os\n",
    "sys.path.append(os.pardir)"
   ]
  },
  {
   "cell_type": "code",
   "execution_count": 2,
   "id": "73dac865-6b78-460f-ba14-81239daf41d4",
   "metadata": {
    "tags": []
   },
   "outputs": [],
   "source": [
    "from pathlib import Path\n",
    "import numpy as np\n",
    "import polars as pl\n",
    "import os\n",
    "from hydra import initialize, compose\n",
    "import plotly.express as px\n",
    "\n",
    "with initialize(config_path=\"../run/conf\", version_base=None):\n",
    "    cfg = compose(\"cv_train\")"
   ]
  },
  {
   "cell_type": "code",
   "execution_count": 70,
   "id": "89a68a4d-4dbd-4be2-ab26-1e5434a4746e",
   "metadata": {
    "tags": []
   },
   "outputs": [],
   "source": [
    "from src.utils.metrics import event_detection_ap\n",
    "from src.utils.periodicity import get_periodicity_dict\n",
    "from src.utils.post_process import make_submission\n",
    "from src.utils.common import trace\n",
    "\n",
    "periodicity_dict = get_periodicity_dict(cfg)"
   ]
  },
  {
   "cell_type": "code",
   "execution_count": 4,
   "id": "7ad51a8f-9379-42ef-93a1-93cc423cbff1",
   "metadata": {
    "tags": []
   },
   "outputs": [],
   "source": [
    "event_df = pl.read_csv(Path(cfg.dir.data_dir) / \"train_events.csv\").drop_nulls()\n",
    "event_df = event_df.with_columns(\n",
    "    pl.col(\"timestamp\").str.to_datetime(\"%Y-%m-%dT%H:%M:%S%z\")\n",
    ")"
   ]
  },
  {
   "cell_type": "markdown",
   "id": "0388a7f6-c4a5-42b2-934c-0ab55f8cf828",
   "metadata": {},
   "source": [
    "### 1段目モデルの予測値"
   ]
  },
  {
   "cell_type": "code",
   "execution_count": 21,
   "id": "7f9b6983-3ffa-4ccf-83b5-36b03fe140cc",
   "metadata": {
    "tags": []
   },
   "outputs": [],
   "source": [
    "sakami_path2col_dict = {\n",
    "   \"148_gru_scale_factor.parquet\": \"148_gru_scale_factor\",\n",
    "    \"156_gru_transformer_residual.parquet\" : \"156_gru_transformer_residual\",\n",
    "}\n",
    "kami_path2col_dict = {\n",
    "    \"../output/cv_inference/exp065_split_drop/single/train_pred.parquet\": \"exp065_split_drop\",\n",
    "}\n",
    "weight_cols = {\n",
    "    \"148_gru_scale_factor\": 0.42164168,\n",
    "    \"156_gru_transformer_residual\": 0.48143932,\n",
    "    \"exp065_split_drop\": 0.096919,\n",
    "}\n",
    "events = [\"onset\", \"wakeup\"]\n"
   ]
  },
  {
   "cell_type": "code",
   "execution_count": 15,
   "id": "9ab89475-f2f0-4cef-8361-117f8233ce90",
   "metadata": {
    "tags": []
   },
   "outputs": [
    {
     "data": {
      "text/html": [
       "<div><style>\n",
       ".dataframe > thead > tr > th,\n",
       ".dataframe > tbody > tr > td {\n",
       "  text-align: right;\n",
       "  white-space: pre-wrap;\n",
       "}\n",
       "</style>\n",
       "<small>shape: (5, 5)</small><table border=\"1\" class=\"dataframe\"><thead><tr><th>series_id</th><th>step</th><th>timestamp</th><th>prediction_onset</th><th>prediction_wakeup</th></tr><tr><td>str</td><td>u32</td><td>datetime[μs, UTC]</td><td>f32</td><td>f32</td></tr></thead><tbody><tr><td>&quot;038441c925bb&quot;</td><td>0</td><td>2018-08-14 19:30:00 UTC</td><td>0.001358</td><td>0.002242</td></tr><tr><td>&quot;038441c925bb&quot;</td><td>1</td><td>2018-08-14 19:30:05 UTC</td><td>0.001213</td><td>0.001838</td></tr><tr><td>&quot;038441c925bb&quot;</td><td>2</td><td>2018-08-14 19:30:10 UTC</td><td>0.000926</td><td>0.001025</td></tr><tr><td>&quot;038441c925bb&quot;</td><td>3</td><td>2018-08-14 19:30:15 UTC</td><td>0.000912</td><td>0.000642</td></tr><tr><td>&quot;038441c925bb&quot;</td><td>4</td><td>2018-08-14 19:30:20 UTC</td><td>0.001171</td><td>0.000688</td></tr></tbody></table></div>"
      ],
      "text/plain": [
       "shape: (5, 5)\n",
       "┌──────────────┬──────┬─────────────────────────┬──────────────────┬───────────────────┐\n",
       "│ series_id    ┆ step ┆ timestamp               ┆ prediction_onset ┆ prediction_wakeup │\n",
       "│ ---          ┆ ---  ┆ ---                     ┆ ---              ┆ ---               │\n",
       "│ str          ┆ u32  ┆ datetime[μs, UTC]       ┆ f32              ┆ f32               │\n",
       "╞══════════════╪══════╪═════════════════════════╪══════════════════╪═══════════════════╡\n",
       "│ 038441c925bb ┆ 0    ┆ 2018-08-14 19:30:00 UTC ┆ 0.001358         ┆ 0.002242          │\n",
       "│ 038441c925bb ┆ 1    ┆ 2018-08-14 19:30:05 UTC ┆ 0.001213         ┆ 0.001838          │\n",
       "│ 038441c925bb ┆ 2    ┆ 2018-08-14 19:30:10 UTC ┆ 0.000926         ┆ 0.001025          │\n",
       "│ 038441c925bb ┆ 3    ┆ 2018-08-14 19:30:15 UTC ┆ 0.000912         ┆ 0.000642          │\n",
       "│ 038441c925bb ┆ 4    ┆ 2018-08-14 19:30:20 UTC ┆ 0.001171         ┆ 0.000688          │\n",
       "└──────────────┴──────┴─────────────────────────┴──────────────────┴───────────────────┘"
      ]
     },
     "execution_count": 15,
     "metadata": {},
     "output_type": "execute_result"
    }
   ],
   "source": [
    "train_df = pl.read_parquet(Path(cfg.dir.data_dir) / \"train_series.parquet\")\n",
    "train_df = train_df.with_columns(\n",
    "            pl.col(\"timestamp\").str.to_datetime(\"%Y-%m-%dT%H:%M:%S%z\")\n",
    ")\n",
    "df_list = [train_df]\n",
    "for path, name in sakami_path2col_dict.items():\n",
    "    pred_df = pl.read_parquet(path)\n",
    "    pred_df = pred_df.with_columns(\n",
    "        [pl.col(\"prediction_\"+event).cast(pl.Float32).alias(name+\"_\"+event) for event in events]\n",
    "    ).select([name+\"_\"+event for event in events])\n",
    "    df_list.append(pred_df)\n",
    "\n",
    "for path, name in kami_path2col_dict.items():\n",
    "    pred_df = pl.read_parquet(path)\n",
    "    pred_df = pred_df.with_columns(\n",
    "        [pl.col(\"pred_\"+event).cast(pl.Float32).alias(name+\"_\"+event) for event in events]\n",
    "    ).select([name+\"_\"+event for event in events])\n",
    "    df_list.append(pred_df)\n",
    "\n",
    "pred_all_df = pl.concat(df_list, how=\"horizontal\")\n",
    "pred_1st_df = pred_all_df.with_columns(\n",
    "    [pl.sum_horizontal([\n",
    "        pl.col(f\"{name}_{event}\")* weight for (name, weight) in weight_cols.items()]).alias(f\"prediction_{event}\")\n",
    "    for event in events]\n",
    ").select([\"series_id\", \"step\", \"timestamp\"] + [f\"prediction_{event}\" for event in events])\n",
    "\n",
    "pred_1st_df.head()"
   ]
  },
  {
   "cell_type": "markdown",
   "id": "a78f5baa-6180-4a8c-8d16-df731d5bed52",
   "metadata": {},
   "source": [
    "### 2段目モデルの予測値"
   ]
  },
  {
   "cell_type": "code",
   "execution_count": 62,
   "id": "ff270982-05b9-430d-bb12-6bb994d2a136",
   "metadata": {
    "tags": []
   },
   "outputs": [
    {
     "data": {
      "text/html": [
       "<div><style>\n",
       ".dataframe > thead > tr > th,\n",
       ".dataframe > tbody > tr > td {\n",
       "  text-align: right;\n",
       "  white-space: pre-wrap;\n",
       "}\n",
       "</style>\n",
       "<small>shape: (5, 8)</small><table border=\"1\" class=\"dataframe\"><thead><tr><th>series_id</th><th>step</th><th>stacking_prediction_onset</th><th>stacking_prediction_wakeup</th><th>chunk_id</th><th>timestamp</th><th>anglez</th><th>enmo</th></tr><tr><td>str</td><td>u32</td><td>f64</td><td>f64</td><td>u64</td><td>datetime[μs, UTC]</td><td>f32</td><td>f32</td></tr></thead><tbody><tr><td>&quot;038441c925bb&quot;</td><td>0</td><td>0.000008</td><td>0.00001</td><td>0</td><td>2018-08-14 19:30:00 UTC</td><td>2.6367</td><td>0.0217</td></tr><tr><td>&quot;038441c925bb&quot;</td><td>12</td><td>0.000008</td><td>0.000008</td><td>0</td><td>2018-08-14 19:31:00 UTC</td><td>2.4129</td><td>0.0218</td></tr><tr><td>&quot;038441c925bb&quot;</td><td>24</td><td>0.000007</td><td>0.000031</td><td>0</td><td>2018-08-14 19:32:00 UTC</td><td>30.002501</td><td>0.0082</td></tr><tr><td>&quot;038441c925bb&quot;</td><td>36</td><td>0.000009</td><td>0.000019</td><td>0</td><td>2018-08-14 19:33:00 UTC</td><td>-79.968803</td><td>0.0136</td></tr><tr><td>&quot;038441c925bb&quot;</td><td>48</td><td>0.000006</td><td>0.000007</td><td>0</td><td>2018-08-14 19:34:00 UTC</td><td>-80.014297</td><td>0.0141</td></tr></tbody></table></div>"
      ],
      "text/plain": [
       "shape: (5, 8)\n",
       "┌──────────────┬──────┬──────────────┬──────────────┬──────────┬─────────────┬────────────┬────────┐\n",
       "│ series_id    ┆ step ┆ stacking_pre ┆ stacking_pre ┆ chunk_id ┆ timestamp   ┆ anglez     ┆ enmo   │\n",
       "│ ---          ┆ ---  ┆ diction_onse ┆ diction_wake ┆ ---      ┆ ---         ┆ ---        ┆ ---    │\n",
       "│ str          ┆ u32  ┆ t            ┆ up           ┆ u64      ┆ datetime[μs ┆ f32        ┆ f32    │\n",
       "│              ┆      ┆ ---          ┆ ---          ┆          ┆ , UTC]      ┆            ┆        │\n",
       "│              ┆      ┆ f64          ┆ f64          ┆          ┆             ┆            ┆        │\n",
       "╞══════════════╪══════╪══════════════╪══════════════╪══════════╪═════════════╪════════════╪════════╡\n",
       "│ 038441c925bb ┆ 0    ┆ 0.000008     ┆ 0.00001      ┆ 0        ┆ 2018-08-14  ┆ 2.6367     ┆ 0.0217 │\n",
       "│              ┆      ┆              ┆              ┆          ┆ 19:30:00    ┆            ┆        │\n",
       "│              ┆      ┆              ┆              ┆          ┆ UTC         ┆            ┆        │\n",
       "│ 038441c925bb ┆ 12   ┆ 0.000008     ┆ 0.000008     ┆ 0        ┆ 2018-08-14  ┆ 2.4129     ┆ 0.0218 │\n",
       "│              ┆      ┆              ┆              ┆          ┆ 19:31:00    ┆            ┆        │\n",
       "│              ┆      ┆              ┆              ┆          ┆ UTC         ┆            ┆        │\n",
       "│ 038441c925bb ┆ 24   ┆ 0.000007     ┆ 0.000031     ┆ 0        ┆ 2018-08-14  ┆ 30.002501  ┆ 0.0082 │\n",
       "│              ┆      ┆              ┆              ┆          ┆ 19:32:00    ┆            ┆        │\n",
       "│              ┆      ┆              ┆              ┆          ┆ UTC         ┆            ┆        │\n",
       "│ 038441c925bb ┆ 36   ┆ 0.000009     ┆ 0.000019     ┆ 0        ┆ 2018-08-14  ┆ -79.968803 ┆ 0.0136 │\n",
       "│              ┆      ┆              ┆              ┆          ┆ 19:33:00    ┆            ┆        │\n",
       "│              ┆      ┆              ┆              ┆          ┆ UTC         ┆            ┆        │\n",
       "│ 038441c925bb ┆ 48   ┆ 0.000006     ┆ 0.000007     ┆ 0        ┆ 2018-08-14  ┆ -80.014297 ┆ 0.0141 │\n",
       "│              ┆      ┆              ┆              ┆          ┆ 19:34:00    ┆            ┆        │\n",
       "│              ┆      ┆              ┆              ┆          ┆ UTC         ┆            ┆        │\n",
       "└──────────────┴──────┴──────────────┴──────────────┴──────────┴─────────────┴────────────┴────────┘"
      ]
     },
     "execution_count": 62,
     "metadata": {},
     "output_type": "execute_result"
    }
   ],
   "source": [
    "pred_2nd_df = (\n",
    "    pl.read_parquet(\"./pred_onset.parquet\")\n",
    "    .rename({\"label_pred\": \"stacking_prediction_onset\"})\n",
    "    .drop(\"label\")\n",
    "    .join(\n",
    "        pl.read_parquet(\"./pred_wakeup.parquet\")\n",
    "        .rename({\"label_pred\": \"stacking_prediction_wakeup\"})\n",
    "        .drop(\"label\"),\n",
    "        on=[\"series_id\", \"step\"],\n",
    "        how=\"left\",\n",
    "    )\n",
    ")\n",
    "pred_2nd_df = pred_2nd_df.with_columns(\n",
    "    ((pl.col(\"step\") - pl.col(\"step\").shift(1)) != 12)\n",
    "    .cast(pl.UInt64)\n",
    "    .cumsum()\n",
    "    .over(\"series_id\")\n",
    "    .fill_null(0)\n",
    "    .alias(\"chunk_id\")\n",
    ").with_columns(pl.col('step').cast(pl.UInt32))\n",
    "pred_2nd_df = pred_2nd_df.join(train_df, on=['series_id', 'step'], how='left')\n",
    "\n",
    "pred_2nd_df.head()"
   ]
  },
  {
   "cell_type": "markdown",
   "id": "17546a5f-d547-42e8-b1cb-17760bc9af3e",
   "metadata": {},
   "source": [
    "## 2段目event detection + 1段目のfind peaks "
   ]
  },
  {
   "cell_type": "code",
   "execution_count": 53,
   "id": "14ae906c-3074-4308-b788-e67044c34848",
   "metadata": {
    "tags": []
   },
   "outputs": [],
   "source": [
    "from src.utils.detect_peak import post_process_from_2nd"
   ]
  },
  {
   "cell_type": "code",
   "execution_count": 58,
   "id": "a3e020a5-4e31-4414-bd90-a06122d3f9ed",
   "metadata": {
    "tags": []
   },
   "outputs": [],
   "source": [
    "from scipy.ndimage import maximum_filter1d\n",
    "from tqdm.auto import tqdm\n",
    "from scipy.signal import find_peaks\n",
    "\n",
    "def make_additional_event_after_2nd(\n",
    "    preds_df: pl.DataFrame,\n",
    "    sub_2nd_df: pl.DataFrame,\n",
    "    periodicity_dict: dict[str, np.ndarray],\n",
    "    height: float = 0.001,\n",
    "    distance: int = 100,\n",
    "    zero_range: int = 200,\n",
    "    event2col: dict[str, str] = {\"onset\": \"prediction_onset\", \"wakeup\": \"prediction_wakeup\"},\n",
    ") -> pl.DataFrame:\n",
    "    events = [\"onset\", \"wakeup\"]\n",
    "    event_dfs = []\n",
    "    series2steps = {event:{} for event in events}\n",
    "    for (series_id,event), event_series_df in sub_2nd_df.group_by([\"series_id\", 'event']):\n",
    "        for event in events:\n",
    "            series2steps[event]['series_id'] = event_series_df.get_column('step').to_numpy()\n",
    "\n",
    "    for series_id, series_df in tqdm(\n",
    "        preds_df.group_by(\"series_id\"), desc=\"find peaks\", leave=False, total=len(preds_df[\"series_id\"].unique())\n",
    "    ):\n",
    "        for event in events:\n",
    "            event_preds = series_df[event2col[event]].to_numpy().copy()\n",
    "            event_preds *= 1 - periodicity_dict[series_id][: len(event_preds)]\n",
    "\n",
    "            # 2nd のイベントから zero_range 分の確率を0にする\n",
    "            event_steps = series2steps[event]['series_id']\n",
    "            peak_flag = np.zeros(max(len(event_preds), event_steps.max()+1))\n",
    "            peak_flag[event_steps] = 1.0\n",
    "            event_preds *= 1-maximum_filter1d(peak_flag, size=zero_range)[:len(event_preds)]\n",
    "\n",
    "            steps = find_peaks(event_preds, height=height, distance=distance)[0]\n",
    "            event_dfs.append(\n",
    "                series_df.filter(pl.col(\"step\").is_in(steps))\n",
    "                .with_columns(pl.lit(event).alias(\"event\"))\n",
    "                .rename({event2col[event]: \"score\"})\n",
    "                .select([\"series_id\", \"step\", \"timestamp\", \"event\", \"score\"])\n",
    "            )\n",
    "    submission_df = (\n",
    "        pl.concat(event_dfs).sort([\"series_id\", \"step\"]).with_columns(pl.arange(0, pl.count()).alias(\"row_id\"))\n",
    "    )\n",
    "    return submission_df.select([\"row_id\", \"series_id\", \"step\", \"event\", \"score\"])\n"
   ]
  },
  {
   "cell_type": "code",
   "execution_count": 86,
   "id": "bc2707e8-e51a-49f9-9155-8ea8306062ba",
   "metadata": {
    "tags": []
   },
   "outputs": [],
   "source": [
    "def make_submission_additional(\n",
    "    pred_1st_df, pred_2nd_df, height_2nd=0.001, additional_event_weight = 0.01, zero_range=200\n",
    "):\n",
    "    sub_2nd_df = post_process_from_2nd(\n",
    "        pred_2nd_df,\n",
    "        later_date_max_sub_rate=None,\n",
    "        height = height_2nd,\n",
    "    )\n",
    "\n",
    "    additional_event = make_additional_event_after_2nd(\n",
    "        pred_1st_df, sub_2nd_df, periodicity_dict, zero_range=zero_range\n",
    "    )\n",
    "\n",
    "    sub_2nd_df = sub_2nd_df.with_columns(\n",
    "        pl.col('row_id').cast(pl.UInt32),\n",
    "        pl.col('step').cast(pl.UInt32),\n",
    "        pl.col('score').cast(pl.Float32),\n",
    "    )\n",
    "    additional_event = additional_event.with_columns(\n",
    "        pl.col('row_id').cast(pl.UInt32),\n",
    "        pl.col('step').cast(pl.UInt32),\n",
    "        pl.col('score').cast(pl.Float32)*additional_event_weight,\n",
    "    )\n",
    "\n",
    "    submission_df = pl.concat([sub_2nd_df, additional_event])\n",
    "\n",
    "    return submission_df, sub_2nd_df\n"
   ]
  },
  {
   "cell_type": "code",
   "execution_count": 85,
   "id": "af045c1c-48c7-4946-a0da-c781c4e03c68",
   "metadata": {
    "tags": []
   },
   "outputs": [
    {
     "data": {
      "application/vnd.jupyter.widget-view+json": {
       "model_id": "",
       "version_major": 2,
       "version_minor": 0
      },
      "text/plain": [
       "detect onset peaks:   0%|          | 0/277 [00:00<?, ?it/s]"
      ]
     },
     "metadata": {},
     "output_type": "display_data"
    },
    {
     "data": {
      "application/vnd.jupyter.widget-view+json": {
       "model_id": "",
       "version_major": 2,
       "version_minor": 0
      },
      "text/plain": [
       "detect wakeup peaks:   0%|          | 0/277 [00:00<?, ?it/s]"
      ]
     },
     "metadata": {},
     "output_type": "display_data"
    },
    {
     "data": {
      "application/vnd.jupyter.widget-view+json": {
       "model_id": "",
       "version_major": 2,
       "version_minor": 0
      },
      "text/plain": [
       "find peaks:   0%|          | 0/277 [00:00<?, ?it/s]"
      ]
     },
     "metadata": {},
     "output_type": "display_data"
    },
    {
     "data": {
      "application/vnd.jupyter.widget-view+json": {
       "model_id": "",
       "version_major": 2,
       "version_minor": 0
      },
      "text/plain": [
       "Matching detections to ground truth events:   0%|          | 0/538 [00:00<?, ?it/s]"
      ]
     },
     "metadata": {},
     "output_type": "display_data"
    },
    {
     "data": {
      "application/vnd.jupyter.widget-view+json": {
       "model_id": "",
       "version_major": 2,
       "version_minor": 0
      },
      "text/plain": [
       "Matching detections to ground truth events:   0%|          | 0/538 [00:00<?, ?it/s]"
      ]
     },
     "metadata": {},
     "output_type": "display_data"
    },
    {
     "name": "stdout",
     "output_type": "stream",
     "text": [
      "2nd height 0.0001: 0.833825(272239) → 0.833938(656688)\n"
     ]
    },
    {
     "data": {
      "application/vnd.jupyter.widget-view+json": {
       "model_id": "",
       "version_major": 2,
       "version_minor": 0
      },
      "text/plain": [
       "detect onset peaks:   0%|          | 0/277 [00:00<?, ?it/s]"
      ]
     },
     "metadata": {},
     "output_type": "display_data"
    },
    {
     "data": {
      "application/vnd.jupyter.widget-view+json": {
       "model_id": "",
       "version_major": 2,
       "version_minor": 0
      },
      "text/plain": [
       "detect wakeup peaks:   0%|          | 0/277 [00:00<?, ?it/s]"
      ]
     },
     "metadata": {},
     "output_type": "display_data"
    },
    {
     "data": {
      "application/vnd.jupyter.widget-view+json": {
       "model_id": "",
       "version_major": 2,
       "version_minor": 0
      },
      "text/plain": [
       "find peaks:   0%|          | 0/277 [00:00<?, ?it/s]"
      ]
     },
     "metadata": {},
     "output_type": "display_data"
    },
    {
     "data": {
      "application/vnd.jupyter.widget-view+json": {
       "model_id": "",
       "version_major": 2,
       "version_minor": 0
      },
      "text/plain": [
       "Matching detections to ground truth events:   0%|          | 0/538 [00:00<?, ?it/s]"
      ]
     },
     "metadata": {},
     "output_type": "display_data"
    },
    {
     "data": {
      "application/vnd.jupyter.widget-view+json": {
       "model_id": "",
       "version_major": 2,
       "version_minor": 0
      },
      "text/plain": [
       "Matching detections to ground truth events:   0%|          | 0/538 [00:00<?, ?it/s]"
      ]
     },
     "metadata": {},
     "output_type": "display_data"
    },
    {
     "name": "stdout",
     "output_type": "stream",
     "text": [
      "2nd height 0.001: 0.833816(250027) → 0.833938(625715)\n"
     ]
    },
    {
     "data": {
      "application/vnd.jupyter.widget-view+json": {
       "model_id": "",
       "version_major": 2,
       "version_minor": 0
      },
      "text/plain": [
       "detect onset peaks:   0%|          | 0/277 [00:00<?, ?it/s]"
      ]
     },
     "metadata": {},
     "output_type": "display_data"
    },
    {
     "data": {
      "application/vnd.jupyter.widget-view+json": {
       "model_id": "",
       "version_major": 2,
       "version_minor": 0
      },
      "text/plain": [
       "detect wakeup peaks:   0%|          | 0/277 [00:00<?, ?it/s]"
      ]
     },
     "metadata": {},
     "output_type": "display_data"
    },
    {
     "data": {
      "application/vnd.jupyter.widget-view+json": {
       "model_id": "",
       "version_major": 2,
       "version_minor": 0
      },
      "text/plain": [
       "find peaks:   0%|          | 0/277 [00:00<?, ?it/s]"
      ]
     },
     "metadata": {},
     "output_type": "display_data"
    },
    {
     "data": {
      "application/vnd.jupyter.widget-view+json": {
       "model_id": "",
       "version_major": 2,
       "version_minor": 0
      },
      "text/plain": [
       "Matching detections to ground truth events:   0%|          | 0/538 [00:00<?, ?it/s]"
      ]
     },
     "metadata": {},
     "output_type": "display_data"
    },
    {
     "data": {
      "application/vnd.jupyter.widget-view+json": {
       "model_id": "",
       "version_major": 2,
       "version_minor": 0
      },
      "text/plain": [
       "Matching detections to ground truth events:   0%|          | 0/538 [00:00<?, ?it/s]"
      ]
     },
     "metadata": {},
     "output_type": "display_data"
    },
    {
     "name": "stdout",
     "output_type": "stream",
     "text": [
      "2nd height 0.005: 0.833704(168174) → 0.833916(562137)\n"
     ]
    },
    {
     "data": {
      "application/vnd.jupyter.widget-view+json": {
       "model_id": "",
       "version_major": 2,
       "version_minor": 0
      },
      "text/plain": [
       "detect onset peaks:   0%|          | 0/277 [00:00<?, ?it/s]"
      ]
     },
     "metadata": {},
     "output_type": "display_data"
    },
    {
     "data": {
      "application/vnd.jupyter.widget-view+json": {
       "model_id": "",
       "version_major": 2,
       "version_minor": 0
      },
      "text/plain": [
       "detect wakeup peaks:   0%|          | 0/277 [00:00<?, ?it/s]"
      ]
     },
     "metadata": {},
     "output_type": "display_data"
    },
    {
     "data": {
      "application/vnd.jupyter.widget-view+json": {
       "model_id": "",
       "version_major": 2,
       "version_minor": 0
      },
      "text/plain": [
       "find peaks:   0%|          | 0/277 [00:00<?, ?it/s]"
      ]
     },
     "metadata": {},
     "output_type": "display_data"
    },
    {
     "data": {
      "application/vnd.jupyter.widget-view+json": {
       "model_id": "",
       "version_major": 2,
       "version_minor": 0
      },
      "text/plain": [
       "Matching detections to ground truth events:   0%|          | 0/538 [00:00<?, ?it/s]"
      ]
     },
     "metadata": {},
     "output_type": "display_data"
    },
    {
     "data": {
      "application/vnd.jupyter.widget-view+json": {
       "model_id": "",
       "version_major": 2,
       "version_minor": 0
      },
      "text/plain": [
       "Matching detections to ground truth events:   0%|          | 0/538 [00:00<?, ?it/s]"
      ]
     },
     "metadata": {},
     "output_type": "display_data"
    },
    {
     "name": "stdout",
     "output_type": "stream",
     "text": [
      "2nd height 0.01: 0.833484(121523) → 0.83383(497211)\n"
     ]
    }
   ],
   "source": [
    "for height in [0.0001, 0.001, 0.005, 0.01]:\n",
    "    submission_df, sub_2nd_df = make_submission_additional(pred_1st_df, pred_2nd_df, height_2nd=height)\n",
    "\n",
    "    score_first = event_detection_ap(\n",
    "        event_df.to_pandas(),\n",
    "        sub_2nd_df.to_pandas(),\n",
    "    )    \n",
    "    score = event_detection_ap(\n",
    "        event_df.to_pandas(),\n",
    "        submission_df.to_pandas()\n",
    "    )\n",
    "    print(f\"2nd height {height}: {score_first:.6}({len(sub_2nd_df)}) → {score:.6}({len(submission_df)})\")\n"
   ]
  },
  {
   "cell_type": "code",
   "execution_count": 87,
   "id": "642b9623-2eae-4457-b26a-9e209968bc17",
   "metadata": {
    "tags": []
   },
   "outputs": [
    {
     "data": {
      "application/vnd.jupyter.widget-view+json": {
       "model_id": "",
       "version_major": 2,
       "version_minor": 0
      },
      "text/plain": [
       "detect onset peaks:   0%|          | 0/277 [00:00<?, ?it/s]"
      ]
     },
     "metadata": {},
     "output_type": "display_data"
    },
    {
     "data": {
      "application/vnd.jupyter.widget-view+json": {
       "model_id": "",
       "version_major": 2,
       "version_minor": 0
      },
      "text/plain": [
       "detect wakeup peaks:   0%|          | 0/277 [00:00<?, ?it/s]"
      ]
     },
     "metadata": {},
     "output_type": "display_data"
    },
    {
     "data": {
      "application/vnd.jupyter.widget-view+json": {
       "model_id": "",
       "version_major": 2,
       "version_minor": 0
      },
      "text/plain": [
       "find peaks:   0%|          | 0/277 [00:00<?, ?it/s]"
      ]
     },
     "metadata": {},
     "output_type": "display_data"
    },
    {
     "data": {
      "application/vnd.jupyter.widget-view+json": {
       "model_id": "",
       "version_major": 2,
       "version_minor": 0
      },
      "text/plain": [
       "Matching detections to ground truth events:   0%|          | 0/538 [00:00<?, ?it/s]"
      ]
     },
     "metadata": {},
     "output_type": "display_data"
    },
    {
     "data": {
      "application/vnd.jupyter.widget-view+json": {
       "model_id": "",
       "version_major": 2,
       "version_minor": 0
      },
      "text/plain": [
       "Matching detections to ground truth events:   0%|          | 0/538 [00:00<?, ?it/s]"
      ]
     },
     "metadata": {},
     "output_type": "display_data"
    },
    {
     "name": "stdout",
     "output_type": "stream",
     "text": [
      "2nd height 0.0001: 0.833825(272239) → 0.833941(675560)\n"
     ]
    },
    {
     "data": {
      "application/vnd.jupyter.widget-view+json": {
       "model_id": "",
       "version_major": 2,
       "version_minor": 0
      },
      "text/plain": [
       "detect onset peaks:   0%|          | 0/277 [00:00<?, ?it/s]"
      ]
     },
     "metadata": {},
     "output_type": "display_data"
    },
    {
     "data": {
      "application/vnd.jupyter.widget-view+json": {
       "model_id": "",
       "version_major": 2,
       "version_minor": 0
      },
      "text/plain": [
       "detect wakeup peaks:   0%|          | 0/277 [00:00<?, ?it/s]"
      ]
     },
     "metadata": {},
     "output_type": "display_data"
    },
    {
     "data": {
      "application/vnd.jupyter.widget-view+json": {
       "model_id": "",
       "version_major": 2,
       "version_minor": 0
      },
      "text/plain": [
       "find peaks:   0%|          | 0/277 [00:00<?, ?it/s]"
      ]
     },
     "metadata": {},
     "output_type": "display_data"
    },
    {
     "data": {
      "application/vnd.jupyter.widget-view+json": {
       "model_id": "",
       "version_major": 2,
       "version_minor": 0
      },
      "text/plain": [
       "Matching detections to ground truth events:   0%|          | 0/538 [00:00<?, ?it/s]"
      ]
     },
     "metadata": {},
     "output_type": "display_data"
    },
    {
     "data": {
      "application/vnd.jupyter.widget-view+json": {
       "model_id": "",
       "version_major": 2,
       "version_minor": 0
      },
      "text/plain": [
       "Matching detections to ground truth events:   0%|          | 0/538 [00:00<?, ?it/s]"
      ]
     },
     "metadata": {},
     "output_type": "display_data"
    },
    {
     "name": "stdout",
     "output_type": "stream",
     "text": [
      "2nd height 0.001: 0.833816(250027) → 0.833934(641685)\n"
     ]
    },
    {
     "data": {
      "application/vnd.jupyter.widget-view+json": {
       "model_id": "",
       "version_major": 2,
       "version_minor": 0
      },
      "text/plain": [
       "detect onset peaks:   0%|          | 0/277 [00:00<?, ?it/s]"
      ]
     },
     "metadata": {},
     "output_type": "display_data"
    },
    {
     "data": {
      "application/vnd.jupyter.widget-view+json": {
       "model_id": "",
       "version_major": 2,
       "version_minor": 0
      },
      "text/plain": [
       "detect wakeup peaks:   0%|          | 0/277 [00:00<?, ?it/s]"
      ]
     },
     "metadata": {},
     "output_type": "display_data"
    },
    {
     "data": {
      "application/vnd.jupyter.widget-view+json": {
       "model_id": "",
       "version_major": 2,
       "version_minor": 0
      },
      "text/plain": [
       "find peaks:   0%|          | 0/277 [00:00<?, ?it/s]"
      ]
     },
     "metadata": {},
     "output_type": "display_data"
    },
    {
     "data": {
      "application/vnd.jupyter.widget-view+json": {
       "model_id": "",
       "version_major": 2,
       "version_minor": 0
      },
      "text/plain": [
       "Matching detections to ground truth events:   0%|          | 0/538 [00:00<?, ?it/s]"
      ]
     },
     "metadata": {},
     "output_type": "display_data"
    },
    {
     "data": {
      "application/vnd.jupyter.widget-view+json": {
       "model_id": "",
       "version_major": 2,
       "version_minor": 0
      },
      "text/plain": [
       "Matching detections to ground truth events:   0%|          | 0/538 [00:00<?, ?it/s]"
      ]
     },
     "metadata": {},
     "output_type": "display_data"
    },
    {
     "name": "stdout",
     "output_type": "stream",
     "text": [
      "2nd height 0.005: 0.833704(168174) → 0.833922(577854)\n"
     ]
    },
    {
     "data": {
      "application/vnd.jupyter.widget-view+json": {
       "model_id": "",
       "version_major": 2,
       "version_minor": 0
      },
      "text/plain": [
       "detect onset peaks:   0%|          | 0/277 [00:00<?, ?it/s]"
      ]
     },
     "metadata": {},
     "output_type": "display_data"
    },
    {
     "data": {
      "application/vnd.jupyter.widget-view+json": {
       "model_id": "",
       "version_major": 2,
       "version_minor": 0
      },
      "text/plain": [
       "detect wakeup peaks:   0%|          | 0/277 [00:00<?, ?it/s]"
      ]
     },
     "metadata": {},
     "output_type": "display_data"
    },
    {
     "data": {
      "application/vnd.jupyter.widget-view+json": {
       "model_id": "",
       "version_major": 2,
       "version_minor": 0
      },
      "text/plain": [
       "find peaks:   0%|          | 0/277 [00:00<?, ?it/s]"
      ]
     },
     "metadata": {},
     "output_type": "display_data"
    },
    {
     "data": {
      "application/vnd.jupyter.widget-view+json": {
       "model_id": "",
       "version_major": 2,
       "version_minor": 0
      },
      "text/plain": [
       "Matching detections to ground truth events:   0%|          | 0/538 [00:00<?, ?it/s]"
      ]
     },
     "metadata": {},
     "output_type": "display_data"
    },
    {
     "data": {
      "application/vnd.jupyter.widget-view+json": {
       "model_id": "",
       "version_major": 2,
       "version_minor": 0
      },
      "text/plain": [
       "Matching detections to ground truth events:   0%|          | 0/538 [00:00<?, ?it/s]"
      ]
     },
     "metadata": {},
     "output_type": "display_data"
    },
    {
     "name": "stdout",
     "output_type": "stream",
     "text": [
      "2nd height 0.01: 0.833484(121523) → 0.83384(519084)\n"
     ]
    }
   ],
   "source": [
    "for height in [0.0001, 0.001, 0.005, 0.01]:\n",
    "    submission_df, sub_2nd_df = make_submission_additional(\n",
    "        pred_1st_df, pred_2nd_df, height_2nd=height, zero_range=100\n",
    "    )\n",
    "\n",
    "    score_first = event_detection_ap(\n",
    "        event_df.to_pandas(),\n",
    "        sub_2nd_df.to_pandas(),\n",
    "    )    \n",
    "    score = event_detection_ap(\n",
    "        event_df.to_pandas(),\n",
    "        submission_df.to_pandas()\n",
    "    )\n",
    "    print(f\"2nd height {height}: {score_first:.6}({len(sub_2nd_df)}) → {score:.6}({len(submission_df)})\")\n"
   ]
  },
  {
   "cell_type": "code",
   "execution_count": null,
   "id": "fa488f70-1b6a-4fb1-920a-01a1a5586d15",
   "metadata": {},
   "outputs": [],
   "source": []
  }
 ],
 "metadata": {
  "kernelspec": {
   "display_name": "Python 3 (ipykernel)",
   "language": "python",
   "name": "python3"
  },
  "language_info": {
   "codemirror_mode": {
    "name": "ipython",
    "version": 3
   },
   "file_extension": ".py",
   "mimetype": "text/x-python",
   "name": "python",
   "nbconvert_exporter": "python",
   "pygments_lexer": "ipython3",
   "version": "3.10.12"
  }
 },
 "nbformat": 4,
 "nbformat_minor": 5
}
